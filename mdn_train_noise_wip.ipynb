{
 "cells": [
  {
   "cell_type": "markdown",
   "metadata": {},
   "source": [
    "## MDN Training\n",
    "This should be the notebook version of `train_ALL_the_all_the_things.py`"
   ]
  },
  {
   "cell_type": "code",
   "execution_count": 1,
   "metadata": {
    "tags": []
   },
   "outputs": [],
   "source": [
    "import numpy as np\n",
    "import matplotlib.pylab as plt\n",
    "\n",
    "import pickle\n",
    "import tensorflow as tf\n",
    "import tensorflow.keras as keras\n",
    "import tensorflow_probability as tfp\n",
    "tfd = tfp.distributions\n",
    "from tensorflow.keras.callbacks import ModelCheckpoint, EarlyStopping, Callback\n",
    "from tensorflow.keras.models import load_model, Sequential, Model\n",
    "\n",
    "# Activate TF2 behavior:\n",
    "from tensorflow.python import tf2\n",
    "if not tf2.enabled():\n",
    "    import tensorflow.compat.v2 as tf\n",
    "    tf.enable_v2_behavior()\n",
    "    assert tf2.enabled()\n",
    "\n",
    "np.random.seed(12211)\n",
    "\n",
    "%load_ext line_profiler\n",
    "%reload_ext autoreload\n",
    "%autoreload 1\n",
    "%aimport help_train\n",
    "%aimport help_funcs\n",
    "#import help_funcs_zeropt as help_funcs\n",
    "#import help_train_zeropt as help_train # Wait, when did we start doing this instead of the line profiler?\n",
    "import zeropoints_new as zeropoints\n",
    "import SetPub\n",
    "SetPub.set_pub()"
   ]
  },
  {
   "cell_type": "code",
   "execution_count": 2,
   "metadata": {},
   "outputs": [],
   "source": [
    "train_mode = True # False if you don't want to train again"
   ]
  },
  {
   "cell_type": "code",
   "execution_count": 3,
   "metadata": {},
   "outputs": [],
   "source": [
    "num_train = 200000 # 10000, 4000 # Max: 200000 \n",
    "num_test = 20000 # 1000 # Max: 20000"
   ]
  },
  {
   "cell_type": "code",
   "execution_count": 4,
   "metadata": {},
   "outputs": [],
   "source": [
    "Trainset = ['FSPSlin', 'FSPSlog', 'FSPSall', 'OBS', 'UM', 'BP', 'UMnew'][6] # Soon there will be more!\n",
    "# Testset = ['FSPSlin', 'FSPSlog', 'FSPSall', 'OBS', 'UM', 'BP', 'UMnew'][3]\n",
    "Testset = ['FSPSlin', 'FSPSlog', 'FSPSall', 'OBS', 'UM', 'BP', 'UMnew', 'OBSuq'][7] # Test on the same things we tested before (SDSS)\n",
    "surveystring = ['SDSS', 'VIPERS', 'DEEP2', 'PRIMUS']"
   ]
  },
  {
   "cell_type": "code",
   "execution_count": 5,
   "metadata": {},
   "outputs": [
    {
     "name": "stdout",
     "output_type": "stream",
     "text": [
      "Training on sim:  des\n",
      "X training data shape:  (1000000, 5)\n",
      "y training data shape:  (1000000,)\n",
      "Training on sim:  irac\n",
      "X training data shape:  (1000000, 4)\n",
      "y training data shape:  (1000000,)\n",
      "training data shapes\n",
      "(1000000, 5)\n",
      "(1000000, 4)\n",
      "{'g-r': 0, 'r-i': 1, 'i-z': 2, 'mag(g)': 3}\n",
      "{'I2-I1': 0, 'mag(I1)': 1}\n",
      "Testing on Lindsey's data\n",
      "Xtest:\n",
      " [[  3.995   0.838   0.514 ...   0.      0.    -27.495]\n",
      " [  0.525   0.214  -0.338 ...   0.      0.    -24.105]\n",
      " [ -0.102  -0.063   0.378 ...   0.      0.    -23.343]\n",
      " ...\n",
      " [  1.375  -0.074   1.138 ...  -0.407  23.403  -2.097]\n",
      " [  0.476  -0.22    0.362 ...   0.223  24.521   1.263]\n",
      " [  1.304  -1.18    1.847 ...  -0.201  21.261  -2.084]]\n",
      "ytest:\n",
      " [0.    0.    0.    ... 0.371 0.09  0.428]\n",
      "(487251, 7)\n",
      "(487251,)\n",
      "7\n"
     ]
    }
   ],
   "source": [
    "# one dictionary for each sim\n",
    "# contains names of bands and the number (index) associated with them?\n",
    "# is that a dictionary of dictionaries?\n",
    "# 'des', 'irac', 'jwst', 'lsst', 'pau', 'sdss', 'spherex', wise'\n",
    "des_bands = {'g-r': 0, 'r-i': 1, 'i-z': 2, 'z-y': 3, 'mag(g)': 4} # or is it mag(i)?\n",
    "irac_bands = {'I2-I1': 0, 'I3-I2': 1, 'I4-I3': 2, 'mag(I1)': 3}\n",
    "wise_bands = {'w2-w1': 0, 'w3-w2': 1, 'w4-w3': 2, 'mag(w1)': 3}\n",
    "\n",
    "use_lindseys_data = True\n",
    "if use_lindseys_data:\n",
    "    D = 5\n",
    "    D2 = 4\n",
    "    sim1 = 'des'\n",
    "    sim2 = 'irac'\n",
    "    \n",
    "    # Load training data\n",
    "    train_dirIn = '/data/a/cpac/nramachandra/Projects/phoZ/Synthetic_Data/fsps_wrapper/notebooks/out/rand_z/'\n",
    "    X_train1, y_train1, X_test1, y_test1 = help_train.loadTrainTest_custom_randz(Testset, sim1, train_dirIn, nbands = D, frac_train = 0.5)\n",
    "    X_train2, y_train2, X_test2, y_test2 = help_train.loadTrainTest_custom_randz(Testset, sim2, train_dirIn, nbands = D2, frac_train = 0.5)\n",
    "    \n",
    "    print(\"training data shapes\")\n",
    "    print(X_train1.shape)\n",
    "    print(X_train2.shape)\n",
    "    # Get rid of the bands that aren't present in the testing data\n",
    "    X_train1_subsample = np.delete(X_train1, des_bands['z-y'], axis = 1)\n",
    "    X_train2_subsample = np.delete(X_train2, [irac_bands['I3-I2'], irac_bands['I4-I3']], axis = 1)\n",
    "    \n",
    "    # Fix up the dictionary\n",
    "    del des_bands['z-y']    # (How to make this actually fix the dictionary?)\n",
    "    del irac_bands['I3-I2']\n",
    "    del irac_bands['I4-I3']\n",
    "    des_bands['mag(g)'] = 3\n",
    "    irac_bands['mag(I1)'] = 1\n",
    "    print(des_bands)\n",
    "    print(irac_bands)\n",
    "    \n",
    "    # Make a new band (combo of des and irac)\n",
    "    new_band = np.array([X_train1_subsample[:,-1] - X_train2_subsample[:,-1]]).T\n",
    "    \n",
    "    # Clean up dimensions\n",
    "    D = len(list(des_bands))\n",
    "    D2 = len(list(irac_bands))\n",
    "    D_tot = D + D2\n",
    "    \n",
    "    # Create the complete training sets\n",
    "    X_train = np.concatenate((X_train1_subsample, X_train2_subsample, new_band), axis = 1)\n",
    "    y_train = y_train1 #np.concatenate((y_train1, y_train2))\n",
    "    \n",
    "    # Load testing data\n",
    "    print(\"Testing on Lindsey's data\")\n",
    "    X_test = np.load('/data/a/cpac/nramachandra/Projects/phoZ/SurveyTrain/TestingDataLindsey/magi_selected_des_irac.npy')\n",
    "    y_test = np.load('/data/a/cpac/nramachandra/Projects/phoZ/SurveyTrain/TestingDataLindsey/magi_selected_des_irac_z.npy')\n",
    "    \n",
    "    new_test_band = np.array([X_test[:, -1] - X_test[:, -3]]).T\n",
    "    X_test = np.concatenate((X_test, new_test_band), axis = 1)\n",
    "    print(\"Xtest:\\n\", X_test)\n",
    "    print(\"ytest:\\n\", y_test)\n",
    "    print(X_test.shape)\n",
    "    print(y_test.shape)\n",
    "\n",
    "else:\n",
    "    combine = True\n",
    "    if combine:\n",
    "        D = 4\n",
    "        sim1 = 'wise' # 'des', 'irac', 'jwst', 'lsst', 'pau', 'sdss', 'spherex', wise'\n",
    "        sim2 = 'des'\n",
    "        #train_dirIn = '/data/a/cpac/nramachandra/Projects/phoZ/Synthetic_Data/fsps_wrapper/notebooks/out/'\n",
    "        train_dirIn = '/data/a/cpac/nramachandra/Projects/phoZ/Synthetic_Data/fsps_wrapper/notebooks/out/rand_z/'\n",
    "        X_train1, y_train1, X_test1, y_test1 = help_train.loadTrainTest_custom_randz(Testset, sim1, train_dirIn, nbands = D, frac_train = 0.5)\n",
    "        X_train2, y_train2, X_test2, y_test2 = help_train.loadTrainTest_custom_randz(Testset, sim2, train_dirIn, nbands = D, frac_train = 0.5)\n",
    "        X_train = np.concatenate((X_train1, X_train2), axis = 1)\n",
    "        print(\"Xtrain:\\n\", X_train)\n",
    "        y_train = y_train1 #np.concatenate((y_train1, y_train2))\n",
    "        X_test = np.concatenate((X_test1, X_test2), axis = 1)\n",
    "        #print(np.array_equal(y_test1, y_test2))\n",
    "        y_test = y_test1 # They should both be identical\n",
    "    else:\n",
    "        D = 4\n",
    "        sim = 'wise' # 'des', 'irac', 'jwst', 'lsst', 'pau', 'sdss', 'spherex', wise'\n",
    "        #train_dirIn = '/data/a/cpac/nramachandra/Projects/phoZ/Synthetic_Data/fsps_wrapper/notebooks/out/'\n",
    "        train_dirIn = '/data/a/cpac/nramachandra/Projects/phoZ/Synthetic_Data/fsps_wrapper/notebooks/out/rand_z/'\n",
    "        test_dirIn = '/data/a/cpac/aurora/MDN_phoZ/Data/fromGalaxev/photozs/datasets/data_feb_2021/'\n",
    "        X_train, y_train, X_test, y_test = help_train.loadTrainTest_custom_randz(Testset, sim, train_dirIn, nbands = D, frac_train = 0.5)\n",
    "        #X_train, y_train, X_test, y_test = help_train.loadTrainTest_custom_randz(Testset, sim, train_dirIn, frac_train = 0.5) # Need X_err and test_labels\n",
    "D = X_train.shape[1]\n",
    "print(D)"
   ]
  },
  {
   "cell_type": "markdown",
   "metadata": {},
   "source": [
    "## Inject Gaussian noise into the training data\n",
    "Our synthetic data is currently noiseless, but telescope data never is. If you observe the same galaxy 100 nights in a row, you will measure 100 different set of colors (where a \"set of colors\" is one value for each band). To inject artificial (but hopefully realistic) noise into our synthetic data, we will\n",
    "1. read in the training data (as always)\n",
    "2. create a Gaussian distribution out of each individual training color. The previous color values will now become the mean (peak) of the Gaussian, and the std will be 5-10%. (to make this more realistic, we would choose an std based on the specific telescope)\n",
    "3. for each existing training point, expand the set by sampling new training points from the associated Gaussian (i.e. if you start with 100 training points and sample 3 new points from each Gaussian, you will end up with 400 training points)\n",
    "4. for each of those newly sampled training points, match them with the redshift value of the *original* colors. (So you may have 400 values of xtrain, but there are still only 100 unique values of ytrain). The hope is that our model will be able to match color sets to the appropriate redshift, even when those color sets are slightly noisy"
   ]
  },
  {
   "cell_type": "code",
   "execution_count": 10,
   "metadata": {},
   "outputs": [
    {
     "name": "stdout",
     "output_type": "stream",
     "text": [
      "old training sets\n",
      "(1000, 7) (1000,)\n",
      "new training sets\n",
      "(11000, 7) (11000,)\n",
      "CPU times: user 76.2 ms, sys: 10.6 ms, total: 86.8 ms\n",
      "Wall time: 84.3 ms\n"
     ]
    }
   ],
   "source": [
    "%%time\n",
    "import copy\n",
    "# Injecting noise\n",
    "#print(X_train.shape)\n",
    "#print(X_train)\n",
    "\n",
    "#print(y_train.shape)\n",
    "#print(y_train)\n",
    "\n",
    "sigma = 0.2\n",
    "nsamples = 10\n",
    "ncolors = X_train.shape[1]\n",
    "\n",
    "new_X_train = copy.deepcopy(X_train[:1000, :])\n",
    "new_y_train = copy.deepcopy(y_train[:1000])\n",
    "print(\"old training sets\")\n",
    "print(new_X_train.shape, new_y_train.shape)\n",
    "#print(new_X_train)\n",
    "#print(new_y_train)\n",
    "\n",
    "# Make a gaussian for each color point\n",
    "for i, this_row in enumerate(new_X_train):\n",
    "    new_rows = np.empty((nsamples, ncolors))\n",
    "    for j, this_color in enumerate(this_row):\n",
    "        mu = this_color\n",
    "        new_samples = np.random.normal(mu, sigma, nsamples)\n",
    "        new_rows[:,j] = new_samples\n",
    "    new_X_train = np.vstack((new_X_train, new_rows))\n",
    "    new_y_train = np.concatenate((new_y_train, [new_y_train[i]]*nsamples))\n",
    "\n",
    "print(\"new training sets\")\n",
    "print(new_X_train.shape, new_y_train.shape)\n",
    "#print(new_X_train)\n",
    "#print(new_y_train)"
   ]
  },
  {
   "cell_type": "code",
   "execution_count": 11,
   "metadata": {},
   "outputs": [],
   "source": [
    "# Load what you ran in the script\n",
    "new_X_train = pickle.load( open( b\"new_X_train.obj\",\"rb\" ))\n",
    "new_y_train = pickle.load( open( b\"new_y_train.obj\",\"rb\" ))"
   ]
  },
  {
   "cell_type": "code",
   "execution_count": 8,
   "metadata": {},
   "outputs": [
    {
     "data": {
      "text/plain": [
       "array([1.745, 0.019, 1.949, ..., 0.868, 0.868, 0.868])"
      ]
     },
     "execution_count": 8,
     "metadata": {},
     "output_type": "execute_result"
    }
   ],
   "source": [
    "new_y_train"
   ]
  },
  {
   "cell_type": "markdown",
   "metadata": {},
   "source": [
    "## Export training and validation data"
   ]
  },
  {
   "cell_type": "code",
   "execution_count": 12,
   "metadata": {},
   "outputs": [],
   "source": [
    "import pickle\n",
    "\n",
    "training_data = (new_X_train, new_y_train)\n",
    "validation_data = (X_test, y_test)\n",
    "\n",
    "pickle.dump(training_data, open( b\"training_data.obj\", \"wb\") )\n",
    "pickle.dump(validation_data, open( b\"validation_data.obj\", \"wb\") )"
   ]
  },
  {
   "cell_type": "code",
   "execution_count": 15,
   "metadata": {},
   "outputs": [
    {
     "name": "stdout",
     "output_type": "stream",
     "text": [
      "(array([[ 0.177,  0.115,  0.137, ...,  0.062, 24.024,  1.77 ],\n",
      "       [ 0.621,  0.289,  0.217, ..., -0.493, 16.035,  0.492],\n",
      "       [ 0.479,  0.242,  0.322, ...,  0.108, 20.483,  2.973],\n",
      "       ...,\n",
      "       [ 0.179,  0.579,  0.113, ..., -0.391, 22.216,  1.535],\n",
      "       [ 0.208,  0.61 ,  0.146, ..., -0.39 , 22.27 ,  1.322],\n",
      "       [ 0.31 ,  0.556,  0.196, ..., -0.376, 22.267,  1.437]]), array([1.745, 0.019, 1.949, ..., 0.868, 0.868, 0.868]))\n",
      "(array([[  3.995,   0.838,   0.514, ...,   0.   ,   0.   , -27.495],\n",
      "       [  0.525,   0.214,  -0.338, ...,   0.   ,   0.   , -24.105],\n",
      "       [ -0.102,  -0.063,   0.378, ...,   0.   ,   0.   , -23.343],\n",
      "       ...,\n",
      "       [  1.375,  -0.074,   1.138, ...,  -0.407,  23.403,  -2.097],\n",
      "       [  0.476,  -0.22 ,   0.362, ...,   0.223,  24.521,   1.263],\n",
      "       [  1.304,  -1.18 ,   1.847, ...,  -0.201,  21.261,  -2.084]],\n",
      "      dtype=float32), array([0.   , 0.   , 0.   , ..., 0.371, 0.09 , 0.428], dtype=float32))\n"
     ]
    }
   ],
   "source": [
    "training_data = pickle.load(open( b\"training_data.obj\", \"rb\") )\n",
    "validation_data = pickle.load(open( b\"validation_data.obj\", \"rb\") )\n",
    "print(training_data)\n",
    "print(validation_data)"
   ]
  },
  {
   "cell_type": "markdown",
   "metadata": {},
   "source": [
    "### Continuing main quest"
   ]
  },
  {
   "cell_type": "code",
   "execution_count": 82,
   "metadata": {},
   "outputs": [],
   "source": [
    "# Hyperparameters\n",
    "prtb = False\n",
    "if prtb:\n",
    "    D = D - 1 #6  # number of features (in input space)\n",
    "    K = 3 #16 # number of mixture components # a \"component\" of a GMM is one gaussian, right?\n",
    "else:\n",
    "    D = D #5\n",
    "    K = 3\n",
    "    \n",
    "n_epochs = 20 # 100\n",
    "learning_rate = 1e-4\n",
    "decay_rate= 1e-2\n",
    "batch_size = 256\n",
    "\n",
    "# Here we define hyperparameters!\n",
    "save_mod = '/data/a/cpac/aurora/MDN_phoZ/saved_hubs/tf2models/'+'Train_'+Trainset+'_lr_'+str(learning_rate)+'_dr'+str(decay_rate)+'_ne'+str(n_epochs)+'_k'+str(K)+'_nt'+str(num_train)"
   ]
  },
  {
   "cell_type": "code",
   "execution_count": 83,
   "metadata": {},
   "outputs": [],
   "source": [
    "# Old version\n",
    "#train_dirIn = '/data/a/cpac/nramachandra/Projects/phoZ/Data/fromGalaxev/photozs/datasets/data_july_2020/'\n",
    "#test_dirIn = '/data/a/cpac/aurora/MDN_phoZ/Data/fromGalaxev/photozs/datasets/data_feb_2021/'\n",
    "#X_train, y_train, _, _ = help_train.loadTrainTest_july(train_dirIn)\n",
    "#X_test, y_test, X_err, label_test = help_train.loadTest(Testset, dirIn = test_dirIn) # data_feb_2021"
   ]
  },
  {
   "cell_type": "code",
   "execution_count": 84,
   "metadata": {},
   "outputs": [],
   "source": [
    "X_train, y_train, X_trainShuffleOrder = help_train.shuffle(new_X_train, new_y_train) # literally just shuffle the data\n",
    "# X_test, y_test, label_test, X_testShuffleOrder = shuffleOBS(X_test, y_test, test_labels) # Why aren't we doing this?"
   ]
  },
  {
   "cell_type": "code",
   "execution_count": 85,
   "metadata": {},
   "outputs": [],
   "source": [
    "minmax = False\n",
    "if minmax == True:\n",
    "    min_col = [-0.09145837, -0.05327791, -0.02479261, -0.10519464] #-0.03 #-5 # Same as what we got from print_limits\n",
    "    max_col = [ 3.825315,  2.8303378,  1.6937237,  1.5019817] #3.4 #5\n",
    "    min_mag = 12\n",
    "    max_mag = 23\n",
    "    min_z = 0.0 #np.min(y_train)\n",
    "    max_z = 1.1 #np.max(y_train)\n",
    "\n",
    "    mins_and_maxs = [min_col, max_col, min_mag, max_mag, min_z, max_z]\n",
    "\n",
    "    X_test, y_test, mask_cond = help_train.minmax_cuts(X_test, y_test, mins_and_maxs) # This is where label_test should eventually crop up\n",
    "\n",
    "    #X_test, X_err, y_test, label_test, mask_cond = help_train.minmax_cutsOBSarr(X_test, X_err, y_test, label_test, mins_and_maxs) # Make sure all our data falls within the desired range (and bins)"
   ]
  },
  {
   "cell_type": "code",
   "execution_count": 86,
   "metadata": {},
   "outputs": [],
   "source": [
    "if prtb:\n",
    "    band_n = 0 # remove the u band\n",
    "    approach = 'e'\n",
    "    X_train = help_funcs.perturb(X_train, band_n, approach = approach)\n",
    "    X_test = help_funcs.perturb(X_test, band_n, approach = approach)\n",
    "    X_err = help_funcs.perturb(X_err, band_n, approach = approach)\n",
    "    suffix = '_perturbed'\n",
    "#     X_train = prtb_X_train\n",
    "#     X_test = prtb_X_test\n",
    "#     X_err = prtb_X_err\n",
    "else:\n",
    "    suffix = \"\"\n",
    "#     X_train = X_train\n",
    "#     X_test = X_test\n",
    "#     X_err = X_err"
   ]
  },
  {
   "cell_type": "code",
   "execution_count": 87,
   "metadata": {
    "tags": []
   },
   "outputs": [],
   "source": [
    "# Notice, this cell is recursive. (If you run it multiple times, the resulting plot will change)\n",
    "resampleTrain = False\n",
    "n_bins = 200 \n",
    "select_per_bin = 400 # 500, 50\n",
    "\n",
    "if resampleTrain:\n",
    "    X_train, y_train, resampled_ind = help_train.resample(X_train, y_train, n_bins, select_per_bin) # What is \"rest\"? And where did the original data go?"
   ]
  },
  {
   "cell_type": "code",
   "execution_count": 88,
   "metadata": {
    "tags": []
   },
   "outputs": [
    {
     "name": "stdout",
     "output_type": "stream",
     "text": [
      "Size of features in training data: (400000, 7)\n",
      "Size of output in training data: (400000,)\n",
      "Size of features in test data: (487251, 7)\n",
      "Size of output in test data: (487251,)\n"
     ]
    }
   ],
   "source": [
    "print(\"Size of features in training data: {}\".format(X_train.shape)) # what do we mean features?\n",
    "print(\"Size of output in training data: {}\".format(y_train.shape))\n",
    "print(\"Size of features in test data: {}\".format(X_test.shape))\n",
    "print(\"Size of output in test data: {}\".format(y_test.shape))"
   ]
  },
  {
   "cell_type": "code",
   "execution_count": 89,
   "metadata": {},
   "outputs": [],
   "source": [
    "# Previously, we said \"this notebook doesn't train models, it deploys them\"\n",
    "# Now, we are training models\n",
    "\n",
    "from sklearn.pipeline import Pipeline\n",
    "from sklearn.preprocessing import StandardScaler, MinMaxScaler\n",
    "\n",
    "# This preproc stuff is related to \"scaling routine\" -- right? Yes :)\n",
    "preproc = Pipeline([('stdscaler', StandardScaler())]) # This preproc tool is what allows us to transform inputs into min-max space (and therefore to feed it to the trained model)\n",
    "# preproc = Pipeline([('stdscaler', MinMaxScaler())])\n",
    "X_train = preproc.fit_transform(X_train) # Not sure how \"fit_transform\" is different from the original \"transform\"?\n",
    "\n",
    "scalerfile = save_mod + '_scaling_X'\n",
    "pickle.dump(preproc, open(scalerfile, 'wb'))\n",
    "preproc = pickle.load(open(scalerfile, 'rb'))\n",
    "\n",
    "X_test = preproc.transform(X_test) # This transformation puts our input into min-max space\n",
    "\n",
    "# preproc_y = Pipeline([('stdscaler', StandardScaler())])\n",
    "preproc_y = Pipeline([('stdscaler', MinMaxScaler())])\n",
    "\n",
    "y_train = preproc_y.fit_transform(y_train.reshape(-1, 1))\n",
    "\n",
    "scalerfile = save_mod + '_scaling_y'\n",
    "pickle.dump(preproc_y, open(scalerfile, 'wb'))\n",
    "preproc_y = pickle.load(open(scalerfile, 'rb'))\n",
    "\n",
    "y_test = preproc_y.transform(y_test.reshape(-1, 1))"
   ]
  },
  {
   "cell_type": "code",
   "execution_count": 90,
   "metadata": {
    "tags": []
   },
   "outputs": [
    {
     "name": "stdout",
     "output_type": "stream",
     "text": [
      "----------\n",
      "number of datapoints:  400000\n",
      "z-minmax:  0.0 1.0\n",
      "ColMag-min:  [-1.78  -1.962 -2.081 -4.186 -3.053 -3.45  -3.062]\n",
      "ColMag-max:  [5.099 4.66  3.909 2.461 2.333 2.658 4.461]\n",
      "----------\n",
      "----------\n",
      "number of datapoints:  487251\n",
      "z-minmax:  -0.006522012194860144 2.0227606105434313\n",
      "ColMag-min:  [ -19.839  -28.456  -52.464   -2.473 -754.202  -36.102 -122.489]\n",
      "ColMag-max:  [ 29.062  27.4    43.211   4.291 734.989   4.183   8.386]\n",
      "----------\n"
     ]
    }
   ],
   "source": [
    "help_train.print_limits(X_train, y_train)\n",
    "\n",
    "help_train.print_limits(X_test, y_test)"
   ]
  },
  {
   "cell_type": "code",
   "execution_count": 91,
   "metadata": {},
   "outputs": [
    {
     "data": {
      "image/png": "[encoded data removed]",
      "text/plain": [
       "<Figure size 432x288 with 1 Axes>"
      ]
     },
     "metadata": {
      "needs_background": "light"
     },
     "output_type": "display_data"
    }
   ],
   "source": [
    "# That is a very messy histogram :P Looks like the precision on test is much lower than on train?\n",
    "plt.figure(23)\n",
    "\n",
    "plt.hist(y_train, density=True, bins = 250, histtype='step', label='train')\n",
    "plt.hist(y_test, density=True, bins = 250, histtype='step', label='test')\n",
    "plt.legend()\n",
    "plt.savefig(\"precision\" + str(num_train) + \".png\")"
   ]
  },
  {
   "cell_type": "code",
   "execution_count": 92,
   "metadata": {},
   "outputs": [],
   "source": [
    "def decay(epoch):\n",
    "    if (epoch < 1):\n",
    "        return learning_rate\n",
    "    else:\n",
    "        return learning_rate*(1.0/(1.0+decay_rate*(epoch)))"
   ]
  },
  {
   "cell_type": "code",
   "execution_count": 93,
   "metadata": {},
   "outputs": [],
   "source": [
    "class PrintLR(tf.keras.callbacks.Callback): # Print learning rate at every epoch\n",
    "    def on_epoch_end(self, epoch, logs=None):\n",
    "        print('\\nLearning rate for epoch {} is {}'.format(epoch + 1, model_train.optimizer.lr.numpy()))"
   ]
  },
  {
   "cell_type": "code",
   "execution_count": 94,
   "metadata": {},
   "outputs": [],
   "source": [
    "#from help_train import decay as decay\n",
    "callbacks = [\n",
    "    tf.keras.callbacks.TensorBoard(log_dir='./logs'),\n",
    "    # tf.keras.callbacks.ModelCheckpoint(filepath=checkpoint_prefix, save_weights_only=True),\n",
    "    tf.keras.callbacks.LearningRateScheduler(decay),\n",
    "    PrintLR()\n",
    "]"
   ]
  },
  {
   "cell_type": "code",
   "execution_count": 95,
   "metadata": {},
   "outputs": [],
   "source": [
    "# These are the network parameters!! (This whole cell is network architecture)\n",
    "\n",
    "# x = tf.keras.layers.InputLayer(input_shape=(D,)),\n",
    "non_lin_act = tf.nn.relu #tf.nn.tanh\n",
    "y_true = tf.keras.Input(shape=(1,))\n",
    "inputs = tf.keras.Input(shape=(D,))\n",
    "layer_1 = tf.keras.layers.Dense(units=512, activation=non_lin_act)(inputs)\n",
    "layer_1a = tf.keras.layers.Dense(units=1024, activation=non_lin_act)(layer_1)\n",
    "layer_1b = tf.keras.layers.Dense(units=2048, activation=non_lin_act)(layer_1a)\n",
    "layer_1c = tf.keras.layers.Dense(units=1024, activation=non_lin_act)(layer_1b)\n",
    "layer_2 = tf.keras.layers.Dense(units=512, activation=non_lin_act)(layer_1c)\n",
    "layer_3 = tf.keras.layers.Dense(units=256, activation=non_lin_act)(layer_2)\n",
    "layer_4 = tf.keras.layers.Dense(units=128, activation=non_lin_act)(layer_3)\n",
    "layer_5 = tf.keras.layers.Dense(units=64, activation=non_lin_act)(layer_4)\n",
    "layer_6 = tf.keras.layers.Dense(units=32, activation=non_lin_act)(layer_5)\n",
    "mu = tf.keras.layers.Dense(units=K, activation=None, name=\"mu\")(layer_6)\n",
    "var = tf.keras.backend.exp(tf.keras.layers.Dense(units=K, activation=tf.nn.softplus, name=\"sigma\")(layer_6))\n",
    "pi = tf.keras.layers.Dense(units=K, activation=tf.nn.softmax, name=\"mixing\")(layer_6)"
   ]
  },
  {
   "cell_type": "code",
   "execution_count": 96,
   "metadata": {},
   "outputs": [],
   "source": [
    "model_train = Model([inputs, y_true], [mu, var, pi], name='mdn') # Previously, this was the mixed density model (is that the same as a Gaussian mixture model?)"
   ]
  },
  {
   "cell_type": "code",
   "execution_count": 97,
   "metadata": {
    "tags": []
   },
   "outputs": [
    {
     "name": "stdout",
     "output_type": "stream",
     "text": [
      "Model: \"mdn\"\n",
      "__________________________________________________________________________________________________\n",
      "Layer (type)                    Output Shape         Param #     Connected to                     \n",
      "==================================================================================================\n",
      "input_4 (InputLayer)            [(None, 7)]          0                                            \n",
      "__________________________________________________________________________________________________\n",
      "dense_9 (Dense)                 (None, 512)          4096        input_4[0][0]                    \n",
      "__________________________________________________________________________________________________\n",
      "dense_10 (Dense)                (None, 1024)         525312      dense_9[0][0]                    \n",
      "__________________________________________________________________________________________________\n",
      "dense_11 (Dense)                (None, 2048)         2099200     dense_10[0][0]                   \n",
      "__________________________________________________________________________________________________\n",
      "dense_12 (Dense)                (None, 1024)         2098176     dense_11[0][0]                   \n",
      "__________________________________________________________________________________________________\n",
      "dense_13 (Dense)                (None, 512)          524800      dense_12[0][0]                   \n",
      "__________________________________________________________________________________________________\n",
      "dense_14 (Dense)                (None, 256)          131328      dense_13[0][0]                   \n",
      "__________________________________________________________________________________________________\n",
      "dense_15 (Dense)                (None, 128)          32896       dense_14[0][0]                   \n",
      "__________________________________________________________________________________________________\n",
      "dense_16 (Dense)                (None, 64)           8256        dense_15[0][0]                   \n",
      "__________________________________________________________________________________________________\n",
      "dense_17 (Dense)                (None, 32)           2080        dense_16[0][0]                   \n",
      "__________________________________________________________________________________________________\n",
      "sigma (Dense)                   (None, 3)            99          dense_17[0][0]                   \n",
      "__________________________________________________________________________________________________\n",
      "input_3 (InputLayer)            [(None, 1)]          0                                            \n",
      "__________________________________________________________________________________________________\n",
      "mu (Dense)                      (None, 3)            99          dense_17[0][0]                   \n",
      "__________________________________________________________________________________________________\n",
      "tf.math.exp_1 (TFOpLambda)      (None, 3)            0           sigma[0][0]                      \n",
      "__________________________________________________________________________________________________\n",
      "mixing (Dense)                  (None, 3)            99          dense_17[0][0]                   \n",
      "__________________________________________________________________________________________________\n",
      "tf.compat.v1.transpose_1 (TFOpL (1, None)            0           input_3[0][0]                    \n",
      "__________________________________________________________________________________________________\n",
      "tf.convert_to_tensor_8 (TFOpLam (1, None)            0           tf.compat.v1.transpose_1[0][0]   \n",
      "__________________________________________________________________________________________________\n",
      "tf.compat.v1.shape_3 (TFOpLambd (2,)                 0           tf.convert_to_tensor_8[0][0]     \n",
      "__________________________________________________________________________________________________\n",
      "tf.__operators__.getitem_4 (Sli (2,)                 0           tf.compat.v1.shape_3[0][0]       \n",
      "__________________________________________________________________________________________________\n",
      "tf.__operators__.getitem_5 (Sli (0,)                 0           tf.compat.v1.shape_3[0][0]       \n",
      "__________________________________________________________________________________________________\n",
      "tf.concat_1 (TFOpLambda)        (3,)                 0           tf.__operators__.getitem_4[0][0] \n",
      "                                                                 tf.__operators__.getitem_5[0][0] \n",
      "__________________________________________________________________________________________________\n",
      "tf.reshape_1 (TFOpLambda)       (1, None, 1)         0           tf.convert_to_tensor_8[0][0]     \n",
      "                                                                 tf.concat_1[0][0]                \n",
      "__________________________________________________________________________________________________\n",
      "tf.convert_to_tensor_6 (TFOpLam (None, 3)            0           mu[0][0]                         \n",
      "__________________________________________________________________________________________________\n",
      "tf.convert_to_tensor_9 (TFOpLam (1, None, 1)         0           tf.reshape_1[0][0]               \n",
      "__________________________________________________________________________________________________\n",
      "tf.identity_2 (TFOpLambda)      (None, 3)            0           tf.convert_to_tensor_6[0][0]     \n",
      "__________________________________________________________________________________________________\n",
      "tf.convert_to_tensor_7 (TFOpLam (None, 3)            0           tf.math.exp_1[0][0]              \n",
      "__________________________________________________________________________________________________\n",
      "tf.math.subtract_2 (TFOpLambda) (1, None, 3)         0           tf.convert_to_tensor_9[0][0]     \n",
      "                                                                 tf.identity_2[0][0]              \n",
      "__________________________________________________________________________________________________\n",
      "tf.identity_3 (TFOpLambda)      (None, 3)            0           tf.convert_to_tensor_7[0][0]     \n",
      "__________________________________________________________________________________________________\n",
      "tf.math.truediv_1 (TFOpLambda)  (1, None, 3)         0           tf.math.subtract_2[0][0]         \n",
      "                                                                 tf.identity_3[0][0]              \n",
      "__________________________________________________________________________________________________\n",
      "tf.math.square_1 (TFOpLambda)   (1, None, 3)         0           tf.math.truediv_1[0][0]          \n",
      "__________________________________________________________________________________________________\n",
      "tf.math.log_3 (TFOpLambda)      (None, 3)            0           tf.identity_3[0][0]              \n",
      "__________________________________________________________________________________________________\n",
      "tf.convert_to_tensor_5 (TFOpLam (None, 3)            0           mixing[0][0]                     \n",
      "__________________________________________________________________________________________________\n",
      "tf.math.multiply_2 (TFOpLambda) (1, None, 3)         0           tf.math.square_1[0][0]           \n",
      "__________________________________________________________________________________________________\n",
      "tf.__operators__.add_2 (TFOpLam (None, 3)            0           tf.math.log_3[0][0]              \n",
      "__________________________________________________________________________________________________\n",
      "tf.math.log_2 (TFOpLambda)      (None, 3)            0           tf.convert_to_tensor_5[0][0]     \n",
      "__________________________________________________________________________________________________\n",
      "tf.math.subtract_3 (TFOpLambda) (1, None, 3)         0           tf.math.multiply_2[0][0]         \n",
      "                                                                 tf.__operators__.add_2[0][0]     \n",
      "__________________________________________________________________________________________________\n",
      "tf.nn.log_softmax_1 (TFOpLambda (None, 3)            0           tf.math.log_2[0][0]              \n",
      "__________________________________________________________________________________________________\n",
      "tf.__operators__.add_3 (TFOpLam (1, None, 3)         0           tf.math.subtract_3[0][0]         \n",
      "                                                                 tf.nn.log_softmax_1[0][0]        \n",
      "__________________________________________________________________________________________________\n",
      "tf.math.reduce_logsumexp_1 (TFO (1, None)            0           tf.__operators__.add_3[0][0]     \n",
      "__________________________________________________________________________________________________\n",
      "tf.math.multiply_3 (TFOpLambda) (1, None)            0           tf.math.reduce_logsumexp_1[0][0] \n",
      "__________________________________________________________________________________________________\n",
      "tf.math.reduce_mean_1 (TFOpLamb ()                   0           tf.math.multiply_3[0][0]         \n",
      "__________________________________________________________________________________________________\n",
      "add_loss_1 (AddLoss)            ()                   0           tf.math.reduce_mean_1[0][0]      \n",
      "==================================================================================================\n",
      "Total params: 5,426,441\n",
      "Trainable params: 5,426,441\n",
      "Non-trainable params: 0\n",
      "__________________________________________________________________________________________________\n"
     ]
    }
   ],
   "source": [
    "# Define custom loss\n",
    "def custom_loss(layer):\n",
    "    # Create a loss function that adds the MSE loss to the mean of all squared activations of a specific layer\n",
    "    def loss(y_true, mu, var, pi):\n",
    "        mixture_distribution = tfp.distributions.Categorical(probs=pi)\n",
    "        distribution = tfp.distributions.Normal(loc=mu, scale=var)\n",
    "        likelihood = tfp.distributions.MixtureSameFamily(mixture_distribution=mixture_distribution,components_distribution=distribution)\n",
    "\n",
    "        log_likelihood = -1.0*likelihood.log_prob(tf.transpose(y_true)) # A little confusing (talk later)\n",
    "        mean_loss = tf.reduce_mean(log_likelihood)\n",
    "\n",
    "        return mean_loss\n",
    "    return loss\n",
    "    \n",
    "model_train.add_loss(custom_loss(inputs)(y_true, mu, var, pi))\n",
    "model_train.compile(optimizer='Nadam')\n",
    "model_train.summary()"
   ]
  },
  {
   "cell_type": "code",
   "execution_count": 98,
   "metadata": {},
   "outputs": [
    {
     "data": {
      "text/plain": [
       "0.0001"
      ]
     },
     "execution_count": 98,
     "metadata": {},
     "output_type": "execute_result"
    }
   ],
   "source": [
    "learning_rate"
   ]
  },
  {
   "cell_type": "markdown",
   "metadata": {},
   "source": [
    "### Perturb or remove bands"
   ]
  },
  {
   "cell_type": "code",
   "execution_count": 99,
   "metadata": {},
   "outputs": [],
   "source": [
    "if prtb:\n",
    "    band_n = 0 # remove the u band\n",
    "    approach = 'e'\n",
    "    prtb_X_train = help_funcs.perturb(X_train, band_n, approach = approach)\n",
    "    prtb_X_test = help_funcs.perturb(X_test, band_n, approach = approach) # Should this be this way? What if I want to perturb for the testing too?\n",
    "    prtb_X_err = help_funcs.perturb(X_err, band_n, approach = approach)\n",
    "    suffix = '_perturbed'\n",
    "    my_X_train = prtb_X_train\n",
    "    my_X_test = prtb_X_test\n",
    "    my_X_err = prtb_X_err\n",
    "else:\n",
    "    suffix = \"\"\n",
    "    my_X_train = X_train\n",
    "    my_X_test = X_test\n",
    "    #my_X_err = X_err"
   ]
  },
  {
   "cell_type": "markdown",
   "metadata": {},
   "source": [
    "### Train!"
   ]
  },
  {
   "cell_type": "code",
   "execution_count": 100,
   "metadata": {
    "tags": [
     "outputPrepend"
    ]
   },
   "outputs": [
    {
     "name": "stdout",
     "output_type": "stream",
     "text": [
      "Epoch 1/20\n",
      "   6/1407 [..............................] - ETA: 1:59 - loss: 1.6474WARNING:tensorflow:Callback method `on_train_batch_end` is slow compared to the batch time (batch time: 0.0332s vs `on_train_batch_end` time: 0.0432s). Check your callbacks.\n",
      "1407/1407 [==============================] - 33s 22ms/step - loss: 0.9645 - val_loss: 0.9200\n",
      "\n",
      "Learning rate for epoch 1 is 9.999999747378752e-05\n",
      "Epoch 2/20\n",
      "1407/1407 [==============================] - 30s 21ms/step - loss: 0.9206 - val_loss: 0.9198\n",
      "\n",
      "Learning rate for epoch 2 is 9.900989971356466e-05\n",
      "Epoch 3/20\n",
      "1407/1407 [==============================] - 30s 21ms/step - loss: 0.9200 - val_loss: 0.9197\n",
      "\n",
      "Learning rate for epoch 3 is 9.803921420825645e-05\n",
      "Epoch 4/20\n",
      "1407/1407 [==============================] - 30s 21ms/step - loss: 0.9199 - val_loss: 0.9198\n",
      "\n",
      "Learning rate for epoch 4 is 9.708738070912659e-05\n",
      "Epoch 5/20\n",
      "1407/1407 [==============================] - 30s 21ms/step - loss: 0.9198 - val_loss: 0.9200\n",
      "\n",
      "Learning rate for epoch 5 is 9.61538462433964e-05\n",
      "Epoch 6/20\n",
      "1407/1407 [==============================] - 30s 21ms/step - loss: 0.9197 - val_loss: 0.9197\n",
      "\n",
      "Learning rate for epoch 6 is 9.523809421807528e-05\n",
      "Epoch 7/20\n",
      "1407/1407 [==============================] - 30s 21ms/step - loss: 0.9197 - val_loss: 0.9197\n",
      "\n",
      "Learning rate for epoch 7 is 9.433962259208784e-05\n",
      "Epoch 8/20\n",
      "1407/1407 [==============================] - 30s 21ms/step - loss: 0.9197 - val_loss: 0.9197\n",
      "\n",
      "Learning rate for epoch 8 is 9.345794387627393e-05\n",
      "Epoch 9/20\n",
      "1407/1407 [==============================] - 30s 21ms/step - loss: 0.9196 - val_loss: 0.9196\n",
      "\n",
      "Learning rate for epoch 9 is 9.259259240934625e-05\n",
      "Epoch 10/20\n",
      "1407/1407 [==============================] - 30s 21ms/step - loss: 0.9196 - val_loss: 0.9196\n",
      "\n",
      "Learning rate for epoch 10 is 9.174311708193272e-05\n",
      "Epoch 11/20\n",
      "1407/1407 [==============================] - 30s 21ms/step - loss: 0.9196 - val_loss: 0.9196\n",
      "\n",
      "Learning rate for epoch 11 is 9.09090886125341e-05\n",
      "Epoch 12/20\n",
      "1407/1407 [==============================] - 30s 21ms/step - loss: 0.9196 - val_loss: 0.9196\n",
      "\n",
      "Learning rate for epoch 12 is 9.009009227156639e-05\n",
      "Epoch 13/20\n",
      "1407/1407 [==============================] - 30s 21ms/step - loss: 0.9196 - val_loss: 0.9197\n",
      "\n",
      "Learning rate for epoch 13 is 8.928571332944557e-05\n",
      "Epoch 14/20\n",
      "1407/1407 [==============================] - 30s 21ms/step - loss: 0.9196 - val_loss: 0.9196\n",
      "\n",
      "Learning rate for epoch 14 is 8.849557343637571e-05\n",
      "Epoch 15/20\n",
      "1407/1407 [==============================] - 30s 21ms/step - loss: 0.9196 - val_loss: 0.9196\n",
      "\n",
      "Learning rate for epoch 15 is 8.771930151851848e-05\n",
      "Epoch 16/20\n",
      "1407/1407 [==============================] - 30s 21ms/step - loss: 0.9196 - val_loss: 0.9196\n",
      "\n",
      "Learning rate for epoch 16 is 8.695651922607794e-05\n",
      "Epoch 17/20\n",
      "1407/1407 [==============================] - 30s 21ms/step - loss: 0.9196 - val_loss: 0.9197\n",
      "\n",
      "Learning rate for epoch 17 is 8.620689914096147e-05\n",
      "Epoch 18/20\n",
      "1407/1407 [==============================] - 30s 21ms/step - loss: 0.9196 - val_loss: 0.9197\n",
      "\n",
      "Learning rate for epoch 18 is 8.547008474124596e-05\n",
      "Epoch 19/20\n",
      "1407/1407 [==============================] - 30s 21ms/step - loss: 0.9196 - val_loss: 0.9196\n",
      "\n",
      "Learning rate for epoch 19 is 8.4745763160754e-05\n",
      "Epoch 20/20\n",
      "1407/1407 [==============================] - 30s 21ms/step - loss: 0.9196 - val_loss: 0.9196\n",
      "\n",
      "Learning rate for epoch 20 is 8.403361425735056e-05\n"
     ]
    },
    {
     "ename": "NameError",
     "evalue": "name 'sim' is not defined",
     "output_type": "error",
     "traceback": [
      "\u001b[0;31m---------------------------------------------------------------------------\u001b[0m",
      "\u001b[0;31mNameError\u001b[0m                                 Traceback (most recent call last)",
      "\u001b[0;32m<timed exec>\u001b[0m in \u001b[0;36m<module>\u001b[0;34m\u001b[0m\n",
      "\u001b[0;31mNameError\u001b[0m: name 'sim' is not defined"
     ]
    },
    {
     "data": {
      "image/png": "[encoded data removed]",
      "text/plain": [
       "<Figure size 720x432 with 1 Axes>"
      ]
     },
     "metadata": {
      "needs_background": "light"
     },
     "output_type": "display_data"
    }
   ],
   "source": [
    "%%time\n",
    "if train_mode:\n",
    "\n",
    "    history = model_train.fit([my_X_train, y_train], validation_split = 0.1, epochs=n_epochs, batch_size = batch_size, callbacks=callbacks) # What's this history about?\n",
    "    # The problem is in the above line\n",
    "    model_train.save_weights(save_mod + '.h5')\n",
    "    \n",
    "    plt.figure(figsize=(10, 6))\n",
    "    plt.plot(history.history['loss'], 'r')\n",
    "    plt.plot(history.history['val_loss'])\n",
    "    plt.xlabel('Epochs', fontsize = 28)\n",
    "    plt.ylabel('Loss', fontsize = 28)\n",
    "    \n",
    "    # Fancy legend\n",
    "    fake_lines = [plt.plot([], [], c = \"black\")[0] for i in range(0,10)]\n",
    "    param_labels = [\"num train: \" + str(num_train), \"num test: \" + str(num_test), \"n epochs: \" + str(n_epochs), \"D: \" + str(D), \"K: \" + str(K), \"learning rate\" + str(learning_rate), \"decay rate: \" + str(decay_rate), \"batch size: \" + str(batch_size), \"n bins: \" + str(n_bins), \"select per bin: \" + str(select_per_bin)]\n",
    "    plt.legend(handles = fake_lines, labels = param_labels, loc = \"upper right\")\n",
    "    if prtb:\n",
    "        plt.title(\"Perturbed\")\n",
    "    plt.savefig(\"/data/a/cpac/aurora/MDN_phoZ/training_plots/\" + sim + \"_loss_epochs_ntrain\" + str(num_train) + \"_ntest\" + str(num_test) + \"_nepochs\" + str(n_epochs) + \"_D\" + str(D) + \"_K\" + str(K) + \"_lr\" + str(learning_rate) + \"_dr\" + str(decay_rate) + \"_bs\" + str(batch_size) + \"_re\" + str(resampleTrain) + \"_nbins\" + str(n_bins) + \"_spb\" + str(select_per_bin) + suffix + \".png\")"
   ]
  },
  {
   "cell_type": "code",
   "execution_count": 101,
   "metadata": {
    "tags": []
   },
   "outputs": [],
   "source": [
    "model_train.load_weights(save_mod + '.h5') # Previously, this exact line was loading the weights of (from?) the mixed density model"
   ]
  },
  {
   "cell_type": "markdown",
   "metadata": {},
   "source": [
    "Now that we've trained the model, we need to apply the zero pt correction"
   ]
  },
  {
   "cell_type": "markdown",
   "metadata": {},
   "source": [
    "Also, if we want to remove any bands, that has to happen here, right after we loaded the model. Because otherwise the rescaling won't work well."
   ]
  },
  {
   "cell_type": "code",
   "execution_count": 102,
   "metadata": {},
   "outputs": [],
   "source": [
    "def prediction(X_test, save_mod, surveystring, model_train, preproc, preproc_y):\n",
    "    f_real = X_test.copy()\n",
    "    f_real[:,:4] = f_real[:,:4]\n",
    "    f_real = preproc.transform(f_real)\n",
    "    y_pred = np.array(model_train(  [f_real, np.zeros(shape = f_real.shape[0]) ] ))\n",
    "    y_pred_arg = np.argmax(y_pred[2, :, :], axis = 1)\n",
    "    y_pred_mean = y_pred[0, :, :][:, y_pred_arg][:, 0]\n",
    "    y_pred_std = np.sqrt(np.log(y_pred[1, :, :][:, y_pred_arg][:, 0]))\n",
    "    y_pred_3means = preproc_y.inverse_transform(y_pred[0, :, :]) # pretty sure this is the same as y_pred_std.reshape(-1, 1)[:, 0]??\n",
    "    y_pred_3std = preproc_y.inverse_transform( np.sqrt(np.log(y_pred[1, :, :])  ))\n",
    "    y_pred_3weights = y_pred[2, :, :]\n",
    "    predstdweights = np.array([y_pred_3means, y_pred_3std, y_pred_3weights]) # Should I be returning this?    \n",
    "    return y_pred_3means, y_pred_3std, y_pred_3weights, y_pred_arg, y_pred_mean, y_pred_std # photo_z, photo_z_err"
   ]
  },
  {
   "cell_type": "code",
   "execution_count": 24,
   "metadata": {},
   "outputs": [],
   "source": [
    "def Nesar_prediction_zp_all(X_test, label_test, save_mod, surveystring, model_train, preproc, preproc_y):\n",
    "    xzero = np.zeros_like(X_test[:,:4])\n",
    "    xzero[label_test == 0] = np.loadtxt(save_mod + '_xzero_' + surveystring[0])\n",
    "    xzero[label_test == 1] = np.loadtxt(save_mod + '_xzero_' + surveystring[1])\n",
    "    xzero[label_test == 2] = np.loadtxt(save_mod + '_xzero_' + surveystring[2])\n",
    "    f_real = X_test.copy()\n",
    "    f_real[:,:4] = f_real[:,:4] + xzero\n",
    "    f_real = preproc.transform(f_real)\n",
    "    y_pred = np.array(model_train(  [f_real, np.zeros(shape = f_real.shape[0]) ] ))\n",
    "    #y_pred = np.array(model_train(f_real)) # Apparently this won't work anymore? We now need two inputs...\n",
    "    y_pred_arg = np.argmax(y_pred[2, :, :], axis = 1)\n",
    "    y_pred_mean = y_pred[0, :, :][:, y_pred_arg][:, 0]\n",
    "    y_pred_std = np.sqrt(np.log(y_pred[1, :, :][:, y_pred_arg][:, 0]))\n",
    "    # This is exactly the same as what Nesar does in his notebook\n",
    "    # But, it's randomly not what we will actually use for plotting?? That's `y_pred_mean` and the like, which we aren't calculating here\n",
    "    y_pred_3means = preproc_y.inverse_transform(y_pred[0, :, :])\n",
    "    y_pred_3std = preproc_y.inverse_transform( np.sqrt(np.log(y_pred[1, :, :])  ))\n",
    "    y_pred_3weights = y_pred[2, :, :]\n",
    "    return y_pred_3means, y_pred_3std, y_pred_3weights, y_pred_arg, y_pred_mean, y_pred_std, xzero"
   ]
  },
  {
   "cell_type": "code",
   "execution_count": 103,
   "metadata": {},
   "outputs": [
    {
     "ename": "NameError",
     "evalue": "name 'Nesar_prediction_zp_all' is not defined",
     "output_type": "error",
     "traceback": [
      "\u001b[0;31m---------------------------------------------------------------------------\u001b[0m",
      "\u001b[0;31mNameError\u001b[0m                                 Traceback (most recent call last)",
      "\u001b[0;32m<ipython-input-103-22d8d3ada4a6>\u001b[0m in \u001b[0;36m<module>\u001b[0;34m\u001b[0m\n\u001b[1;32m      1\u001b[0m \u001b[0;31m# VERSION 1: CORRECT ZPs\u001b[0m\u001b[0;34m\u001b[0m\u001b[0;34m\u001b[0m\u001b[0;34m\u001b[0m\u001b[0m\n\u001b[0;32m----> 2\u001b[0;31m \u001b[0my_pred_3means\u001b[0m\u001b[0;34m,\u001b[0m \u001b[0my_pred_3std\u001b[0m\u001b[0;34m,\u001b[0m \u001b[0my_pred_3weights\u001b[0m\u001b[0;34m,\u001b[0m \u001b[0my_pred_arg\u001b[0m\u001b[0;34m,\u001b[0m \u001b[0my_pred_mean\u001b[0m\u001b[0;34m,\u001b[0m \u001b[0my_pred_std\u001b[0m\u001b[0;34m,\u001b[0m \u001b[0mxzero\u001b[0m \u001b[0;34m=\u001b[0m \u001b[0mNesar_prediction_zp_all\u001b[0m\u001b[0;34m(\u001b[0m\u001b[0mX_test\u001b[0m\u001b[0;34m,\u001b[0m \u001b[0mlabel_test\u001b[0m\u001b[0;34m,\u001b[0m \u001b[0msave_mod\u001b[0m\u001b[0;34m,\u001b[0m \u001b[0msurveystring\u001b[0m\u001b[0;34m,\u001b[0m \u001b[0mmodel_train\u001b[0m\u001b[0;34m,\u001b[0m \u001b[0mpreproc\u001b[0m\u001b[0;34m,\u001b[0m \u001b[0mpreproc_y\u001b[0m\u001b[0;34m)\u001b[0m\u001b[0;34m\u001b[0m\u001b[0;34m\u001b[0m\u001b[0m\n\u001b[0m\u001b[1;32m      3\u001b[0m \u001b[0my_test_all\u001b[0m \u001b[0;34m=\u001b[0m \u001b[0mpreproc_y\u001b[0m\u001b[0;34m.\u001b[0m\u001b[0minverse_transform\u001b[0m\u001b[0;34m(\u001b[0m\u001b[0my_test\u001b[0m\u001b[0;34m)\u001b[0m \u001b[0;31m# why \"all\"?\u001b[0m\u001b[0;34m\u001b[0m\u001b[0;34m\u001b[0m\u001b[0m\n\u001b[1;32m      4\u001b[0m \u001b[0;34m\u001b[0m\u001b[0m\n\u001b[1;32m      5\u001b[0m \u001b[0mpredstdweights\u001b[0m \u001b[0;34m=\u001b[0m \u001b[0mnp\u001b[0m\u001b[0;34m.\u001b[0m\u001b[0marray\u001b[0m\u001b[0;34m(\u001b[0m\u001b[0;34m[\u001b[0m\u001b[0my_pred_3means\u001b[0m\u001b[0;34m,\u001b[0m \u001b[0my_pred_3std\u001b[0m\u001b[0;34m,\u001b[0m \u001b[0my_pred_3weights\u001b[0m\u001b[0;34m]\u001b[0m\u001b[0;34m)\u001b[0m\u001b[0;34m\u001b[0m\u001b[0;34m\u001b[0m\u001b[0m\n",
      "\u001b[0;31mNameError\u001b[0m: name 'Nesar_prediction_zp_all' is not defined"
     ]
    }
   ],
   "source": [
    "# VERSION 1: CORRECT ZPs\n",
    "y_pred_3means, y_pred_3std, y_pred_3weights, y_pred_arg, y_pred_mean, y_pred_std, xzero = Nesar_prediction_zp_all(X_test, label_test, save_mod, surveystring, model_train, preproc, preproc_y)\n",
    "y_test_all = preproc_y.inverse_transform(y_test) # why \"all\"?\n",
    "\n",
    "predstdweights = np.array([y_pred_3means, y_pred_3std, y_pred_3weights])\n",
    "truelabel = np.array([y_test_all[:, 0], label_test])\n",
    "\n",
    "np.save(save_mod+'test_true', predstdweights )\n",
    "np.save(save_mod+'test_pred', truelabel )"
   ]
  },
  {
   "cell_type": "code",
   "execution_count": 105,
   "metadata": {},
   "outputs": [],
   "source": [
    "# VERSION 2: DON'T CORRECT ZPs\n",
    "# y_pred = np.array(model_train(X_test))\n",
    "idx = np.arange(len(X_test))\n",
    "np.random.seed(0)\n",
    "random_idx = np.random.choice(idx, 1000, replace = False) # Why are we doing this again?\n",
    "y_pred = np.array(model_train(  [X_test[random_idx], np.zeros(shape = X_test[random_idx].shape[0]) ] ))\n",
    "y_test = y_test[random_idx]\n",
    "X_test = X_test[random_idx]\n",
    "\n",
    "y_pred_arg = np.argmax(y_pred[2, :, :], axis = 1)\n",
    "y_pred_mean = y_pred[0, :, :][:, y_pred_arg][:, 0]\n",
    "y_pred_std = np.sqrt(np.log(y_pred[1, :, :][:, y_pred_arg][:, 0]))\n",
    "# This is all the same as prediction_zp, but isn't included in Nesar's (previous) version\n",
    "\n",
    "# These are the same (I think?) as what we calculate in Nesar's version of prediction_zp\n",
    "y_pred_3means = preproc_y.inverse_transform(y_pred[0, :, :]) # Previously, we used preproc_y to pick the best Gaussian (of the three that make up the Gaussian mixture model)\n",
    "y_pred_3std = preproc_y.inverse_transform( np.sqrt(np.log(y_pred[1, :, :])  ))\n",
    "y_pred_3weights = y_pred[2, :, :]\n",
    "\n",
    "y_test_all = preproc_y.inverse_transform(y_test)\n",
    "\n",
    "predstdweights = np.array([y_pred_3means, y_pred_3std, y_pred_3weights])\n",
    "#truelabel = np.array([y_test_all[:, 0], label_test])\n",
    "np.save(save_mod+'test_true', predstdweights )\n",
    "#np.save(save_mod+'test_pred', truelabel )"
   ]
  },
  {
   "cell_type": "code",
   "execution_count": 108,
   "metadata": {},
   "outputs": [],
   "source": [
    "sim = 'irac'"
   ]
  },
  {
   "cell_type": "code",
   "execution_count": 109,
   "metadata": {},
   "outputs": [
    {
     "name": "stdout",
     "output_type": "stream",
     "text": [
      "(1000,)\n",
      "(1000,)\n"
     ]
    },
    {
     "data": {
      "image/png": "[encoded data removed]",
      "text/plain": [
       "<Figure size 720x720 with 1 Axes>"
      ]
     },
     "metadata": {
      "needs_background": "light"
     },
     "output_type": "display_data"
    },
    {
     "data": {
      "text/plain": [
       "<Figure size 432x288 with 0 Axes>"
      ]
     },
     "metadata": {},
     "output_type": "display_data"
    }
   ],
   "source": [
    "ifPlotWeighted = True\n",
    "y_pred_mean_best = y_pred_mean # why are we using y_pred_mean and not y_pred_3means?\n",
    "y_pred_std_best = y_pred_std   \n",
    "\n",
    "fig, ax = plt.subplots(figsize=(10, 10,)) # How does this work (or conflict) with plt.figure() down below?\n",
    "if ifPlotWeighted:\n",
    "\n",
    "    colorstring = ['b', 'r', 'g', 'k', 'orange']\n",
    "    #surveystring = ['SDSS', 'VIPERS', 'DEEP2']\n",
    "\n",
    "    plt.figure(22)#, figsize=(10, 10,))\n",
    "\n",
    "    C = 0.05\n",
    "    z_t = np.array([0, 3])\n",
    "    z_tp = z_t + C*(1+z_t)\n",
    "    z_tm = z_t - C*(1+z_t)\n",
    "\n",
    "    ax.plot(z_t, z_t, 'k')\n",
    "    ax.plot(z_t, z_tp, 'k-.')\n",
    "    ax.plot(z_t, z_tm, 'k-.')\n",
    "    \n",
    "    offset = 0.0 # What is the point of this?\n",
    "\n",
    "    print(preproc_y.inverse_transform(y_test)[:, 0].shape)\n",
    "    print(preproc_y.inverse_transform(y_pred_mean_best.reshape(-1, 1))[:, 0].shape)\n",
    "    \n",
    "    ax.errorbar(preproc_y.inverse_transform(y_test)[:, 0], offset + preproc_y.inverse_transform(y_pred_mean_best.reshape(-1, 1))[:, 0], yerr= preproc_y.inverse_transform(y_pred_std_best.reshape(-1, 1))[:, 0], fmt = 'o', marker=None, ms = 4, alpha = 0.3, label = 'Training: Synthetic, Testing: '+sim, c = 'k')\n",
    "    \n",
    "    #for label_ind in [0, 1, 2]:\n",
    "    #    surveyindx = np.where(label_test == label_ind)\n",
    "    #    offset = 0.0\n",
    "\n",
    "    #    ax.errorbar(preproc_y.inverse_transform(y_test)[surveyindx][:, 0], offset + preproc_y.inverse_transform(y_pred_mean_best.reshape(-1, 1))[surveyindx][:, 0], yerr= preproc_y.inverse_transform(y_pred_std_best.reshape(-1, 1))[surveyindx][:, 0], fmt = 'o', marker=None, ms = 4, alpha = 0.3, label = 'Training: Synthetic, Testing: '+surveystring[label_ind], c = colorstring[label_ind])\n",
    "\n",
    "ax.set_ylabel(r'$z_{phot}$', fontsize=25)\n",
    "ax.set_xlabel(r'$z_{spec}$', fontsize=25)\n",
    "\n",
    "ax.set_xlim(0.0, 3)\n",
    "ax.set_ylim(0.0, 3)\n",
    "\n",
    "plt.tight_layout()\n",
    "# plt.axes().set_aspect('equal')\n",
    "\n",
    "#leg1 = ax.legend(fontsize = 'xx-large', markerscale=1., numpoints=2)\n",
    "fake_lines = [ax.plot([], [], c = \"black\", linestyle = '-')[0] for i in range(0,11)]\n",
    "param_labels = [\"sim: \" + sim, \"num train: \" + str(num_train), \"num test: \" + str(num_test), \"n epochs: \" + str(n_epochs), \"D: \" + str(D), \"K: \" + str(K), \"learning rate: \" + str(learning_rate), \"decay rate: \" + str(decay_rate), \"batch size: \" + str(batch_size), \"n bins: \" + str(n_bins), \"select per bin: \" + str(select_per_bin)]\n",
    "ax.legend(handles = fake_lines, labels = param_labels, loc = \"upper left\")\n",
    "if prtb:\n",
    "    ax.set_title(\"Perturbed\")\n",
    "#ax.add_artist(leg1)\n",
    "##fig.savefig('phoz_compare_surveys_numtrain_' + str(num_train) + '.pdf', bbox_inches='tight')\n",
    "#fig.savefig(\"/data/a/cpac/aurora/MDN_phoZ/training_plots/\" + sim + \"phoz_ntrain\" + str(num_train) + \"_ntest\" + str(num_test) + \"_nepochs\" + str(n_epochs) + \"_D\" + str(D) + \"_K\" + str(K) + \"_lr\" + str(learning_rate) + \"_dr\" + str(decay_rate) + \"_bs\" + str(batch_size) + \"_re\" + str(resampleTrain) + \"_nbins\" + str(n_bins) + \"_spb\" + str(select_per_bin) + suffix + \".png\")\n",
    "#fig.savefig(\"training_plots/zp_anti-attempt.png\")\n",
    "fig.show()\n",
    "# num train, num test, n epochs, D, K, learning rate, decay rate, batch size, nbins, select per bin"
   ]
  },
  {
   "cell_type": "code",
   "execution_count": null,
   "metadata": {},
   "outputs": [],
   "source": [
    "print(num_test)"
   ]
  },
  {
   "cell_type": "code",
   "execution_count": null,
   "metadata": {},
   "outputs": [],
   "source": [
    "# Plot a pdf\n",
    "from scipy import stats\n",
    "nrows = 3\n",
    "#fig, axes = plt.subplots(nrows=nrows, ncols=1, sharex = True, figsize=(8, nrows*3), num='pdfs')\n",
    "fig, axes = help_funcs.plot_pdfs(y_pred_3means, y_pred_3weights, y_pred_3std, y_test_all, num_train = num_train, num_test = num_test, num=nrows, label = 'Training with synthetic data', color = 'red', train=False)\n",
    "# fig.savefig(\"quick_pdfs.png\")"
   ]
  },
  {
   "cell_type": "markdown",
   "metadata": {},
   "source": [
    "## Sigma_NMAD, OutFrac"
   ]
  },
  {
   "cell_type": "code",
   "execution_count": 30,
   "metadata": {},
   "outputs": [
    {
     "name": "stdout",
     "output_type": "stream",
     "text": [
      "(1000,)\n",
      "0.005501166089856722\n",
      "13.8\n"
     ]
    }
   ],
   "source": [
    "sigmaNMAD = help_funcs.sigmaNMAD(y_test.T[0], y_pred_mean)\n",
    "outFrac = help_funcs.outlierFrac(y_test.T[0], y_pred_mean, threshold = 0.15)\n",
    "print(sigmaNMAD)\n",
    "print(outFrac)"
   ]
  },
  {
   "cell_type": "code",
   "execution_count": 45,
   "metadata": {},
   "outputs": [
    {
     "name": "stdout",
     "output_type": "stream",
     "text": [
      "[0.005 0.004 0.005 0.004 0.    0.032 0.    0.001 0.008 0.003 0.004 0.\n",
      " 0.005 0.102 0.003 0.058 0.    0.011 0.009 0.   ]\n",
      "[58.586  0.    21.935  6.557  0.    35.135  0.     0.    11.111  0.\n",
      "  0.     0.     0.    53.333  0.     5.882  0.     0.     4.724  0.   ]\n"
     ]
    }
   ],
   "source": [
    "sigmaNMAD_array, outFr_array, bins = help_funcs.validate(y_test.T[0], y_pred_mean) # Why is y_test in a weird shape before I do this?\n",
    "print(sigmaNMAD_array)\n",
    "print(outFr_array) # Should those 0's really be zeros?"
   ]
  },
  {
   "cell_type": "code",
   "execution_count": 98,
   "metadata": {},
   "outputs": [
    {
     "name": "stdout",
     "output_type": "stream",
     "text": [
      "length zero for bin  6\n",
      "length zero for bin  11\n",
      "length zero for bin  12\n",
      "length zero for bin  13\n",
      "length zero for bin  14\n"
     ]
    },
    {
     "data": {
      "image/png": "[encoded data removed]",
      "text/plain": [
       "<Figure size 432x288 with 1 Axes>"
      ]
     },
     "metadata": {
      "needs_background": "light"
     },
     "output_type": "display_data"
    }
   ],
   "source": [
    "# Perturb lots of bands (approach b, c, or d) AFTER training\n",
    "ncol = 3 # Should this actually be vertical and outside the plots, perhaps?\n",
    "metric_name = \"outFrac\"\n",
    "\n",
    "fig, ax = plt.subplots(1, 1, sharex = True)\n",
    "band_names = [\"u-g\", \"g-r\", \"r-i\", \"i-z\", \"mag(i)\"]\n",
    "\n",
    "# Validate and plot og data first\n",
    "sigmaNMAD_array, outFr_array, bins = help_funcs.validate(y_test.T[0], y_pred_mean)\n",
    "if metric_name == \"sigma\":\n",
    "    metric = sigmaNMAD_array\n",
    "    metric_label = r'$\\sigma_{NMAD}$'\n",
    "elif metric_name == \"outFrac\":\n",
    "    metric = outFr_array\n",
    "fig, ax = help_funcs.plot_metric(metric, metric_name, approach = None, bins = bins, fig = fig, ax = ax, label = sim, color = \"black\", linestyle = '-')\n",
    "leg1 = ax.legend(ncol = ncol, loc = \"upper right\")\n",
    "fake_lines = [ax.plot([], [], c = \"black\", linestyle = '-')[0] for i in range(0,10)]\n",
    "param_labels = [\"n epochs: \" + str(n_epochs), \"D: \" + str(D), \"K: \" + str(K), \"learning rate: \" + str(learning_rate), \"decay rate: \" + str(decay_rate), \"batch size: \" + str(batch_size)]\n",
    "ax.legend(handles = fake_lines, labels = param_labels, loc = \"upper left\")\n",
    "ax.add_artist(leg1)\n",
    "fig.savefig(\"training_plots/\" + sim + \"_\" + metric_name + \".png\")"
   ]
  },
  {
   "cell_type": "markdown",
   "metadata": {},
   "source": [
    "### Special approach for version \"a\""
   ]
  },
  {
   "cell_type": "code",
   "execution_count": null,
   "metadata": {},
   "outputs": [],
   "source": [
    "# For approach a, perturb each band by 5 delta_c's between 5 and 50%. Plot each of those outcomes (one plot per band)\n",
    "approach = 'a'\n",
    "metric_name = \"sigma\"\n",
    "sel_ind = 0 # pick a survey\n",
    "sel = (label_test == sel_ind) # masks the selection index\n",
    "xzero_correction = np.loadtxt(save_mod + '_xzero_' + surveystring[sel_ind])\n",
    "\n",
    "delta_c = [1.05, 1.1, 1.2, 1.3, 1.4, 1.5]\n",
    "sigma_y_lims = [0,0.35]\n",
    "sigma_y_lims_rel = [-1,5]\n",
    "outFr_y_lims = [0,100]\n",
    "outFr_y_lims_rel = [-0.5,1.5]\n",
    "ncols = 4\n",
    "\n",
    "for band_n in [0, 1, 2, 3, 4]:\n",
    "    fig, (ax1, ax2) = plt.subplots(2, 1, sharex = True, gridspec_kw={'height_ratios': [3, 2]})\n",
    "    # Start with original\n",
    "    og_y_pred_mean, og_y_pred_std  = help_funcs.prediction_zp(X_test[sel], xzero_correction, model_train, preproc, preproc_y)\n",
    "    og_sigmaNMAD_array, og_outFr_array, bins = help_funcs.validate(y_test, sel, og_y_pred_mean)\n",
    "    if metric_name == \"sigma\":\n",
    "        og_metric = og_sigmaNMAD_array\n",
    "        metric_label = r'$\\sigma_{NMAD}$'\n",
    "        y_lims = sigma_y_lims\n",
    "        y_lims_rel = sigma_y_lims_rel\n",
    "    elif metric_name == \"outFrac\":\n",
    "        og_metric = og_outFr_array\n",
    "        y_lims = outFr_y_lims\n",
    "        y_lims_rel = outFr_y_lims_rel\n",
    "    fig, ax1 = help_funcs.plot_metric(og_metric, metric_label, approach, band_n, fig = fig, ax = ax1, label = \"original\", color = \"black\")\n",
    "    ax1.legend()\n",
    "    \n",
    "    # Now perturb\n",
    "    prtb_X_test_lst = help_funcs.perturb(X_test, band_n, delta_c, approach, X_err = X_err)\n",
    "    for i, prtb_X_test in enumerate(prtb_X_test_lst):\n",
    "        #print(\"Top of the morning to ya\")\n",
    "        prtb_y_pred_mean, prtb_y_pred_std  = help_funcs.prediction_zp(prtb_X_test[sel], xzero_correction, model_train, preproc, preproc_y)\n",
    "        this_label = str(math.trunc((delta_c[i] - 1)*100 + 0.5)) + \"%\"\n",
    "\n",
    "        sigmaNMAD_array, outFr_array, bins = help_funcs.validate(y_test, sel, prtb_y_pred_mean)\n",
    "        if metric_name == \"sigma\":\n",
    "            metric = sigmaNMAD_array\n",
    "            metric_label = r'$\\sigma_{NMAD}$'\n",
    "        elif metric_name == \"outFrac\":\n",
    "            metric = outFr_array\n",
    "        fig, ax1 = help_funcs.plot_metric(metric, metric_label, approach, band_n, fig = fig, ax = ax1, label = this_label, linestyle = '--')\n",
    "        ax1.legend(ncol = ncols)\n",
    "    \n",
    "        # Look at relative difference\n",
    "        relative_diff = (metric[:-1] - og_metric[:-1]) / og_metric[:-1] # remove last value, which is always 0\n",
    "        #print(relative_diff)\n",
    "        ax2.plot(bins[:-1], relative_diff, linestyle = \":\")\n",
    "        ax2.set_ylabel(\"Rel diff\")\n",
    "        ax2.set_xlabel(\"z bins\")\n",
    "    \n",
    "    ax1.set_ylim(y_lims[0],y_lims[1])\n",
    "    ax1.set_xlim(0,1)\n",
    "    ax2.set_ylim(y_lims_rel[0],y_lims_rel[1])\n",
    "    ax2.set_xlim(0,1)\n",
    "    fig.savefig(metric_name + \"_\" + approach + \"_band_\" + str(band_n) + \"_rel_corr\" + \".png\")\n",
    "    fig.show()"
   ]
  },
  {
   "cell_type": "markdown",
   "metadata": {},
   "source": [
    "### Someday, do zero-point correction"
   ]
  },
  {
   "cell_type": "code",
   "execution_count": null,
   "metadata": {},
   "outputs": [],
   "source": [
    "for sel_ind in [0, 1, 2]:\n",
    "\n",
    "    # Should cover at least the extent of the true redshifts.\n",
    "    zgrid = np.arange(-0.1,0.8,0.01)\n",
    "\n",
    "    # Selection. SDSS galaxies above z>0.01.\n",
    "    sel = (label_test==sel_ind)#&(y_test>0.01) # Why did we have to get rid of this y_test part again?\n",
    "\n",
    "    # Value to reduce the likelihood ratio significance.\n",
    "    # Adjust higher for larger samples.\n",
    "    extra_cov = (7.)**2\n",
    "    # Integration steps to marginalize photometric noise.\n",
    "    Nintegral = 10\n",
    "    # Clip galaxies with crazy low likelihoods. Roughly number of sigmas.\n",
    "    cutoff = 5\n",
    "    # Steps of the MCMC.\n",
    "    Nchain = 100\n",
    "\n",
    "    # print(X_err[sel])\n",
    "    errors = X_err[sel].copy()\n",
    "    # Sometimes it's good to add more error.\n",
    "    # Our models will not be accurate up to S/N~1000\n",
    "    # errors = np.sqrt(errors**2 + 0.02**2)\n",
    "\n",
    "    # Step size of the proposal distribution.\n",
    "    step_size = 0.005\n",
    "\n",
    "    xchain, P = zeropoints.run_zp_chain(\n",
    "        preproc,\n",
    "        preproc_y,\n",
    "        model_train,\n",
    "        y_test[sel], \n",
    "        X_test[sel].copy(), \n",
    "        errors, \n",
    "        Nintegral,\n",
    "        Nchain,\n",
    "    #     method = \"exact\", # Exact likelihood\n",
    "        method = \"approximate\", # Approximate likelihood.\n",
    "        params_init = None,\n",
    "        #params_init = pinit,\n",
    "        cutoff = cutoff, \n",
    "        extra_cov = extra_cov,\n",
    "        step_size = step_size,\n",
    "        zgrid = zgrid,\n",
    "        D = D\n",
    "    )\n",
    "\n",
    "    xzero_corr = xchain[P.argmin()]\n",
    "    np.savetxt(save_mod + '_xzero_' + surveystring[sel_ind], xzero_corr)"
   ]
  }
 ],
 "metadata": {
  "anaconda-cloud": {},
  "kernelspec": {
   "display_name": "ML_env",
   "language": "python",
   "name": "ml_env"
  },
  "language_info": {
   "codemirror_mode": {
    "name": "ipython",
    "version": 3
   },
   "file_extension": ".py",
   "mimetype": "text/x-python",
   "name": "python",
   "nbconvert_exporter": "python",
   "pygments_lexer": "ipython3",
   "version": "3.7.9"
  }
 },
 "nbformat": 4,
 "nbformat_minor": 4
}
