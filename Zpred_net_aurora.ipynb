{
 "cells": [
  {
   "cell_type": "code",
   "execution_count": null,
   "metadata": {
    "tags": []
   },
   "outputs": [],
   "source": [
    "import numpy as np\n",
    "import copy\n",
    "import matplotlib.pylab as plt\n",
    "import pickle # helps save and load some complicated objects (aka data structures)\n",
    "from sklearn.pipeline import Pipeline # These both help with rescaling your data (which must be done every time)\n",
    "from sklearn.preprocessing import StandardScaler, MinMaxScaler\n",
    "import tensorflow as tf # Some folks use pytorch instead\n",
    "from tensorflow.keras.models import Model\n",
    "np.random.seed(12211)  "
   ]
  },
  {
   "cell_type": "code",
   "execution_count": 1,
   "metadata": {},
   "outputs": [],
   "source": [
    "num_train = 200000 # Training comes from synthetic dataset\n",
    "num_test = 20000   # Testing is applied to actual observations\n",
    "Trainset = ['FSPSlin', 'FSPSlog', 'FSPSall', 'OBS', 'UM', 'BP', 'UMnew'][6]#6\n",
    "Testset = ['FSPSlin', 'FSPSlog', 'FSPSall', 'OBS', 'UM', 'BP', 'UMnew'][3]\n",
    "surveystring = ['Primus', 'Vipers', 'SDSS', 'DEEP2', 'Wiggle-z'] # 5 types of observations\n",
    "\n",
    "n_epochs = 2000 #20 # How long the training goes on (1 epoch = entire neural network goes through entire training data once)\n",
    "D = 5 # Dimensions of inputs\n",
    "K = 3 # Number of \"components\"\n",
    "      # aka dimensions of outputs divided by 3 (there are actually 9 output parameters per galaxy)\n",
    "learning_rate = 1e-5 # determines how fast the weights or the coefficients of the network are updated. # Is this like step size?\n",
    "decay_rate= 1e-3 # like \"friction\" -- so that weights don't just increase/decrease monotonically (right ?)\n",
    "batch_size = 1024 # number of training examples passed through the network at once\n",
    "save_mod = 'saved_hubs/tf2models/'+'Train_'+Trainset+'_lr_'+str(learning_rate)+'_dr'+str(decay_rate)+'_ne'+str(n_epochs)+'_k'+str(K)+'_nt'+str(num_train)"
   ]
  },
  {
   "cell_type": "code",
   "execution_count": 2,
   "metadata": {},
   "outputs": [],
   "source": [
    "def load_trained_models(save_mod): # save_mod includes the three files that we specified as part of our architecture, above\n",
    "    # Training has already taken place, this is loading in all the weights (at the nodes in hidden layers) that you found via training\n",
    "    # Prepare to match the incoming data to the rescaling that we did during training\n",
    "    \n",
    "    ## load rescaling routines for colors/magnitude\n",
    "    preproc = Pipeline([('stdscaler', StandardScaler())]) # Preproc = preprocessing, these are the \"transforms\" later\n",
    "        # Pipeline of transforms with a final estimator. Sequentially apply a list of transforms and a final estimator.\n",
    "    scalerfile = save_mod + '_scaling_X' # This is just a way to organize the names\n",
    "    preproc = pickle.load(open(scalerfile, 'rb')) # Okay, not sure what's going on around this area (throwing an error rn)\n",
    "    \n",
    "    ## load rescaling routine for redshift                # What exactly is a rescaling routine?\n",
    "        # Rescaling is when you change your parameters to fall within a specific range\n",
    "        # For instance, in standard rescaling, x' = (x - mu)/sigma where mu = mean(X) and sigma = stddev(X)\n",
    "    preproc_y = Pipeline([('stdscaler', MinMaxScaler())]) # These are the \"transforms\" later\n",
    "    scalerfile = save_mod + '_scaling_y'\n",
    "    preproc_y = pickle.load(open(scalerfile, 'rb')) # Does y = redshift?\n",
    "        # x' = (x - x_min)/(x_max - x_min)\n",
    "\n",
    "    ## Mixed density network            # See figure 2\n",
    "        # combines a conventional neural network with a mixture density model to predict the conditional probability in Equation 1\n",
    "        # Where is loss function in this? We are using a generic negative log likelihood function instead of an MSE loss function\n",
    "    non_lin_act = tf.nn.relu #tf.nn.tanh\n",
    "        # ReLU is a type of non-linear activation function\n",
    "    y_true = tf.keras.Input(shape=(1,))\n",
    "    inputs = tf.keras.Input(shape=(D,))\n",
    "    layer_1 = tf.keras.layers.Dense(units=512, activation=non_lin_act)(inputs) \n",
    "    layer_1a = tf.keras.layers.Dense(units=1024, activation=non_lin_act)(layer_1) # Notice how \"inputs\" are always the previous line\n",
    "    layer_1b = tf.keras.layers.Dense(units=2048, activation=non_lin_act)(layer_1a) # Number of nodes gets wide, then narrow again\n",
    "    layer_1c = tf.keras.layers.Dense(units=1024, activation=non_lin_act)(layer_1b)\n",
    "    layer_2 = tf.keras.layers.Dense(units=512, activation=non_lin_act)(layer_1c)\n",
    "    layer_3 = tf.keras.layers.Dense(units=256, activation=non_lin_act)(layer_2)\n",
    "    layer_4 = tf.keras.layers.Dense(units=128, activation=non_lin_act)(layer_3)\n",
    "    layer_5 = tf.keras.layers.Dense(units=64, activation=non_lin_act)(layer_4)\n",
    "    layer_6 = tf.keras.layers.Dense(units=32, activation=non_lin_act)(layer_5) # Last layer has only 32 nodes, no activation function\n",
    "    mu = tf.keras.layers.Dense(units=K, activation=None, name=\"mu\")(layer_6)                                     # This is 3 outputs\n",
    "    var = tf.keras.backend.exp(tf.keras.layers.Dense(units=K, activation=tf.nn.softplus, name=\"sigma\")(layer_6)) # This is 3 outputs\n",
    "    pi = tf.keras.layers.Dense(units=K, activation=tf.nn.softmax, name=\"mixing\")(layer_6)                        # This is 3 outputs\n",
    "    model_train = Model([inputs, y_true], [mu, var, pi], name='mdn')\n",
    "    \n",
    "    # load network weights\n",
    "    model_train.load_weights(save_mod + '.h5')\n",
    "    \n",
    "    # Output is actually P(z|c), but we can't compare to that so we output a single z (I guess?)\n",
    "    return preproc, preproc_y, model_train # Returns rescaling for inputs, rescaling for outputsd, the actual neural network itself"
   ]
  },
  {
   "cell_type": "code",
   "execution_count": 3,
   "metadata": {},
   "outputs": [],
   "source": [
    "def minmax_cutsOBSarr(X, y, l): # Training set has some limits -- make sure we stay within those\n",
    "    mask_cond =  np.where( \n",
    "        (X[:, 0] < max_col[0]) & (X[:, 0] > min_col[0]) &\n",
    "        (X[:, 1] < max_col[1]) & (X[:, 1] > min_col[1]) &\n",
    "        (X[:, 2] < max_col[2]) & (X[:, 2] > min_col[2]) &\n",
    "        (X[:, 3] < max_col[3]) & (X[:, 3] > min_col[3]) & \n",
    "        (X[:, 4] < max_mag) & (X[:, 4] > min_mag) &\n",
    "        (y < max_z) & (y > min_z) )\n",
    "    X_new = X[mask_cond]\n",
    "    y_new = y[mask_cond]\n",
    "    l_new = l[mask_cond]\n",
    "    return X_new, y_new, l_new, mask_cond"
   ]
  },
  {
   "cell_type": "code",
   "execution_count": 4,
   "metadata": {},
   "outputs": [],
   "source": [
    "def print_limits(X, y): # Just write the mins and maxs, range of redshift, etc.\n",
    "    print(10*'-')\n",
    "    print('number of datapoints: ', str(y.shape[0]))\n",
    "    print('z-minmax: ', y.min(), y.max())\n",
    "    print('ColMag-min: ', np.min(X, axis=0)) # If color/magnitude min is probably of a star, cut it off\n",
    "    print('ColMag-max: ', np.max(X, axis=0))\n",
    "    print(10*'-')"
   ]
  },
  {
   "cell_type": "code",
   "execution_count": 5,
   "metadata": {},
   "outputs": [],
   "source": [
    "def loadTrainTest(dirIn = '../../Data/fromGalaxev/photozs/datasets/data_may_2020/'): # Loading color and redshift info\n",
    "    # Actually about implementing the testing!\n",
    "    \n",
    "    test_data = np.load(dirIn + 'test_' + Testset +'.npy') \n",
    "\n",
    "    X_test = test_data[: , :-1]\n",
    "    y_test = test_data[: , -1]\n",
    "\n",
    "    print_limits(X_test, y_test) # prints number of datasets being tested, the redshift mins and maxes, and the color/magnitude mins/maxes\n",
    "\n",
    "    if Testset == 'OBS':\n",
    "        test_labels = np.load(dirIn + 'test_' + Testset + '_label.npy') \n",
    "\n",
    "    return _, _, X_test, y_test, test_labels # Why are there two blanks?"
   ]
  },
  {
   "cell_type": "code",
   "execution_count": 6,
   "metadata": {},
   "outputs": [],
   "source": [
    "# Perturb individual inputs (10% is a lot, btw)\n",
    "def perturb(X_test, band_n, delta_c = 1.1, approach_a = True):\n",
    "    \n",
    "    prtb_X_test = copy.deepcopy(X_test)\n",
    "\n",
    "    if approach_a:\n",
    "        prtb_X_test[:,band_n] = prtb_X_test[:,band_n]*delta_c # Increases everything by 10%\n",
    "    else:\n",
    "        np.random.seed(10) # Try multiple seeds\n",
    "        #print(np.random.shuffle(prtb_X_test[:, band_n]))\n",
    "        np.random.shuffle(prtb_X_test[:, band_n])\n",
    "\n",
    "    # Quantify the results (i.e. mean squared error) -- Nesar will send some things\n",
    "    return prtb_X_test"
   ]
  },
  {
   "cell_type": "code",
   "execution_count": 7,
   "metadata": {},
   "outputs": [],
   "source": [
    "def predict(X_test):\n",
    "    X_test = preproc.transform(X_test)\n",
    "    y_pred = np.array(model_train(X_test))\n",
    "    model_train(X_test[10:15])\n",
    "    y_pred_arg = np.argmax(y_pred[2, :, :], axis = 1)\n",
    "    y_pred_mean = y_pred[0, :, :][:, y_pred_arg][:, 0]\n",
    "    y_pred_std = np.sqrt(np.log(y_pred[1, :, :][:, y_pred_arg][:, 0]))\n",
    "    return y_pred_mean, y_pred_std"
   ]
  },
  {
   "cell_type": "code",
   "execution_count": 8,
   "metadata": {},
   "outputs": [],
   "source": [
    "def plot_side_by_sides(y_test, preproc_y, y_pred_means, y_pred_stds, labels): # Assume the last two inputs are lists of equal length\n",
    "    \n",
    "    #plt.figure(figsize=(10, 10))\n",
    "    fig, axs = plt.subplots(1,len(y_pred_means), figsize=(10,7.5))\n",
    "    for i, ax in enumerate(axs):\n",
    "        ax.errorbar(y_test, preproc_y.inverse_transform(y_pred_means[i].reshape(-1, 1))[:, 0], # Inverse transform KNOWS what you did to get preproc_y :P\n",
    "                 yerr= preproc_y.inverse_transform(y_pred_stds[i].reshape(-1, 1) )[:, 0], \n",
    "                 fmt='ro', ecolor='k', ms = 5, alpha = 0.1, label = labels[i])\n",
    "        C = 0.05\n",
    "        z_t = np.array([0, 1])\n",
    "        z_tp = z_t + C*(1+z_t) # photo z's (predictions)\n",
    "        z_tm = z_t - C*(1+z_t) # spectroscopic z's (trues)\n",
    "\n",
    "        ax.plot(z_t, z_t, 'k')\n",
    "        ax.plot(z_t, z_tp, 'k-.')\n",
    "        ax.plot(z_t, z_tm, 'k-.')\n",
    "        ax.set_ylabel(r'$z_{phot}$', fontsize=25)\n",
    "        ax.set_xlabel(r'$z_{spec}$', fontsize=25)\n",
    "        #plt.axes().set_aspect('equal')\n",
    "        leg = ax.legend(fontsize = 'xx-large', markerscale=1., numpoints=2)\n",
    "    plt.tight_layout()\n",
    "    return fig, axs"
   ]
  },
  {
   "cell_type": "markdown",
   "metadata": {},
   "source": [
    "## Perturb Inputs"
   ]
  },
  {
   "cell_type": "code",
   "execution_count": 9,
   "metadata": {
    "tags": []
   },
   "outputs": [
    {
     "ename": "NameError",
     "evalue": "name 'np' is not defined",
     "output_type": "error",
     "traceback": [
      "\u001b[0;31m---------------------------------------------------------------------------\u001b[0m",
      "\u001b[0;31mNameError\u001b[0m                                 Traceback (most recent call last)",
      "\u001b[0;32m<ipython-input-9-bfe6bf0d46c2>\u001b[0m in \u001b[0;36m<module>\u001b[0;34m\u001b[0m\n\u001b[1;32m      1\u001b[0m \u001b[0;31m## Loading color, redshift information from different surveys\u001b[0m\u001b[0;34m\u001b[0m\u001b[0;34m\u001b[0m\u001b[0;34m\u001b[0m\u001b[0m\n\u001b[0;32m----> 2\u001b[0;31m \u001b[0m_\u001b[0m\u001b[0;34m,\u001b[0m \u001b[0m_\u001b[0m\u001b[0;34m,\u001b[0m \u001b[0mX_test\u001b[0m\u001b[0;34m,\u001b[0m \u001b[0my_test\u001b[0m\u001b[0;34m,\u001b[0m \u001b[0mlabel_test\u001b[0m \u001b[0;34m=\u001b[0m \u001b[0mloadTrainTest\u001b[0m\u001b[0;34m(\u001b[0m\u001b[0mdirIn\u001b[0m \u001b[0;34m=\u001b[0m \u001b[0;34m'Data/fromGalaxev/photozs/datasets/data_may_2020/'\u001b[0m\u001b[0;34m)\u001b[0m \u001b[0;31m# Labels of actual data (see \"surveystring\")\u001b[0m\u001b[0;34m\u001b[0m\u001b[0;34m\u001b[0m\u001b[0m\n\u001b[0m",
      "\u001b[0;32m<ipython-input-5-546868bcbdd2>\u001b[0m in \u001b[0;36mloadTrainTest\u001b[0;34m(dirIn)\u001b[0m\n\u001b[1;32m      2\u001b[0m     \u001b[0;31m# Actually about implementing the testing!\u001b[0m\u001b[0;34m\u001b[0m\u001b[0;34m\u001b[0m\u001b[0;34m\u001b[0m\u001b[0m\n\u001b[1;32m      3\u001b[0m \u001b[0;34m\u001b[0m\u001b[0m\n\u001b[0;32m----> 4\u001b[0;31m     \u001b[0mtest_data\u001b[0m \u001b[0;34m=\u001b[0m \u001b[0mnp\u001b[0m\u001b[0;34m.\u001b[0m\u001b[0mload\u001b[0m\u001b[0;34m(\u001b[0m\u001b[0mdirIn\u001b[0m \u001b[0;34m+\u001b[0m \u001b[0;34m'test_'\u001b[0m \u001b[0;34m+\u001b[0m \u001b[0mTestset\u001b[0m \u001b[0;34m+\u001b[0m\u001b[0;34m'.npy'\u001b[0m\u001b[0;34m)\u001b[0m\u001b[0;34m\u001b[0m\u001b[0;34m\u001b[0m\u001b[0m\n\u001b[0m\u001b[1;32m      5\u001b[0m \u001b[0;34m\u001b[0m\u001b[0m\n\u001b[1;32m      6\u001b[0m     \u001b[0mX_test\u001b[0m \u001b[0;34m=\u001b[0m \u001b[0mtest_data\u001b[0m\u001b[0;34m[\u001b[0m\u001b[0;34m:\u001b[0m \u001b[0;34m,\u001b[0m \u001b[0;34m:\u001b[0m\u001b[0;34m-\u001b[0m\u001b[0;36m1\u001b[0m\u001b[0;34m]\u001b[0m\u001b[0;34m\u001b[0m\u001b[0;34m\u001b[0m\u001b[0m\n",
      "\u001b[0;31mNameError\u001b[0m: name 'np' is not defined"
     ]
    }
   ],
   "source": [
    "## Loading color, redshift information from different surveys\n",
    "_, _, X_test, y_test, label_test = loadTrainTest(dirIn = 'Data/fromGalaxev/photozs/datasets/data_may_2020/') # Labels of actual data (see \"surveystring\")"
   ]
  },
  {
   "cell_type": "code",
   "execution_count": null,
   "metadata": {},
   "outputs": [],
   "source": [
    "## Removing galaxies outside the range of prediction scheme. \n",
    "min_col = [-0.09145837, -0.05327791, -0.02479261, -0.10519464] #-0.03 #-5\n",
    "max_col = [ 3.825315,   2.8303378,  1.6937237,  1.5019817] #3.4 #5\n",
    "min_mag = 12\n",
    "max_mag = 23\n",
    "min_z = 0.0 #np.min(y_train) \n",
    "max_z = 1.1 #np.max(y_train) \n",
    "\n",
    "X_test, y_test, label_test, mask_cond = minmax_cutsOBSarr(X_test, y_test, label_test) # This is where we throw out stars and outliers\n",
    "print(\"Size of features in test data: {}\".format(X_test.shape))\n",
    "print(\"Size of output in test data: {}\".format(y_test.shape))"
   ]
  },
  {
   "cell_type": "code",
   "execution_count": null,
   "metadata": {},
   "outputs": [],
   "source": [
    "## Loading trained models and rescaling routines\n",
    "preproc, preproc_y, model_train = load_trained_models(save_mod)"
   ]
  },
  {
   "cell_type": "code",
   "execution_count": 10,
   "metadata": {},
   "outputs": [
    {
     "ename": "NameError",
     "evalue": "name 'X_test' is not defined",
     "output_type": "error",
     "traceback": [
      "\u001b[0;31m---------------------------------------------------------------------------\u001b[0m",
      "\u001b[0;31mNameError\u001b[0m                                 Traceback (most recent call last)",
      "\u001b[0;32m<ipython-input-10-56128d9fc940>\u001b[0m in \u001b[0;36m<module>\u001b[0;34m\u001b[0m\n\u001b[1;32m      3\u001b[0m \u001b[0mdelta_c\u001b[0m \u001b[0;34m=\u001b[0m \u001b[0;36m1.2\u001b[0m\u001b[0;34m\u001b[0m\u001b[0;34m\u001b[0m\u001b[0m\n\u001b[1;32m      4\u001b[0m \u001b[0mapproach_a\u001b[0m \u001b[0;34m=\u001b[0m \u001b[0;32mTrue\u001b[0m\u001b[0;34m\u001b[0m\u001b[0;34m\u001b[0m\u001b[0m\n\u001b[0;32m----> 5\u001b[0;31m \u001b[0mprtb_X_test\u001b[0m \u001b[0;34m=\u001b[0m \u001b[0mperturb\u001b[0m\u001b[0;34m(\u001b[0m\u001b[0mX_test\u001b[0m\u001b[0;34m,\u001b[0m \u001b[0mband_n\u001b[0m\u001b[0;34m,\u001b[0m \u001b[0mdelta_c\u001b[0m \u001b[0;34m=\u001b[0m \u001b[0mdelta_c\u001b[0m\u001b[0;34m,\u001b[0m \u001b[0mapproach_a\u001b[0m \u001b[0;34m=\u001b[0m \u001b[0mapproach_a\u001b[0m\u001b[0;34m)\u001b[0m\u001b[0;34m\u001b[0m\u001b[0;34m\u001b[0m\u001b[0m\n\u001b[0m\u001b[1;32m      6\u001b[0m \u001b[0;34m\u001b[0m\u001b[0m\n\u001b[1;32m      7\u001b[0m \u001b[0;31m# Compare perturbed and unperturbed predictions (mean and std-dev)\u001b[0m\u001b[0;34m\u001b[0m\u001b[0;34m\u001b[0m\u001b[0;34m\u001b[0m\u001b[0m\n",
      "\u001b[0;31mNameError\u001b[0m: name 'X_test' is not defined"
     ]
    }
   ],
   "source": [
    "# Perturb one band\n",
    "band_n = 2\n",
    "delta_c = 1.2\n",
    "approach_a = True\n",
    "prtb_X_test = perturb(X_test, band_n, delta_c = delta_c, approach_a = approach_a)\n",
    "\n",
    "# Compare perturbed and unperturbed predictions (mean and std-dev)\n",
    "og_y_pred_mean, og_y_pred_std = predict(X_test)\n",
    "prtb_y_pred_mean, prtb_y_pred_std = predict(prtb_X_test)\n",
    "\n",
    "# Plot those comparisons\n",
    "labels = [\"original\", \"perturbed: \" + str(band_n)]\n",
    "fig, axs = plot_side_by_sides(y_test, preproc_y, [og_y_pred_mean, prtb_y_pred_mean], [og_y_pred_std, prtb_y_pred_std], labels)\n",
    "\n",
    "# Title and save\n",
    "fig.subplots_adjust(top=0.94)\n",
    "if approach_a:\n",
    "    fig.suptitle(\"Perturbed with \" + str(np.around((delta_c - 1)*100)) + \" percent increase\", fontsize = 16)\n",
    "    fig.savefig(\"a_compare_band_\" + str(band_n) + \"_deltac_\" + str(delta_c) + \".png\")\n",
    "else:\n",
    "    fig.suptitle(\"Perturbed with random numbers\", fontsize = 16)\n",
    "    fig.savefig(\"b_compare_band_\" + str(band_n) + \".png\")\n",
    "fig.show()"
   ]
  },
  {
   "cell_type": "markdown",
   "metadata": {},
   "source": [
    "## Next Things"
   ]
  },
  {
   "cell_type": "code",
   "execution_count": 14,
   "metadata": {},
   "outputs": [
    {
     "ename": "NameError",
     "evalue": "name 'y_pred_mean' is not defined",
     "output_type": "error",
     "traceback": [
      "\u001b[0;31m---------------------------------------------------------------------------\u001b[0m",
      "\u001b[0;31mNameError\u001b[0m                                 Traceback (most recent call last)",
      "\u001b[0;32m<ipython-input-14-fbc34d95b089>\u001b[0m in \u001b[0;36m<module>\u001b[0;34m\u001b[0m\n\u001b[1;32m      1\u001b[0m \u001b[0;31m## Plotting survey-based predictions. With a manually set offset\u001b[0m\u001b[0;34m\u001b[0m\u001b[0;34m\u001b[0m\u001b[0;34m\u001b[0m\u001b[0m\n\u001b[0;32m----> 2\u001b[0;31m \u001b[0my_pred_mean_best\u001b[0m \u001b[0;34m=\u001b[0m \u001b[0my_pred_mean\u001b[0m \u001b[0;31m# How do you know these are the best? And why didn't you call them that before?\u001b[0m\u001b[0;34m\u001b[0m\u001b[0;34m\u001b[0m\u001b[0m\n\u001b[0m\u001b[1;32m      3\u001b[0m \u001b[0m_pred_std_best\u001b[0m \u001b[0;34m=\u001b[0m \u001b[0my_pred_std\u001b[0m\u001b[0;34m\u001b[0m\u001b[0;34m\u001b[0m\u001b[0m\n\u001b[1;32m      4\u001b[0m \u001b[0;34m\u001b[0m\u001b[0m\n\u001b[1;32m      5\u001b[0m \u001b[0moffset\u001b[0m \u001b[0;34m=\u001b[0m \u001b[0;36m0.04\u001b[0m\u001b[0;34m\u001b[0m\u001b[0;34m\u001b[0m\u001b[0m\n",
      "\u001b[0;31mNameError\u001b[0m: name 'y_pred_mean' is not defined"
     ]
    }
   ],
   "source": [
    "## Plotting survey-based predictions. With a manually set offset \n",
    "y_pred_mean_best = y_pred_mean # How do you know these are the best? And why didn't you call them that before?\n",
    "_pred_std_best = y_pred_std\n",
    "\n",
    "offset = 0.04\n",
    "\n",
    "for label_ind in [0, 1, 2, 3, 4]:\n",
    "    plt.figure(22,figsize=(10, 10,)) \n",
    "    colorstring = ['b', 'r', 'g', 'k', 'orange']\n",
    "    surveyindx = np.where(label_test == label_ind)\n",
    "    \n",
    "    plt.errorbar(y_test[surveyindx], offset + preproc_y.inverse_transform(y_pred_mean_best.reshape(-1, 1))[surveyindx][:, 0],\n",
    "                 yerr= preproc_y.inverse_transform(y_pred_std_best.reshape(-1, 1))[surveyindx][:, 0],\n",
    "                 fmt = 'o', marker=None, ms = 4, alpha = 0.3, label = 'Training: Synthetic, Testing: '+surveystring[label_ind],\n",
    "                 c = colorstring[label_ind])\n",
    "\n",
    "    C = 0.05\n",
    "    z_t = np.array([0, 1])\n",
    "    z_tp = z_t + C*(1+z_t)\n",
    "    z_tm = z_t - C*(1+z_t)\n",
    "    plt.plot(z_t, z_t, 'k')\n",
    "    plt.plot(z_t, z_tp, 'k-.')\n",
    "    plt.plot(z_t, z_tm, 'k-.')\n",
    "\n",
    "    plt.ylabel(r'$z_{phot}$', fontsize=25)\n",
    "    plt.xlabel(r'$z_{spec}$', fontsize=25)\n",
    "    plt.xlim(0.0, 1)\n",
    "    plt.ylim(0.0, 1)\n",
    "    plt.tight_layout()\n",
    "    plt.axes().set_aspect('equal')\n",
    "    leg = plt.legend(fontsize = 'xx-large', markerscale=1., numpoints=2)\n",
    "\n",
    "plt.show()"
   ]
  },
  {
   "cell_type": "code",
   "execution_count": null,
   "metadata": {},
   "outputs": [],
   "source": []
  },
  {
   "cell_type": "markdown",
   "metadata": {},
   "source": [
    "## Old-ish stuff"
   ]
  },
  {
   "cell_type": "code",
   "execution_count": 185,
   "metadata": {},
   "outputs": [
    {
     "name": "stdout",
     "output_type": "stream",
     "text": [
      "(3765, 5)\n",
      "(3765,)\n"
     ]
    },
    {
     "data": {
      "text/plain": [
       "(3765,)"
      ]
     },
     "execution_count": 185,
     "metadata": {},
     "output_type": "execute_result"
    }
   ],
   "source": [
    "print(X_test.shape) # Colors\n",
    "print(label_test.shape)\n",
    "y_test.shape # Redshifts"
   ]
  },
  {
   "cell_type": "code",
   "execution_count": 186,
   "metadata": {},
   "outputs": [
    {
     "data": {
      "text/plain": [
       "<matplotlib.legend.Legend at 0x7fe33c66ffd0>"
      ]
     },
     "execution_count": 186,
     "metadata": {},
     "output_type": "execute_result"
    },
    {
     "data": {
      "image/png": "[encoded data removed]",
      "text/plain": [
       "<Figure size 432x288 with 1 Axes>"
      ]
     },
     "metadata": {
      "needs_background": "light"
     },
     "output_type": "display_data"
    }
   ],
   "source": [
    "plt.scatter(X_test[:,0], X_test[:,1], c = label_test, label = label_test) # Check other components, against y...\n",
    "plt.legend()"
   ]
  },
  {
   "cell_type": "code",
   "execution_count": null,
   "metadata": {},
   "outputs": [],
   "source": []
  }
 ],
 "metadata": {
  "anaconda-cloud": {},
  "kernelspec": {
   "display_name": "Python 3",
   "language": "python",
   "name": "python3"
  },
  "language_info": {
   "codemirror_mode": {
    "name": "ipython",
    "version": 3
   },
   "file_extension": ".py",
   "mimetype": "text/x-python",
   "name": "python",
   "nbconvert_exporter": "python",
   "pygments_lexer": "ipython3",
   "version": "3.8.3"
  }
 },
 "nbformat": 4,
 "nbformat_minor": 4
}
