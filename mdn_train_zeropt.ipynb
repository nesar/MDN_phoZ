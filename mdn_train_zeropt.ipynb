{
 "cells": [
  {
   "cell_type": "code",
   "execution_count": 1,
   "metadata": {
    "tags": []
   },
   "outputs": [],
   "source": [
    "import numpy as np\n",
    "import matplotlib.pylab as plt\n",
    "\n",
    "import tensorflow as tf\n",
    "import tensorflow.keras as keras\n",
    "import tensorflow_probability as tfp\n",
    "tfd = tfp.distributions\n",
    "from tensorflow.keras.callbacks import ModelCheckpoint, EarlyStopping, Callback\n",
    "from tensorflow.keras.models import load_model, Sequential, Model\n",
    "\n",
    "# Activate TF2 behavior:\n",
    "from tensorflow.python import tf2\n",
    "if not tf2.enabled():\n",
    "    import tensorflow.compat.v2 as tf\n",
    "    tf.enable_v2_behavior()\n",
    "    assert tf2.enabled()\n",
    "\n",
    "np.random.seed(12211)\n",
    "\n",
    "%load_ext line_profiler\n",
    "%reload_ext autoreload\n",
    "%autoreload 1\n",
    "%aimport help_train\n",
    "%aimport help_funcs\n",
    "#import help_funcs_zeropt as help_funcs\n",
    "#import help_train_zeropt as help_train # Wait, when did we start doing this instead of the line profiler?\n",
    "import zeropoints_new as zeropoints\n",
    "import SetPub\n",
    "SetPub.set_pub()"
   ]
  },
  {
   "cell_type": "code",
   "execution_count": 2,
   "metadata": {},
   "outputs": [],
   "source": [
    "train_mode = True # False if you don't want to train again"
   ]
  },
  {
   "cell_type": "code",
   "execution_count": 3,
   "metadata": {},
   "outputs": [],
   "source": [
    "num_train = 200000 # 10000, 4000 # Max: 200000 \n",
    "num_test = 20000 # 1000 # Max: 20000"
   ]
  },
  {
   "cell_type": "code",
   "execution_count": 4,
   "metadata": {},
   "outputs": [],
   "source": [
    "Trainset = ['FSPSlin', 'FSPSlog', 'FSPSall', 'OBS', 'UM', 'BP', 'UMnew'][6] # Soon there will be more!\n",
    "# Testset = ['FSPSlin', 'FSPSlog', 'FSPSall', 'OBS', 'UM', 'BP', 'UMnew'][3]\n",
    "Testset = ['FSPSlin', 'FSPSlog', 'FSPSall', 'OBS', 'UM', 'BP', 'UMnew', 'OBSuq'][7] # Test on the same things we tested before (SDSS)\n",
    "surveystring = ['SDSS', 'VIPERS', 'DEEP2', 'PRIMUS']"
   ]
  },
  {
   "cell_type": "code",
   "execution_count": 5,
   "metadata": {},
   "outputs": [
    {
     "name": "stdout",
     "output_type": "stream",
     "text": [
      "Training on sim:  des\n",
      "X training data shape:  (2000000, 5)\n",
      "y training data shape:  (2000000,)\n",
      "Training on sim:  irac\n",
      "X training data shape:  (2000000, 4)\n",
      "y training data shape:  (2000000,)\n",
      "Xtrain 1 and 2:\n",
      "[[1.766e-01 1.153e-01 1.368e-01 7.035e-02 2.579e+01]\n",
      " [6.207e-01 2.892e-01 2.173e-01 8.828e-02 1.653e+01]\n",
      " [4.789e-01 2.422e-01 3.216e-01 1.125e-01 2.346e+01]\n",
      " ...\n",
      " [2.705e-01 5.075e-01 5.449e-01 5.476e-02 2.464e+01]\n",
      " [4.847e-01 5.370e-01 1.171e-01 6.816e-02 2.390e+01]\n",
      " [2.528e-01 6.319e-01 1.756e-01 2.398e-02 2.369e+01]]\n",
      "[[ 0.062 -0.226 -0.563 24.024]\n",
      " [-0.493 -0.456 -0.55  16.035]\n",
      " [ 0.108 -0.042 -0.475 20.483]\n",
      " ...\n",
      " [-0.286 -0.426 -0.459 22.95 ]\n",
      " [-0.448 -0.29  -0.611 22.409]\n",
      " [-0.396 -0.319 -0.543 22.225]]\n",
      "Xtrain subsamples 1 and 2:\n",
      "[[ 0.177  0.115  0.137 25.794]\n",
      " [ 0.621  0.289  0.217 16.527]\n",
      " [ 0.479  0.242  0.322 23.455]\n",
      " ...\n",
      " [ 0.27   0.508  0.545 24.643]\n",
      " [ 0.485  0.537  0.117 23.904]\n",
      " [ 0.253  0.632  0.176 23.69 ]]\n",
      "[[ 0.062 24.024]\n",
      " [-0.493 16.035]\n",
      " [ 0.108 20.483]\n",
      " ...\n",
      " [-0.286 22.95 ]\n",
      " [-0.448 22.409]\n",
      " [-0.396 22.225]]\n",
      "Making a new band\n",
      "[[1.77 ]\n",
      " [0.492]\n",
      " [2.973]\n",
      " ...\n",
      " [1.693]\n",
      " [1.495]\n",
      " [1.465]]\n",
      "Xtrain total\n",
      "[[ 0.177  0.115  0.137 ...  0.062 24.024  1.77 ]\n",
      " [ 0.621  0.289  0.217 ... -0.493 16.035  0.492]\n",
      " [ 0.479  0.242  0.322 ...  0.108 20.483  2.973]\n",
      " ...\n",
      " [ 0.27   0.508  0.545 ... -0.286 22.95   1.693]\n",
      " [ 0.485  0.537  0.117 ... -0.448 22.409  1.495]\n",
      " [ 0.253  0.632  0.176 ... -0.396 22.225  1.465]]\n",
      "[1.745 0.019 1.949 ... 1.09  0.722 0.868]\n",
      "Testing on Lindsey's data\n",
      "Xtest:\n",
      " [[ 3.995  0.838  0.514 27.495  0.     0.   ]\n",
      " [ 0.525  0.214 -0.338 24.105  0.     0.   ]\n",
      " [-0.102 -0.063  0.378 23.343  0.     0.   ]\n",
      " ...\n",
      " [ 1.375 -0.074  1.138 25.5   -0.407 23.403]\n",
      " [ 0.476 -0.22   0.362 23.258  0.223 24.521]\n",
      " [ 1.304 -1.18   1.847 23.345 -0.201 21.261]]\n",
      "ytest:\n",
      " [0.    0.    0.    ... 0.371 0.09  0.428]\n"
     ]
    }
   ],
   "source": [
    "# one dictionary for each sim\n",
    "# contains names of bands and the number (index) associated with them?\n",
    "# is that a dictionary of dictionaries?\n",
    "# 'des', 'irac', 'jwst', 'lsst', 'pau', 'sdss', 'spherex', wise'\n",
    "des_bands = {'g-r': 0, 'r-i': 1, 'i-z': 2, 'z-y': 3, 'mag(g)': 4} # or is it mag(i)?\n",
    "irac_bands = {'I2-I1': 0, 'I3-I2': 1, 'I4-I3': 2, 'mag(I1)': 3}\n",
    "wise_bands = {'w2-w1': 0, 'w3-w2': 1, 'w4-w3': 2, 'mag(w1)': 3}\n",
    "\n",
    "use_lindseys_data = True\n",
    "if use_lindseys_data:\n",
    "    D = 5\n",
    "    D2 = 4\n",
    "    sim1 = 'des'\n",
    "    sim2 = 'irac'\n",
    "    \n",
    "    # Load training data\n",
    "    train_dirIn = '/data/a/cpac/nramachandra/Projects/phoZ/Synthetic_Data/fsps_wrapper/notebooks/out/rand_z/'\n",
    "    X_train1, y_train1, X_test1, y_test1 = help_train.loadTrainTest_custom_randz(Testset, sim1, train_dirIn, nbands = D, frac_train = 0.5)\n",
    "    X_train2, y_train2, X_test2, y_test2 = help_train.loadTrainTest_custom_randz(Testset, sim2, train_dirIn, nbands = D2, frac_train = 0.5)\n",
    "    print(\"Xtrain 1 and 2:\")\n",
    "    print(X_train1)\n",
    "    print(X_train2)\n",
    "    \n",
    "    X_train1_subsample = np.delete(X_train1, des_bands['z-y'], axis = 1)\n",
    "    X_train2_subsample = np.delete(X_train2, [irac_bands['I3-I2'], irac_bands['I4-I3']], axis = 1)\n",
    "    print(\"Xtrain subsamples 1 and 2:\")\n",
    "    print(X_train1_subsample)\n",
    "    print(X_train2_subsample)\n",
    "    \n",
    "    print(\"Making a new band\")\n",
    "    new_band = np.array([X_train1_subsample[:,-1] - X_train2_subsample[:,-1]]).T\n",
    "    print(new_band)\n",
    "    \n",
    "    # Clean up dictionary and dimensions\n",
    "    # (How to make this actually fix the dictionary?)\n",
    "    del des_bands['z-y']\n",
    "    del irac_bands['I3-I2']\n",
    "    del irac_bands['I4-I3']\n",
    "    D = len(list(des_bands))\n",
    "    D2 = len(list(irac_bands))\n",
    "    D_tot = D + D2\n",
    "    \n",
    "    X_train = np.concatenate((X_train1_subsample, X_train2_subsample, new_band), axis = 1)\n",
    "    print(\"Xtrain total\")\n",
    "    print(X_train)\n",
    "    y_train = np.concatenate((y_train1, y_train2))\n",
    "    print(y_train)\n",
    "    \n",
    "    # Load testing data\n",
    "    print(\"Testing on Lindsey's data\")\n",
    "    X_test = np.load('/data/a/cpac/nramachandra/Projects/phoZ/SurveyTrain/TestingDataLindsey/magi_selected_des_irac.npy')\n",
    "    y_test = np.load('/data/a/cpac/nramachandra/Projects/phoZ/SurveyTrain/TestingDataLindsey/magi_selected_des_irac_z.npy')\n",
    "    print(\"Xtest:\\n\", X_test)\n",
    "    print(\"ytest:\\n\", y_test)\n",
    "\n",
    "else:\n",
    "    combine = True\n",
    "    if combine:\n",
    "        D = 4\n",
    "        sim1 = 'wise' # 'des', 'irac', 'jwst', 'lsst', 'pau', 'sdss', 'spherex', wise'\n",
    "        sim2 = 'des'\n",
    "        #train_dirIn = '/data/a/cpac/nramachandra/Projects/phoZ/Synthetic_Data/fsps_wrapper/notebooks/out/'\n",
    "        train_dirIn = '/data/a/cpac/nramachandra/Projects/phoZ/Synthetic_Data/fsps_wrapper/notebooks/out/rand_z/'\n",
    "        X_train1, y_train1, X_test1, y_test1 = help_train.loadTrainTest_custom_randz(Testset, sim1, train_dirIn, nbands = D, frac_train = 0.5)\n",
    "        X_train2, y_train2, X_test2, y_test2 = help_train.loadTrainTest_custom_randz(Testset, sim2, train_dirIn, nbands = D, frac_train = 0.5)\n",
    "        X_train = np.concatenate((X_train1, X_train2), axis = 1)\n",
    "        print(\"Xtrain:\\n\", X_train)\n",
    "        y_train = np.concatenate((y_train1, y_train2))\n",
    "        X_test = np.concatenate((X_test1, X_test2), axis = 1)\n",
    "        #print(np.array_equal(y_test1, y_test2))\n",
    "        y_test = y_test1 # They should both be identical\n",
    "    else:\n",
    "        D = 4\n",
    "        sim = 'wise' # 'des', 'irac', 'jwst', 'lsst', 'pau', 'sdss', 'spherex', wise'\n",
    "        #train_dirIn = '/data/a/cpac/nramachandra/Projects/phoZ/Synthetic_Data/fsps_wrapper/notebooks/out/'\n",
    "        train_dirIn = '/data/a/cpac/nramachandra/Projects/phoZ/Synthetic_Data/fsps_wrapper/notebooks/out/rand_z/'\n",
    "        test_dirIn = '/data/a/cpac/aurora/MDN_phoZ/Data/fromGalaxev/photozs/datasets/data_feb_2021/'\n",
    "        X_train, y_train, X_test, y_test = help_train.loadTrainTest_custom_randz(Testset, sim, train_dirIn, nbands = D, frac_train = 0.5)\n",
    "        #X_train, y_train, X_test, y_test = help_train.loadTrainTest_custom_randz(Testset, sim, train_dirIn, frac_train = 0.5) # Need X_err and test_labels\n",
    "    D = X_train.shape[1]\n",
    "    print(D)"
   ]
  },
  {
   "cell_type": "code",
   "execution_count": 6,
   "metadata": {},
   "outputs": [],
   "source": [
    "# Hyperparameters\n",
    "prtb = False\n",
    "if prtb:\n",
    "    D = D - 1 #6  # number of features (in input space)\n",
    "    K = 3 #16 # number of mixture components # a \"component\" of a GMM is one gaussian, right?\n",
    "else:\n",
    "    D = D #5\n",
    "    K = 3\n",
    "    \n",
    "n_epochs = 20 # 100\n",
    "learning_rate = 1e-4\n",
    "decay_rate= 1e-2\n",
    "batch_size = 256\n",
    "\n",
    "# Here we define hyperparameters!\n",
    "save_mod = '/data/a/cpac/aurora/MDN_phoZ/saved_hubs/tf2models/'+'Train_'+Trainset+'_lr_'+str(learning_rate)+'_dr'+str(decay_rate)+'_ne'+str(n_epochs)+'_k'+str(K)+'_nt'+str(num_train)"
   ]
  },
  {
   "cell_type": "code",
   "execution_count": 7,
   "metadata": {},
   "outputs": [],
   "source": [
    "# Old version\n",
    "#train_dirIn = '/data/a/cpac/nramachandra/Projects/phoZ/Data/fromGalaxev/photozs/datasets/data_july_2020/'\n",
    "#test_dirIn = '/data/a/cpac/aurora/MDN_phoZ/Data/fromGalaxev/photozs/datasets/data_feb_2021/'\n",
    "#X_train, y_train, _, _ = help_train.loadTrainTest_july(train_dirIn)\n",
    "#X_test, y_test, X_err, label_test = help_train.loadTest(Testset, dirIn = test_dirIn) # data_feb_2021"
   ]
  },
  {
   "cell_type": "code",
   "execution_count": 8,
   "metadata": {},
   "outputs": [],
   "source": [
    "X_train, y_train, X_trainShuffleOrder = help_train.shuffle(X_train, y_train) # literally just shuffle the data\n",
    "# X_test, y_test, label_test, X_testShuffleOrder = shuffleOBS(X_test, y_test, test_labels) # Why aren't we doing this?"
   ]
  },
  {
   "cell_type": "code",
   "execution_count": 9,
   "metadata": {},
   "outputs": [],
   "source": [
    "minmax = False\n",
    "if minmax == True:\n",
    "    min_col = [-0.09145837, -0.05327791, -0.02479261, -0.10519464] #-0.03 #-5 # Same as what we got from print_limits\n",
    "    max_col = [ 3.825315,  2.8303378,  1.6937237,  1.5019817] #3.4 #5\n",
    "    min_mag = 12\n",
    "    max_mag = 23\n",
    "    min_z = 0.0 #np.min(y_train)\n",
    "    max_z = 1.1 #np.max(y_train)\n",
    "\n",
    "    mins_and_maxs = [min_col, max_col, min_mag, max_mag, min_z, max_z]\n",
    "\n",
    "    X_test, y_test, mask_cond = help_train.minmax_cuts(X_test, y_test, mins_and_maxs) # This is where label_test should eventually crop up\n",
    "\n",
    "    #X_test, X_err, y_test, label_test, mask_cond = help_train.minmax_cutsOBSarr(X_test, X_err, y_test, label_test, mins_and_maxs) # Make sure all our data falls within the desired range (and bins)"
   ]
  },
  {
   "cell_type": "code",
   "execution_count": 10,
   "metadata": {},
   "outputs": [],
   "source": [
    "if prtb:\n",
    "    band_n = 0 # remove the u band\n",
    "    approach = 'e'\n",
    "    X_train = help_funcs.perturb(X_train, band_n, approach = approach)\n",
    "    X_test = help_funcs.perturb(X_test, band_n, approach = approach)\n",
    "    X_err = help_funcs.perturb(X_err, band_n, approach = approach)\n",
    "    suffix = '_perturbed'\n",
    "#     X_train = prtb_X_train\n",
    "#     X_test = prtb_X_test\n",
    "#     X_err = prtb_X_err\n",
    "else:\n",
    "    suffix = \"\"\n",
    "#     X_train = X_train\n",
    "#     X_test = X_test\n",
    "#     X_err = X_err"
   ]
  },
  {
   "cell_type": "code",
   "execution_count": 11,
   "metadata": {
    "tags": []
   },
   "outputs": [],
   "source": [
    "# Notice, this cell is recursive. (If you run it multiple times, the resulting plot will change)\n",
    "resampleTrain = False\n",
    "n_bins = 200 \n",
    "select_per_bin = 400 # 500, 50\n",
    "\n",
    "if resampleTrain:\n",
    "    X_train, y_train, resampled_ind = help_train.resample(X_train, y_train, n_bins, select_per_bin) # What is \"rest\"? And where did the original data go?"
   ]
  },
  {
   "cell_type": "code",
   "execution_count": 12,
   "metadata": {
    "tags": []
   },
   "outputs": [
    {
     "name": "stdout",
     "output_type": "stream",
     "text": [
      "Size of features in training data: (1000000, 7)\n",
      "Size of output in training data: (1000000,)\n",
      "Size of features in test data: (487251, 6)\n",
      "Size of output in test data: (487251,)\n"
     ]
    }
   ],
   "source": [
    "print(\"Size of features in training data: {}\".format(X_train.shape)) # what do we mean features?\n",
    "print(\"Size of output in training data: {}\".format(y_train.shape))\n",
    "print(\"Size of features in test data: {}\".format(X_test.shape))\n",
    "print(\"Size of output in test data: {}\".format(y_test.shape))"
   ]
  },
  {
   "cell_type": "code",
   "execution_count": 16,
   "metadata": {},
   "outputs": [],
   "source": [
    "# Previously, we said \"this notebook doesn't train models, it deploys them\"\n",
    "# Now, we are training models\n",
    "\n",
    "from sklearn.pipeline import Pipeline\n",
    "from sklearn.preprocessing import StandardScaler, MinMaxScaler\n",
    "import pickle\n",
    "\n",
    "# This preproc stuff is related to \"scaling routine\" -- right? Yes :)\n",
    "preproc = Pipeline([('stdscaler', StandardScaler())]) # This preproc tool is what allows us to transform inputs into min-max space (and therefore to feed it to the trained model)\n",
    "# preproc = Pipeline([('stdscaler', MinMaxScaler())])\n",
    "X_train = preproc.fit_transform(X_train) # Not sure how \"fit_transform\" is different from the original \"transform\"?\n",
    "\n",
    "scalerfile = save_mod + '_scaling_X'\n",
    "pickle.dump(preproc, open(scalerfile, 'wb'))\n",
    "preproc = pickle.load(open(scalerfile, 'rb'))\n",
    "\n",
    "X_test = preproc.transform(X_test) # This transformation puts our input into min-max space\n",
    "\n",
    "# preproc_y = Pipeline([('stdscaler', StandardScaler())])\n",
    "preproc_y = Pipeline([('stdscaler', MinMaxScaler())])\n",
    "\n",
    "y_train = preproc_y.fit_transform(y_train.reshape(-1, 1))\n",
    "\n",
    "scalerfile = save_mod + '_scaling_y'\n",
    "pickle.dump(preproc_y, open(scalerfile, 'wb'))\n",
    "preproc_y = pickle.load(open(scalerfile, 'rb'))\n",
    "\n",
    "y_test = preproc_y.transform(y_test.reshape(-1, 1))"
   ]
  },
  {
   "cell_type": "code",
   "execution_count": 17,
   "metadata": {
    "tags": []
   },
   "outputs": [
    {
     "name": "stdout",
     "output_type": "stream",
     "text": [
      "----------\n",
      "number of datapoints:  2000000\n",
      "z-minmax:  0.0 1.0\n",
      "ColMag-min:  [-1.471 -1.561 -1.654 -4.151 -2.237 -3.435]\n",
      "ColMag-max:  [5.057 4.525 3.592 2.432 1.667 2.648]\n",
      "----------\n",
      "----------\n",
      "number of datapoints:  487251\n",
      "z-minmax:  -0.006522012194860144 2.0227606105434313\n",
      "ColMag-min:  [ -20.026  -28.819  -53.125   -2.473 -778.014  -36.054]\n",
      "ColMag-max:  [ 29.343  27.758  43.761   4.283 758.184   4.175]\n",
      "----------\n"
     ]
    }
   ],
   "source": [
    "help_train.print_limits(X_train, y_train)\n",
    "\n",
    "help_train.print_limits(X_test, y_test)"
   ]
  },
  {
   "cell_type": "code",
   "execution_count": 18,
   "metadata": {},
   "outputs": [
    {
     "data": {
      "image/png": "[encoded data removed]",
      "text/plain": [
       "<Figure size 432x288 with 1 Axes>"
      ]
     },
     "metadata": {
      "needs_background": "light"
     },
     "output_type": "display_data"
    }
   ],
   "source": [
    "# That is a very messy histogram :P Looks like the precision on test is much lower than on train?\n",
    "plt.figure(23)\n",
    "\n",
    "plt.hist(y_train, density=True, bins = 250, histtype='step', label='train')\n",
    "plt.hist(y_test, density=True, bins = 250, histtype='step', label='test')\n",
    "plt.legend()\n",
    "plt.savefig(\"precision\" + str(num_train) + \".png\")"
   ]
  },
  {
   "cell_type": "code",
   "execution_count": 19,
   "metadata": {},
   "outputs": [],
   "source": [
    "def decay(epoch):\n",
    "    if (epoch < 1):\n",
    "        return learning_rate\n",
    "    else:\n",
    "        return learning_rate*(1.0/(1.0+decay_rate*(epoch)))"
   ]
  },
  {
   "cell_type": "code",
   "execution_count": 20,
   "metadata": {},
   "outputs": [],
   "source": [
    "class PrintLR(tf.keras.callbacks.Callback): # Print learning rate at every epoch\n",
    "    def on_epoch_end(self, epoch, logs=None):\n",
    "        print('\\nLearning rate for epoch {} is {}'.format(epoch + 1, model_train.optimizer.lr.numpy()))"
   ]
  },
  {
   "cell_type": "code",
   "execution_count": 21,
   "metadata": {},
   "outputs": [],
   "source": [
    "#from help_train import decay as decay\n",
    "callbacks = [\n",
    "    tf.keras.callbacks.TensorBoard(log_dir='./logs'),\n",
    "    # tf.keras.callbacks.ModelCheckpoint(filepath=checkpoint_prefix, save_weights_only=True),\n",
    "    tf.keras.callbacks.LearningRateScheduler(decay),\n",
    "    PrintLR()\n",
    "]"
   ]
  },
  {
   "cell_type": "code",
   "execution_count": 22,
   "metadata": {},
   "outputs": [],
   "source": [
    "# These are the network parameters!! (This whole cell is network architecture)\n",
    "\n",
    "# x = tf.keras.layers.InputLayer(input_shape=(D,)),\n",
    "non_lin_act = tf.nn.relu #tf.nn.tanh\n",
    "y_true = tf.keras.Input(shape=(1,))\n",
    "inputs = tf.keras.Input(shape=(D,))\n",
    "layer_1 = tf.keras.layers.Dense(units=512, activation=non_lin_act)(inputs)\n",
    "layer_1a = tf.keras.layers.Dense(units=1024, activation=non_lin_act)(layer_1)\n",
    "layer_1b = tf.keras.layers.Dense(units=2048, activation=non_lin_act)(layer_1a)\n",
    "layer_1c = tf.keras.layers.Dense(units=1024, activation=non_lin_act)(layer_1b)\n",
    "layer_2 = tf.keras.layers.Dense(units=512, activation=non_lin_act)(layer_1c)\n",
    "layer_3 = tf.keras.layers.Dense(units=256, activation=non_lin_act)(layer_2)\n",
    "layer_4 = tf.keras.layers.Dense(units=128, activation=non_lin_act)(layer_3)\n",
    "layer_5 = tf.keras.layers.Dense(units=64, activation=non_lin_act)(layer_4)\n",
    "layer_6 = tf.keras.layers.Dense(units=32, activation=non_lin_act)(layer_5)\n",
    "mu = tf.keras.layers.Dense(units=K, activation=None, name=\"mu\")(layer_6)\n",
    "var = tf.keras.backend.exp(tf.keras.layers.Dense(units=K, activation=tf.nn.softplus, name=\"sigma\")(layer_6))\n",
    "pi = tf.keras.layers.Dense(units=K, activation=tf.nn.softmax, name=\"mixing\")(layer_6)"
   ]
  },
  {
   "cell_type": "code",
   "execution_count": 23,
   "metadata": {},
   "outputs": [],
   "source": [
    "model_train = Model([inputs, y_true], [mu, var, pi], name='mdn') # Previously, this was the mixed density model (is that the same as a Gaussian mixture model?)"
   ]
  },
  {
   "cell_type": "code",
   "execution_count": 24,
   "metadata": {
    "tags": []
   },
   "outputs": [
    {
     "name": "stdout",
     "output_type": "stream",
     "text": [
      "Model: \"mdn\"\n",
      "__________________________________________________________________________________________________\n",
      "Layer (type)                    Output Shape         Param #     Connected to                     \n",
      "==================================================================================================\n",
      "input_2 (InputLayer)            [(None, 5)]          0                                            \n",
      "__________________________________________________________________________________________________\n",
      "dense (Dense)                   (None, 512)          3072        input_2[0][0]                    \n",
      "__________________________________________________________________________________________________\n",
      "dense_1 (Dense)                 (None, 1024)         525312      dense[0][0]                      \n",
      "__________________________________________________________________________________________________\n",
      "dense_2 (Dense)                 (None, 2048)         2099200     dense_1[0][0]                    \n",
      "__________________________________________________________________________________________________\n",
      "dense_3 (Dense)                 (None, 1024)         2098176     dense_2[0][0]                    \n",
      "__________________________________________________________________________________________________\n",
      "dense_4 (Dense)                 (None, 512)          524800      dense_3[0][0]                    \n",
      "__________________________________________________________________________________________________\n",
      "dense_5 (Dense)                 (None, 256)          131328      dense_4[0][0]                    \n",
      "__________________________________________________________________________________________________\n",
      "dense_6 (Dense)                 (None, 128)          32896       dense_5[0][0]                    \n",
      "__________________________________________________________________________________________________\n",
      "dense_7 (Dense)                 (None, 64)           8256        dense_6[0][0]                    \n",
      "__________________________________________________________________________________________________\n",
      "dense_8 (Dense)                 (None, 32)           2080        dense_7[0][0]                    \n",
      "__________________________________________________________________________________________________\n",
      "sigma (Dense)                   (None, 3)            99          dense_8[0][0]                    \n",
      "__________________________________________________________________________________________________\n",
      "input_1 (InputLayer)            [(None, 1)]          0                                            \n",
      "__________________________________________________________________________________________________\n",
      "mu (Dense)                      (None, 3)            99          dense_8[0][0]                    \n",
      "__________________________________________________________________________________________________\n",
      "tf.math.exp (TFOpLambda)        (None, 3)            0           sigma[0][0]                      \n",
      "__________________________________________________________________________________________________\n",
      "mixing (Dense)                  (None, 3)            99          dense_8[0][0]                    \n",
      "__________________________________________________________________________________________________\n",
      "tf.compat.v1.transpose (TFOpLam (1, None)            0           input_1[0][0]                    \n",
      "__________________________________________________________________________________________________\n",
      "tf.convert_to_tensor_3 (TFOpLam (1, None)            0           tf.compat.v1.transpose[0][0]     \n",
      "__________________________________________________________________________________________________\n",
      "tf.compat.v1.shape_1 (TFOpLambd (2,)                 0           tf.convert_to_tensor_3[0][0]     \n",
      "__________________________________________________________________________________________________\n",
      "tf.__operators__.getitem_1 (Sli (2,)                 0           tf.compat.v1.shape_1[0][0]       \n",
      "__________________________________________________________________________________________________\n",
      "tf.__operators__.getitem_2 (Sli (0,)                 0           tf.compat.v1.shape_1[0][0]       \n",
      "__________________________________________________________________________________________________\n",
      "tf.concat (TFOpLambda)          (3,)                 0           tf.__operators__.getitem_1[0][0] \n",
      "                                                                 tf.__operators__.getitem_2[0][0] \n",
      "__________________________________________________________________________________________________\n",
      "tf.reshape (TFOpLambda)         (1, None, 1)         0           tf.convert_to_tensor_3[0][0]     \n",
      "                                                                 tf.concat[0][0]                  \n",
      "__________________________________________________________________________________________________\n",
      "tf.convert_to_tensor_1 (TFOpLam (None, 3)            0           mu[0][0]                         \n",
      "__________________________________________________________________________________________________\n",
      "tf.convert_to_tensor_4 (TFOpLam (1, None, 1)         0           tf.reshape[0][0]                 \n",
      "__________________________________________________________________________________________________\n",
      "tf.identity (TFOpLambda)        (None, 3)            0           tf.convert_to_tensor_1[0][0]     \n",
      "__________________________________________________________________________________________________\n",
      "tf.convert_to_tensor_2 (TFOpLam (None, 3)            0           tf.math.exp[0][0]                \n",
      "__________________________________________________________________________________________________\n",
      "tf.math.subtract (TFOpLambda)   (1, None, 3)         0           tf.convert_to_tensor_4[0][0]     \n",
      "                                                                 tf.identity[0][0]                \n",
      "__________________________________________________________________________________________________\n",
      "tf.identity_1 (TFOpLambda)      (None, 3)            0           tf.convert_to_tensor_2[0][0]     \n",
      "__________________________________________________________________________________________________\n",
      "tf.math.truediv (TFOpLambda)    (1, None, 3)         0           tf.math.subtract[0][0]           \n",
      "                                                                 tf.identity_1[0][0]              \n",
      "__________________________________________________________________________________________________\n",
      "tf.math.square (TFOpLambda)     (1, None, 3)         0           tf.math.truediv[0][0]            \n",
      "__________________________________________________________________________________________________\n",
      "tf.math.log_1 (TFOpLambda)      (None, 3)            0           tf.identity_1[0][0]              \n",
      "__________________________________________________________________________________________________\n",
      "tf.convert_to_tensor (TFOpLambd (None, 3)            0           mixing[0][0]                     \n",
      "__________________________________________________________________________________________________\n",
      "tf.math.multiply (TFOpLambda)   (1, None, 3)         0           tf.math.square[0][0]             \n",
      "__________________________________________________________________________________________________\n",
      "tf.__operators__.add (TFOpLambd (None, 3)            0           tf.math.log_1[0][0]              \n",
      "__________________________________________________________________________________________________\n",
      "tf.math.log (TFOpLambda)        (None, 3)            0           tf.convert_to_tensor[0][0]       \n",
      "__________________________________________________________________________________________________\n",
      "tf.math.subtract_1 (TFOpLambda) (1, None, 3)         0           tf.math.multiply[0][0]           \n",
      "                                                                 tf.__operators__.add[0][0]       \n",
      "__________________________________________________________________________________________________\n",
      "tf.nn.log_softmax (TFOpLambda)  (None, 3)            0           tf.math.log[0][0]                \n",
      "__________________________________________________________________________________________________\n",
      "tf.__operators__.add_1 (TFOpLam (1, None, 3)         0           tf.math.subtract_1[0][0]         \n",
      "                                                                 tf.nn.log_softmax[0][0]          \n",
      "__________________________________________________________________________________________________\n",
      "tf.math.reduce_logsumexp (TFOpL (1, None)            0           tf.__operators__.add_1[0][0]     \n",
      "__________________________________________________________________________________________________\n",
      "tf.math.multiply_1 (TFOpLambda) (1, None)            0           tf.math.reduce_logsumexp[0][0]   \n",
      "__________________________________________________________________________________________________\n",
      "tf.math.reduce_mean (TFOpLambda ()                   0           tf.math.multiply_1[0][0]         \n",
      "__________________________________________________________________________________________________\n",
      "add_loss (AddLoss)              ()                   0           tf.math.reduce_mean[0][0]        \n",
      "==================================================================================================\n",
      "Total params: 5,425,417\n",
      "Trainable params: 5,425,417\n",
      "Non-trainable params: 0\n",
      "__________________________________________________________________________________________________\n"
     ]
    }
   ],
   "source": [
    "# Define custom loss\n",
    "def custom_loss(layer):\n",
    "    # Create a loss function that adds the MSE loss to the mean of all squared activations of a specific layer\n",
    "    def loss(y_true, mu, var, pi):\n",
    "        mixture_distribution = tfp.distributions.Categorical(probs=pi)\n",
    "        distribution = tfp.distributions.Normal(loc=mu, scale=var)\n",
    "        likelihood = tfp.distributions.MixtureSameFamily(mixture_distribution=mixture_distribution,components_distribution=distribution)\n",
    "\n",
    "        log_likelihood = -1.0*likelihood.log_prob(tf.transpose(y_true)) # A little confusing (talk later)\n",
    "        mean_loss = tf.reduce_mean(log_likelihood)\n",
    "\n",
    "        return mean_loss\n",
    "    return loss\n",
    "    \n",
    "model_train.add_loss(custom_loss(inputs)(y_true, mu, var, pi))\n",
    "model_train.compile(optimizer='Nadam')\n",
    "model_train.summary()"
   ]
  },
  {
   "cell_type": "code",
   "execution_count": 31,
   "metadata": {},
   "outputs": [
    {
     "data": {
      "text/plain": [
       "0.0001"
      ]
     },
     "execution_count": 31,
     "metadata": {},
     "output_type": "execute_result"
    }
   ],
   "source": [
    "learning_rate"
   ]
  },
  {
   "cell_type": "markdown",
   "metadata": {},
   "source": [
    "### Perturb or remove bands"
   ]
  },
  {
   "cell_type": "code",
   "execution_count": 29,
   "metadata": {},
   "outputs": [],
   "source": [
    "if prtb:\n",
    "    band_n = 0 # remove the u band\n",
    "    approach = 'e'\n",
    "    prtb_X_train = help_funcs.perturb(X_train, band_n, approach = approach)\n",
    "    prtb_X_test = help_funcs.perturb(X_test, band_n, approach = approach) # Should this be this way? What if I want to perturb for the testing too?\n",
    "    prtb_X_err = help_funcs.perturb(X_err, band_n, approach = approach)\n",
    "    suffix = '_perturbed'\n",
    "    my_X_train = prtb_X_train\n",
    "    my_X_test = prtb_X_test\n",
    "    my_X_err = prtb_X_err\n",
    "else:\n",
    "    suffix = \"\"\n",
    "    my_X_train = X_train\n",
    "    my_X_test = X_test\n",
    "    #my_X_err = X_err"
   ]
  },
  {
   "cell_type": "markdown",
   "metadata": {},
   "source": [
    "### Train!"
   ]
  },
  {
   "cell_type": "code",
   "execution_count": 30,
   "metadata": {
    "tags": [
     "outputPrepend"
    ]
   },
   "outputs": [
    {
     "name": "stdout",
     "output_type": "stream",
     "text": [
      "Epoch 1/20\n"
     ]
    },
    {
     "ename": "ValueError",
     "evalue": "in user code:\n\n    /home/acossairt/miniconda3/envs/ML_env/lib/python3.7/site-packages/tensorflow/python/keras/engine/training.py:805 train_function  *\n        return step_function(self, iterator)\n    /home/acossairt/miniconda3/envs/ML_env/lib/python3.7/site-packages/tensorflow/python/keras/engine/training.py:795 step_function  **\n        outputs = model.distribute_strategy.run(run_step, args=(data,))\n    /home/acossairt/miniconda3/envs/ML_env/lib/python3.7/site-packages/tensorflow/python/distribute/distribute_lib.py:1259 run\n        return self._extended.call_for_each_replica(fn, args=args, kwargs=kwargs)\n    /home/acossairt/miniconda3/envs/ML_env/lib/python3.7/site-packages/tensorflow/python/distribute/distribute_lib.py:2730 call_for_each_replica\n        return self._call_for_each_replica(fn, args, kwargs)\n    /home/acossairt/miniconda3/envs/ML_env/lib/python3.7/site-packages/tensorflow/python/distribute/distribute_lib.py:3417 _call_for_each_replica\n        return fn(*args, **kwargs)\n    /home/acossairt/miniconda3/envs/ML_env/lib/python3.7/site-packages/tensorflow/python/keras/engine/training.py:788 run_step  **\n        outputs = model.train_step(data)\n    /home/acossairt/miniconda3/envs/ML_env/lib/python3.7/site-packages/tensorflow/python/keras/engine/training.py:754 train_step\n        y_pred = self(x, training=True)\n    /home/acossairt/miniconda3/envs/ML_env/lib/python3.7/site-packages/tensorflow/python/keras/engine/base_layer.py:998 __call__\n        input_spec.assert_input_compatibility(self.input_spec, inputs, self.name)\n    /home/acossairt/miniconda3/envs/ML_env/lib/python3.7/site-packages/tensorflow/python/keras/engine/input_spec.py:274 assert_input_compatibility\n        ', found shape=' + display_shape(x.shape))\n\n    ValueError: Input 0 is incompatible with layer mdn: expected shape=(None, 5), found shape=(None, 6)\n",
     "output_type": "error",
     "traceback": [
      "\u001b[0;31m---------------------------------------------------------------------------\u001b[0m",
      "\u001b[0;31mValueError\u001b[0m                                Traceback (most recent call last)",
      "\u001b[0;32m<timed exec>\u001b[0m in \u001b[0;36m<module>\u001b[0;34m\u001b[0m\n",
      "\u001b[0;32m~/miniconda3/envs/ML_env/lib/python3.7/site-packages/tensorflow/python/keras/engine/training.py\u001b[0m in \u001b[0;36mfit\u001b[0;34m(self, x, y, batch_size, epochs, verbose, callbacks, validation_split, validation_data, shuffle, class_weight, sample_weight, initial_epoch, steps_per_epoch, validation_steps, validation_batch_size, validation_freq, max_queue_size, workers, use_multiprocessing)\u001b[0m\n\u001b[1;32m   1098\u001b[0m                 _r=1):\n\u001b[1;32m   1099\u001b[0m               \u001b[0mcallbacks\u001b[0m\u001b[0;34m.\u001b[0m\u001b[0mon_train_batch_begin\u001b[0m\u001b[0;34m(\u001b[0m\u001b[0mstep\u001b[0m\u001b[0;34m)\u001b[0m\u001b[0;34m\u001b[0m\u001b[0;34m\u001b[0m\u001b[0m\n\u001b[0;32m-> 1100\u001b[0;31m               \u001b[0mtmp_logs\u001b[0m \u001b[0;34m=\u001b[0m \u001b[0mself\u001b[0m\u001b[0;34m.\u001b[0m\u001b[0mtrain_function\u001b[0m\u001b[0;34m(\u001b[0m\u001b[0miterator\u001b[0m\u001b[0;34m)\u001b[0m\u001b[0;34m\u001b[0m\u001b[0;34m\u001b[0m\u001b[0m\n\u001b[0m\u001b[1;32m   1101\u001b[0m               \u001b[0;32mif\u001b[0m \u001b[0mdata_handler\u001b[0m\u001b[0;34m.\u001b[0m\u001b[0mshould_sync\u001b[0m\u001b[0;34m:\u001b[0m\u001b[0;34m\u001b[0m\u001b[0;34m\u001b[0m\u001b[0m\n\u001b[1;32m   1102\u001b[0m                 \u001b[0mcontext\u001b[0m\u001b[0;34m.\u001b[0m\u001b[0masync_wait\u001b[0m\u001b[0;34m(\u001b[0m\u001b[0;34m)\u001b[0m\u001b[0;34m\u001b[0m\u001b[0;34m\u001b[0m\u001b[0m\n",
      "\u001b[0;32m~/miniconda3/envs/ML_env/lib/python3.7/site-packages/tensorflow/python/eager/def_function.py\u001b[0m in \u001b[0;36m__call__\u001b[0;34m(self, *args, **kwds)\u001b[0m\n\u001b[1;32m    826\u001b[0m     \u001b[0mtracing_count\u001b[0m \u001b[0;34m=\u001b[0m \u001b[0mself\u001b[0m\u001b[0;34m.\u001b[0m\u001b[0mexperimental_get_tracing_count\u001b[0m\u001b[0;34m(\u001b[0m\u001b[0;34m)\u001b[0m\u001b[0;34m\u001b[0m\u001b[0;34m\u001b[0m\u001b[0m\n\u001b[1;32m    827\u001b[0m     \u001b[0;32mwith\u001b[0m \u001b[0mtrace\u001b[0m\u001b[0;34m.\u001b[0m\u001b[0mTrace\u001b[0m\u001b[0;34m(\u001b[0m\u001b[0mself\u001b[0m\u001b[0;34m.\u001b[0m\u001b[0m_name\u001b[0m\u001b[0;34m)\u001b[0m \u001b[0;32mas\u001b[0m \u001b[0mtm\u001b[0m\u001b[0;34m:\u001b[0m\u001b[0;34m\u001b[0m\u001b[0;34m\u001b[0m\u001b[0m\n\u001b[0;32m--> 828\u001b[0;31m       \u001b[0mresult\u001b[0m \u001b[0;34m=\u001b[0m \u001b[0mself\u001b[0m\u001b[0;34m.\u001b[0m\u001b[0m_call\u001b[0m\u001b[0;34m(\u001b[0m\u001b[0;34m*\u001b[0m\u001b[0margs\u001b[0m\u001b[0;34m,\u001b[0m \u001b[0;34m**\u001b[0m\u001b[0mkwds\u001b[0m\u001b[0;34m)\u001b[0m\u001b[0;34m\u001b[0m\u001b[0;34m\u001b[0m\u001b[0m\n\u001b[0m\u001b[1;32m    829\u001b[0m       \u001b[0mcompiler\u001b[0m \u001b[0;34m=\u001b[0m \u001b[0;34m\"xla\"\u001b[0m \u001b[0;32mif\u001b[0m \u001b[0mself\u001b[0m\u001b[0;34m.\u001b[0m\u001b[0m_experimental_compile\u001b[0m \u001b[0;32melse\u001b[0m \u001b[0;34m\"nonXla\"\u001b[0m\u001b[0;34m\u001b[0m\u001b[0;34m\u001b[0m\u001b[0m\n\u001b[1;32m    830\u001b[0m       \u001b[0mnew_tracing_count\u001b[0m \u001b[0;34m=\u001b[0m \u001b[0mself\u001b[0m\u001b[0;34m.\u001b[0m\u001b[0mexperimental_get_tracing_count\u001b[0m\u001b[0;34m(\u001b[0m\u001b[0;34m)\u001b[0m\u001b[0;34m\u001b[0m\u001b[0;34m\u001b[0m\u001b[0m\n",
      "\u001b[0;32m~/miniconda3/envs/ML_env/lib/python3.7/site-packages/tensorflow/python/eager/def_function.py\u001b[0m in \u001b[0;36m_call\u001b[0;34m(self, *args, **kwds)\u001b[0m\n\u001b[1;32m    869\u001b[0m       \u001b[0;31m# This is the first call of __call__, so we have to initialize.\u001b[0m\u001b[0;34m\u001b[0m\u001b[0;34m\u001b[0m\u001b[0;34m\u001b[0m\u001b[0m\n\u001b[1;32m    870\u001b[0m       \u001b[0minitializers\u001b[0m \u001b[0;34m=\u001b[0m \u001b[0;34m[\u001b[0m\u001b[0;34m]\u001b[0m\u001b[0;34m\u001b[0m\u001b[0;34m\u001b[0m\u001b[0m\n\u001b[0;32m--> 871\u001b[0;31m       \u001b[0mself\u001b[0m\u001b[0;34m.\u001b[0m\u001b[0m_initialize\u001b[0m\u001b[0;34m(\u001b[0m\u001b[0margs\u001b[0m\u001b[0;34m,\u001b[0m \u001b[0mkwds\u001b[0m\u001b[0;34m,\u001b[0m \u001b[0madd_initializers_to\u001b[0m\u001b[0;34m=\u001b[0m\u001b[0minitializers\u001b[0m\u001b[0;34m)\u001b[0m\u001b[0;34m\u001b[0m\u001b[0;34m\u001b[0m\u001b[0m\n\u001b[0m\u001b[1;32m    872\u001b[0m     \u001b[0;32mfinally\u001b[0m\u001b[0;34m:\u001b[0m\u001b[0;34m\u001b[0m\u001b[0;34m\u001b[0m\u001b[0m\n\u001b[1;32m    873\u001b[0m       \u001b[0;31m# At this point we know that the initialization is complete (or less\u001b[0m\u001b[0;34m\u001b[0m\u001b[0;34m\u001b[0m\u001b[0;34m\u001b[0m\u001b[0m\n",
      "\u001b[0;32m~/miniconda3/envs/ML_env/lib/python3.7/site-packages/tensorflow/python/eager/def_function.py\u001b[0m in \u001b[0;36m_initialize\u001b[0;34m(self, args, kwds, add_initializers_to)\u001b[0m\n\u001b[1;32m    724\u001b[0m     self._concrete_stateful_fn = (\n\u001b[1;32m    725\u001b[0m         self._stateful_fn._get_concrete_function_internal_garbage_collected(  # pylint: disable=protected-access\n\u001b[0;32m--> 726\u001b[0;31m             *args, **kwds))\n\u001b[0m\u001b[1;32m    727\u001b[0m \u001b[0;34m\u001b[0m\u001b[0m\n\u001b[1;32m    728\u001b[0m     \u001b[0;32mdef\u001b[0m \u001b[0minvalid_creator_scope\u001b[0m\u001b[0;34m(\u001b[0m\u001b[0;34m*\u001b[0m\u001b[0munused_args\u001b[0m\u001b[0;34m,\u001b[0m \u001b[0;34m**\u001b[0m\u001b[0munused_kwds\u001b[0m\u001b[0;34m)\u001b[0m\u001b[0;34m:\u001b[0m\u001b[0;34m\u001b[0m\u001b[0;34m\u001b[0m\u001b[0m\n",
      "\u001b[0;32m~/miniconda3/envs/ML_env/lib/python3.7/site-packages/tensorflow/python/eager/function.py\u001b[0m in \u001b[0;36m_get_concrete_function_internal_garbage_collected\u001b[0;34m(self, *args, **kwargs)\u001b[0m\n\u001b[1;32m   2967\u001b[0m       \u001b[0margs\u001b[0m\u001b[0;34m,\u001b[0m \u001b[0mkwargs\u001b[0m \u001b[0;34m=\u001b[0m \u001b[0;32mNone\u001b[0m\u001b[0;34m,\u001b[0m \u001b[0;32mNone\u001b[0m\u001b[0;34m\u001b[0m\u001b[0;34m\u001b[0m\u001b[0m\n\u001b[1;32m   2968\u001b[0m     \u001b[0;32mwith\u001b[0m \u001b[0mself\u001b[0m\u001b[0;34m.\u001b[0m\u001b[0m_lock\u001b[0m\u001b[0;34m:\u001b[0m\u001b[0;34m\u001b[0m\u001b[0;34m\u001b[0m\u001b[0m\n\u001b[0;32m-> 2969\u001b[0;31m       \u001b[0mgraph_function\u001b[0m\u001b[0;34m,\u001b[0m \u001b[0m_\u001b[0m \u001b[0;34m=\u001b[0m \u001b[0mself\u001b[0m\u001b[0;34m.\u001b[0m\u001b[0m_maybe_define_function\u001b[0m\u001b[0;34m(\u001b[0m\u001b[0margs\u001b[0m\u001b[0;34m,\u001b[0m \u001b[0mkwargs\u001b[0m\u001b[0;34m)\u001b[0m\u001b[0;34m\u001b[0m\u001b[0;34m\u001b[0m\u001b[0m\n\u001b[0m\u001b[1;32m   2970\u001b[0m     \u001b[0;32mreturn\u001b[0m \u001b[0mgraph_function\u001b[0m\u001b[0;34m\u001b[0m\u001b[0;34m\u001b[0m\u001b[0m\n\u001b[1;32m   2971\u001b[0m \u001b[0;34m\u001b[0m\u001b[0m\n",
      "\u001b[0;32m~/miniconda3/envs/ML_env/lib/python3.7/site-packages/tensorflow/python/eager/function.py\u001b[0m in \u001b[0;36m_maybe_define_function\u001b[0;34m(self, args, kwargs)\u001b[0m\n\u001b[1;32m   3359\u001b[0m \u001b[0;34m\u001b[0m\u001b[0m\n\u001b[1;32m   3360\u001b[0m           \u001b[0mself\u001b[0m\u001b[0;34m.\u001b[0m\u001b[0m_function_cache\u001b[0m\u001b[0;34m.\u001b[0m\u001b[0mmissed\u001b[0m\u001b[0;34m.\u001b[0m\u001b[0madd\u001b[0m\u001b[0;34m(\u001b[0m\u001b[0mcall_context_key\u001b[0m\u001b[0;34m)\u001b[0m\u001b[0;34m\u001b[0m\u001b[0;34m\u001b[0m\u001b[0m\n\u001b[0;32m-> 3361\u001b[0;31m           \u001b[0mgraph_function\u001b[0m \u001b[0;34m=\u001b[0m \u001b[0mself\u001b[0m\u001b[0;34m.\u001b[0m\u001b[0m_create_graph_function\u001b[0m\u001b[0;34m(\u001b[0m\u001b[0margs\u001b[0m\u001b[0;34m,\u001b[0m \u001b[0mkwargs\u001b[0m\u001b[0;34m)\u001b[0m\u001b[0;34m\u001b[0m\u001b[0;34m\u001b[0m\u001b[0m\n\u001b[0m\u001b[1;32m   3362\u001b[0m           \u001b[0mself\u001b[0m\u001b[0;34m.\u001b[0m\u001b[0m_function_cache\u001b[0m\u001b[0;34m.\u001b[0m\u001b[0mprimary\u001b[0m\u001b[0;34m[\u001b[0m\u001b[0mcache_key\u001b[0m\u001b[0;34m]\u001b[0m \u001b[0;34m=\u001b[0m \u001b[0mgraph_function\u001b[0m\u001b[0;34m\u001b[0m\u001b[0;34m\u001b[0m\u001b[0m\n\u001b[1;32m   3363\u001b[0m \u001b[0;34m\u001b[0m\u001b[0m\n",
      "\u001b[0;32m~/miniconda3/envs/ML_env/lib/python3.7/site-packages/tensorflow/python/eager/function.py\u001b[0m in \u001b[0;36m_create_graph_function\u001b[0;34m(self, args, kwargs, override_flat_arg_shapes)\u001b[0m\n\u001b[1;32m   3204\u001b[0m             \u001b[0marg_names\u001b[0m\u001b[0;34m=\u001b[0m\u001b[0marg_names\u001b[0m\u001b[0;34m,\u001b[0m\u001b[0;34m\u001b[0m\u001b[0;34m\u001b[0m\u001b[0m\n\u001b[1;32m   3205\u001b[0m             \u001b[0moverride_flat_arg_shapes\u001b[0m\u001b[0;34m=\u001b[0m\u001b[0moverride_flat_arg_shapes\u001b[0m\u001b[0;34m,\u001b[0m\u001b[0;34m\u001b[0m\u001b[0;34m\u001b[0m\u001b[0m\n\u001b[0;32m-> 3206\u001b[0;31m             capture_by_value=self._capture_by_value),\n\u001b[0m\u001b[1;32m   3207\u001b[0m         \u001b[0mself\u001b[0m\u001b[0;34m.\u001b[0m\u001b[0m_function_attributes\u001b[0m\u001b[0;34m,\u001b[0m\u001b[0;34m\u001b[0m\u001b[0;34m\u001b[0m\u001b[0m\n\u001b[1;32m   3208\u001b[0m         \u001b[0mfunction_spec\u001b[0m\u001b[0;34m=\u001b[0m\u001b[0mself\u001b[0m\u001b[0;34m.\u001b[0m\u001b[0mfunction_spec\u001b[0m\u001b[0;34m,\u001b[0m\u001b[0;34m\u001b[0m\u001b[0;34m\u001b[0m\u001b[0m\n",
      "\u001b[0;32m~/miniconda3/envs/ML_env/lib/python3.7/site-packages/tensorflow/python/framework/func_graph.py\u001b[0m in \u001b[0;36mfunc_graph_from_py_func\u001b[0;34m(name, python_func, args, kwargs, signature, func_graph, autograph, autograph_options, add_control_dependencies, arg_names, op_return_value, collections, capture_by_value, override_flat_arg_shapes)\u001b[0m\n\u001b[1;32m    988\u001b[0m         \u001b[0m_\u001b[0m\u001b[0;34m,\u001b[0m \u001b[0moriginal_func\u001b[0m \u001b[0;34m=\u001b[0m \u001b[0mtf_decorator\u001b[0m\u001b[0;34m.\u001b[0m\u001b[0munwrap\u001b[0m\u001b[0;34m(\u001b[0m\u001b[0mpython_func\u001b[0m\u001b[0;34m)\u001b[0m\u001b[0;34m\u001b[0m\u001b[0;34m\u001b[0m\u001b[0m\n\u001b[1;32m    989\u001b[0m \u001b[0;34m\u001b[0m\u001b[0m\n\u001b[0;32m--> 990\u001b[0;31m       \u001b[0mfunc_outputs\u001b[0m \u001b[0;34m=\u001b[0m \u001b[0mpython_func\u001b[0m\u001b[0;34m(\u001b[0m\u001b[0;34m*\u001b[0m\u001b[0mfunc_args\u001b[0m\u001b[0;34m,\u001b[0m \u001b[0;34m**\u001b[0m\u001b[0mfunc_kwargs\u001b[0m\u001b[0;34m)\u001b[0m\u001b[0;34m\u001b[0m\u001b[0;34m\u001b[0m\u001b[0m\n\u001b[0m\u001b[1;32m    991\u001b[0m \u001b[0;34m\u001b[0m\u001b[0m\n\u001b[1;32m    992\u001b[0m       \u001b[0;31m# invariant: `func_outputs` contains only Tensors, CompositeTensors,\u001b[0m\u001b[0;34m\u001b[0m\u001b[0;34m\u001b[0m\u001b[0;34m\u001b[0m\u001b[0m\n",
      "\u001b[0;32m~/miniconda3/envs/ML_env/lib/python3.7/site-packages/tensorflow/python/eager/def_function.py\u001b[0m in \u001b[0;36mwrapped_fn\u001b[0;34m(*args, **kwds)\u001b[0m\n\u001b[1;32m    632\u001b[0m             \u001b[0mxla_context\u001b[0m\u001b[0;34m.\u001b[0m\u001b[0mExit\u001b[0m\u001b[0;34m(\u001b[0m\u001b[0;34m)\u001b[0m\u001b[0;34m\u001b[0m\u001b[0;34m\u001b[0m\u001b[0m\n\u001b[1;32m    633\u001b[0m         \u001b[0;32melse\u001b[0m\u001b[0;34m:\u001b[0m\u001b[0;34m\u001b[0m\u001b[0;34m\u001b[0m\u001b[0m\n\u001b[0;32m--> 634\u001b[0;31m           \u001b[0mout\u001b[0m \u001b[0;34m=\u001b[0m \u001b[0mweak_wrapped_fn\u001b[0m\u001b[0;34m(\u001b[0m\u001b[0;34m)\u001b[0m\u001b[0;34m.\u001b[0m\u001b[0m__wrapped__\u001b[0m\u001b[0;34m(\u001b[0m\u001b[0;34m*\u001b[0m\u001b[0margs\u001b[0m\u001b[0;34m,\u001b[0m \u001b[0;34m**\u001b[0m\u001b[0mkwds\u001b[0m\u001b[0;34m)\u001b[0m\u001b[0;34m\u001b[0m\u001b[0;34m\u001b[0m\u001b[0m\n\u001b[0m\u001b[1;32m    635\u001b[0m         \u001b[0;32mreturn\u001b[0m \u001b[0mout\u001b[0m\u001b[0;34m\u001b[0m\u001b[0;34m\u001b[0m\u001b[0m\n\u001b[1;32m    636\u001b[0m \u001b[0;34m\u001b[0m\u001b[0m\n",
      "\u001b[0;32m~/miniconda3/envs/ML_env/lib/python3.7/site-packages/tensorflow/python/framework/func_graph.py\u001b[0m in \u001b[0;36mwrapper\u001b[0;34m(*args, **kwargs)\u001b[0m\n\u001b[1;32m    975\u001b[0m           \u001b[0;32mexcept\u001b[0m \u001b[0mException\u001b[0m \u001b[0;32mas\u001b[0m \u001b[0me\u001b[0m\u001b[0;34m:\u001b[0m  \u001b[0;31m# pylint:disable=broad-except\u001b[0m\u001b[0;34m\u001b[0m\u001b[0;34m\u001b[0m\u001b[0m\n\u001b[1;32m    976\u001b[0m             \u001b[0;32mif\u001b[0m \u001b[0mhasattr\u001b[0m\u001b[0;34m(\u001b[0m\u001b[0me\u001b[0m\u001b[0;34m,\u001b[0m \u001b[0;34m\"ag_error_metadata\"\u001b[0m\u001b[0;34m)\u001b[0m\u001b[0;34m:\u001b[0m\u001b[0;34m\u001b[0m\u001b[0;34m\u001b[0m\u001b[0m\n\u001b[0;32m--> 977\u001b[0;31m               \u001b[0;32mraise\u001b[0m \u001b[0me\u001b[0m\u001b[0;34m.\u001b[0m\u001b[0mag_error_metadata\u001b[0m\u001b[0;34m.\u001b[0m\u001b[0mto_exception\u001b[0m\u001b[0;34m(\u001b[0m\u001b[0me\u001b[0m\u001b[0;34m)\u001b[0m\u001b[0;34m\u001b[0m\u001b[0;34m\u001b[0m\u001b[0m\n\u001b[0m\u001b[1;32m    978\u001b[0m             \u001b[0;32melse\u001b[0m\u001b[0;34m:\u001b[0m\u001b[0;34m\u001b[0m\u001b[0;34m\u001b[0m\u001b[0m\n\u001b[1;32m    979\u001b[0m               \u001b[0;32mraise\u001b[0m\u001b[0;34m\u001b[0m\u001b[0;34m\u001b[0m\u001b[0m\n",
      "\u001b[0;31mValueError\u001b[0m: in user code:\n\n    /home/acossairt/miniconda3/envs/ML_env/lib/python3.7/site-packages/tensorflow/python/keras/engine/training.py:805 train_function  *\n        return step_function(self, iterator)\n    /home/acossairt/miniconda3/envs/ML_env/lib/python3.7/site-packages/tensorflow/python/keras/engine/training.py:795 step_function  **\n        outputs = model.distribute_strategy.run(run_step, args=(data,))\n    /home/acossairt/miniconda3/envs/ML_env/lib/python3.7/site-packages/tensorflow/python/distribute/distribute_lib.py:1259 run\n        return self._extended.call_for_each_replica(fn, args=args, kwargs=kwargs)\n    /home/acossairt/miniconda3/envs/ML_env/lib/python3.7/site-packages/tensorflow/python/distribute/distribute_lib.py:2730 call_for_each_replica\n        return self._call_for_each_replica(fn, args, kwargs)\n    /home/acossairt/miniconda3/envs/ML_env/lib/python3.7/site-packages/tensorflow/python/distribute/distribute_lib.py:3417 _call_for_each_replica\n        return fn(*args, **kwargs)\n    /home/acossairt/miniconda3/envs/ML_env/lib/python3.7/site-packages/tensorflow/python/keras/engine/training.py:788 run_step  **\n        outputs = model.train_step(data)\n    /home/acossairt/miniconda3/envs/ML_env/lib/python3.7/site-packages/tensorflow/python/keras/engine/training.py:754 train_step\n        y_pred = self(x, training=True)\n    /home/acossairt/miniconda3/envs/ML_env/lib/python3.7/site-packages/tensorflow/python/keras/engine/base_layer.py:998 __call__\n        input_spec.assert_input_compatibility(self.input_spec, inputs, self.name)\n    /home/acossairt/miniconda3/envs/ML_env/lib/python3.7/site-packages/tensorflow/python/keras/engine/input_spec.py:274 assert_input_compatibility\n        ', found shape=' + display_shape(x.shape))\n\n    ValueError: Input 0 is incompatible with layer mdn: expected shape=(None, 5), found shape=(None, 6)\n"
     ]
    }
   ],
   "source": [
    "%%time\n",
    "if train_mode:\n",
    "\n",
    "    history = model_train.fit([my_X_train, y_train], validation_split = 0.1, epochs=n_epochs, batch_size = batch_size, callbacks=callbacks) # What's this history about?\n",
    "    # The problem is in the above line\n",
    "    model_train.save_weights(save_mod + '.h5')\n",
    "    \n",
    "    plt.figure(figsize=(10, 6))\n",
    "    plt.plot(history.history['loss'], 'r')\n",
    "    plt.plot(history.history['val_loss'])\n",
    "    plt.xlabel('Epochs', fontsize = 28)\n",
    "    plt.ylabel('Loss', fontsize = 28)\n",
    "    \n",
    "    # Fancy legend\n",
    "    fake_lines = [plt.plot([], [], c = \"black\")[0] for i in range(0,10)]\n",
    "    param_labels = [\"num train: \" + str(num_train), \"num test: \" + str(num_test), \"n epochs: \" + str(n_epochs), \"D: \" + str(D), \"K: \" + str(K), \"learning rate\" + str(learning_rate), \"decay rate: \" + str(decay_rate), \"batch size: \" + str(batch_size), \"n bins: \" + str(n_bins), \"select per bin: \" + str(select_per_bin)]\n",
    "    plt.legend(handles = fake_lines, labels = param_labels, loc = \"upper right\")\n",
    "    if prtb:\n",
    "        plt.title(\"Perturbed\")\n",
    "    plt.savefig(\"/data/a/cpac/aurora/MDN_phoZ/training_plots/\" + sim + \"_loss_epochs_ntrain\" + str(num_train) + \"_ntest\" + str(num_test) + \"_nepochs\" + str(n_epochs) + \"_D\" + str(D) + \"_K\" + str(K) + \"_lr\" + str(learning_rate) + \"_dr\" + str(decay_rate) + \"_bs\" + str(batch_size) + \"_re\" + str(resampleTrain) + \"_nbins\" + str(n_bins) + \"_spb\" + str(select_per_bin) + suffix + \".png\")"
   ]
  },
  {
   "cell_type": "code",
   "execution_count": 25,
   "metadata": {
    "tags": []
   },
   "outputs": [],
   "source": [
    "model_train.load_weights(save_mod + '.h5') # Previously, this exact line was loading the weights of (from?) the mixed density model"
   ]
  },
  {
   "cell_type": "markdown",
   "metadata": {},
   "source": [
    "Now that we've trained the model, we need to apply the zero pt correction"
   ]
  },
  {
   "cell_type": "markdown",
   "metadata": {},
   "source": [
    "Also, if we want to remove any bands, that has to happen here, right after we loaded the model. Because otherwise the rescaling won't work well."
   ]
  },
  {
   "cell_type": "code",
   "execution_count": 26,
   "metadata": {},
   "outputs": [],
   "source": [
    "def prediction(X_test, save_mod, surveystring, model_train, preproc, preproc_y):\n",
    "    f_real = X_test.copy()\n",
    "    f_real[:,:4] = f_real[:,:4]\n",
    "    f_real = preproc.transform(f_real)\n",
    "    y_pred = np.array(model_train(  [f_real, np.zeros(shape = f_real.shape[0]) ] ))\n",
    "    y_pred_arg = np.argmax(y_pred[2, :, :], axis = 1)\n",
    "    y_pred_mean = y_pred[0, :, :][:, y_pred_arg][:, 0]\n",
    "    y_pred_std = np.sqrt(np.log(y_pred[1, :, :][:, y_pred_arg][:, 0]))\n",
    "    y_pred_3means = preproc_y.inverse_transform(y_pred[0, :, :]) # pretty sure this is the same as y_pred_std.reshape(-1, 1)[:, 0]??\n",
    "    y_pred_3std = preproc_y.inverse_transform( np.sqrt(np.log(y_pred[1, :, :])  ))\n",
    "    y_pred_3weights = y_pred[2, :, :]\n",
    "    predstdweights = np.array([y_pred_3means, y_pred_3std, y_pred_3weights]) # Should I be returning this?    \n",
    "    return y_pred_3means, y_pred_3std, y_pred_3weights, y_pred_arg, y_pred_mean, y_pred_std # photo_z, photo_z_err"
   ]
  },
  {
   "cell_type": "code",
   "execution_count": 24,
   "metadata": {},
   "outputs": [],
   "source": [
    "def Nesar_prediction_zp_all(X_test, label_test, save_mod, surveystring, model_train, preproc, preproc_y):\n",
    "    xzero = np.zeros_like(X_test[:,:4])\n",
    "    xzero[label_test == 0] = np.loadtxt(save_mod + '_xzero_' + surveystring[0])\n",
    "    xzero[label_test == 1] = np.loadtxt(save_mod + '_xzero_' + surveystring[1])\n",
    "    xzero[label_test == 2] = np.loadtxt(save_mod + '_xzero_' + surveystring[2])\n",
    "    f_real = X_test.copy()\n",
    "    f_real[:,:4] = f_real[:,:4] + xzero\n",
    "    f_real = preproc.transform(f_real)\n",
    "    y_pred = np.array(model_train(  [f_real, np.zeros(shape = f_real.shape[0]) ] ))\n",
    "    #y_pred = np.array(model_train(f_real)) # Apparently this won't work anymore? We now need two inputs...\n",
    "    y_pred_arg = np.argmax(y_pred[2, :, :], axis = 1)\n",
    "    y_pred_mean = y_pred[0, :, :][:, y_pred_arg][:, 0]\n",
    "    y_pred_std = np.sqrt(np.log(y_pred[1, :, :][:, y_pred_arg][:, 0]))\n",
    "    # This is exactly the same as what Nesar does in his notebook\n",
    "    # But, it's randomly not what we will actually use for plotting?? That's `y_pred_mean` and the like, which we aren't calculating here\n",
    "    y_pred_3means = preproc_y.inverse_transform(y_pred[0, :, :])\n",
    "    y_pred_3std = preproc_y.inverse_transform( np.sqrt(np.log(y_pred[1, :, :])  ))\n",
    "    y_pred_3weights = y_pred[2, :, :]\n",
    "    return y_pred_3means, y_pred_3std, y_pred_3weights, y_pred_arg, y_pred_mean, y_pred_std, xzero"
   ]
  },
  {
   "cell_type": "code",
   "execution_count": null,
   "metadata": {},
   "outputs": [],
   "source": [
    "# VERSION 1: CORRECT ZPs\n",
    "y_pred_3means, y_pred_3std, y_pred_3weights, y_pred_arg, y_pred_mean, y_pred_std, xzero = Nesar_prediction_zp_all(X_test, label_test, save_mod, surveystring, model_train, preproc, preproc_y)\n",
    "y_test_all = preproc_y.inverse_transform(y_test) # why \"all\"?\n",
    "\n",
    "predstdweights = np.array([y_pred_3means, y_pred_3std, y_pred_3weights])\n",
    "truelabel = np.array([y_test_all[:, 0], label_test])\n",
    "\n",
    "np.save(save_mod+'test_true', predstdweights )\n",
    "np.save(save_mod+'test_pred', truelabel )"
   ]
  },
  {
   "cell_type": "code",
   "execution_count": 27,
   "metadata": {},
   "outputs": [
    {
     "ename": "ValueError",
     "evalue": "Input 0 is incompatible with layer mdn: expected shape=(None, 5), found shape=(1000, 6)",
     "output_type": "error",
     "traceback": [
      "\u001b[0;31m---------------------------------------------------------------------------\u001b[0m",
      "\u001b[0;31mValueError\u001b[0m                                Traceback (most recent call last)",
      "\u001b[0;32m<ipython-input-27-31b632eff601>\u001b[0m in \u001b[0;36m<module>\u001b[0;34m\u001b[0m\n\u001b[1;32m      4\u001b[0m \u001b[0mnp\u001b[0m\u001b[0;34m.\u001b[0m\u001b[0mrandom\u001b[0m\u001b[0;34m.\u001b[0m\u001b[0mseed\u001b[0m\u001b[0;34m(\u001b[0m\u001b[0;36m0\u001b[0m\u001b[0;34m)\u001b[0m\u001b[0;34m\u001b[0m\u001b[0;34m\u001b[0m\u001b[0m\n\u001b[1;32m      5\u001b[0m \u001b[0mrandom_idx\u001b[0m \u001b[0;34m=\u001b[0m \u001b[0mnp\u001b[0m\u001b[0;34m.\u001b[0m\u001b[0mrandom\u001b[0m\u001b[0;34m.\u001b[0m\u001b[0mchoice\u001b[0m\u001b[0;34m(\u001b[0m\u001b[0midx\u001b[0m\u001b[0;34m,\u001b[0m \u001b[0;36m1000\u001b[0m\u001b[0;34m,\u001b[0m \u001b[0mreplace\u001b[0m \u001b[0;34m=\u001b[0m \u001b[0;32mFalse\u001b[0m\u001b[0;34m)\u001b[0m \u001b[0;31m# Why are we doing this again?\u001b[0m\u001b[0;34m\u001b[0m\u001b[0;34m\u001b[0m\u001b[0m\n\u001b[0;32m----> 6\u001b[0;31m \u001b[0my_pred\u001b[0m \u001b[0;34m=\u001b[0m \u001b[0mnp\u001b[0m\u001b[0;34m.\u001b[0m\u001b[0marray\u001b[0m\u001b[0;34m(\u001b[0m\u001b[0mmodel_train\u001b[0m\u001b[0;34m(\u001b[0m  \u001b[0;34m[\u001b[0m\u001b[0mX_test\u001b[0m\u001b[0;34m[\u001b[0m\u001b[0mrandom_idx\u001b[0m\u001b[0;34m]\u001b[0m\u001b[0;34m,\u001b[0m \u001b[0mnp\u001b[0m\u001b[0;34m.\u001b[0m\u001b[0mzeros\u001b[0m\u001b[0;34m(\u001b[0m\u001b[0mshape\u001b[0m \u001b[0;34m=\u001b[0m \u001b[0mX_test\u001b[0m\u001b[0;34m[\u001b[0m\u001b[0mrandom_idx\u001b[0m\u001b[0;34m]\u001b[0m\u001b[0;34m.\u001b[0m\u001b[0mshape\u001b[0m\u001b[0;34m[\u001b[0m\u001b[0;36m0\u001b[0m\u001b[0;34m]\u001b[0m\u001b[0;34m)\u001b[0m \u001b[0;34m]\u001b[0m \u001b[0;34m)\u001b[0m\u001b[0;34m)\u001b[0m\u001b[0;34m\u001b[0m\u001b[0;34m\u001b[0m\u001b[0m\n\u001b[0m\u001b[1;32m      7\u001b[0m \u001b[0my_test\u001b[0m \u001b[0;34m=\u001b[0m \u001b[0my_test\u001b[0m\u001b[0;34m[\u001b[0m\u001b[0mrandom_idx\u001b[0m\u001b[0;34m]\u001b[0m\u001b[0;34m\u001b[0m\u001b[0;34m\u001b[0m\u001b[0m\n\u001b[1;32m      8\u001b[0m \u001b[0mX_test\u001b[0m \u001b[0;34m=\u001b[0m \u001b[0mX_test\u001b[0m\u001b[0;34m[\u001b[0m\u001b[0mrandom_idx\u001b[0m\u001b[0;34m]\u001b[0m\u001b[0;34m\u001b[0m\u001b[0;34m\u001b[0m\u001b[0m\n",
      "\u001b[0;32m~/miniconda3/envs/ML_env/lib/python3.7/site-packages/tensorflow/python/keras/engine/base_layer.py\u001b[0m in \u001b[0;36m__call__\u001b[0;34m(self, *args, **kwargs)\u001b[0m\n\u001b[1;32m    996\u001b[0m         \u001b[0minputs\u001b[0m \u001b[0;34m=\u001b[0m \u001b[0mself\u001b[0m\u001b[0;34m.\u001b[0m\u001b[0m_maybe_cast_inputs\u001b[0m\u001b[0;34m(\u001b[0m\u001b[0minputs\u001b[0m\u001b[0;34m,\u001b[0m \u001b[0minput_list\u001b[0m\u001b[0;34m)\u001b[0m\u001b[0;34m\u001b[0m\u001b[0;34m\u001b[0m\u001b[0m\n\u001b[1;32m    997\u001b[0m \u001b[0;34m\u001b[0m\u001b[0m\n\u001b[0;32m--> 998\u001b[0;31m       \u001b[0minput_spec\u001b[0m\u001b[0;34m.\u001b[0m\u001b[0massert_input_compatibility\u001b[0m\u001b[0;34m(\u001b[0m\u001b[0mself\u001b[0m\u001b[0;34m.\u001b[0m\u001b[0minput_spec\u001b[0m\u001b[0;34m,\u001b[0m \u001b[0minputs\u001b[0m\u001b[0;34m,\u001b[0m \u001b[0mself\u001b[0m\u001b[0;34m.\u001b[0m\u001b[0mname\u001b[0m\u001b[0;34m)\u001b[0m\u001b[0;34m\u001b[0m\u001b[0;34m\u001b[0m\u001b[0m\n\u001b[0m\u001b[1;32m    999\u001b[0m       \u001b[0;32mif\u001b[0m \u001b[0meager\u001b[0m\u001b[0;34m:\u001b[0m\u001b[0;34m\u001b[0m\u001b[0;34m\u001b[0m\u001b[0m\n\u001b[1;32m   1000\u001b[0m         \u001b[0mcall_fn\u001b[0m \u001b[0;34m=\u001b[0m \u001b[0mself\u001b[0m\u001b[0;34m.\u001b[0m\u001b[0mcall\u001b[0m\u001b[0;34m\u001b[0m\u001b[0;34m\u001b[0m\u001b[0m\n",
      "\u001b[0;32m~/miniconda3/envs/ML_env/lib/python3.7/site-packages/tensorflow/python/keras/engine/input_spec.py\u001b[0m in \u001b[0;36massert_input_compatibility\u001b[0;34m(input_spec, inputs, layer_name)\u001b[0m\n\u001b[1;32m    272\u001b[0m                              \u001b[0;34m' is incompatible with layer '\u001b[0m \u001b[0;34m+\u001b[0m \u001b[0mlayer_name\u001b[0m \u001b[0;34m+\u001b[0m\u001b[0;34m\u001b[0m\u001b[0;34m\u001b[0m\u001b[0m\n\u001b[1;32m    273\u001b[0m                              \u001b[0;34m': expected shape='\u001b[0m \u001b[0;34m+\u001b[0m \u001b[0mstr\u001b[0m\u001b[0;34m(\u001b[0m\u001b[0mspec\u001b[0m\u001b[0;34m.\u001b[0m\u001b[0mshape\u001b[0m\u001b[0;34m)\u001b[0m \u001b[0;34m+\u001b[0m\u001b[0;34m\u001b[0m\u001b[0;34m\u001b[0m\u001b[0m\n\u001b[0;32m--> 274\u001b[0;31m                              ', found shape=' + display_shape(x.shape))\n\u001b[0m\u001b[1;32m    275\u001b[0m \u001b[0;34m\u001b[0m\u001b[0m\n\u001b[1;32m    276\u001b[0m \u001b[0;34m\u001b[0m\u001b[0m\n",
      "\u001b[0;31mValueError\u001b[0m: Input 0 is incompatible with layer mdn: expected shape=(None, 5), found shape=(1000, 6)"
     ]
    }
   ],
   "source": [
    "# VERSION 2: DON'T CORRECT ZPs\n",
    "# y_pred = np.array(model_train(X_test))\n",
    "idx = np.arange(len(X_test))\n",
    "np.random.seed(0)\n",
    "random_idx = np.random.choice(idx, 1000, replace = False) # Why are we doing this again?\n",
    "y_pred = np.array(model_train(  [X_test[random_idx], np.zeros(shape = X_test[random_idx].shape[0]) ] ))\n",
    "y_test = y_test[random_idx]\n",
    "X_test = X_test[random_idx]\n",
    "\n",
    "y_pred_arg = np.argmax(y_pred[2, :, :], axis = 1)\n",
    "y_pred_mean = y_pred[0, :, :][:, y_pred_arg][:, 0]\n",
    "y_pred_std = np.sqrt(np.log(y_pred[1, :, :][:, y_pred_arg][:, 0]))\n",
    "# This is all the same as prediction_zp, but isn't included in Nesar's (previous) version\n",
    "\n",
    "# These are the same (I think?) as what we calculate in Nesar's version of prediction_zp\n",
    "y_pred_3means = preproc_y.inverse_transform(y_pred[0, :, :]) # Previously, we used preproc_y to pick the best Gaussian (of the three that make up the Gaussian mixture model)\n",
    "y_pred_3std = preproc_y.inverse_transform( np.sqrt(np.log(y_pred[1, :, :])  ))\n",
    "y_pred_3weights = y_pred[2, :, :]\n",
    "\n",
    "y_test_all = preproc_y.inverse_transform(y_test)\n",
    "\n",
    "predstdweights = np.array([y_pred_3means, y_pred_3std, y_pred_3weights])\n",
    "#truelabel = np.array([y_test_all[:, 0], label_test])\n",
    "np.save(save_mod+'test_true', predstdweights )\n",
    "#np.save(save_mod+'test_pred', truelabel )"
   ]
  },
  {
   "cell_type": "code",
   "execution_count": 53,
   "metadata": {},
   "outputs": [
    {
     "name": "stdout",
     "output_type": "stream",
     "text": [
      "(1000,)\n",
      "(1000,)\n"
     ]
    },
    {
     "data": {
      "image/png": "[encoded data removed]",
      "text/plain": [
       "<Figure size 720x720 with 1 Axes>"
      ]
     },
     "metadata": {
      "needs_background": "light"
     },
     "output_type": "display_data"
    },
    {
     "data": {
      "text/plain": [
       "<Figure size 432x288 with 0 Axes>"
      ]
     },
     "metadata": {},
     "output_type": "display_data"
    }
   ],
   "source": [
    "ifPlotWeighted = True\n",
    "y_pred_mean_best = y_pred_mean # why are we using y_pred_mean and not y_pred_3means?\n",
    "y_pred_std_best = y_pred_std   \n",
    "\n",
    "fig, ax = plt.subplots(figsize=(10, 10,)) # How does this work (or conflict) with plt.figure() down below?\n",
    "if ifPlotWeighted:\n",
    "\n",
    "    colorstring = ['b', 'r', 'g', 'k', 'orange']\n",
    "    #surveystring = ['SDSS', 'VIPERS', 'DEEP2']\n",
    "\n",
    "    plt.figure(22)#, figsize=(10, 10,))\n",
    "\n",
    "    C = 0.05\n",
    "    z_t = np.array([0, 3])\n",
    "    z_tp = z_t + C*(1+z_t)\n",
    "    z_tm = z_t - C*(1+z_t)\n",
    "\n",
    "    ax.plot(z_t, z_t, 'k')\n",
    "    ax.plot(z_t, z_tp, 'k-.')\n",
    "    ax.plot(z_t, z_tm, 'k-.')\n",
    "    \n",
    "    offset = 0.0 # What is the point of this?\n",
    "\n",
    "    print(preproc_y.inverse_transform(y_test)[:, 0].shape)\n",
    "    print(preproc_y.inverse_transform(y_pred_mean_best.reshape(-1, 1))[:, 0].shape)\n",
    "    \n",
    "    ax.errorbar(preproc_y.inverse_transform(y_test)[:, 0], offset + preproc_y.inverse_transform(y_pred_mean_best.reshape(-1, 1))[:, 0], yerr= preproc_y.inverse_transform(y_pred_std_best.reshape(-1, 1))[:, 0], fmt = 'o', marker=None, ms = 4, alpha = 0.3, label = 'Training: Synthetic, Testing: '+sim, c = 'k')\n",
    "    \n",
    "    #for label_ind in [0, 1, 2]:\n",
    "    #    surveyindx = np.where(label_test == label_ind)\n",
    "    #    offset = 0.0\n",
    "\n",
    "    #    ax.errorbar(preproc_y.inverse_transform(y_test)[surveyindx][:, 0], offset + preproc_y.inverse_transform(y_pred_mean_best.reshape(-1, 1))[surveyindx][:, 0], yerr= preproc_y.inverse_transform(y_pred_std_best.reshape(-1, 1))[surveyindx][:, 0], fmt = 'o', marker=None, ms = 4, alpha = 0.3, label = 'Training: Synthetic, Testing: '+surveystring[label_ind], c = colorstring[label_ind])\n",
    "\n",
    "ax.set_ylabel(r'$z_{phot}$', fontsize=25)\n",
    "ax.set_xlabel(r'$z_{spec}$', fontsize=25)\n",
    "\n",
    "ax.set_xlim(0.0, 3)\n",
    "ax.set_ylim(0.0, 3)\n",
    "\n",
    "plt.tight_layout()\n",
    "# plt.axes().set_aspect('equal')\n",
    "\n",
    "#leg1 = ax.legend(fontsize = 'xx-large', markerscale=1., numpoints=2)\n",
    "fake_lines = [ax.plot([], [], c = \"black\", linestyle = '-')[0] for i in range(0,11)]\n",
    "param_labels = [\"sim: \" + sim, \"num train: \" + str(num_train), \"num test: \" + str(num_test), \"n epochs: \" + str(n_epochs), \"D: \" + str(D), \"K: \" + str(K), \"learning rate: \" + str(learning_rate), \"decay rate: \" + str(decay_rate), \"batch size: \" + str(batch_size), \"n bins: \" + str(n_bins), \"select per bin: \" + str(select_per_bin)]\n",
    "ax.legend(handles = fake_lines, labels = param_labels, loc = \"upper left\")\n",
    "if prtb:\n",
    "    ax.set_title(\"Perturbed\")\n",
    "#ax.add_artist(leg1)\n",
    "##fig.savefig('phoz_compare_surveys_numtrain_' + str(num_train) + '.pdf', bbox_inches='tight')\n",
    "fig.savefig(\"/data/a/cpac/aurora/MDN_phoZ/training_plots/\" + sim + \"phoz_ntrain\" + str(num_train) + \"_ntest\" + str(num_test) + \"_nepochs\" + str(n_epochs) + \"_D\" + str(D) + \"_K\" + str(K) + \"_lr\" + str(learning_rate) + \"_dr\" + str(decay_rate) + \"_bs\" + str(batch_size) + \"_re\" + str(resampleTrain) + \"_nbins\" + str(n_bins) + \"_spb\" + str(select_per_bin) + suffix + \".png\")\n",
    "#fig.savefig(\"training_plots/zp_anti-attempt.png\")\n",
    "fig.show()\n",
    "# num train, num test, n epochs, D, K, learning rate, decay rate, batch size, nbins, select per bin"
   ]
  },
  {
   "cell_type": "code",
   "execution_count": null,
   "metadata": {},
   "outputs": [],
   "source": [
    "print(num_test)"
   ]
  },
  {
   "cell_type": "code",
   "execution_count": null,
   "metadata": {},
   "outputs": [],
   "source": [
    "# Plot a pdf\n",
    "from scipy import stats\n",
    "nrows = 3\n",
    "#fig, axes = plt.subplots(nrows=nrows, ncols=1, sharex = True, figsize=(8, nrows*3), num='pdfs')\n",
    "fig, axes = help_funcs.plot_pdfs(y_pred_3means, y_pred_3weights, y_pred_3std, y_test_all, num_train = num_train, num_test = num_test, num=nrows, label = 'Training with synthetic data', color = 'red', train=False)\n",
    "# fig.savefig(\"quick_pdfs.png\")"
   ]
  },
  {
   "cell_type": "markdown",
   "metadata": {},
   "source": [
    "## Sigma_NMAD, OutFrac"
   ]
  },
  {
   "cell_type": "code",
   "execution_count": 30,
   "metadata": {},
   "outputs": [
    {
     "name": "stdout",
     "output_type": "stream",
     "text": [
      "(1000,)\n",
      "0.005501166089856722\n",
      "13.8\n"
     ]
    }
   ],
   "source": [
    "sigmaNMAD = help_funcs.sigmaNMAD(y_test.T[0], y_pred_mean)\n",
    "outFrac = help_funcs.outlierFrac(y_test.T[0], y_pred_mean, threshold = 0.15)\n",
    "print(sigmaNMAD)\n",
    "print(outFrac)"
   ]
  },
  {
   "cell_type": "code",
   "execution_count": 45,
   "metadata": {},
   "outputs": [
    {
     "name": "stdout",
     "output_type": "stream",
     "text": [
      "[0.005 0.004 0.005 0.004 0.    0.032 0.    0.001 0.008 0.003 0.004 0.\n",
      " 0.005 0.102 0.003 0.058 0.    0.011 0.009 0.   ]\n",
      "[58.586  0.    21.935  6.557  0.    35.135  0.     0.    11.111  0.\n",
      "  0.     0.     0.    53.333  0.     5.882  0.     0.     4.724  0.   ]\n"
     ]
    }
   ],
   "source": [
    "sigmaNMAD_array, outFr_array, bins = help_funcs.validate(y_test.T[0], y_pred_mean) # Why is y_test in a weird shape before I do this?\n",
    "print(sigmaNMAD_array)\n",
    "print(outFr_array) # Should those 0's really be zeros?"
   ]
  },
  {
   "cell_type": "code",
   "execution_count": 98,
   "metadata": {},
   "outputs": [
    {
     "name": "stdout",
     "output_type": "stream",
     "text": [
      "length zero for bin  6\n",
      "length zero for bin  11\n",
      "length zero for bin  12\n",
      "length zero for bin  13\n",
      "length zero for bin  14\n"
     ]
    },
    {
     "data": {
      "image/png": "[encoded data removed]",
      "text/plain": [
       "<Figure size 432x288 with 1 Axes>"
      ]
     },
     "metadata": {
      "needs_background": "light"
     },
     "output_type": "display_data"
    }
   ],
   "source": [
    "# Perturb lots of bands (approach b, c, or d) AFTER training\n",
    "ncol = 3 # Should this actually be vertical and outside the plots, perhaps?\n",
    "metric_name = \"outFrac\"\n",
    "\n",
    "fig, ax = plt.subplots(1, 1, sharex = True)\n",
    "band_names = [\"u-g\", \"g-r\", \"r-i\", \"i-z\", \"mag(i)\"]\n",
    "\n",
    "# Validate and plot og data first\n",
    "sigmaNMAD_array, outFr_array, bins = help_funcs.validate(y_test.T[0], y_pred_mean)\n",
    "if metric_name == \"sigma\":\n",
    "    metric = sigmaNMAD_array\n",
    "    metric_label = r'$\\sigma_{NMAD}$'\n",
    "elif metric_name == \"outFrac\":\n",
    "    metric = outFr_array\n",
    "fig, ax = help_funcs.plot_metric(metric, metric_name, approach = None, bins = bins, fig = fig, ax = ax, label = sim, color = \"black\", linestyle = '-')\n",
    "leg1 = ax.legend(ncol = ncol, loc = \"upper right\")\n",
    "fake_lines = [ax.plot([], [], c = \"black\", linestyle = '-')[0] for i in range(0,10)]\n",
    "param_labels = [\"n epochs: \" + str(n_epochs), \"D: \" + str(D), \"K: \" + str(K), \"learning rate: \" + str(learning_rate), \"decay rate: \" + str(decay_rate), \"batch size: \" + str(batch_size)]\n",
    "ax.legend(handles = fake_lines, labels = param_labels, loc = \"upper left\")\n",
    "ax.add_artist(leg1)\n",
    "fig.savefig(\"training_plots/\" + sim + \"_\" + metric_name + \".png\")"
   ]
  },
  {
   "cell_type": "markdown",
   "metadata": {},
   "source": [
    "### Special approach for version \"a\""
   ]
  },
  {
   "cell_type": "code",
   "execution_count": null,
   "metadata": {},
   "outputs": [],
   "source": [
    "# For approach a, perturb each band by 5 delta_c's between 5 and 50%. Plot each of those outcomes (one plot per band)\n",
    "approach = 'a'\n",
    "metric_name = \"sigma\"\n",
    "sel_ind = 0 # pick a survey\n",
    "sel = (label_test == sel_ind) # masks the selection index\n",
    "xzero_correction = np.loadtxt(save_mod + '_xzero_' + surveystring[sel_ind])\n",
    "\n",
    "delta_c = [1.05, 1.1, 1.2, 1.3, 1.4, 1.5]\n",
    "sigma_y_lims = [0,0.35]\n",
    "sigma_y_lims_rel = [-1,5]\n",
    "outFr_y_lims = [0,100]\n",
    "outFr_y_lims_rel = [-0.5,1.5]\n",
    "ncols = 4\n",
    "\n",
    "for band_n in [0, 1, 2, 3, 4]:\n",
    "    fig, (ax1, ax2) = plt.subplots(2, 1, sharex = True, gridspec_kw={'height_ratios': [3, 2]})\n",
    "    # Start with original\n",
    "    og_y_pred_mean, og_y_pred_std  = help_funcs.prediction_zp(X_test[sel], xzero_correction, model_train, preproc, preproc_y)\n",
    "    og_sigmaNMAD_array, og_outFr_array, bins = help_funcs.validate(y_test, sel, og_y_pred_mean)\n",
    "    if metric_name == \"sigma\":\n",
    "        og_metric = og_sigmaNMAD_array\n",
    "        metric_label = r'$\\sigma_{NMAD}$'\n",
    "        y_lims = sigma_y_lims\n",
    "        y_lims_rel = sigma_y_lims_rel\n",
    "    elif metric_name == \"outFrac\":\n",
    "        og_metric = og_outFr_array\n",
    "        y_lims = outFr_y_lims\n",
    "        y_lims_rel = outFr_y_lims_rel\n",
    "    fig, ax1 = help_funcs.plot_metric(og_metric, metric_label, approach, band_n, fig = fig, ax = ax1, label = \"original\", color = \"black\")\n",
    "    ax1.legend()\n",
    "    \n",
    "    # Now perturb\n",
    "    prtb_X_test_lst = help_funcs.perturb(X_test, band_n, delta_c, approach, X_err = X_err)\n",
    "    for i, prtb_X_test in enumerate(prtb_X_test_lst):\n",
    "        #print(\"Top of the morning to ya\")\n",
    "        prtb_y_pred_mean, prtb_y_pred_std  = help_funcs.prediction_zp(prtb_X_test[sel], xzero_correction, model_train, preproc, preproc_y)\n",
    "        this_label = str(math.trunc((delta_c[i] - 1)*100 + 0.5)) + \"%\"\n",
    "\n",
    "        sigmaNMAD_array, outFr_array, bins = help_funcs.validate(y_test, sel, prtb_y_pred_mean)\n",
    "        if metric_name == \"sigma\":\n",
    "            metric = sigmaNMAD_array\n",
    "            metric_label = r'$\\sigma_{NMAD}$'\n",
    "        elif metric_name == \"outFrac\":\n",
    "            metric = outFr_array\n",
    "        fig, ax1 = help_funcs.plot_metric(metric, metric_label, approach, band_n, fig = fig, ax = ax1, label = this_label, linestyle = '--')\n",
    "        ax1.legend(ncol = ncols)\n",
    "    \n",
    "        # Look at relative difference\n",
    "        relative_diff = (metric[:-1] - og_metric[:-1]) / og_metric[:-1] # remove last value, which is always 0\n",
    "        #print(relative_diff)\n",
    "        ax2.plot(bins[:-1], relative_diff, linestyle = \":\")\n",
    "        ax2.set_ylabel(\"Rel diff\")\n",
    "        ax2.set_xlabel(\"z bins\")\n",
    "    \n",
    "    ax1.set_ylim(y_lims[0],y_lims[1])\n",
    "    ax1.set_xlim(0,1)\n",
    "    ax2.set_ylim(y_lims_rel[0],y_lims_rel[1])\n",
    "    ax2.set_xlim(0,1)\n",
    "    fig.savefig(metric_name + \"_\" + approach + \"_band_\" + str(band_n) + \"_rel_corr\" + \".png\")\n",
    "    fig.show()"
   ]
  },
  {
   "cell_type": "markdown",
   "metadata": {},
   "source": [
    "### Someday, do zero-point correction"
   ]
  },
  {
   "cell_type": "code",
   "execution_count": null,
   "metadata": {},
   "outputs": [],
   "source": [
    "for sel_ind in [0, 1, 2]:\n",
    "\n",
    "    # Should cover at least the extent of the true redshifts.\n",
    "    zgrid = np.arange(-0.1,0.8,0.01)\n",
    "\n",
    "    # Selection. SDSS galaxies above z>0.01.\n",
    "    sel = (label_test==sel_ind)#&(y_test>0.01) # Why did we have to get rid of this y_test part again?\n",
    "\n",
    "    # Value to reduce the likelihood ratio significance.\n",
    "    # Adjust higher for larger samples.\n",
    "    extra_cov = (7.)**2\n",
    "    # Integration steps to marginalize photometric noise.\n",
    "    Nintegral = 10\n",
    "    # Clip galaxies with crazy low likelihoods. Roughly number of sigmas.\n",
    "    cutoff = 5\n",
    "    # Steps of the MCMC.\n",
    "    Nchain = 100\n",
    "\n",
    "    # print(X_err[sel])\n",
    "    errors = X_err[sel].copy()\n",
    "    # Sometimes it's good to add more error.\n",
    "    # Our models will not be accurate up to S/N~1000\n",
    "    # errors = np.sqrt(errors**2 + 0.02**2)\n",
    "\n",
    "    # Step size of the proposal distribution.\n",
    "    step_size = 0.005\n",
    "\n",
    "    xchain, P = zeropoints.run_zp_chain(\n",
    "        preproc,\n",
    "        preproc_y,\n",
    "        model_train,\n",
    "        y_test[sel], \n",
    "        X_test[sel].copy(), \n",
    "        errors, \n",
    "        Nintegral,\n",
    "        Nchain,\n",
    "    #     method = \"exact\", # Exact likelihood\n",
    "        method = \"approximate\", # Approximate likelihood.\n",
    "        params_init = None,\n",
    "        #params_init = pinit,\n",
    "        cutoff = cutoff, \n",
    "        extra_cov = extra_cov,\n",
    "        step_size = step_size,\n",
    "        zgrid = zgrid,\n",
    "        D = D\n",
    "    )\n",
    "\n",
    "    xzero_corr = xchain[P.argmin()]\n",
    "    np.savetxt(save_mod + '_xzero_' + surveystring[sel_ind], xzero_corr)"
   ]
  }
 ],
 "metadata": {
  "anaconda-cloud": {},
  "kernelspec": {
   "display_name": "ML_env",
   "language": "python",
   "name": "ml_env"
  },
  "language_info": {
   "codemirror_mode": {
    "name": "ipython",
    "version": 3
   },
   "file_extension": ".py",
   "mimetype": "text/x-python",
   "name": "python",
   "nbconvert_exporter": "python",
   "pygments_lexer": "ipython3",
   "version": "3.7.9"
  }
 },
 "nbformat": 4,
 "nbformat_minor": 4
}
