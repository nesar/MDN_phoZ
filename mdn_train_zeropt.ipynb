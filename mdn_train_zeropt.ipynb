{
 "cells": [
  {
   "cell_type": "code",
   "execution_count": 1,
   "metadata": {
    "tags": []
   },
   "outputs": [],
   "source": [
    "import numpy as np\n",
    "import matplotlib.pylab as plt\n",
    "\n",
    "import tensorflow as tf\n",
    "import tensorflow.keras as keras\n",
    "import tensorflow_probability as tfp\n",
    "tfd = tfp.distributions\n",
    "from tensorflow.keras.callbacks import ModelCheckpoint, EarlyStopping, Callback\n",
    "from tensorflow.keras.models import load_model, Sequential, Model\n",
    "\n",
    "# Activate TF2 behavior:\n",
    "from tensorflow.python import tf2\n",
    "if not tf2.enabled():\n",
    "    import tensorflow.compat.v2 as tf\n",
    "    tf.enable_v2_behavior()\n",
    "    assert tf2.enabled()\n",
    "\n",
    "np.random.seed(12211)  \n",
    "\n",
    "%load_ext line_profiler\n",
    "%reload_ext autoreload\n",
    "%autoreload 1\n",
    "%aimport help_funcs\n",
    "%aimport help_train\n",
    "#import help_funcs_zeropt as help_funcs\n",
    "#import help_train_zeropt as help_train # Wait, when did we start doing this instead of the line profiler?\n",
    "import zeropoints_new as zeropoints\n",
    "import SetPub\n",
    "SetPub.set_pub()"
   ]
  },
  {
   "cell_type": "code",
   "execution_count": 2,
   "metadata": {},
   "outputs": [],
   "source": [
    "train_mode = True # False if you don't want to train again"
   ]
  },
  {
   "cell_type": "code",
   "execution_count": 3,
   "metadata": {},
   "outputs": [],
   "source": [
    "num_train = 200000 # 10000, 4000 # Max: 200000 \n",
    "num_test = 20000 # 1000 # Max: 20000"
   ]
  },
  {
   "cell_type": "code",
   "execution_count": 4,
   "metadata": {},
   "outputs": [],
   "source": [
    "Trainset = ['FSPSlin', 'FSPSlog', 'FSPSall', 'OBS', 'UM', 'BP', 'UMnew'][6] # Soon there will be more!\n",
    "# Testset = ['FSPSlin', 'FSPSlog', 'FSPSall', 'OBS', 'UM', 'BP', 'UMnew'][3]\n",
    "Testset = ['FSPSlin', 'FSPSlog', 'FSPSall', 'OBS', 'UM', 'BP', 'UMnew', 'OBSuq'][7] # Test on the same things we tested before (SDSS)\n",
    "surveystring = ['SDSS', 'VIPERS', 'DEEP2', 'PRIMUS']"
   ]
  },
  {
   "cell_type": "code",
   "execution_count": 14,
   "metadata": {},
   "outputs": [
    {
     "name": "stdout",
     "output_type": "stream",
     "text": [
      "Training on sim:  spherex\n",
      "X training data shape:  (2400000, 102)\n",
      "y training data shape:  (2400000,)\n",
      "----------\n",
      "number of datapoints:  2400000\n",
      "z-minmax:  0.11835623696104157 1.4974980241067803\n",
      "ColMag-min:  [-0.076 -0.031 -0.074 -0.065 -0.085 -0.046 -0.095 -0.093 -0.03  -0.099\n",
      " -0.031 -0.07  -0.1   -0.091 -0.094 -0.059 -0.022 -0.03  -0.069 -0.073\n",
      " -0.05  -0.02  -0.027 -0.049 -0.039 -0.048 -0.051 -0.025 -0.02  -0.051\n",
      " -0.056 -0.062 -0.046 -0.016 -0.051 -0.064 -0.067 -0.055 -0.054 -0.055\n",
      " -0.071 -0.069 -0.064 -0.047 -0.066 -0.063 -0.055 -0.066 -0.061 -0.071\n",
      " -0.027 -0.081 -0.127 -0.16  -0.09  -0.166 -0.157 -0.161 -0.17  -0.114\n",
      " -0.166 -0.177 -0.135 -0.105 -0.122 -0.102 -0.104 -0.044 -0.074 -0.06\n",
      " -0.069 -0.072 -0.055 -0.055 -0.053 -0.065 -0.07  -0.052 -0.048 -0.053\n",
      " -0.055 -0.07  -0.054 -0.052 -0.038 -0.046 -0.057 -0.06  -0.045 -0.048\n",
      " -0.034 -0.043 -0.047 -0.061 -0.059 -0.059 -0.06  -0.058 -0.062 -0.052\n",
      " -0.048 14.907]\n",
      "ColMag-max:  [3.462e-01 4.385e-01 3.966e-01 4.385e-01 4.332e-01 4.374e-01 4.262e-01\n",
      " 4.319e-01 4.464e-01 4.002e-01 3.695e-01 3.875e-01 2.294e-01 1.943e-01\n",
      " 2.104e-01 2.031e-01 4.558e-02 1.374e-01 8.967e-02 1.268e-01 1.319e-01\n",
      " 1.237e-01 1.252e-01 1.192e-01 9.289e-02 1.137e-01 7.977e-02 1.112e-01\n",
      " 8.394e-02 1.086e-01 1.152e-01 1.036e-01 7.803e-02 5.299e-02 8.896e-02\n",
      " 9.160e-02 9.868e-02 1.007e-01 9.536e-02 6.442e-02 6.741e-02 6.346e-02\n",
      " 8.348e-02 6.603e-02 6.729e-02 8.126e-02 6.093e-02 4.977e-02 4.797e-02\n",
      " 4.095e-02 2.172e-02 5.287e-02 7.135e-02 7.175e-02 6.949e-02 5.520e-02\n",
      " 7.155e-02 5.803e-02 6.774e-02 6.505e-02 7.092e-02 6.958e-02 6.582e-02\n",
      " 6.439e-02 6.439e-02 7.018e-02 6.852e-02 2.174e-02 2.731e-02 2.434e-02\n",
      " 2.631e-02 2.803e-02 2.238e-02 2.330e-02 1.745e-02 1.535e-02 1.775e-02\n",
      " 7.045e-03 5.024e-03 1.704e-02 2.543e-02 2.269e-02 2.466e-02 2.493e-02\n",
      " 2.146e-02 2.213e-02 7.617e-03 1.681e-02 2.113e-02 2.147e-02 2.433e-02\n",
      " 9.584e-03 7.660e-03 1.533e-02 2.015e-02 1.957e-02 2.405e-02 1.421e-02\n",
      " 5.092e-03 8.798e-03 1.755e-02 3.443e+01]\n",
      "----------\n",
      "----------\n",
      "number of datapoints:  1200000\n",
      "z-minmax:  0.11835623696104157 1.4974980241067803\n",
      "ColMag-min:  [-0.076 -0.031 -0.074 -0.065 -0.085 -0.046 -0.095 -0.093 -0.03  -0.099\n",
      " -0.031 -0.07  -0.1   -0.091 -0.094 -0.059 -0.022 -0.03  -0.069 -0.073\n",
      " -0.05  -0.02  -0.027 -0.049 -0.039 -0.048 -0.051 -0.025 -0.02  -0.051\n",
      " -0.056 -0.062 -0.046 -0.016 -0.051 -0.064 -0.067 -0.055 -0.054 -0.055\n",
      " -0.071 -0.069 -0.064 -0.047 -0.066 -0.063 -0.055 -0.066 -0.061 -0.071\n",
      " -0.027 -0.081 -0.127 -0.16  -0.09  -0.166 -0.157 -0.161 -0.17  -0.114\n",
      " -0.166 -0.177 -0.135 -0.105 -0.122 -0.102 -0.104 -0.044 -0.074 -0.06\n",
      " -0.069 -0.072 -0.055 -0.055 -0.053 -0.065 -0.07  -0.052 -0.048 -0.053\n",
      " -0.055 -0.07  -0.054 -0.052 -0.038 -0.046 -0.057 -0.06  -0.045 -0.048\n",
      " -0.034 -0.043 -0.047 -0.061 -0.059 -0.059 -0.06  -0.058 -0.062 -0.052\n",
      " -0.048 14.907]\n",
      "ColMag-max:  [3.462e-01 4.385e-01 3.963e-01 4.385e-01 4.332e-01 4.374e-01 4.262e-01\n",
      " 4.319e-01 4.463e-01 4.002e-01 3.695e-01 3.874e-01 2.294e-01 1.943e-01\n",
      " 2.104e-01 2.030e-01 4.558e-02 1.373e-01 8.967e-02 1.268e-01 1.319e-01\n",
      " 1.237e-01 1.252e-01 1.192e-01 9.289e-02 1.137e-01 7.973e-02 1.112e-01\n",
      " 8.376e-02 1.086e-01 1.152e-01 1.036e-01 7.803e-02 5.299e-02 8.896e-02\n",
      " 9.160e-02 9.867e-02 1.002e-01 9.536e-02 6.442e-02 6.741e-02 6.346e-02\n",
      " 8.335e-02 6.575e-02 6.718e-02 8.112e-02 6.082e-02 4.977e-02 4.791e-02\n",
      " 4.095e-02 2.169e-02 5.287e-02 7.130e-02 7.175e-02 6.947e-02 5.520e-02\n",
      " 7.155e-02 5.797e-02 6.770e-02 6.505e-02 7.092e-02 6.958e-02 6.582e-02\n",
      " 6.439e-02 6.439e-02 7.018e-02 6.852e-02 2.174e-02 2.731e-02 2.434e-02\n",
      " 2.631e-02 2.801e-02 2.237e-02 2.326e-02 1.742e-02 1.535e-02 1.775e-02\n",
      " 7.033e-03 5.010e-03 1.704e-02 2.543e-02 2.269e-02 2.466e-02 2.493e-02\n",
      " 2.146e-02 2.212e-02 7.617e-03 1.673e-02 2.111e-02 2.146e-02 2.433e-02\n",
      " 9.584e-03 7.650e-03 1.533e-02 2.015e-02 1.957e-02 2.405e-02 1.421e-02\n",
      " 5.092e-03 8.798e-03 1.755e-02 3.443e+01]\n",
      "----------\n",
      "102\n",
      "CPU times: user 1.79 s, sys: 2.66 s, total: 4.45 s\n",
      "Wall time: 22.3 s\n"
     ]
    }
   ],
   "source": [
    "%%time\n",
    "sim = 'spherex' # 'des', 'irac', 'jwst', 'lsst', 'pau', 'sdss', 'spherex', wise'\n",
    "train_dirIn = '/data/a/cpac/nramachandra/Projects/phoZ/Synthetic_Data/fsps_wrapper/notebooks/out/'\n",
    "test_dirIn = '/data/a/cpac/aurora/MDN_phoZ/Data/fromGalaxev/photozs/datasets/data_feb_2021/'\n",
    "X_train, y_train, X_test, y_test = help_train.loadTrainTest_custom(Testset, sim, train_dirIn, frac_train = 0.5) # Need X_err and test_labels\n",
    "D = X_train.shape[1]\n",
    "print(D)"
   ]
  },
  {
   "cell_type": "code",
   "execution_count": 15,
   "metadata": {},
   "outputs": [
    {
     "name": "stdout",
     "output_type": "stream",
     "text": [
      "200000 hello\n"
     ]
    }
   ],
   "source": [
    "print(str(num_train) + \" hello\")"
   ]
  },
  {
   "cell_type": "code",
   "execution_count": 16,
   "metadata": {},
   "outputs": [],
   "source": [
    "# Hyperparameters\n",
    "prtb = False\n",
    "n_epochs = 10 # 100\n",
    "if prtb:\n",
    "    D = D - 1 #6  # number of features (in input space)\n",
    "    K = 3 #16 # number of mixture components # a \"component\" of a GMM is one gaussian, right?\n",
    "else:\n",
    "    D = D #5\n",
    "    K = 3\n",
    "    \n",
    "learning_rate = 1e-4\n",
    "decay_rate= 1e-2\n",
    "batch_size = 256\n",
    "\n",
    "# Here we define hyperparameters!\n",
    "save_mod = '/data/a/cpac/aurora/MDN_phoZ/saved_hubs/tf2models/'+'Train_'+Trainset+'_lr_'+str(learning_rate)+'_dr'+str(decay_rate)+'_ne'+str(n_epochs)+'_k'+str(K)+'_nt'+str(num_train)"
   ]
  },
  {
   "cell_type": "code",
   "execution_count": 17,
   "metadata": {},
   "outputs": [],
   "source": [
    "# Old version\n",
    "#train_dirIn = '/data/a/cpac/nramachandra/Projects/phoZ/Data/fromGalaxev/photozs/datasets/data_july_2020/'\n",
    "#test_dirIn = '/data/a/cpac/aurora/MDN_phoZ/Data/fromGalaxev/photozs/datasets/data_feb_2021/'\n",
    "#X_train, y_train, _, _ = help_train.loadTrainTest_july(train_dirIn)\n",
    "#X_test, y_test, X_err, label_test = help_train.loadTest(Testset, dirIn = test_dirIn) # data_feb_2021"
   ]
  },
  {
   "cell_type": "code",
   "execution_count": 18,
   "metadata": {},
   "outputs": [],
   "source": [
    "X_train, y_train, X_trainShuffleOrder = help_train.shuffle(X_train, y_train) # literally just shuffle the data\n",
    "# X_test, y_test, label_test, X_testShuffleOrder = shuffleOBS(X_test, y_test, test_labels) # Why aren't we doing this?"
   ]
  },
  {
   "cell_type": "code",
   "execution_count": 10,
   "metadata": {},
   "outputs": [],
   "source": [
    "minmax = False\n",
    "if minmax == True:\n",
    "    min_col = [-0.09145837, -0.05327791, -0.02479261, -0.10519464] #-0.03 #-5 # Same as what we got from print_limits\n",
    "    max_col = [ 3.825315,  2.8303378,  1.6937237,  1.5019817] #3.4 #5\n",
    "    min_mag = 12\n",
    "    max_mag = 23\n",
    "    min_z = 0.0 #np.min(y_train)\n",
    "    max_z = 1.1 #np.max(y_train)\n",
    "\n",
    "    mins_and_maxs = [min_col, max_col, min_mag, max_mag, min_z, max_z]\n",
    "\n",
    "    X_test, y_test, mask_cond = help_train.minmax_cuts(X_test, y_test, mins_and_maxs) # This is where label_test should eventually crop up\n",
    "\n",
    "    #X_test, X_err, y_test, label_test, mask_cond = help_train.minmax_cutsOBSarr(X_test, X_err, y_test, label_test, mins_and_maxs) # Make sure all our data falls within the desired range (and bins)"
   ]
  },
  {
   "cell_type": "code",
   "execution_count": 11,
   "metadata": {},
   "outputs": [],
   "source": [
    "if prtb:\n",
    "    band_n = 0 # remove the u band\n",
    "    approach = 'e'\n",
    "    X_train = help_funcs.perturb(X_train, band_n, approach = approach)\n",
    "    X_test = help_funcs.perturb(X_test, band_n, approach = approach)\n",
    "    X_err = help_funcs.perturb(X_err, band_n, approach = approach)\n",
    "    suffix = '_perturbed'\n",
    "#     X_train = prtb_X_train\n",
    "#     X_test = prtb_X_test\n",
    "#     X_err = prtb_X_err\n",
    "else:\n",
    "    suffix = \"\"\n",
    "#     X_train = X_train\n",
    "#     X_test = X_test\n",
    "#     X_err = X_err"
   ]
  },
  {
   "cell_type": "code",
   "execution_count": 12,
   "metadata": {
    "tags": []
   },
   "outputs": [],
   "source": [
    "# Notice, this cell is recursive. (If you run it multiple times, the resulting plot will change)\n",
    "resampleTrain = False\n",
    "n_bins = 200 \n",
    "select_per_bin = 400 # 500, 50\n",
    "\n",
    "if resampleTrain:\n",
    "    X_train, y_train, resampled_ind = help_train.resample(X_train, y_train, n_bins, select_per_bin) # What is \"rest\"? And where did the original data go?"
   ]
  },
  {
   "cell_type": "code",
   "execution_count": 13,
   "metadata": {
    "tags": []
   },
   "outputs": [
    {
     "name": "stdout",
     "output_type": "stream",
     "text": [
      "Size of features in training data: (1200000, 8)\n",
      "Size of output in training data: (1200000,)\n",
      "Size of features in test data: (1200000, 8)\n",
      "Size of output in test data: (1200000,)\n"
     ]
    }
   ],
   "source": [
    "print(\"Size of features in training data: {}\".format(X_train.shape)) # what do we mean features?\n",
    "print(\"Size of output in training data: {}\".format(y_train.shape))\n",
    "print(\"Size of features in test data: {}\".format(X_test.shape))\n",
    "print(\"Size of output in test data: {}\".format(y_test.shape))"
   ]
  },
  {
   "cell_type": "code",
   "execution_count": 82,
   "metadata": {},
   "outputs": [],
   "source": [
    "# Previously, we said \"this notebook doesn't train models, it deploys them\"\n",
    "# Now, we are training models\n",
    "\n",
    "from sklearn.pipeline import Pipeline\n",
    "from sklearn.preprocessing import StandardScaler, MinMaxScaler\n",
    "import pickle\n",
    "\n",
    "# This preproc stuff is related to \"scaling routine\" -- right? Yes :)\n",
    "preproc = Pipeline([('stdscaler', StandardScaler())]) # This preproc tool is what allows us to transform inputs into min-max space (and therefore to feed it to the trained model)\n",
    "# preproc = Pipeline([('stdscaler', MinMaxScaler())])\n",
    "X_train = preproc.fit_transform(X_train) # Not sure how \"fit_transform\" is different from the original \"transform\"?\n",
    "\n",
    "scalerfile = save_mod + '_scaling_X'\n",
    "pickle.dump(preproc, open(scalerfile, 'wb'))\n",
    "preproc = pickle.load(open(scalerfile, 'rb'))\n",
    "\n",
    "X_test = preproc.transform(X_test) # This transformation puts our input into min-max space\n",
    "\n",
    "# preproc_y = Pipeline([('stdscaler', StandardScaler())])\n",
    "preproc_y = Pipeline([('stdscaler', MinMaxScaler())])\n",
    "\n",
    "y_train = preproc_y.fit_transform(y_train.reshape(-1, 1))\n",
    "\n",
    "scalerfile = save_mod + '_scaling_y'\n",
    "pickle.dump(preproc_y, open(scalerfile, 'wb'))\n",
    "preproc_y = pickle.load(open(scalerfile, 'rb'))\n",
    "\n",
    "y_test = preproc_y.transform(y_test.reshape(-1, 1))"
   ]
  },
  {
   "cell_type": "code",
   "execution_count": 83,
   "metadata": {
    "tags": []
   },
   "outputs": [
    {
     "name": "stdout",
     "output_type": "stream",
     "text": [
      "----------\n",
      "number of datapoints:  1200000\n",
      "z-minmax:  0.0 1.0\n",
      "ColMag-min:  [-2.707 -2.791 -3.576 -3.413 -3.711 -1.749 -1.758 -3.085]\n",
      "ColMag-max:  [2.872 5.019 3.449 3.282 2.141 1.547 2.777 4.923]\n",
      "----------\n",
      "----------\n",
      "number of datapoints:  1200000\n",
      "z-minmax:  0.0 1.0\n",
      "ColMag-min:  [-2.699 -2.79  -3.577 -3.396 -3.711 -1.749 -1.758 -3.085]\n",
      "ColMag-max:  [2.872 5.019 3.454 3.296 2.145 1.549 2.773 4.923]\n",
      "----------\n"
     ]
    }
   ],
   "source": [
    "help_train.print_limits(X_train, y_train)\n",
    "\n",
    "help_train.print_limits(X_test, y_test)"
   ]
  },
  {
   "cell_type": "code",
   "execution_count": 84,
   "metadata": {},
   "outputs": [
    {
     "data": {
      "image/png": "[encoded data removed]",
      "text/plain": [
       "<Figure size 432x288 with 1 Axes>"
      ]
     },
     "metadata": {
      "needs_background": "light"
     },
     "output_type": "display_data"
    }
   ],
   "source": [
    "# That is a very messy histogram :P Looks like the precision on test is much lower than on train?\n",
    "plt.figure(23)\n",
    "\n",
    "plt.hist(y_train, density=True, bins = 250, histtype='step', label='train')\n",
    "plt.hist(y_test, density=True, bins = 250, histtype='step', label='test')\n",
    "plt.legend()\n",
    "plt.savefig(\"precision\" + str(num_train) + \".png\")"
   ]
  },
  {
   "cell_type": "code",
   "execution_count": 85,
   "metadata": {},
   "outputs": [],
   "source": [
    "def decay(epoch):\n",
    "    if (epoch < 1):\n",
    "        return learning_rate\n",
    "    else:\n",
    "        return learning_rate*(1.0/(1.0+decay_rate*(epoch)))"
   ]
  },
  {
   "cell_type": "code",
   "execution_count": 86,
   "metadata": {},
   "outputs": [],
   "source": [
    "class PrintLR(tf.keras.callbacks.Callback): # Print learning rate at every epoch\n",
    "    def on_epoch_end(self, epoch, logs=None):\n",
    "        print('\\nLearning rate for epoch {} is {}'.format(epoch + 1, model_train.optimizer.lr.numpy()))"
   ]
  },
  {
   "cell_type": "code",
   "execution_count": 87,
   "metadata": {},
   "outputs": [],
   "source": [
    "#from help_train import decay as decay\n",
    "callbacks = [\n",
    "    tf.keras.callbacks.TensorBoard(log_dir='./logs'),\n",
    "    # tf.keras.callbacks.ModelCheckpoint(filepath=checkpoint_prefix, save_weights_only=True),\n",
    "    tf.keras.callbacks.LearningRateScheduler(decay),\n",
    "    PrintLR()\n",
    "]"
   ]
  },
  {
   "cell_type": "code",
   "execution_count": 88,
   "metadata": {},
   "outputs": [],
   "source": [
    "# These are the network parameters!! (This whole cell is network architecture)\n",
    "\n",
    "# x = tf.keras.layers.InputLayer(input_shape=(D,)),\n",
    "non_lin_act = tf.nn.relu #tf.nn.tanh\n",
    "y_true = tf.keras.Input(shape=(1,))\n",
    "inputs = tf.keras.Input(shape=(D,))\n",
    "layer_1 = tf.keras.layers.Dense(units=512, activation=non_lin_act)(inputs)\n",
    "layer_1a = tf.keras.layers.Dense(units=1024, activation=non_lin_act)(layer_1)\n",
    "layer_1b = tf.keras.layers.Dense(units=2048, activation=non_lin_act)(layer_1a)\n",
    "layer_1c = tf.keras.layers.Dense(units=1024, activation=non_lin_act)(layer_1b)\n",
    "layer_2 = tf.keras.layers.Dense(units=512, activation=non_lin_act)(layer_1c)\n",
    "layer_3 = tf.keras.layers.Dense(units=256, activation=non_lin_act)(layer_2)\n",
    "layer_4 = tf.keras.layers.Dense(units=128, activation=non_lin_act)(layer_3)\n",
    "layer_5 = tf.keras.layers.Dense(units=64, activation=non_lin_act)(layer_4)\n",
    "layer_6 = tf.keras.layers.Dense(units=32, activation=non_lin_act)(layer_5)\n",
    "mu = tf.keras.layers.Dense(units=K, activation=None, name=\"mu\")(layer_6)\n",
    "var = tf.keras.backend.exp(tf.keras.layers.Dense(units=K, activation=tf.nn.softplus, name=\"sigma\")(layer_6))\n",
    "pi = tf.keras.layers.Dense(units=K, activation=tf.nn.softmax, name=\"mixing\")(layer_6)"
   ]
  },
  {
   "cell_type": "code",
   "execution_count": 89,
   "metadata": {},
   "outputs": [],
   "source": [
    "model_train = Model([inputs, y_true], [mu, var, pi], name='mdn') # Previously, this was the mixed density model (is that the same as a Gaussian mixture model?)"
   ]
  },
  {
   "cell_type": "code",
   "execution_count": 90,
   "metadata": {
    "tags": []
   },
   "outputs": [
    {
     "name": "stdout",
     "output_type": "stream",
     "text": [
      "Model: \"mdn\"\n",
      "__________________________________________________________________________________________________\n",
      "Layer (type)                    Output Shape         Param #     Connected to                     \n",
      "==================================================================================================\n",
      "input_6 (InputLayer)            [(None, 8)]          0                                            \n",
      "__________________________________________________________________________________________________\n",
      "dense_18 (Dense)                (None, 512)          4608        input_6[0][0]                    \n",
      "__________________________________________________________________________________________________\n",
      "dense_19 (Dense)                (None, 1024)         525312      dense_18[0][0]                   \n",
      "__________________________________________________________________________________________________\n",
      "dense_20 (Dense)                (None, 2048)         2099200     dense_19[0][0]                   \n",
      "__________________________________________________________________________________________________\n",
      "dense_21 (Dense)                (None, 1024)         2098176     dense_20[0][0]                   \n",
      "__________________________________________________________________________________________________\n",
      "dense_22 (Dense)                (None, 512)          524800      dense_21[0][0]                   \n",
      "__________________________________________________________________________________________________\n",
      "dense_23 (Dense)                (None, 256)          131328      dense_22[0][0]                   \n",
      "__________________________________________________________________________________________________\n",
      "dense_24 (Dense)                (None, 128)          32896       dense_23[0][0]                   \n",
      "__________________________________________________________________________________________________\n",
      "dense_25 (Dense)                (None, 64)           8256        dense_24[0][0]                   \n",
      "__________________________________________________________________________________________________\n",
      "dense_26 (Dense)                (None, 32)           2080        dense_25[0][0]                   \n",
      "__________________________________________________________________________________________________\n",
      "sigma (Dense)                   (None, 3)            99          dense_26[0][0]                   \n",
      "__________________________________________________________________________________________________\n",
      "input_5 (InputLayer)            [(None, 1)]          0                                            \n",
      "__________________________________________________________________________________________________\n",
      "mu (Dense)                      (None, 3)            99          dense_26[0][0]                   \n",
      "__________________________________________________________________________________________________\n",
      "tf.math.exp_2 (TFOpLambda)      (None, 3)            0           sigma[0][0]                      \n",
      "__________________________________________________________________________________________________\n",
      "mixing (Dense)                  (None, 3)            99          dense_26[0][0]                   \n",
      "__________________________________________________________________________________________________\n",
      "tf.compat.v1.transpose_2 (TFOpL (1, None)            0           input_5[0][0]                    \n",
      "__________________________________________________________________________________________________\n",
      "tf.convert_to_tensor_13 (TFOpLa (1, None)            0           tf.compat.v1.transpose_2[0][0]   \n",
      "__________________________________________________________________________________________________\n",
      "tf.compat.v1.shape_5 (TFOpLambd (2,)                 0           tf.convert_to_tensor_13[0][0]    \n",
      "__________________________________________________________________________________________________\n",
      "tf.__operators__.getitem_7 (Sli (2,)                 0           tf.compat.v1.shape_5[0][0]       \n",
      "__________________________________________________________________________________________________\n",
      "tf.__operators__.getitem_8 (Sli (0,)                 0           tf.compat.v1.shape_5[0][0]       \n",
      "__________________________________________________________________________________________________\n",
      "tf.concat_2 (TFOpLambda)        (3,)                 0           tf.__operators__.getitem_7[0][0] \n",
      "                                                                 tf.__operators__.getitem_8[0][0] \n",
      "__________________________________________________________________________________________________\n",
      "tf.reshape_2 (TFOpLambda)       (1, None, 1)         0           tf.convert_to_tensor_13[0][0]    \n",
      "                                                                 tf.concat_2[0][0]                \n",
      "__________________________________________________________________________________________________\n",
      "tf.convert_to_tensor_11 (TFOpLa (None, 3)            0           mu[0][0]                         \n",
      "__________________________________________________________________________________________________\n",
      "tf.convert_to_tensor_14 (TFOpLa (1, None, 1)         0           tf.reshape_2[0][0]               \n",
      "__________________________________________________________________________________________________\n",
      "tf.identity_4 (TFOpLambda)      (None, 3)            0           tf.convert_to_tensor_11[0][0]    \n",
      "__________________________________________________________________________________________________\n",
      "tf.convert_to_tensor_12 (TFOpLa (None, 3)            0           tf.math.exp_2[0][0]              \n",
      "__________________________________________________________________________________________________\n",
      "tf.math.subtract_4 (TFOpLambda) (1, None, 3)         0           tf.convert_to_tensor_14[0][0]    \n",
      "                                                                 tf.identity_4[0][0]              \n",
      "__________________________________________________________________________________________________\n",
      "tf.identity_5 (TFOpLambda)      (None, 3)            0           tf.convert_to_tensor_12[0][0]    \n",
      "__________________________________________________________________________________________________\n",
      "tf.math.truediv_2 (TFOpLambda)  (1, None, 3)         0           tf.math.subtract_4[0][0]         \n",
      "                                                                 tf.identity_5[0][0]              \n",
      "__________________________________________________________________________________________________\n",
      "tf.math.square_2 (TFOpLambda)   (1, None, 3)         0           tf.math.truediv_2[0][0]          \n",
      "__________________________________________________________________________________________________\n",
      "tf.math.log_5 (TFOpLambda)      (None, 3)            0           tf.identity_5[0][0]              \n",
      "__________________________________________________________________________________________________\n",
      "tf.convert_to_tensor_10 (TFOpLa (None, 3)            0           mixing[0][0]                     \n",
      "__________________________________________________________________________________________________\n",
      "tf.math.multiply_4 (TFOpLambda) (1, None, 3)         0           tf.math.square_2[0][0]           \n",
      "__________________________________________________________________________________________________\n",
      "tf.__operators__.add_4 (TFOpLam (None, 3)            0           tf.math.log_5[0][0]              \n",
      "__________________________________________________________________________________________________\n",
      "tf.math.log_4 (TFOpLambda)      (None, 3)            0           tf.convert_to_tensor_10[0][0]    \n",
      "__________________________________________________________________________________________________\n",
      "tf.math.subtract_5 (TFOpLambda) (1, None, 3)         0           tf.math.multiply_4[0][0]         \n",
      "                                                                 tf.__operators__.add_4[0][0]     \n",
      "__________________________________________________________________________________________________\n",
      "tf.nn.log_softmax_2 (TFOpLambda (None, 3)            0           tf.math.log_4[0][0]              \n",
      "__________________________________________________________________________________________________\n",
      "tf.__operators__.add_5 (TFOpLam (1, None, 3)         0           tf.math.subtract_5[0][0]         \n",
      "                                                                 tf.nn.log_softmax_2[0][0]        \n",
      "__________________________________________________________________________________________________\n",
      "tf.math.reduce_logsumexp_2 (TFO (1, None)            0           tf.__operators__.add_5[0][0]     \n",
      "__________________________________________________________________________________________________\n",
      "tf.math.multiply_5 (TFOpLambda) (1, None)            0           tf.math.reduce_logsumexp_2[0][0] \n",
      "__________________________________________________________________________________________________\n",
      "tf.math.reduce_mean_2 (TFOpLamb ()                   0           tf.math.multiply_5[0][0]         \n",
      "__________________________________________________________________________________________________\n",
      "add_loss_2 (AddLoss)            ()                   0           tf.math.reduce_mean_2[0][0]      \n",
      "==================================================================================================\n",
      "Total params: 5,426,953\n",
      "Trainable params: 5,426,953\n",
      "Non-trainable params: 0\n",
      "__________________________________________________________________________________________________\n"
     ]
    }
   ],
   "source": [
    "# Define custom loss\n",
    "def custom_loss(layer):\n",
    "    # Create a loss function that adds the MSE loss to the mean of all squared activations of a specific layer\n",
    "    def loss(y_true, mu, var, pi):\n",
    "        mixture_distribution = tfp.distributions.Categorical(probs=pi)\n",
    "        distribution = tfp.distributions.Normal(loc=mu, scale=var)\n",
    "        likelihood = tfp.distributions.MixtureSameFamily(mixture_distribution=mixture_distribution,components_distribution=distribution)\n",
    "\n",
    "        log_likelihood = -1.0*likelihood.log_prob(tf.transpose(y_true)) # A little confusing (talk later)\n",
    "        mean_loss = tf.reduce_mean(log_likelihood)\n",
    "\n",
    "        return mean_loss\n",
    "    return loss\n",
    "    \n",
    "model_train.add_loss(custom_loss(inputs)(y_true, mu, var, pi))\n",
    "model_train.compile(optimizer='Nadam')\n",
    "model_train.summary()"
   ]
  },
  {
   "cell_type": "code",
   "execution_count": 91,
   "metadata": {},
   "outputs": [
    {
     "data": {
      "text/plain": [
       "0.0001"
      ]
     },
     "execution_count": 91,
     "metadata": {},
     "output_type": "execute_result"
    }
   ],
   "source": [
    "learning_rate"
   ]
  },
  {
   "cell_type": "markdown",
   "metadata": {},
   "source": [
    "### Perturb or remove bands"
   ]
  },
  {
   "cell_type": "code",
   "execution_count": 92,
   "metadata": {},
   "outputs": [],
   "source": [
    "if prtb:\n",
    "    band_n = 0 # remove the u band\n",
    "    approach = 'e'\n",
    "    prtb_X_train = help_funcs.perturb(X_train, band_n, approach = approach)\n",
    "    prtb_X_test = help_funcs.perturb(X_test, band_n, approach = approach) # Should this be this way? What if I want to perturb for the testing too?\n",
    "    prtb_X_err = help_funcs.perturb(X_err, band_n, approach = approach)\n",
    "    suffix = '_perturbed'\n",
    "    my_X_train = prtb_X_train\n",
    "    my_X_test = prtb_X_test\n",
    "    my_X_err = prtb_X_err\n",
    "else:\n",
    "    suffix = \"\"\n",
    "    my_X_train = X_train\n",
    "    my_X_test = X_test\n",
    "    #my_X_err = X_err"
   ]
  },
  {
   "cell_type": "markdown",
   "metadata": {},
   "source": [
    "### Train!"
   ]
  },
  {
   "cell_type": "code",
   "execution_count": 93,
   "metadata": {
    "tags": [
     "outputPrepend"
    ]
   },
   "outputs": [
    {
     "name": "stdout",
     "output_type": "stream",
     "text": [
      "Epoch 1/10\n",
      "   6/4219 [..............................] - ETA: 11:30 - loss: 1.6379WARNING:tensorflow:Callback method `on_train_batch_end` is slow compared to the batch time (batch time: 0.0696s vs `on_train_batch_end` time: 0.0783s). Check your callbacks.\n",
      "4219/4219 [==============================] - 115s 26ms/step - loss: 0.9502 - val_loss: 0.9230\n",
      "\n",
      "Learning rate for epoch 1 is 9.999999747378752e-05\n",
      "Epoch 2/10\n",
      "4219/4219 [==============================] - 107s 25ms/step - loss: 0.9210 - val_loss: 0.9204\n",
      "\n",
      "Learning rate for epoch 2 is 9.900989971356466e-05\n",
      "Epoch 3/10\n",
      "4219/4219 [==============================] - 108s 26ms/step - loss: 0.9204 - val_loss: 0.9200\n",
      "\n",
      "Learning rate for epoch 3 is 9.803921420825645e-05\n",
      "Epoch 4/10\n",
      "4219/4219 [==============================] - 103s 24ms/step - loss: 0.9201 - val_loss: 0.9200\n",
      "\n",
      "Learning rate for epoch 4 is 9.708738070912659e-05\n",
      "Epoch 5/10\n",
      "4219/4219 [==============================] - 96s 23ms/step - loss: 0.9200 - val_loss: 0.9201\n",
      "\n",
      "Learning rate for epoch 5 is 9.61538462433964e-05\n",
      "Epoch 6/10\n",
      "4219/4219 [==============================] - 104s 25ms/step - loss: 0.9199 - val_loss: 0.9200\n",
      "\n",
      "Learning rate for epoch 6 is 9.523809421807528e-05\n",
      "Epoch 7/10\n",
      "4219/4219 [==============================] - 115s 27ms/step - loss: 0.9198 - val_loss: 0.9196\n",
      "\n",
      "Learning rate for epoch 7 is 9.433962259208784e-05\n",
      "Epoch 8/10\n",
      "4219/4219 [==============================] - 115s 27ms/step - loss: 0.9197 - val_loss: 0.9200\n",
      "\n",
      "Learning rate for epoch 8 is 9.345794387627393e-05\n",
      "Epoch 9/10\n",
      "4219/4219 [==============================] - 116s 27ms/step - loss: 0.9197 - val_loss: 0.9197\n",
      "\n",
      "Learning rate for epoch 9 is 9.259259240934625e-05\n",
      "Epoch 10/10\n",
      "4219/4219 [==============================] - 117s 28ms/step - loss: 0.9197 - val_loss: 0.9197\n",
      "\n",
      "Learning rate for epoch 10 is 9.174311708193272e-05\n",
      "CPU times: user 6h 28min 2s, sys: 20min 23s, total: 6h 48min 26s\n",
      "Wall time: 18min 18s\n"
     ]
    },
    {
     "data": {
      "image/png": "[encoded data removed]",
      "text/plain": [
       "<Figure size 720x432 with 1 Axes>"
      ]
     },
     "metadata": {
      "needs_background": "light"
     },
     "output_type": "display_data"
    }
   ],
   "source": [
    "%%time\n",
    "if train_mode:\n",
    "\n",
    "    history = model_train.fit([my_X_train, y_train], validation_split = 0.1, epochs=n_epochs, batch_size = batch_size, callbacks=callbacks) # What's this history about?\n",
    "    # The problem is in the above line\n",
    "    model_train.save_weights(save_mod + '.h5')\n",
    "    \n",
    "    plt.figure(figsize=(10, 6))\n",
    "    plt.plot(history.history['loss'], 'r')\n",
    "    plt.plot(history.history['val_loss'])\n",
    "    plt.xlabel('Epochs', fontsize = 28)\n",
    "    plt.ylabel('Loss', fontsize = 28)\n",
    "    \n",
    "    # Fancy legend\n",
    "    fake_lines = [plt.plot([], [], c = \"black\")[0] for i in range(0,10)]\n",
    "    param_labels = [\"num train: \" + str(num_train), \"num test: \" + str(num_test), \"n epochs: \" + str(n_epochs), \"D: \" + str(D), \"K: \" + str(K), \"learning rate\" + str(learning_rate), \"decay rate: \" + str(decay_rate), \"batch size: \" + str(batch_size), \"n bins: \" + str(n_bins), \"select per bin: \" + str(select_per_bin)]\n",
    "    plt.legend(handles = fake_lines, labels = param_labels, loc = \"upper right\")\n",
    "    if prtb:\n",
    "        plt.title(\"Perturbed\")\n",
    "    plt.savefig(\"/data/a/cpac/aurora/MDN_phoZ/training_plots/loss_epochs_\" + sim + \"_ntrain\" + str(num_train) + \"_ntest\" + str(num_test) + \"_nepochs\" + str(n_epochs) + \"_D\" + str(D) + \"_K\" + str(K) + \"_lr\" + str(learning_rate) + \"_dr\" + str(decay_rate) + \"_bs\" + str(batch_size) + \"_re\" + str(resampleTrain) + \"_nbins\" + str(n_bins) + \"_spb\" + str(select_per_bin) + suffix + \".png\")"
   ]
  },
  {
   "cell_type": "code",
   "execution_count": 94,
   "metadata": {
    "tags": []
   },
   "outputs": [],
   "source": [
    "model_train.load_weights(save_mod + '.h5') # Previously, this exact line was loading the weights of (from?) the mixed density model"
   ]
  },
  {
   "cell_type": "markdown",
   "metadata": {},
   "source": [
    "Now that we've trained the model, we need to apply the zero pt correction"
   ]
  },
  {
   "cell_type": "markdown",
   "metadata": {},
   "source": [
    "Also, if we want to remove any bands, that has to happen here, right after we loaded the model. Because otherwise the rescaling won't work well."
   ]
  },
  {
   "cell_type": "code",
   "execution_count": 95,
   "metadata": {},
   "outputs": [],
   "source": [
    "def prediction(X_test, save_mod, surveystring, model_train, preproc, preproc_y):\n",
    "    f_real = X_test.copy()\n",
    "    f_real[:,:4] = f_real[:,:4]\n",
    "    f_real = preproc.transform(f_real)\n",
    "    y_pred = np.array(model_train(  [f_real, np.zeros(shape = f_real.shape[0]) ] ))\n",
    "    y_pred_arg = np.argmax(y_pred[2, :, :], axis = 1)\n",
    "    y_pred_mean = y_pred[0, :, :][:, y_pred_arg][:, 0]\n",
    "    y_pred_std = np.sqrt(np.log(y_pred[1, :, :][:, y_pred_arg][:, 0]))\n",
    "    y_pred_3means = preproc_y.inverse_transform(y_pred[0, :, :]) # pretty sure this is the same as y_pred_std.reshape(-1, 1)[:, 0]??\n",
    "    y_pred_3std = preproc_y.inverse_transform( np.sqrt(np.log(y_pred[1, :, :])  ))\n",
    "    y_pred_3weights = y_pred[2, :, :]\n",
    "    predstdweights = np.array([y_pred_3means, y_pred_3std, y_pred_3weights]) # Should I be returning this?    \n",
    "    return y_pred_3means, y_pred_3std, y_pred_3weights, y_pred_arg, y_pred_mean, y_pred_std # photo_z, photo_z_err"
   ]
  },
  {
   "cell_type": "code",
   "execution_count": 24,
   "metadata": {},
   "outputs": [],
   "source": [
    "def Nesar_prediction_zp_all(X_test, label_test, save_mod, surveystring, model_train, preproc, preproc_y):\n",
    "    xzero = np.zeros_like(X_test[:,:4])\n",
    "    xzero[label_test == 0] = np.loadtxt(save_mod + '_xzero_' + surveystring[0])\n",
    "    xzero[label_test == 1] = np.loadtxt(save_mod + '_xzero_' + surveystring[1])\n",
    "    xzero[label_test == 2] = np.loadtxt(save_mod + '_xzero_' + surveystring[2])\n",
    "    f_real = X_test.copy()\n",
    "    f_real[:,:4] = f_real[:,:4] + xzero\n",
    "    f_real = preproc.transform(f_real)\n",
    "    y_pred = np.array(model_train(  [f_real, np.zeros(shape = f_real.shape[0]) ] ))\n",
    "    #y_pred = np.array(model_train(f_real)) # Apparently this won't work anymore? We now need two inputs...\n",
    "    y_pred_arg = np.argmax(y_pred[2, :, :], axis = 1)\n",
    "    y_pred_mean = y_pred[0, :, :][:, y_pred_arg][:, 0]\n",
    "    y_pred_std = np.sqrt(np.log(y_pred[1, :, :][:, y_pred_arg][:, 0]))\n",
    "    # This is exactly the same as what Nesar does in his notebook\n",
    "    # But, it's randomly not what we will actually use for plotting?? That's `y_pred_mean` and the like, which we aren't calculating here\n",
    "    y_pred_3means = preproc_y.inverse_transform(y_pred[0, :, :])\n",
    "    y_pred_3std = preproc_y.inverse_transform( np.sqrt(np.log(y_pred[1, :, :])  ))\n",
    "    y_pred_3weights = y_pred[2, :, :]\n",
    "    return y_pred_3means, y_pred_3std, y_pred_3weights, y_pred_arg, y_pred_mean, y_pred_std, xzero"
   ]
  },
  {
   "cell_type": "code",
   "execution_count": null,
   "metadata": {},
   "outputs": [],
   "source": [
    "# VERSION 1: CORRECT ZPs\n",
    "y_pred_3means, y_pred_3std, y_pred_3weights, y_pred_arg, y_pred_mean, y_pred_std, xzero = Nesar_prediction_zp_all(X_test, label_test, save_mod, surveystring, model_train, preproc, preproc_y)\n",
    "y_test_all = preproc_y.inverse_transform(y_test) # why \"all\"?\n",
    "\n",
    "predstdweights = np.array([y_pred_3means, y_pred_3std, y_pred_3weights])\n",
    "truelabel = np.array([y_test_all[:, 0], label_test])\n",
    "\n",
    "np.save(save_mod+'test_true', predstdweights )\n",
    "np.save(save_mod+'test_pred', truelabel )"
   ]
  },
  {
   "cell_type": "code",
   "execution_count": 96,
   "metadata": {},
   "outputs": [],
   "source": [
    "# VERSION 2: DON'T CORRECT ZPs\n",
    "# y_pred = np.array(model_train(X_test))\n",
    "idx = np.arange(len(X_test))\n",
    "np.random.seed(0)\n",
    "random_idx = np.random.choice(idx, 1000, replace = False)\n",
    "y_pred = np.array(model_train(  [X_test[random_idx], np.zeros(shape = X_test[random_idx].shape[0]) ] ))\n",
    "y_test = y_test[random_idx]\n",
    "X_test = X_test[random_idx]\n",
    "\n",
    "y_pred_arg = np.argmax(y_pred[2, :, :], axis = 1)\n",
    "y_pred_mean = y_pred[0, :, :][:, y_pred_arg][:, 0]\n",
    "y_pred_std = np.sqrt(np.log(y_pred[1, :, :][:, y_pred_arg][:, 0]))\n",
    "# This is all the same as prediction_zp, but isn't included in Nesar's (previous) version\n",
    "\n",
    "# These are the same (I think?) as what we calculate in Nesar's version of prediction_zp\n",
    "y_pred_3means = preproc_y.inverse_transform(y_pred[0, :, :]) # Previously, we used preproc_y to pick the best Gaussian (of the three that make up the Gaussian mixture model)\n",
    "y_pred_3std = preproc_y.inverse_transform( np.sqrt(np.log(y_pred[1, :, :])  ))\n",
    "y_pred_3weights = y_pred[2, :, :]\n",
    "\n",
    "y_test_all = preproc_y.inverse_transform(y_test)\n",
    "\n",
    "predstdweights = np.array([y_pred_3means, y_pred_3std, y_pred_3weights])\n",
    "#truelabel = np.array([y_test_all[:, 0], label_test])\n",
    "np.save(save_mod+'test_true', predstdweights )\n",
    "#np.save(save_mod+'test_pred', truelabel )"
   ]
  },
  {
   "cell_type": "code",
   "execution_count": 97,
   "metadata": {},
   "outputs": [
    {
     "name": "stdout",
     "output_type": "stream",
     "text": [
      "(1000,)\n",
      "(1000,)\n"
     ]
    },
    {
     "data": {
      "image/png": "[encoded data removed]",
      "text/plain": [
       "<Figure size 720x720 with 1 Axes>"
      ]
     },
     "metadata": {
      "needs_background": "light"
     },
     "output_type": "display_data"
    },
    {
     "data": {
      "text/plain": [
       "<Figure size 432x288 with 0 Axes>"
      ]
     },
     "metadata": {},
     "output_type": "display_data"
    }
   ],
   "source": [
    "ifPlotWeighted = True\n",
    "y_pred_mean_best = y_pred_mean # why are we using y_pred_mean and not y_pred_3means?\n",
    "y_pred_std_best = y_pred_std   \n",
    "\n",
    "fig, ax = plt.subplots(figsize=(10, 10,)) # How does this work (or conflict) with plt.figure() down below?\n",
    "if ifPlotWeighted:\n",
    "\n",
    "    colorstring = ['b', 'r', 'g', 'k', 'orange']\n",
    "    #surveystring = ['SDSS', 'VIPERS', 'DEEP2']\n",
    "\n",
    "    plt.figure(22)#, figsize=(10, 10,))\n",
    "\n",
    "    C = 0.05\n",
    "    z_t = np.array([0, 1.5])\n",
    "    z_tp = z_t + C*(1+z_t)\n",
    "    z_tm = z_t - C*(1+z_t)\n",
    "\n",
    "    ax.plot(z_t, z_t, 'k')\n",
    "    ax.plot(z_t, z_tp, 'k-.')\n",
    "    ax.plot(z_t, z_tm, 'k-.')\n",
    "    \n",
    "    offset = 0.0 # What is the point of this?\n",
    "\n",
    "    print(preproc_y.inverse_transform(y_test)[:, 0].shape)\n",
    "    print(preproc_y.inverse_transform(y_pred_mean_best.reshape(-1, 1))[:, 0].shape)\n",
    "    \n",
    "    ax.errorbar(preproc_y.inverse_transform(y_test)[:, 0], offset + preproc_y.inverse_transform(y_pred_mean_best.reshape(-1, 1))[:, 0], yerr= preproc_y.inverse_transform(y_pred_std_best.reshape(-1, 1))[:, 0], fmt = 'o', marker=None, ms = 4, alpha = 0.3, label = 'Training: Synthetic, Testing: '+sim, c = 'k')\n",
    "    \n",
    "    #for label_ind in [0, 1, 2]:\n",
    "    #    surveyindx = np.where(label_test == label_ind)\n",
    "    #    offset = 0.0\n",
    "\n",
    "    #    ax.errorbar(preproc_y.inverse_transform(y_test)[surveyindx][:, 0], offset + preproc_y.inverse_transform(y_pred_mean_best.reshape(-1, 1))[surveyindx][:, 0], yerr= preproc_y.inverse_transform(y_pred_std_best.reshape(-1, 1))[surveyindx][:, 0], fmt = 'o', marker=None, ms = 4, alpha = 0.3, label = 'Training: Synthetic, Testing: '+surveystring[label_ind], c = colorstring[label_ind])\n",
    "\n",
    "ax.set_ylabel(r'$z_{phot}$', fontsize=25)\n",
    "ax.set_xlabel(r'$z_{spec}$', fontsize=25)\n",
    "\n",
    "ax.set_xlim(0.0, 1.5)\n",
    "ax.set_ylim(0.0, 1.5)\n",
    "\n",
    "plt.tight_layout()\n",
    "# plt.axes().set_aspect('equal')\n",
    "\n",
    "#leg1 = ax.legend(fontsize = 'xx-large', markerscale=1., numpoints=2)\n",
    "fake_lines = [ax.plot([], [], c = \"black\", linestyle = '-')[0] for i in range(0,11)]\n",
    "param_labels = [\"sim: \" + sim, \"num train: \" + str(num_train), \"num test: \" + str(num_test), \"n epochs: \" + str(n_epochs), \"D: \" + str(D), \"K: \" + str(K), \"learning rate: \" + str(learning_rate), \"decay rate: \" + str(decay_rate), \"batch size: \" + str(batch_size), \"n bins: \" + str(n_bins), \"select per bin: \" + str(select_per_bin)]\n",
    "ax.legend(handles = fake_lines, labels = param_labels, loc = \"upper left\")\n",
    "if prtb:\n",
    "    ax.set_title(\"Perturbed\")\n",
    "#ax.add_artist(leg1)\n",
    "##fig.savefig('phoz_compare_surveys_numtrain_' + str(num_train) + '.pdf', bbox_inches='tight')\n",
    "fig.savefig(\"/data/a/cpac/aurora/MDN_phoZ/training_plots/phoz_\" + sim + \"_ntrain\" + str(num_train) + \"_ntest\" + str(num_test) + \"_nepochs\" + str(n_epochs) + \"_D\" + str(D) + \"_K\" + str(K) + \"_lr\" + str(learning_rate) + \"_dr\" + str(decay_rate) + \"_bs\" + str(batch_size) + \"_re\" + str(resampleTrain) + \"_nbins\" + str(n_bins) + \"_spb\" + str(select_per_bin) + suffix + \".png\")\n",
    "#fig.savefig(\"training_plots/zp_anti-attempt.png\")\n",
    "fig.show()\n",
    "# num train, num test, n epochs, D, K, learning rate, decay rate, batch size, nbins, select per bin"
   ]
  },
  {
   "cell_type": "code",
   "execution_count": null,
   "metadata": {},
   "outputs": [],
   "source": [
    "print(num_test)"
   ]
  },
  {
   "cell_type": "code",
   "execution_count": null,
   "metadata": {},
   "outputs": [],
   "source": [
    "# Plot a pdf\n",
    "from scipy import stats\n",
    "nrows = 3\n",
    "#fig, axes = plt.subplots(nrows=nrows, ncols=1, sharex = True, figsize=(8, nrows*3), num='pdfs')\n",
    "fig, axes = help_funcs.plot_pdfs(y_pred_3means, y_pred_3weights, y_pred_3std, y_test_all, num_train = num_train, num_test = num_test, num=nrows, label = 'Training with synthetic data', color = 'red', train=False)\n",
    "# fig.savefig(\"quick_pdfs.png\")"
   ]
  },
  {
   "cell_type": "markdown",
   "metadata": {},
   "source": [
    "## Sigma_NMAD, OutFrac"
   ]
  },
  {
   "cell_type": "code",
   "execution_count": 30,
   "metadata": {},
   "outputs": [
    {
     "name": "stdout",
     "output_type": "stream",
     "text": [
      "(1000,)\n",
      "0.005501166089856722\n",
      "13.8\n"
     ]
    }
   ],
   "source": [
    "sigmaNMAD = help_funcs.sigmaNMAD(y_test.T[0], y_pred_mean)\n",
    "outFrac = help_funcs.outlierFrac(y_test.T[0], y_pred_mean, threshold = 0.15)\n",
    "print(sigmaNMAD)\n",
    "print(outFrac)"
   ]
  },
  {
   "cell_type": "code",
   "execution_count": 45,
   "metadata": {},
   "outputs": [
    {
     "name": "stdout",
     "output_type": "stream",
     "text": [
      "[0.005 0.004 0.005 0.004 0.    0.032 0.    0.001 0.008 0.003 0.004 0.\n",
      " 0.005 0.102 0.003 0.058 0.    0.011 0.009 0.   ]\n",
      "[58.586  0.    21.935  6.557  0.    35.135  0.     0.    11.111  0.\n",
      "  0.     0.     0.    53.333  0.     5.882  0.     0.     4.724  0.   ]\n"
     ]
    }
   ],
   "source": [
    "sigmaNMAD_array, outFr_array, bins = help_funcs.validate(y_test.T[0], y_pred_mean) # Why is y_test in a weird shape before I do this?\n",
    "print(sigmaNMAD_array)\n",
    "print(outFr_array) # Should those 0's really be zeros?"
   ]
  },
  {
   "cell_type": "code",
   "execution_count": 98,
   "metadata": {},
   "outputs": [
    {
     "name": "stdout",
     "output_type": "stream",
     "text": [
      "length zero for bin  6\n",
      "length zero for bin  11\n",
      "length zero for bin  12\n",
      "length zero for bin  13\n",
      "length zero for bin  14\n"
     ]
    },
    {
     "data": {
      "image/png": "[encoded data removed]",
      "text/plain": [
       "<Figure size 432x288 with 1 Axes>"
      ]
     },
     "metadata": {
      "needs_background": "light"
     },
     "output_type": "display_data"
    }
   ],
   "source": [
    "# Perturb lots of bands (approach b, c, or d) AFTER training\n",
    "ncol = 3 # Should this actually be vertical and outside the plots, perhaps?\n",
    "metric_name = \"outFrac\"\n",
    "\n",
    "fig, ax = plt.subplots(1, 1, sharex = True)\n",
    "band_names = [\"u-g\", \"g-r\", \"r-i\", \"i-z\", \"mag(i)\"]\n",
    "\n",
    "# Validate and plot og data first\n",
    "sigmaNMAD_array, outFr_array, bins = help_funcs.validate(y_test.T[0], y_pred_mean)\n",
    "if metric_name == \"sigma\":\n",
    "    metric = sigmaNMAD_array\n",
    "    metric_label = r'$\\sigma_{NMAD}$'\n",
    "elif metric_name == \"outFrac\":\n",
    "    metric = outFr_array\n",
    "fig, ax = help_funcs.plot_metric(metric, metric_name, approach = None, bins = bins, fig = fig, ax = ax, label = sim, color = \"black\", linestyle = '-')\n",
    "leg1 = ax.legend(ncol = ncol, loc = \"upper right\")\n",
    "fake_lines = [ax.plot([], [], c = \"black\", linestyle = '-')[0] for i in range(0,10)]\n",
    "param_labels = [\"n epochs: \" + str(n_epochs), \"D: \" + str(D), \"K: \" + str(K), \"learning rate: \" + str(learning_rate), \"decay rate: \" + str(decay_rate), \"batch size: \" + str(batch_size)]\n",
    "ax.legend(handles = fake_lines, labels = param_labels, loc = \"upper left\")\n",
    "ax.add_artist(leg1)\n",
    "fig.savefig(\"training_plots/\" + sim + \"_\" + metric_name + \".png\")"
   ]
  },
  {
   "cell_type": "markdown",
   "metadata": {},
   "source": [
    "### Special approach for version \"a\""
   ]
  },
  {
   "cell_type": "code",
   "execution_count": null,
   "metadata": {},
   "outputs": [],
   "source": [
    "# For approach a, perturb each band by 5 delta_c's between 5 and 50%. Plot each of those outcomes (one plot per band)\n",
    "approach = 'a'\n",
    "metric_name = \"sigma\"\n",
    "sel_ind = 0 # pick a survey\n",
    "sel = (label_test == sel_ind) # masks the selection index\n",
    "xzero_correction = np.loadtxt(save_mod + '_xzero_' + surveystring[sel_ind])\n",
    "\n",
    "delta_c = [1.05, 1.1, 1.2, 1.3, 1.4, 1.5]\n",
    "sigma_y_lims = [0,0.35]\n",
    "sigma_y_lims_rel = [-1,5]\n",
    "outFr_y_lims = [0,100]\n",
    "outFr_y_lims_rel = [-0.5,1.5]\n",
    "ncols = 4\n",
    "\n",
    "for band_n in [0, 1, 2, 3, 4]:\n",
    "    fig, (ax1, ax2) = plt.subplots(2, 1, sharex = True, gridspec_kw={'height_ratios': [3, 2]})\n",
    "    # Start with original\n",
    "    og_y_pred_mean, og_y_pred_std  = help_funcs.prediction_zp(X_test[sel], xzero_correction, model_train, preproc, preproc_y)\n",
    "    og_sigmaNMAD_array, og_outFr_array, bins = help_funcs.validate(y_test, sel, og_y_pred_mean)\n",
    "    if metric_name == \"sigma\":\n",
    "        og_metric = og_sigmaNMAD_array\n",
    "        metric_label = r'$\\sigma_{NMAD}$'\n",
    "        y_lims = sigma_y_lims\n",
    "        y_lims_rel = sigma_y_lims_rel\n",
    "    elif metric_name == \"outFrac\":\n",
    "        og_metric = og_outFr_array\n",
    "        y_lims = outFr_y_lims\n",
    "        y_lims_rel = outFr_y_lims_rel\n",
    "    fig, ax1 = help_funcs.plot_metric(og_metric, metric_label, approach, band_n, fig = fig, ax = ax1, label = \"original\", color = \"black\")\n",
    "    ax1.legend()\n",
    "    \n",
    "    # Now perturb\n",
    "    prtb_X_test_lst = help_funcs.perturb(X_test, band_n, delta_c, approach, X_err = X_err)\n",
    "    for i, prtb_X_test in enumerate(prtb_X_test_lst):\n",
    "        #print(\"Top of the morning to ya\")\n",
    "        prtb_y_pred_mean, prtb_y_pred_std  = help_funcs.prediction_zp(prtb_X_test[sel], xzero_correction, model_train, preproc, preproc_y)\n",
    "        this_label = str(math.trunc((delta_c[i] - 1)*100 + 0.5)) + \"%\"\n",
    "\n",
    "        sigmaNMAD_array, outFr_array, bins = help_funcs.validate(y_test, sel, prtb_y_pred_mean)\n",
    "        if metric_name == \"sigma\":\n",
    "            metric = sigmaNMAD_array\n",
    "            metric_label = r'$\\sigma_{NMAD}$'\n",
    "        elif metric_name == \"outFrac\":\n",
    "            metric = outFr_array\n",
    "        fig, ax1 = help_funcs.plot_metric(metric, metric_label, approach, band_n, fig = fig, ax = ax1, label = this_label, linestyle = '--')\n",
    "        ax1.legend(ncol = ncols)\n",
    "    \n",
    "        # Look at relative difference\n",
    "        relative_diff = (metric[:-1] - og_metric[:-1]) / og_metric[:-1] # remove last value, which is always 0\n",
    "        #print(relative_diff)\n",
    "        ax2.plot(bins[:-1], relative_diff, linestyle = \":\")\n",
    "        ax2.set_ylabel(\"Rel diff\")\n",
    "        ax2.set_xlabel(\"z bins\")\n",
    "    \n",
    "    ax1.set_ylim(y_lims[0],y_lims[1])\n",
    "    ax1.set_xlim(0,1)\n",
    "    ax2.set_ylim(y_lims_rel[0],y_lims_rel[1])\n",
    "    ax2.set_xlim(0,1)\n",
    "    fig.savefig(metric_name + \"_\" + approach + \"_band_\" + str(band_n) + \"_rel_corr\" + \".png\")\n",
    "    fig.show()"
   ]
  },
  {
   "cell_type": "markdown",
   "metadata": {},
   "source": [
    "### Someday, do zero-point correction"
   ]
  },
  {
   "cell_type": "code",
   "execution_count": null,
   "metadata": {},
   "outputs": [],
   "source": [
    "for sel_ind in [0, 1, 2]:\n",
    "\n",
    "    # Should cover at least the extent of the true redshifts.\n",
    "    zgrid = np.arange(-0.1,0.8,0.01)\n",
    "\n",
    "    # Selection. SDSS galaxies above z>0.01.\n",
    "    sel = (label_test==sel_ind)#&(y_test>0.01) # Why did we have to get rid of this y_test part again?\n",
    "\n",
    "    # Value to reduce the likelihood ratio significance.\n",
    "    # Adjust higher for larger samples.\n",
    "    extra_cov = (7.)**2\n",
    "    # Integration steps to marginalize photometric noise.\n",
    "    Nintegral = 10\n",
    "    # Clip galaxies with crazy low likelihoods. Roughly number of sigmas.\n",
    "    cutoff = 5\n",
    "    # Steps of the MCMC.\n",
    "    Nchain = 100\n",
    "\n",
    "    # print(X_err[sel])\n",
    "    errors = X_err[sel].copy()\n",
    "    # Sometimes it's good to add more error.\n",
    "    # Our models will not be accurate up to S/N~1000\n",
    "    # errors = np.sqrt(errors**2 + 0.02**2)\n",
    "\n",
    "    # Step size of the proposal distribution.\n",
    "    step_size = 0.005\n",
    "\n",
    "    xchain, P = zeropoints.run_zp_chain(\n",
    "        preproc,\n",
    "        preproc_y,\n",
    "        model_train,\n",
    "        y_test[sel], \n",
    "        X_test[sel].copy(), \n",
    "        errors, \n",
    "        Nintegral,\n",
    "        Nchain,\n",
    "    #     method = \"exact\", # Exact likelihood\n",
    "        method = \"approximate\", # Approximate likelihood.\n",
    "        params_init = None,\n",
    "        #params_init = pinit,\n",
    "        cutoff = cutoff, \n",
    "        extra_cov = extra_cov,\n",
    "        step_size = step_size,\n",
    "        zgrid = zgrid,\n",
    "        D = D\n",
    "    )\n",
    "\n",
    "    xzero_corr = xchain[P.argmin()]\n",
    "    np.savetxt(save_mod + '_xzero_' + surveystring[sel_ind], xzero_corr)"
   ]
  }
 ],
 "metadata": {
  "anaconda-cloud": {},
  "kernelspec": {
   "display_name": "ML_env",
   "language": "python",
   "name": "ml_env"
  },
  "language_info": {
   "codemirror_mode": {
    "name": "ipython",
    "version": 3
   },
   "file_extension": ".py",
   "mimetype": "text/x-python",
   "name": "python",
   "nbconvert_exporter": "python",
   "pygments_lexer": "ipython3",
   "version": "3.7.9"
  }
 },
 "nbformat": 4,
 "nbformat_minor": 4
}
