{
 "cells": [
  {
   "cell_type": "code",
   "execution_count": 1,
   "metadata": {
    "tags": []
   },
   "outputs": [],
   "source": [
    "import numpy as np\n",
    "import matplotlib.pylab as plt\n",
    "\n",
    "import tensorflow as tf\n",
    "import tensorflow.keras as keras\n",
    "import tensorflow_probability as tfp\n",
    "tfd = tfp.distributions\n",
    "from tensorflow.keras.callbacks import ModelCheckpoint, EarlyStopping, Callback\n",
    "from tensorflow.keras.models import load_model, Sequential, Model\n",
    "\n",
    "# Activate TF2 behavior:\n",
    "from tensorflow.python import tf2\n",
    "if not tf2.enabled():\n",
    "    import tensorflow.compat.v2 as tf\n",
    "    tf.enable_v2_behavior()\n",
    "    assert tf2.enabled()\n",
    "\n",
    "np.random.seed(12211)  \n",
    "\n",
    "# %load_ext line_profiler\n",
    "# %reload_ext autoreload\n",
    "# %autoreload 1\n",
    "# %aimport help_train\n",
    "import help_train"
   ]
  },
  {
   "cell_type": "code",
   "execution_count": 2,
   "metadata": {},
   "outputs": [],
   "source": [
    "train_mode = True # False if you don't want to train again"
   ]
  },
  {
   "cell_type": "code",
   "execution_count": 3,
   "metadata": {},
   "outputs": [],
   "source": [
    "num_train = 9999 # 10000, 4000 # Max: 200000 \n",
    "num_test = 1000 # 1000 # Max: 20000"
   ]
  },
  {
   "cell_type": "code",
   "execution_count": 4,
   "metadata": {},
   "outputs": [],
   "source": [
    "Trainset = ['FSPSlin', 'FSPSlog', 'FSPSall', 'OBS', 'UM', 'BP', 'UMnew'][6] # Soon there will be more!\n",
    "# Testset = ['FSPSlin', 'FSPSlog', 'FSPSall', 'OBS', 'UM', 'BP', 'UMnew'][3]\n",
    "Testset = ['FSPSlin', 'FSPSlog', 'FSPSall', 'OBS', 'UM', 'BP', 'UMnew', 'OBSuq'][7] # Test on the same things we tested before (SDSS)"
   ]
  },
  {
   "cell_type": "code",
   "execution_count": 5,
   "metadata": {},
   "outputs": [],
   "source": [
    "# Hyperparameters\n",
    "n_epochs = 20 # 100\n",
    "D = 5 #6  # number of features (in input space)\n",
    "K = 3 #16 # number of mixture components # a \"component\" of a GMM is one gaussian, right?\n",
    "\n",
    "learning_rate = 1e-4\n",
    "decay_rate= 1e-3\n",
    "batch_size = 1024\n",
    "\n",
    "# Here we define hyperparameters!\n",
    "save_mod = 'saved_hubs/tf2models/'+'Train_'+Trainset+'_lr_'+str(learning_rate)+'_dr'+str(decay_rate)+'_ne'+str(n_epochs)+'_k'+str(K)+'_nt'+str(num_train)"
   ]
  },
  {
   "cell_type": "code",
   "execution_count": 6,
   "metadata": {},
   "outputs": [
    {
     "name": "stdout",
     "output_type": "stream",
     "text": [
      "----------\n",
      "number of datapoints:  187462\n",
      "z-minmax:  0.0020016062 1.249997\n",
      "ColMag-min:  [-0.09145837 -0.05327791 -0.02479261 -0.10519464 12.000012  ]\n",
      "ColMag-max:  [ 3.825315   2.8303378  1.6937237  1.5019817 23.499979 ]\n",
      "----------\n",
      "----------\n",
      "number of datapoints:  10322\n",
      "z-minmax:  0.0020014732 1.249283\n",
      "ColMag-min:  [-4.1676056e-02 -7.1866615e-03  5.6203555e-02 -6.4645730e-02\n",
      "  1.2003667e+01]\n",
      "ColMag-max:  [ 3.6190994  2.7985296  1.6097487  1.4396983 23.4981   ]\n",
      "----------\n",
      "----------\n",
      "number of datapoints:  4339\n",
      "z-minmax:  7.926745e-06 7.01\n",
      "ColMag-min:  [ -5.188479   -3.8901405  -2.1034117 -15.92296    12.114799 ]\n",
      "ColMag-max:  [17.02884   7.925968  4.182415  2.264679 25.709858]\n",
      "----------\n"
     ]
    }
   ],
   "source": [
    "X_train, y_train, _, _ = help_train.loadTrainTest_july(dirIn = '/data/a/cpac/nramachandra/Projects/phoZ/Data/fromGalaxev/photozs/datasets/data_july_2020/')\n",
    "X_test, y_test, X_err, label_test = help_train.loadTest(Testset, dirIn = '/data/a/cpac/aurora/MDN_phoZ/Data/fromGalaxev/photozs/datasets/data_feb_2021/') # data_feb_2021"
   ]
  },
  {
   "cell_type": "code",
   "execution_count": 7,
   "metadata": {},
   "outputs": [],
   "source": [
    "X_train, y_train, X_trainShuffleOrder = help_train.shuffle(X_train, y_train) # literally just shuffle the data\n",
    "# X_test, y_test, label_test, X_testShuffleOrder = shuffleOBS(X_test, y_test, test_labels) # Why aren't we doing this?"
   ]
  },
  {
   "cell_type": "code",
   "execution_count": 8,
   "metadata": {},
   "outputs": [],
   "source": [
    "min_col = [-0.09145837, -0.05327791, -0.02479261, -0.10519464] #-0.03 #-5 # Same as what we got from print_limits\n",
    "max_col = [ 3.825315,   2.8303378,  1.6937237,  1.5019817] #3.4 #5\n",
    "min_mag = 12\n",
    "max_mag = 23\n",
    "min_z = 0.0 #np.min(y_train)\n",
    "max_z = 1.1 #np.max(y_train)\n",
    "\n",
    "mins_and_maxs = [min_col, max_col, min_mag, max_mag, min_z, max_z]\n",
    "\n",
    "X_test, y_test, label_test, mask_cond = help_train.minmax_cutsOBSarr(X_test, y_test, label_test, mins_and_maxs) # Make sure all our data falls within the desired range (and bins)"
   ]
  },
  {
   "cell_type": "code",
   "execution_count": 9,
   "metadata": {
    "tags": []
   },
   "outputs": [
    {
     "data": {
      "image/png": "[encoded data removed]",
      "text/plain": [
       "<Figure size 432x288 with 1 Axes>"
      ]
     },
     "metadata": {
      "needs_background": "light"
     },
     "output_type": "display_data"
    },
    {
     "name": "stdout",
     "output_type": "stream",
     "text": [
      "(79600,)\n"
     ]
    }
   ],
   "source": [
    "# Notice, this cell is recursive. (If you run it multiple times, the resulting plot will change)\n",
    "resampleTrain = True\n",
    "n_bins = 200 \n",
    "select_per_bin = 400 # 500, 50\n",
    "\n",
    "if resampleTrain:\n",
    "    X_train, y_train, resampled_ind = help_train.resample(X_train, y_train, n_bins, select_per_bin) # What is \"rest\"? And where did the original data go?"
   ]
  },
  {
   "cell_type": "code",
   "execution_count": 10,
   "metadata": {
    "tags": []
   },
   "outputs": [
    {
     "name": "stdout",
     "output_type": "stream",
     "text": [
      "Size of features in training data: (79600, 5)\n",
      "Size of output in training data: (79600,)\n",
      "Size of features in test data: (2767, 5)\n",
      "Size of output in test data: (2767,)\n"
     ]
    }
   ],
   "source": [
    "print(\"Size of features in training data: {}\".format(X_train.shape)) # what do we mean features?\n",
    "print(\"Size of output in training data: {}\".format(y_train.shape))\n",
    "print(\"Size of features in test data: {}\".format(X_test.shape))\n",
    "print(\"Size of output in test data: {}\".format(y_test.shape))"
   ]
  },
  {
   "cell_type": "code",
   "execution_count": 11,
   "metadata": {},
   "outputs": [],
   "source": [
    "# Previously, we said \"this notebook doesn't train models, it deploys them\"\n",
    "# Now, we are training models (I think?)\n",
    "\n",
    "from sklearn.pipeline import Pipeline\n",
    "from sklearn.preprocessing import StandardScaler, MinMaxScaler\n",
    "import pickle\n",
    "\n",
    "# This preproc stuff is related to \"scaling routine\" -- right? Yes :)\n",
    "preproc = Pipeline([('stdscaler', StandardScaler())]) # This preproc tool is what allows us to transform inputs into min-max space (and therefore to feed it to the trained model)\n",
    "# preproc = Pipeline([('stdscaler', MinMaxScaler())])\n",
    "X_train = preproc.fit_transform(X_train) # Not sure how \"fit_transform\" is different from the original \"transform\"?\n",
    "\n",
    "scalerfile = save_mod + '_scaling_X'\n",
    "pickle.dump(preproc, open(scalerfile, 'wb'))\n",
    "preproc = pickle.load(open(scalerfile, 'rb'))\n",
    "\n",
    "X_test = preproc.transform(X_test) # This transformation puts our input into min-max space\n",
    "\n",
    "# preproc_y = Pipeline([('stdscaler', StandardScaler())])\n",
    "preproc_y = Pipeline([('stdscaler', MinMaxScaler())])\n",
    "\n",
    "y_train = preproc_y.fit_transform(y_train.reshape(-1, 1))\n",
    "\n",
    "scalerfile = save_mod + '_scaling_y'\n",
    "pickle.dump(preproc_y, open(scalerfile, 'wb'))\n",
    "preproc_y = pickle.load(open(scalerfile, 'rb'))\n",
    "\n",
    "y_test = preproc_y.transform(y_test.reshape(-1, 1))"
   ]
  },
  {
   "cell_type": "code",
   "execution_count": 12,
   "metadata": {
    "tags": []
   },
   "outputs": [
    {
     "name": "stdout",
     "output_type": "stream",
     "text": [
      "----------\n",
      "number of datapoints:  79600\n",
      "z-minmax:  0.0 1.0000001\n",
      "ColMag-min:  [-1.6507052 -2.2788894 -2.3348138 -2.2950504 -4.2421055]\n",
      "ColMag-max:  [4.724002  4.212091  3.5302377 3.8734057 1.2678376]\n",
      "----------\n",
      "----------\n",
      "number of datapoints:  2767\n",
      "z-minmax:  -0.0015975338 0.8793446\n",
      "ColMag-min:  [-1.6387041 -2.2345772 -2.3220117 -2.3038087 -4.1878986]\n",
      "ColMag-max:  [4.745621  4.1498146 3.6145232 3.919013  1.0281243]\n",
      "----------\n"
     ]
    }
   ],
   "source": [
    "help_train.print_limits(X_train, y_train)\n",
    "\n",
    "help_train.print_limits(X_test, y_test)"
   ]
  },
  {
   "cell_type": "code",
   "execution_count": 13,
   "metadata": {},
   "outputs": [
    {
     "data": {
      "image/png": "[encoded data removed]",
      "text/plain": [
       "<Figure size 432x288 with 1 Axes>"
      ]
     },
     "metadata": {
      "needs_background": "light"
     },
     "output_type": "display_data"
    }
   ],
   "source": [
    "# That is a very messy histogram :P Looks like the precision on test is much lower than on train?\n",
    "plt.figure(23)\n",
    "\n",
    "plt.hist(y_train, density=True, bins = 250, histtype='step', label='train')\n",
    "plt.hist(y_test, density=True, bins = 250, histtype='step', label='test')\n",
    "plt.legend()\n",
    "plt.savefig(\"precision\" + str(num_train) + \".png\")"
   ]
  },
  {
   "cell_type": "code",
   "execution_count": 14,
   "metadata": {},
   "outputs": [],
   "source": [
    "class PrintLR(tf.keras.callbacks.Callback): # Print learning rate at every epoch\n",
    "    def on_epoch_end(self, epoch, logs=None):\n",
    "        print('\\nLearning rate for epoch {} is {}'.format(epoch + 1, model_train.optimizer.lr.numpy()))"
   ]
  },
  {
   "cell_type": "code",
   "execution_count": 15,
   "metadata": {},
   "outputs": [],
   "source": [
    "callbacks = [\n",
    "    tf.keras.callbacks.TensorBoard(log_dir='./logs'),\n",
    "    # tf.keras.callbacks.ModelCheckpoint(filepath=checkpoint_prefix, save_weights_only=True),\n",
    "    tf.keras.callbacks.LearningRateScheduler(decay_rate),\n",
    "    PrintLR()\n",
    "]"
   ]
  },
  {
   "cell_type": "code",
   "execution_count": 16,
   "metadata": {},
   "outputs": [],
   "source": [
    "# These are the network parameters!! (This whole cell is network architecture)\n",
    "\n",
    "# x = tf.keras.layers.InputLayer(input_shape=(D,)),\n",
    "non_lin_act = tf.nn.relu #tf.nn.tanh\n",
    "y_true = tf.keras.Input(shape=(1,))\n",
    "inputs = tf.keras.Input(shape=(D,))\n",
    "layer_1 = tf.keras.layers.Dense(units=512, activation=non_lin_act)(inputs)\n",
    "layer_1a = tf.keras.layers.Dense(units=1024, activation=non_lin_act)(layer_1)\n",
    "layer_1b = tf.keras.layers.Dense(units=2048, activation=non_lin_act)(layer_1a)\n",
    "layer_1c = tf.keras.layers.Dense(units=1024, activation=non_lin_act)(layer_1b)\n",
    "layer_2 = tf.keras.layers.Dense(units=512, activation=non_lin_act)(layer_1c)\n",
    "layer_3 = tf.keras.layers.Dense(units=256, activation=non_lin_act)(layer_2)\n",
    "layer_4 = tf.keras.layers.Dense(units=128, activation=non_lin_act)(layer_3)\n",
    "layer_5 = tf.keras.layers.Dense(units=64, activation=non_lin_act)(layer_4)\n",
    "layer_6 = tf.keras.layers.Dense(units=32, activation=non_lin_act)(layer_5)\n",
    "mu = tf.keras.layers.Dense(units=K, activation=None, name=\"mu\")(layer_6)\n",
    "var = tf.keras.backend.exp(tf.keras.layers.Dense(units=K, activation=tf.nn.softplus, name=\"sigma\")(layer_6))\n",
    "pi = tf.keras.layers.Dense(units=K, activation=tf.nn.softmax, name=\"mixing\")(layer_6)"
   ]
  },
  {
   "cell_type": "code",
   "execution_count": 17,
   "metadata": {},
   "outputs": [],
   "source": [
    "model_train = Model([inputs, y_true], [mu, var, pi], name='mdn') # Previously, this was the mixed density model (is that the same as a Gaussian mixture model?)"
   ]
  },
  {
   "cell_type": "code",
   "execution_count": 18,
   "metadata": {
    "tags": []
   },
   "outputs": [
    {
     "name": "stdout",
     "output_type": "stream",
     "text": [
      "Model: \"mdn\"\n",
      "__________________________________________________________________________________________________\n",
      "Layer (type)                    Output Shape         Param #     Connected to                     \n",
      "==================================================================================================\n",
      "input_2 (InputLayer)            [(None, 5)]          0                                            \n",
      "__________________________________________________________________________________________________\n",
      "dense (Dense)                   (None, 512)          3072        input_2[0][0]                    \n",
      "__________________________________________________________________________________________________\n",
      "dense_1 (Dense)                 (None, 1024)         525312      dense[0][0]                      \n",
      "__________________________________________________________________________________________________\n",
      "dense_2 (Dense)                 (None, 2048)         2099200     dense_1[0][0]                    \n",
      "__________________________________________________________________________________________________\n",
      "dense_3 (Dense)                 (None, 1024)         2098176     dense_2[0][0]                    \n",
      "__________________________________________________________________________________________________\n",
      "dense_4 (Dense)                 (None, 512)          524800      dense_3[0][0]                    \n",
      "__________________________________________________________________________________________________\n",
      "dense_5 (Dense)                 (None, 256)          131328      dense_4[0][0]                    \n",
      "__________________________________________________________________________________________________\n",
      "dense_6 (Dense)                 (None, 128)          32896       dense_5[0][0]                    \n",
      "__________________________________________________________________________________________________\n",
      "dense_7 (Dense)                 (None, 64)           8256        dense_6[0][0]                    \n",
      "__________________________________________________________________________________________________\n",
      "dense_8 (Dense)                 (None, 32)           2080        dense_7[0][0]                    \n",
      "__________________________________________________________________________________________________\n",
      "sigma (Dense)                   (None, 3)            99          dense_8[0][0]                    \n",
      "__________________________________________________________________________________________________\n",
      "input_1 (InputLayer)            [(None, 1)]          0                                            \n",
      "__________________________________________________________________________________________________\n",
      "mu (Dense)                      (None, 3)            99          dense_8[0][0]                    \n",
      "__________________________________________________________________________________________________\n",
      "tf.math.exp (TFOpLambda)        (None, 3)            0           sigma[0][0]                      \n",
      "__________________________________________________________________________________________________\n",
      "mixing (Dense)                  (None, 3)            99          dense_8[0][0]                    \n",
      "__________________________________________________________________________________________________\n",
      "tf.compat.v1.transpose (TFOpLam (1, None)            0           input_1[0][0]                    \n",
      "__________________________________________________________________________________________________\n",
      "tf.convert_to_tensor_3 (TFOpLam (1, None)            0           tf.compat.v1.transpose[0][0]     \n",
      "__________________________________________________________________________________________________\n",
      "tf.convert_to_tensor_4 (TFOpLam (1, None)            0           tf.convert_to_tensor_3[0][0]     \n",
      "__________________________________________________________________________________________________\n",
      "tf.compat.v1.shape (TFOpLambda) (2,)                 0           tf.convert_to_tensor_4[0][0]     \n",
      "__________________________________________________________________________________________________\n",
      "tf.convert_to_tensor_5 (TFOpLam (2,)                 0           tf.compat.v1.shape[0][0]         \n",
      "__________________________________________________________________________________________________\n",
      "tf.__operators__.getitem (Slici (2,)                 0           tf.convert_to_tensor_5[0][0]     \n",
      "__________________________________________________________________________________________________\n",
      "tf.__operators__.getitem_1 (Sli (0,)                 0           tf.convert_to_tensor_5[0][0]     \n",
      "__________________________________________________________________________________________________\n",
      "tf.concat (TFOpLambda)          (3,)                 0           tf.__operators__.getitem[0][0]   \n",
      "                                                                 tf.__operators__.getitem_1[0][0] \n",
      "__________________________________________________________________________________________________\n",
      "tf.reshape (TFOpLambda)         (1, None, 1)         0           tf.convert_to_tensor_3[0][0]     \n",
      "                                                                 tf.concat[0][0]                  \n",
      "__________________________________________________________________________________________________\n",
      "tf.convert_to_tensor_2 (TFOpLam (None, 3)            0           tf.math.exp[0][0]                \n",
      "__________________________________________________________________________________________________\n",
      "tf.convert_to_tensor_6 (TFOpLam (1, None, 1)         0           tf.reshape[0][0]                 \n",
      "__________________________________________________________________________________________________\n",
      "tf.convert_to_tensor_7 (TFOpLam (None, 3)            0           tf.convert_to_tensor_2[0][0]     \n",
      "__________________________________________________________________________________________________\n",
      "tf.convert_to_tensor_1 (TFOpLam (None, 3)            0           mu[0][0]                         \n",
      "__________________________________________________________________________________________________\n",
      "tf.math.truediv (TFOpLambda)    (1, None, 3)         0           tf.convert_to_tensor_6[0][0]     \n",
      "                                                                 tf.convert_to_tensor_7[0][0]     \n",
      "__________________________________________________________________________________________________\n",
      "tf.math.truediv_1 (TFOpLambda)  (None, 3)            0           tf.convert_to_tensor_1[0][0]     \n",
      "                                                                 tf.convert_to_tensor_7[0][0]     \n",
      "__________________________________________________________________________________________________\n",
      "tf.math.squared_difference (TFO (1, None, 3)         0           tf.math.truediv[0][0]            \n",
      "                                                                 tf.math.truediv_1[0][0]          \n",
      "__________________________________________________________________________________________________\n",
      "tf.math.log (TFOpLambda)        (None, 3)            0           tf.convert_to_tensor_7[0][0]     \n",
      "__________________________________________________________________________________________________\n",
      "tf.convert_to_tensor (TFOpLambd (None, 3)            0           mixing[0][0]                     \n",
      "__________________________________________________________________________________________________\n",
      "tf.math.multiply (TFOpLambda)   (1, None, 3)         0           tf.math.squared_difference[0][0] \n",
      "__________________________________________________________________________________________________\n",
      "tf.__operators__.add (TFOpLambd (None, 3)            0           tf.math.log[0][0]                \n",
      "__________________________________________________________________________________________________\n",
      "tf.math.log_1 (TFOpLambda)      (None, 3)            0           tf.convert_to_tensor[0][0]       \n",
      "__________________________________________________________________________________________________\n",
      "tf.math.subtract (TFOpLambda)   (1, None, 3)         0           tf.math.multiply[0][0]           \n",
      "                                                                 tf.__operators__.add[0][0]       \n",
      "__________________________________________________________________________________________________\n",
      "tf.nn.log_softmax (TFOpLambda)  (None, 3)            0           tf.math.log_1[0][0]              \n",
      "__________________________________________________________________________________________________\n",
      "tf.__operators__.add_1 (TFOpLam (1, None, 3)         0           tf.math.subtract[0][0]           \n",
      "                                                                 tf.nn.log_softmax[0][0]          \n",
      "__________________________________________________________________________________________________\n",
      "tf.math.reduce_logsumexp (TFOpL (1, None)            0           tf.__operators__.add_1[0][0]     \n",
      "__________________________________________________________________________________________________\n",
      "tf.math.multiply_1 (TFOpLambda) (1, None)            0           tf.math.reduce_logsumexp[0][0]   \n",
      "__________________________________________________________________________________________________\n",
      "tf.math.reduce_mean (TFOpLambda ()                   0           tf.math.multiply_1[0][0]         \n",
      "__________________________________________________________________________________________________\n",
      "add_loss (AddLoss)              ()                   0           tf.math.reduce_mean[0][0]        \n",
      "==================================================================================================\n",
      "Total params: 5,425,417\n",
      "Trainable params: 5,425,417\n",
      "Non-trainable params: 0\n",
      "__________________________________________________________________________________________________\n"
     ]
    }
   ],
   "source": [
    "# Define custom loss\n",
    "def custom_loss(layer):\n",
    "    # Create a loss function that adds the MSE loss to the mean of all squared activations of a specific layer\n",
    "    def loss(y_true, mu, var, pi):\n",
    "        mixture_distribution = tfp.distributions.Categorical(probs=pi)\n",
    "        distribution = tfp.distributions.Normal(loc=mu, scale=var)\n",
    "        likelihood = tfp.distributions.MixtureSameFamily(mixture_distribution=mixture_distribution,components_distribution=distribution)\n",
    "\n",
    "        log_likelihood = -1.0*likelihood.log_prob(tf.transpose(y_true)) # A little confusing (talk later)\n",
    "        mean_loss = tf.reduce_mean(log_likelihood)\n",
    "\n",
    "        return mean_loss  \n",
    "    return loss\n",
    "    \n",
    "model_train.add_loss(custom_loss(inputs)(y_true, mu, var, pi))\n",
    "model_train.compile(optimizer='Nadam')\n",
    "model_train.summary()"
   ]
  },
  {
   "cell_type": "code",
   "execution_count": 22,
   "metadata": {},
   "outputs": [
    {
     "data": {
      "text/plain": [
       "0.0001"
      ]
     },
     "execution_count": 22,
     "metadata": {},
     "output_type": "execute_result"
    }
   ],
   "source": [
    "learning_rate"
   ]
  },
  {
   "cell_type": "code",
   "execution_count": 19,
   "metadata": {
    "tags": [
     "outputPrepend"
    ]
   },
   "outputs": [
    {
     "name": "stdout",
     "output_type": "stream",
     "text": [
      "Epoch 1/20\n"
     ]
    },
    {
     "ename": "TypeError",
     "evalue": "'float' object is not callable",
     "output_type": "error",
     "traceback": [
      "\u001b[0;31m---------------------------------------------------------------------------\u001b[0m",
      "\u001b[0;31mTypeError\u001b[0m                                 Traceback (most recent call last)",
      "\u001b[0;32m~/anaconda3/envs/tf_v100/lib/python3.8/site-packages/tensorflow/python/keras/callbacks.py\u001b[0m in \u001b[0;36mon_epoch_begin\u001b[0;34m(self, epoch, logs)\u001b[0m\n\u001b[1;32m   1904\u001b[0m       \u001b[0mlr\u001b[0m \u001b[0;34m=\u001b[0m \u001b[0mfloat\u001b[0m\u001b[0;34m(\u001b[0m\u001b[0mK\u001b[0m\u001b[0;34m.\u001b[0m\u001b[0mget_value\u001b[0m\u001b[0;34m(\u001b[0m\u001b[0mself\u001b[0m\u001b[0;34m.\u001b[0m\u001b[0mmodel\u001b[0m\u001b[0;34m.\u001b[0m\u001b[0moptimizer\u001b[0m\u001b[0;34m.\u001b[0m\u001b[0mlr\u001b[0m\u001b[0;34m)\u001b[0m\u001b[0;34m)\u001b[0m\u001b[0;34m\u001b[0m\u001b[0;34m\u001b[0m\u001b[0m\n\u001b[0;32m-> 1905\u001b[0;31m       \u001b[0mlr\u001b[0m \u001b[0;34m=\u001b[0m \u001b[0mself\u001b[0m\u001b[0;34m.\u001b[0m\u001b[0mschedule\u001b[0m\u001b[0;34m(\u001b[0m\u001b[0mepoch\u001b[0m\u001b[0;34m,\u001b[0m \u001b[0mlr\u001b[0m\u001b[0;34m)\u001b[0m\u001b[0;34m\u001b[0m\u001b[0;34m\u001b[0m\u001b[0m\n\u001b[0m\u001b[1;32m   1906\u001b[0m     \u001b[0;32mexcept\u001b[0m \u001b[0mTypeError\u001b[0m\u001b[0;34m:\u001b[0m  \u001b[0;31m# Support for old API for backward compatibility\u001b[0m\u001b[0;34m\u001b[0m\u001b[0;34m\u001b[0m\u001b[0m\n",
      "\u001b[0;31mTypeError\u001b[0m: 'float' object is not callable",
      "\nDuring handling of the above exception, another exception occurred:\n",
      "\u001b[0;31mTypeError\u001b[0m                                 Traceback (most recent call last)",
      "\u001b[0;32m<timed exec>\u001b[0m in \u001b[0;36m<module>\u001b[0;34m\u001b[0m\n",
      "\u001b[0;32m~/anaconda3/envs/tf_v100/lib/python3.8/site-packages/tensorflow/python/keras/engine/training.py\u001b[0m in \u001b[0;36mfit\u001b[0;34m(self, x, y, batch_size, epochs, verbose, callbacks, validation_split, validation_data, shuffle, class_weight, sample_weight, initial_epoch, steps_per_epoch, validation_steps, validation_batch_size, validation_freq, max_queue_size, workers, use_multiprocessing)\u001b[0m\n\u001b[1;32m   1088\u001b[0m       \u001b[0;32mfor\u001b[0m \u001b[0mepoch\u001b[0m\u001b[0;34m,\u001b[0m \u001b[0miterator\u001b[0m \u001b[0;32min\u001b[0m \u001b[0mdata_handler\u001b[0m\u001b[0;34m.\u001b[0m\u001b[0menumerate_epochs\u001b[0m\u001b[0;34m(\u001b[0m\u001b[0;34m)\u001b[0m\u001b[0;34m:\u001b[0m\u001b[0;34m\u001b[0m\u001b[0;34m\u001b[0m\u001b[0m\n\u001b[1;32m   1089\u001b[0m         \u001b[0mself\u001b[0m\u001b[0;34m.\u001b[0m\u001b[0mreset_metrics\u001b[0m\u001b[0;34m(\u001b[0m\u001b[0;34m)\u001b[0m\u001b[0;34m\u001b[0m\u001b[0;34m\u001b[0m\u001b[0m\n\u001b[0;32m-> 1090\u001b[0;31m         \u001b[0mcallbacks\u001b[0m\u001b[0;34m.\u001b[0m\u001b[0mon_epoch_begin\u001b[0m\u001b[0;34m(\u001b[0m\u001b[0mepoch\u001b[0m\u001b[0;34m)\u001b[0m\u001b[0;34m\u001b[0m\u001b[0;34m\u001b[0m\u001b[0m\n\u001b[0m\u001b[1;32m   1091\u001b[0m         \u001b[0;32mwith\u001b[0m \u001b[0mdata_handler\u001b[0m\u001b[0;34m.\u001b[0m\u001b[0mcatch_stop_iteration\u001b[0m\u001b[0;34m(\u001b[0m\u001b[0;34m)\u001b[0m\u001b[0;34m:\u001b[0m\u001b[0;34m\u001b[0m\u001b[0;34m\u001b[0m\u001b[0m\n\u001b[1;32m   1092\u001b[0m           \u001b[0;32mfor\u001b[0m \u001b[0mstep\u001b[0m \u001b[0;32min\u001b[0m \u001b[0mdata_handler\u001b[0m\u001b[0;34m.\u001b[0m\u001b[0msteps\u001b[0m\u001b[0;34m(\u001b[0m\u001b[0;34m)\u001b[0m\u001b[0;34m:\u001b[0m\u001b[0;34m\u001b[0m\u001b[0;34m\u001b[0m\u001b[0m\n",
      "\u001b[0;32m~/anaconda3/envs/tf_v100/lib/python3.8/site-packages/tensorflow/python/keras/callbacks.py\u001b[0m in \u001b[0;36mon_epoch_begin\u001b[0;34m(self, epoch, logs)\u001b[0m\n\u001b[1;32m    409\u001b[0m         \u001b[0;32mif\u001b[0m \u001b[0mnumpy_logs\u001b[0m \u001b[0;32mis\u001b[0m \u001b[0;32mNone\u001b[0m\u001b[0;34m:\u001b[0m  \u001b[0;31m# Only convert once.\u001b[0m\u001b[0;34m\u001b[0m\u001b[0;34m\u001b[0m\u001b[0m\n\u001b[1;32m    410\u001b[0m           \u001b[0mnumpy_logs\u001b[0m \u001b[0;34m=\u001b[0m \u001b[0mtf_utils\u001b[0m\u001b[0;34m.\u001b[0m\u001b[0mto_numpy_or_python_type\u001b[0m\u001b[0;34m(\u001b[0m\u001b[0mlogs\u001b[0m\u001b[0;34m)\u001b[0m\u001b[0;34m\u001b[0m\u001b[0;34m\u001b[0m\u001b[0m\n\u001b[0;32m--> 411\u001b[0;31m         \u001b[0mcallback\u001b[0m\u001b[0;34m.\u001b[0m\u001b[0mon_epoch_begin\u001b[0m\u001b[0;34m(\u001b[0m\u001b[0mepoch\u001b[0m\u001b[0;34m,\u001b[0m \u001b[0mnumpy_logs\u001b[0m\u001b[0;34m)\u001b[0m\u001b[0;34m\u001b[0m\u001b[0;34m\u001b[0m\u001b[0m\n\u001b[0m\u001b[1;32m    412\u001b[0m \u001b[0;34m\u001b[0m\u001b[0m\n\u001b[1;32m    413\u001b[0m   \u001b[0;32mdef\u001b[0m \u001b[0mon_epoch_end\u001b[0m\u001b[0;34m(\u001b[0m\u001b[0mself\u001b[0m\u001b[0;34m,\u001b[0m \u001b[0mepoch\u001b[0m\u001b[0;34m,\u001b[0m \u001b[0mlogs\u001b[0m\u001b[0;34m=\u001b[0m\u001b[0;32mNone\u001b[0m\u001b[0;34m)\u001b[0m\u001b[0;34m:\u001b[0m\u001b[0;34m\u001b[0m\u001b[0;34m\u001b[0m\u001b[0m\n",
      "\u001b[0;32m~/anaconda3/envs/tf_v100/lib/python3.8/site-packages/tensorflow/python/keras/callbacks.py\u001b[0m in \u001b[0;36mon_epoch_begin\u001b[0;34m(self, epoch, logs)\u001b[0m\n\u001b[1;32m   1905\u001b[0m       \u001b[0mlr\u001b[0m \u001b[0;34m=\u001b[0m \u001b[0mself\u001b[0m\u001b[0;34m.\u001b[0m\u001b[0mschedule\u001b[0m\u001b[0;34m(\u001b[0m\u001b[0mepoch\u001b[0m\u001b[0;34m,\u001b[0m \u001b[0mlr\u001b[0m\u001b[0;34m)\u001b[0m\u001b[0;34m\u001b[0m\u001b[0;34m\u001b[0m\u001b[0m\n\u001b[1;32m   1906\u001b[0m     \u001b[0;32mexcept\u001b[0m \u001b[0mTypeError\u001b[0m\u001b[0;34m:\u001b[0m  \u001b[0;31m# Support for old API for backward compatibility\u001b[0m\u001b[0;34m\u001b[0m\u001b[0;34m\u001b[0m\u001b[0m\n\u001b[0;32m-> 1907\u001b[0;31m       \u001b[0mlr\u001b[0m \u001b[0;34m=\u001b[0m \u001b[0mself\u001b[0m\u001b[0;34m.\u001b[0m\u001b[0mschedule\u001b[0m\u001b[0;34m(\u001b[0m\u001b[0mepoch\u001b[0m\u001b[0;34m)\u001b[0m\u001b[0;34m\u001b[0m\u001b[0;34m\u001b[0m\u001b[0m\n\u001b[0m\u001b[1;32m   1908\u001b[0m     \u001b[0;32mif\u001b[0m \u001b[0;32mnot\u001b[0m \u001b[0misinstance\u001b[0m\u001b[0;34m(\u001b[0m\u001b[0mlr\u001b[0m\u001b[0;34m,\u001b[0m \u001b[0;34m(\u001b[0m\u001b[0mops\u001b[0m\u001b[0;34m.\u001b[0m\u001b[0mTensor\u001b[0m\u001b[0;34m,\u001b[0m \u001b[0mfloat\u001b[0m\u001b[0;34m,\u001b[0m \u001b[0mnp\u001b[0m\u001b[0;34m.\u001b[0m\u001b[0mfloat32\u001b[0m\u001b[0;34m,\u001b[0m \u001b[0mnp\u001b[0m\u001b[0;34m.\u001b[0m\u001b[0mfloat64\u001b[0m\u001b[0;34m)\u001b[0m\u001b[0;34m)\u001b[0m\u001b[0;34m:\u001b[0m\u001b[0;34m\u001b[0m\u001b[0;34m\u001b[0m\u001b[0m\n\u001b[1;32m   1909\u001b[0m       raise ValueError('The output of the \"schedule\" function '\n",
      "\u001b[0;31mTypeError\u001b[0m: 'float' object is not callable"
     ]
    }
   ],
   "source": [
    "%%time\n",
    "if train_mode:\n",
    "\n",
    "    history = model_train.fit([X_train, y_train], validation_split = 0.1, epochs=n_epochs, batch_size = batch_size, callbacks=callbacks) # What's this history about?\n",
    "    # The problem is in the above line\n",
    "    model_train.save_weights(save_mod + '.h5')\n",
    "    \n",
    "    plt.figure(figsize=(10, 6))\n",
    "    plt.plot(history.history['loss'], 'r')\n",
    "    plt.plot(history.history['val_loss'])\n",
    "    plt.xlabel('Epochs', fontsize = 28)\n",
    "    plt.ylabel('Loss', fontsize = 28)"
   ]
  },
  {
   "cell_type": "code",
   "execution_count": 20,
   "metadata": {
    "tags": []
   },
   "outputs": [
    {
     "ename": "OSError",
     "evalue": "Unable to open file (unable to open file: name = 'saved_hubs/tf2models/Train_UMnew_lr_0.0001_dr0.001_ne20_k3_nt9999.h5', errno = 2, error message = 'No such file or directory', flags = 0, o_flags = 0)",
     "output_type": "error",
     "traceback": [
      "\u001b[0;31m---------------------------------------------------------------------------\u001b[0m",
      "\u001b[0;31mOSError\u001b[0m                                   Traceback (most recent call last)",
      "\u001b[0;32m<ipython-input-20-872658570ee9>\u001b[0m in \u001b[0;36m<module>\u001b[0;34m\u001b[0m\n\u001b[0;32m----> 1\u001b[0;31m \u001b[0mmodel_train\u001b[0m\u001b[0;34m.\u001b[0m\u001b[0mload_weights\u001b[0m\u001b[0;34m(\u001b[0m\u001b[0msave_mod\u001b[0m \u001b[0;34m+\u001b[0m \u001b[0;34m'.h5'\u001b[0m\u001b[0;34m)\u001b[0m \u001b[0;31m# Previously, this exact line was loading the weights of (from?) the mixed density model\u001b[0m\u001b[0;34m\u001b[0m\u001b[0;34m\u001b[0m\u001b[0m\n\u001b[0m",
      "\u001b[0;32m~/anaconda3/envs/tf_v100/lib/python3.8/site-packages/tensorflow/python/keras/engine/training.py\u001b[0m in \u001b[0;36mload_weights\u001b[0;34m(self, filepath, by_name, skip_mismatch, options)\u001b[0m\n\u001b[1;32m   2225\u001b[0m           'first, then load the weights.')\n\u001b[1;32m   2226\u001b[0m     \u001b[0mself\u001b[0m\u001b[0;34m.\u001b[0m\u001b[0m_assert_weights_created\u001b[0m\u001b[0;34m(\u001b[0m\u001b[0;34m)\u001b[0m\u001b[0;34m\u001b[0m\u001b[0;34m\u001b[0m\u001b[0m\n\u001b[0;32m-> 2227\u001b[0;31m     \u001b[0;32mwith\u001b[0m \u001b[0mh5py\u001b[0m\u001b[0;34m.\u001b[0m\u001b[0mFile\u001b[0m\u001b[0;34m(\u001b[0m\u001b[0mfilepath\u001b[0m\u001b[0;34m,\u001b[0m \u001b[0;34m'r'\u001b[0m\u001b[0;34m)\u001b[0m \u001b[0;32mas\u001b[0m \u001b[0mf\u001b[0m\u001b[0;34m:\u001b[0m\u001b[0;34m\u001b[0m\u001b[0;34m\u001b[0m\u001b[0m\n\u001b[0m\u001b[1;32m   2228\u001b[0m       \u001b[0;32mif\u001b[0m \u001b[0;34m'layer_names'\u001b[0m \u001b[0;32mnot\u001b[0m \u001b[0;32min\u001b[0m \u001b[0mf\u001b[0m\u001b[0;34m.\u001b[0m\u001b[0mattrs\u001b[0m \u001b[0;32mand\u001b[0m \u001b[0;34m'model_weights'\u001b[0m \u001b[0;32min\u001b[0m \u001b[0mf\u001b[0m\u001b[0;34m:\u001b[0m\u001b[0;34m\u001b[0m\u001b[0;34m\u001b[0m\u001b[0m\n\u001b[1;32m   2229\u001b[0m         \u001b[0mf\u001b[0m \u001b[0;34m=\u001b[0m \u001b[0mf\u001b[0m\u001b[0;34m[\u001b[0m\u001b[0;34m'model_weights'\u001b[0m\u001b[0;34m]\u001b[0m\u001b[0;34m\u001b[0m\u001b[0;34m\u001b[0m\u001b[0m\n",
      "\u001b[0;32m~/anaconda3/envs/tf_v100/lib/python3.8/site-packages/h5py/_hl/files.py\u001b[0m in \u001b[0;36m__init__\u001b[0;34m(self, name, mode, driver, libver, userblock_size, swmr, rdcc_nslots, rdcc_nbytes, rdcc_w0, track_order, **kwds)\u001b[0m\n\u001b[1;32m    404\u001b[0m             \u001b[0;32mwith\u001b[0m \u001b[0mphil\u001b[0m\u001b[0;34m:\u001b[0m\u001b[0;34m\u001b[0m\u001b[0;34m\u001b[0m\u001b[0m\n\u001b[1;32m    405\u001b[0m                 \u001b[0mfapl\u001b[0m \u001b[0;34m=\u001b[0m \u001b[0mmake_fapl\u001b[0m\u001b[0;34m(\u001b[0m\u001b[0mdriver\u001b[0m\u001b[0;34m,\u001b[0m \u001b[0mlibver\u001b[0m\u001b[0;34m,\u001b[0m \u001b[0mrdcc_nslots\u001b[0m\u001b[0;34m,\u001b[0m \u001b[0mrdcc_nbytes\u001b[0m\u001b[0;34m,\u001b[0m \u001b[0mrdcc_w0\u001b[0m\u001b[0;34m,\u001b[0m \u001b[0;34m**\u001b[0m\u001b[0mkwds\u001b[0m\u001b[0;34m)\u001b[0m\u001b[0;34m\u001b[0m\u001b[0;34m\u001b[0m\u001b[0m\n\u001b[0;32m--> 406\u001b[0;31m                 fid = make_fid(name, mode, userblock_size,\n\u001b[0m\u001b[1;32m    407\u001b[0m                                \u001b[0mfapl\u001b[0m\u001b[0;34m,\u001b[0m \u001b[0mfcpl\u001b[0m\u001b[0;34m=\u001b[0m\u001b[0mmake_fcpl\u001b[0m\u001b[0;34m(\u001b[0m\u001b[0mtrack_order\u001b[0m\u001b[0;34m=\u001b[0m\u001b[0mtrack_order\u001b[0m\u001b[0;34m)\u001b[0m\u001b[0;34m,\u001b[0m\u001b[0;34m\u001b[0m\u001b[0;34m\u001b[0m\u001b[0m\n\u001b[1;32m    408\u001b[0m                                swmr=swmr)\n",
      "\u001b[0;32m~/anaconda3/envs/tf_v100/lib/python3.8/site-packages/h5py/_hl/files.py\u001b[0m in \u001b[0;36mmake_fid\u001b[0;34m(name, mode, userblock_size, fapl, fcpl, swmr)\u001b[0m\n\u001b[1;32m    171\u001b[0m         \u001b[0;32mif\u001b[0m \u001b[0mswmr\u001b[0m \u001b[0;32mand\u001b[0m \u001b[0mswmr_support\u001b[0m\u001b[0;34m:\u001b[0m\u001b[0;34m\u001b[0m\u001b[0;34m\u001b[0m\u001b[0m\n\u001b[1;32m    172\u001b[0m             \u001b[0mflags\u001b[0m \u001b[0;34m|=\u001b[0m \u001b[0mh5f\u001b[0m\u001b[0;34m.\u001b[0m\u001b[0mACC_SWMR_READ\u001b[0m\u001b[0;34m\u001b[0m\u001b[0;34m\u001b[0m\u001b[0m\n\u001b[0;32m--> 173\u001b[0;31m         \u001b[0mfid\u001b[0m \u001b[0;34m=\u001b[0m \u001b[0mh5f\u001b[0m\u001b[0;34m.\u001b[0m\u001b[0mopen\u001b[0m\u001b[0;34m(\u001b[0m\u001b[0mname\u001b[0m\u001b[0;34m,\u001b[0m \u001b[0mflags\u001b[0m\u001b[0;34m,\u001b[0m \u001b[0mfapl\u001b[0m\u001b[0;34m=\u001b[0m\u001b[0mfapl\u001b[0m\u001b[0;34m)\u001b[0m\u001b[0;34m\u001b[0m\u001b[0;34m\u001b[0m\u001b[0m\n\u001b[0m\u001b[1;32m    174\u001b[0m     \u001b[0;32melif\u001b[0m \u001b[0mmode\u001b[0m \u001b[0;34m==\u001b[0m \u001b[0;34m'r+'\u001b[0m\u001b[0;34m:\u001b[0m\u001b[0;34m\u001b[0m\u001b[0;34m\u001b[0m\u001b[0m\n\u001b[1;32m    175\u001b[0m         \u001b[0mfid\u001b[0m \u001b[0;34m=\u001b[0m \u001b[0mh5f\u001b[0m\u001b[0;34m.\u001b[0m\u001b[0mopen\u001b[0m\u001b[0;34m(\u001b[0m\u001b[0mname\u001b[0m\u001b[0;34m,\u001b[0m \u001b[0mh5f\u001b[0m\u001b[0;34m.\u001b[0m\u001b[0mACC_RDWR\u001b[0m\u001b[0;34m,\u001b[0m \u001b[0mfapl\u001b[0m\u001b[0;34m=\u001b[0m\u001b[0mfapl\u001b[0m\u001b[0;34m)\u001b[0m\u001b[0;34m\u001b[0m\u001b[0;34m\u001b[0m\u001b[0m\n",
      "\u001b[0;32mh5py/_objects.pyx\u001b[0m in \u001b[0;36mh5py._objects.with_phil.wrapper\u001b[0;34m()\u001b[0m\n",
      "\u001b[0;32mh5py/_objects.pyx\u001b[0m in \u001b[0;36mh5py._objects.with_phil.wrapper\u001b[0;34m()\u001b[0m\n",
      "\u001b[0;32mh5py/h5f.pyx\u001b[0m in \u001b[0;36mh5py.h5f.open\u001b[0;34m()\u001b[0m\n",
      "\u001b[0;31mOSError\u001b[0m: Unable to open file (unable to open file: name = 'saved_hubs/tf2models/Train_UMnew_lr_0.0001_dr0.001_ne20_k3_nt9999.h5', errno = 2, error message = 'No such file or directory', flags = 0, o_flags = 0)"
     ]
    }
   ],
   "source": [
    "model_train.load_weights(save_mod + '.h5') # Previously, this exact line was loading the weights of (from?) the mixed density model"
   ]
  },
  {
   "cell_type": "code",
   "execution_count": null,
   "metadata": {},
   "outputs": [],
   "source": [
    "y_pred = np.array(model_train(X_test))\n",
    "\n",
    "y_pred_arg = np.argmax(y_pred[2, :, :], axis = 1)\n",
    "y_pred_mean = y_pred[0, :, :][:, y_pred_arg][:, 0]\n",
    "y_pred_std = np.sqrt(np.log(y_pred[1, :, :][:, y_pred_arg][:, 0]))"
   ]
  },
  {
   "cell_type": "code",
   "execution_count": null,
   "metadata": {},
   "outputs": [],
   "source": [
    "y_pred_3means = preproc_y.inverse_transform(y_pred[0, :, :]) # Previously, we used preproc_y to pick the best Gaussian (of the three that make up the Gaussian mixture model)\n",
    "y_pred_3std = preproc_y.inverse_transform( np.sqrt(np.log(y_pred[1, :, :])  ))\n",
    "y_pred_3weights = y_pred[2, :, :]\n",
    "\n",
    "y_test_all = preproc_y.inverse_transform(y_test)\n",
    "\n",
    "\n",
    "predstdweights = np.array([y_pred_3means, y_pred_3std, y_pred_3weights])\n",
    "truelabel = np.array([y_test_all[:, 0], label_test])\n",
    "\n",
    "np.save(save_mod+'test_true', predstdweights )\n",
    "np.save(save_mod+'test_pred', truelabel )"
   ]
  },
  {
   "cell_type": "code",
   "execution_count": null,
   "metadata": {},
   "outputs": [],
   "source": [
    "ifPlotWeighted = True\n",
    "y_pred_mean_best = y_pred_mean # So I've never understood this part. How do we know it's the best? And if it's always been the best, why didn't we call it the best from the beginning?\n",
    "y_pred_std_best = y_pred_std   # No good answer ;) \n",
    "\n",
    "fig, ax = plt.subplots(figsize=(10, 10,)) # How does this work (or conflict) with plt.figure() down below?\n",
    "if ifPlotWeighted:\n",
    "\n",
    "    colorstring = ['b', 'r', 'g', 'k', 'orange']\n",
    "    surveystring = ['SDSS', 'VIPERS', 'DEEP2']\n",
    "\n",
    "    plt.figure(22, figsize=(10, 10,))\n",
    "\n",
    "    C = 0.05\n",
    "    z_t = np.array([0, 1])\n",
    "    z_tp = z_t + C*(1+z_t)\n",
    "    z_tm = z_t - C*(1+z_t)\n",
    "\n",
    "    ax.plot(z_t, z_t, 'k')\n",
    "    ax.plot(z_t, z_tp, 'k-.')\n",
    "    ax.plot(z_t, z_tm, 'k-.')\n",
    "\n",
    "    for label_ind in [0, 1, 2]:\n",
    "        surveyindx = np.where(label_test == label_ind)\n",
    "        offset = 0.0\n",
    "        \n",
    "        ax.errorbar(preproc_y.inverse_transform(y_test)[surveyindx][:, 0], offset + preproc_y.inverse_transform(y_pred_mean_best.reshape(-1, 1))[surveyindx][:, 0], yerr= preproc_y.inverse_transform(y_pred_std_best.reshape(-1, 1))[surveyindx][:, 0], fmt = 'o', marker=None, ms = 4, alpha = 0.3, label = 'Training: Synthetic, Testing: '+surveystring[label_ind], c = colorstring[label_ind])\n",
    "\n",
    "ax.set_ylabel(r'$z_{phot}$', fontsize=25)\n",
    "ax.set_xlabel(r'$z_{spec}$', fontsize=25)\n",
    "        \n",
    "ax.set_xlim(0.0, 1)\n",
    "ax.set_ylim(0.0, 1)\n",
    "\n",
    "plt.tight_layout()\n",
    "# plt.axes().set_aspect('equal')\n",
    "\n",
    "leg1 = ax.legend(fontsize = 'xx-large', markerscale=1., numpoints=2)\n",
    "fake_lines = [ax.plot([], [], c = \"black\")[0] for i in range(0,10)]\n",
    "print(fake_lines)\n",
    "param_labels = [\"num_train: \" + str(num_train), \"num_test: \" + str(num_test), \"n_epochs: \" + str(n_epochs), \"D: \" + str(D), \"K: \" + str(K), \"decay_rate: \" + str(decay_rate), \"batch_size: \" + str(batch_size), \"n_bins: \" + str(n_bins), \"select_per_bin: \" + str(select_per_bin)]\n",
    "ax.legend(handles = fake_lines, labels = param_labels, loc = \"upper left\")\n",
    "ax.add_artist(leg1)\n",
    "#fig.savefig('phoz_compare_surveys_numtrain_' + str(num_train) + '.pdf', bbox_inches='tight')\n",
    "fig.savefig(\"phoz_ntrain\" + str(num_train) + \".png\")\n",
    "fig.show()\n",
    "# num train, num test, n epochs, D, K, learning rate, decay rate, batch size, nbins, select per bin"
   ]
  },
  {
   "cell_type": "code",
   "execution_count": null,
   "metadata": {},
   "outputs": [],
   "source": []
  },
  {
   "cell_type": "code",
   "execution_count": null,
   "metadata": {},
   "outputs": [],
   "source": []
  }
 ],
 "metadata": {
  "anaconda-cloud": {},
  "kernelspec": {
   "display_name": "Python 3",
   "language": "python",
   "name": "python3"
  },
  "language_info": {
   "codemirror_mode": {
    "name": "ipython",
    "version": 3
   },
   "file_extension": ".py",
   "mimetype": "text/x-python",
   "name": "python",
   "nbconvert_exporter": "python",
   "pygments_lexer": "ipython3",
   "version": "3.8.8"
  }
 },
 "nbformat": 4,
 "nbformat_minor": 4
}
