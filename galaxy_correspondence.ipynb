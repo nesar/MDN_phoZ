{
 "cells": [
  {
   "cell_type": "markdown",
   "id": "accomplished-kentucky",
   "metadata": {},
   "source": [
    "## Check if there is a 1-to-1 correspondence between: DES and WISE, DES and IRAC"
   ]
  },
  {
   "cell_type": "code",
   "execution_count": 1,
   "id": "agricultural-final",
   "metadata": {},
   "outputs": [],
   "source": [
    "import numpy as np\n",
    "import matplotlib.pylab as plt\n",
    "\n",
    "import tensorflow as tf\n",
    "import tensorflow.keras as keras\n",
    "import tensorflow_probability as tfp\n",
    "tfd = tfp.distributions\n",
    "from tensorflow.keras.callbacks import ModelCheckpoint, EarlyStopping, Callback\n",
    "from tensorflow.keras.models import load_model, Sequential, Model\n",
    "\n",
    "# Activate TF2 behavior:\n",
    "from tensorflow.python import tf2\n",
    "if not tf2.enabled():\n",
    "    import tensorflow.compat.v2 as tf\n",
    "    tf.enable_v2_behavior()\n",
    "    assert tf2.enabled()\n",
    "\n",
    "np.random.seed(12211)  \n",
    "\n",
    "%load_ext line_profiler\n",
    "%reload_ext autoreload\n",
    "%autoreload 1\n",
    "%aimport help_funcs\n",
    "%aimport help_train\n",
    "#import help_funcs_zeropt as help_funcs\n",
    "#import help_train_zeropt as help_train # Wait, when did we start doing this instead of the line profiler?\n",
    "import zeropoints_new as zeropoints\n",
    "import SetPub\n",
    "SetPub.set_pub()"
   ]
  },
  {
   "cell_type": "code",
   "execution_count": 2,
   "id": "economic-enemy",
   "metadata": {},
   "outputs": [],
   "source": [
    "Trainset = ['FSPSlin', 'FSPSlog', 'FSPSall', 'OBS', 'UM', 'BP', 'UMnew'][6] # Soon there will be more!\n",
    "# Testset = ['FSPSlin', 'FSPSlog', 'FSPSall', 'OBS', 'UM', 'BP', 'UMnew'][3]\n",
    "Testset = ['FSPSlin', 'FSPSlog', 'FSPSall', 'OBS', 'UM', 'BP', 'UMnew', 'OBSuq'][7] # Test on the same things we tested before (SDSS)\n",
    "surveystring = ['SDSS', 'VIPERS', 'DEEP2', 'PRIMUS']"
   ]
  },
  {
   "cell_type": "code",
   "execution_count": 12,
   "id": "different-marking",
   "metadata": {},
   "outputs": [
    {
     "name": "stdout",
     "output_type": "stream",
     "text": [
      "Training on sim:  des\n",
      "X training data shape:  (2000000, 5)\n",
      "y training data shape:  (2000000,)\n",
      "----------\n",
      "number of datapoints:  2000000\n",
      "z-minmax:  0.019267627842316573 2.973513536413443\n",
      "ColMag-min:  [-0.19  -0.151 -0.137 -0.085 12.315]\n",
      "ColMag-max:  [ 2.422  1.593  1.163  0.668 32.503]\n",
      "----------\n",
      "----------\n",
      "number of datapoints:  1000000\n",
      "z-minmax:  0.019267627842316573 2.973513536413443\n",
      "ColMag-min:  [-0.19  -0.151 -0.137 -0.085 12.315]\n",
      "ColMag-max:  [ 2.422  1.593  1.163  0.668 32.503]\n",
      "----------\n",
      "Training on sim:  wise\n",
      "X training data shape:  (2000000, 4)\n",
      "y training data shape:  (2000000,)\n",
      "----------\n",
      "number of datapoints:  2000000\n",
      "z-minmax:  0.019267627842316573 2.973513536413443\n",
      "ColMag-min:  [-0.656 -1.749 -1.467 11.329]\n",
      "ColMag-max:  [ 0.194 -0.455 -1.113 32.105]\n",
      "----------\n",
      "----------\n",
      "number of datapoints:  1000000\n",
      "z-minmax:  0.019267627842316573 2.973513536413443\n",
      "ColMag-min:  [-0.656 -1.749 -1.467 11.329]\n",
      "ColMag-max:  [ 0.194 -0.456 -1.113 32.105]\n",
      "----------\n",
      "2\n",
      "CPU times: user 3.11 s, sys: 893 ms, total: 4 s\n",
      "Wall time: 3.99 s\n"
     ]
    }
   ],
   "source": [
    "%%time\n",
    "sim_list = ['des', 'wise']\n",
    "y_test_lst = []\n",
    "for sim in sim_list:\n",
    "    train_dirIn = '/data/a/cpac/nramachandra/Projects/phoZ/Synthetic_Data/fsps_wrapper/notebooks/out/rand_z/'\n",
    "    #test_dirIn = '/data/a/cpac/aurora/MDN_phoZ/Data/fromGalaxev/photozs/datasets/data_feb_2021/'\n",
    "    X_train, y_train, X_test, y_test = help_train.loadTrainTest_custom_randz(Testset, sim, train_dirIn, frac_train = 0.5) # Need X_err and test_labels\n",
    "    y_test_lst.append(y_test)\n",
    "print(len(y_test_lst))"
   ]
  },
  {
   "cell_type": "code",
   "execution_count": 13,
   "id": "amateur-roommate",
   "metadata": {},
   "outputs": [
    {
     "data": {
      "image/png": "[encoded data removed]",
      "text/plain": [
       "<Figure size 720x720 with 1 Axes>"
      ]
     },
     "metadata": {
      "needs_background": "light"
     },
     "output_type": "display_data"
    }
   ],
   "source": [
    "#plt.rcParams['agg.path.chunksize'] = 1000000000000000000000000000000000000000000\n",
    "fig, ax = plt.subplots(figsize=(10, 10,))\n",
    "ax.scatter(y_test_lst[0], y_test_lst[1], label = sim_list[0] + \" vs. \" + sim_list[1], c = 'k') # , fmt = 'o', marker=None, ms = 4, alpha = 0.3,\n",
    "ax.set_xlabel(sim_list[0] + r\" $z_{spec}$\", fontsize = 20)\n",
    "ax.set_ylabel(sim_list[1] + r\" $z_{spec}$\", fontsize = 20)\n",
    "fig.savefig(sim_list[0] + \"_\" + sim_list[1] + \"_compare.png\")"
   ]
  },
  {
   "cell_type": "code",
   "execution_count": null,
   "id": "governmental-intellectual",
   "metadata": {},
   "outputs": [],
   "source": [
    "D = X_train.shape[1]\n",
    "    K = 3\n",
    "    \n",
    "    save_mod = '/data/a/cpac/aurora/MDN_phoZ/saved_hubs/tf2models/'+'Train_'+Trainset+'_lr_'+str(learning_rate)+'_dr'+str(decay_rate)+'_ne'+str(n_epochs)+'_k'+str(K)+'_nt'+str(num_train)\n",
    "    \n",
    "    # Now, we are training models\n",
    "\n",
    "    from sklearn.pipeline import Pipeline\n",
    "    from sklearn.preprocessing import StandardScaler, MinMaxScaler\n",
    "    import pickle\n",
    "\n",
    "    # This preproc stuff is related to \"scaling routine\" -- right? Yes :)\n",
    "    preproc = Pipeline([('stdscaler', StandardScaler())]) # This preproc tool is what allows us to transform inputs into min-max space (and therefore to feed it to the trained model)\n",
    "    # preproc = Pipeline([('stdscaler', MinMaxScaler())])\n",
    "    X_train = preproc.fit_transform(X_train) # Not sure how \"fit_transform\" is different from the original \"transform\"?\n",
    "\n",
    "    scalerfile = save_mod + '_scaling_X'\n",
    "    pickle.dump(preproc, open(scalerfile, 'wb'))\n",
    "    preproc = pickle.load(open(scalerfile, 'rb'))\n",
    "\n",
    "    X_test = preproc.transform(X_test) # This transformation puts our input into min-max space\n",
    "\n",
    "    # preproc_y = Pipeline([('stdscaler', StandardScaler())])\n",
    "    preproc_y = Pipeline([('stdscaler', MinMaxScaler())])\n",
    "\n",
    "    y_train = preproc_y.fit_transform(y_train.reshape(-1, 1))\n",
    "\n",
    "    scalerfile = save_mod + '_scaling_y'\n",
    "    pickle.dump(preproc_y, open(scalerfile, 'wb'))\n",
    "    preproc_y = pickle.load(open(scalerfile, 'rb'))\n",
    "\n",
    "    y_test = preproc_y.transform(y_test.reshape(-1, 1))"
   ]
  },
  {
   "cell_type": "code",
   "execution_count": null,
   "id": "controlled-penetration",
   "metadata": {},
   "outputs": [],
   "source": []
  }
 ],
 "metadata": {
  "kernelspec": {
   "display_name": "ML_env",
   "language": "python",
   "name": "ml_env"
  },
  "language_info": {
   "codemirror_mode": {
    "name": "ipython",
    "version": 3
   },
   "file_extension": ".py",
   "mimetype": "text/x-python",
   "name": "python",
   "nbconvert_exporter": "python",
   "pygments_lexer": "ipython3",
   "version": "3.7.9"
  }
 },
 "nbformat": 4,
 "nbformat_minor": 5
}
