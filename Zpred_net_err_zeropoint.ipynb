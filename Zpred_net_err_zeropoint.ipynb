{
 "cells": [
  {
   "cell_type": "code",
   "execution_count": 23,
   "metadata": {
    "tags": []
   },
   "outputs": [],
   "source": [
    "import numpy as np\n",
    "import matplotlib.pylab as plt\n",
    "import pickle\n",
    "from sklearn.pipeline import Pipeline\n",
    "from sklearn.preprocessing import StandardScaler, MinMaxScaler\n",
    "import tensorflow as tf\n",
    "from tensorflow.keras.models import Model\n",
    "np.random.seed(12211)  \n",
    "\n",
    "import zeropoints\n",
    "\n",
    "plt.rc('text', usetex=True)\n",
    "plt.rc('font', family='serif')\n",
    "plt.rc('font', size=18)"
   ]
  },
  {
   "cell_type": "code",
   "execution_count": 2,
   "metadata": {},
   "outputs": [],
   "source": [
    "num_train = 200000\n",
    "num_test = 20000\n",
    "Trainset = ['FSPSlin', 'FSPSlog', 'FSPSall', 'OBS', 'UM', 'BP', 'UMnew'][6]#6\n",
    "Testset = ['FSPSlin', 'FSPSlog', 'FSPSall', 'OBS', 'UM', 'BP', 'UMnew', 'OBSuq'][7]\n",
    "surveystring = surveystring = ['SDSS', 'VIPERS', 'DEEP2', 'PRIMUS']\n",
    "\n",
    "n_epochs = 2000 #20\n",
    "D = 5 \n",
    "K = 3\n",
    "learning_rate = 1e-5\n",
    "decay_rate= 1e-3 \n",
    "batch_size = 1024 \n",
    "save_mod = 'saved_hubs/tf2models/'+'Train_'+Trainset+'_lr_'+str(learning_rate)+'_dr'+str(decay_rate)+'_ne'+str(n_epochs)+'_k'+str(K)+'_nt'+str(num_train)"
   ]
  },
  {
   "cell_type": "code",
   "execution_count": 3,
   "metadata": {},
   "outputs": [],
   "source": [
    "def load_trained_models(save_mod):\n",
    "    ## load rescaling routines for colors/magnitude\n",
    "    preproc = Pipeline([('stdscaler', StandardScaler())])\n",
    "    scalerfile = save_mod + '_scaling_X'\n",
    "    preproc = pickle.load(open(scalerfile, 'rb'))\n",
    "    \n",
    "    ## load rescaling routine for redshift\n",
    "    preproc_y = Pipeline([('stdscaler', MinMaxScaler())])\n",
    "    scalerfile = save_mod + '_scaling_y'\n",
    "    preproc_y = pickle.load(open(scalerfile, 'rb'))\n",
    "\n",
    "    ## Mixed density network\n",
    "    non_lin_act = tf.nn.relu #tf.nn.tanh\n",
    "    y_true = tf.keras.Input(shape=(1,))\n",
    "    inputs = tf.keras.Input(shape=(D,))\n",
    "    layer_1 = tf.keras.layers.Dense(units=512, activation=non_lin_act)(inputs)\n",
    "    layer_1a = tf.keras.layers.Dense(units=1024, activation=non_lin_act)(layer_1)\n",
    "    layer_1b = tf.keras.layers.Dense(units=2048, activation=non_lin_act)(layer_1a)\n",
    "    layer_1c = tf.keras.layers.Dense(units=1024, activation=non_lin_act)(layer_1b)\n",
    "    layer_2 = tf.keras.layers.Dense(units=512, activation=non_lin_act)(layer_1c)\n",
    "    layer_3 = tf.keras.layers.Dense(units=256, activation=non_lin_act)(layer_2)\n",
    "    layer_4 = tf.keras.layers.Dense(units=128, activation=non_lin_act)(layer_3)\n",
    "    layer_5 = tf.keras.layers.Dense(units=64, activation=non_lin_act)(layer_4)\n",
    "    layer_6 = tf.keras.layers.Dense(units=32, activation=non_lin_act)(layer_5)\n",
    "    mu = tf.keras.layers.Dense(units=K, activation=None, name=\"mu\")(layer_6)\n",
    "    var = tf.keras.backend.exp(tf.keras.layers.Dense(units=K, activation=tf.nn.softplus, name=\"sigma\")(layer_6))\n",
    "    pi = tf.keras.layers.Dense(units=K, activation=tf.nn.softmax, name=\"mixing\")(layer_6)\n",
    "    model_train = Model([inputs, y_true], [mu, var, pi], name='mdn')\n",
    "    \n",
    "    # load network weights\n",
    "    model_train.load_weights(save_mod + '.h5')\n",
    "    \n",
    "    return preproc, preproc_y, model_train"
   ]
  },
  {
   "cell_type": "code",
   "execution_count": 4,
   "metadata": {},
   "outputs": [],
   "source": [
    "def minmax_cutsOBSarr(X, y, l):\n",
    "    mask_cond =  np.where( \n",
    "        (X[:, 0] < max_col[0]) & (X[:, 0] > min_col[0]) &\n",
    "        (X[:, 1] < max_col[1]) & (X[:, 1] > min_col[1]) &\n",
    "        (X[:, 2] < max_col[2]) & (X[:, 2] > min_col[2]) &\n",
    "        (X[:, 3] < max_col[3]) & (X[:, 3] > min_col[3]) & \n",
    "        (X[:, 4] < max_mag) & (X[:, 4] > min_mag) &\n",
    "        (y < max_z) & (y > min_z) )\n",
    "    X_new = X[mask_cond]\n",
    "    y_new = y[mask_cond]\n",
    "    l_new = l[mask_cond]\n",
    "    return X_new, y_new, l_new, mask_cond"
   ]
  },
  {
   "cell_type": "code",
   "execution_count": 5,
   "metadata": {},
   "outputs": [],
   "source": [
    "def print_limits(X, y):\n",
    "    print(10*'-')\n",
    "    print('number of datapoints: ', str(y.shape[0]))\n",
    "    print('z-minmax: ', y.min(), y.max())\n",
    "    print('ColMag-min: ', np.min(X, axis=0))\n",
    "    print('ColMag-max: ', np.max(X, axis=0))\n",
    "    print(10*'-')"
   ]
  },
  {
   "cell_type": "code",
   "execution_count": 6,
   "metadata": {},
   "outputs": [],
   "source": [
    "def loadTest(dirIn = '../../Data/fromGalaxev/photozs/datasets/data_feb_2021/'):\n",
    "    \n",
    "    test_data = np.load(dirIn + 'test_' + Testset + '.npy') \n",
    "\n",
    "    X_test = test_data[: , :-1]\n",
    "    y_test = test_data[: , -1]\n",
    "\n",
    "    print_limits(X_test, y_test)\n",
    "\n",
    "    X_err = np.load(dirIn + 'test_' + Testset +'_err.npy') \n",
    "    test_labels = np.load(dirIn + 'test_' + Testset + '_label.npy') \n",
    "\n",
    "    return X_test, y_test, X_err, test_labels"
   ]
  },
  {
   "cell_type": "code",
   "execution_count": 11,
   "metadata": {
    "tags": []
   },
   "outputs": [
    {
     "name": "stdout",
     "output_type": "stream",
     "text": [
      "----------\n",
      "number of datapoints:  4339\n",
      "z-minmax:  7.926745e-06 7.01\n",
      "ColMag-min:  [ -5.188479   -3.8901405  -2.1034117 -15.92296    12.114799 ]\n",
      "ColMag-max:  [17.02884   7.925968  4.182415  2.264679 25.709858]\n",
      "----------\n"
     ]
    }
   ],
   "source": [
    "## Loading color, redshift information from different surveys\n",
    "X_test, y_test, X_err, label_test = loadTest(dirIn = 'Data/fromGalaxev/photozs/datasets/data_feb_2021/')"
   ]
  },
  {
   "cell_type": "code",
   "execution_count": 12,
   "metadata": {},
   "outputs": [
    {
     "name": "stdout",
     "output_type": "stream",
     "text": [
      "Size of features in test data: (2741, 5)\n",
      "Size of output in test data: (2741,)\n"
     ]
    }
   ],
   "source": [
    "## Removing galaxies outside the range of prediction scheme. \n",
    "min_col = [-0.09145837, -0.05327791, -0.02479261, -0.10519464] #-0.03 #-5\n",
    "max_col = [ 3.825315,   2.8303378,  1.6937237,  1.5019817] #3.4 #5\n",
    "min_mag = 12\n",
    "max_mag = 23\n",
    "min_z = 0.001 #np.min(y_train) \n",
    "max_z = 1.1 #np.max(y_train) \n",
    "\n",
    "X_test, y_test, label_test, mask_cond = minmax_cutsOBSarr(X_test, y_test, label_test)\n",
    "X_err = X_err[mask_cond]\n",
    "print(\"Size of features in test data: {}\".format(X_test.shape))\n",
    "print(\"Size of output in test data: {}\".format(y_test.shape))"
   ]
  },
  {
   "cell_type": "code",
   "execution_count": 13,
   "metadata": {},
   "outputs": [],
   "source": [
    "## Loading trained models and rescaling routines\n",
    "preproc, preproc_y, model_train = load_trained_models(save_mod)"
   ]
  },
  {
   "cell_type": "code",
   "execution_count": null,
   "metadata": {},
   "outputs": [],
   "source": []
  },
  {
   "cell_type": "code",
   "execution_count": 20,
   "metadata": {
    "scrolled": true
   },
   "outputs": [
    {
     "name": "stderr",
     "output_type": "stream",
     "text": [
      "/Users/alarcon/Documents/source/MDN_phoZ/zeropoints.py:99: RuntimeWarning: divide by zero encountered in log\n",
      "  loglike = -2.0*np.log(like) + 2.0 * np.log(like_max)\n"
     ]
    },
    {
     "name": "stdout",
     "output_type": "stream",
     "text": [
      "16.692826747894287\n",
      "0 [0. 0. 0. 0.] 7517.31\n"
     ]
    },
    {
     "name": "stderr",
     "output_type": "stream",
     "text": [
      "/Users/alarcon/Documents/source/MDN_phoZ/zeropoints.py:99: RuntimeWarning: divide by zero encountered in log\n",
      "  loglike = -2.0*np.log(like) + 2.0 * np.log(like_max)\n"
     ]
    },
    {
     "name": "stdout",
     "output_type": "stream",
     "text": [
      "16.856282234191895\n",
      "0 [ 0.0026  0.0006  0.0018 -0.0049] 7479.52\n"
     ]
    },
    {
     "name": "stderr",
     "output_type": "stream",
     "text": [
      "/Users/alarcon/Documents/source/MDN_phoZ/zeropoints.py:99: RuntimeWarning: divide by zero encountered in log\n",
      "  loglike = -2.0*np.log(like) + 2.0 * np.log(like_max)\n"
     ]
    },
    {
     "name": "stdout",
     "output_type": "stream",
     "text": [
      "15.696351051330566\n",
      "1 [ 0.0022  0.0006 -0.0062 -0.004 ] 7484.01\n"
     ]
    },
    {
     "name": "stderr",
     "output_type": "stream",
     "text": [
      "/Users/alarcon/Documents/source/MDN_phoZ/zeropoints.py:99: RuntimeWarning: divide by zero encountered in log\n",
      "  loglike = -2.0*np.log(like) + 2.0 * np.log(like_max)\n"
     ]
    },
    {
     "name": "stdout",
     "output_type": "stream",
     "text": [
      "15.956177949905396\n",
      "2 [ 0.0022  0.0006 -0.0062 -0.004 ] 7484.01\n"
     ]
    },
    {
     "name": "stderr",
     "output_type": "stream",
     "text": [
      "/Users/alarcon/Documents/source/MDN_phoZ/zeropoints.py:99: RuntimeWarning: divide by zero encountered in log\n",
      "  loglike = -2.0*np.log(like) + 2.0 * np.log(like_max)\n"
     ]
    },
    {
     "name": "stdout",
     "output_type": "stream",
     "text": [
      "16.706450939178467\n",
      "3 [ 0.0016  0.0045 -0.0119 -0.002 ] 7384.56\n"
     ]
    },
    {
     "name": "stderr",
     "output_type": "stream",
     "text": [
      "/Users/alarcon/Documents/source/MDN_phoZ/zeropoints.py:99: RuntimeWarning: divide by zero encountered in log\n",
      "  loglike = -2.0*np.log(like) + 2.0 * np.log(like_max)\n"
     ]
    },
    {
     "name": "stdout",
     "output_type": "stream",
     "text": [
      "17.07612705230713\n",
      "4 [ 0.0109  0.0061 -0.0141 -0.0077] 7358.07\n"
     ]
    },
    {
     "name": "stderr",
     "output_type": "stream",
     "text": [
      "/Users/alarcon/Documents/source/MDN_phoZ/zeropoints.py:99: RuntimeWarning: divide by zero encountered in log\n",
      "  loglike = -2.0*np.log(like) + 2.0 * np.log(like_max)\n"
     ]
    },
    {
     "name": "stdout",
     "output_type": "stream",
     "text": [
      "15.859416007995605\n",
      "5 [ 0.0056  0.0114 -0.0103 -0.0047] 7297.2\n"
     ]
    },
    {
     "name": "stderr",
     "output_type": "stream",
     "text": [
      "/Users/alarcon/Documents/source/MDN_phoZ/zeropoints.py:99: RuntimeWarning: divide by zero encountered in log\n",
      "  loglike = -2.0*np.log(like) + 2.0 * np.log(like_max)\n"
     ]
    },
    {
     "name": "stdout",
     "output_type": "stream",
     "text": [
      "15.446635723114014\n",
      "6 [ 0.0056  0.0114 -0.0103 -0.0047] 7297.2\n"
     ]
    },
    {
     "name": "stderr",
     "output_type": "stream",
     "text": [
      "/Users/alarcon/Documents/source/MDN_phoZ/zeropoints.py:99: RuntimeWarning: divide by zero encountered in log\n",
      "  loglike = -2.0*np.log(like) + 2.0 * np.log(like_max)\n"
     ]
    },
    {
     "name": "stdout",
     "output_type": "stream",
     "text": [
      "15.131829977035522\n",
      "7 [ 0.0056  0.0114 -0.0103 -0.0047] 7297.2\n"
     ]
    },
    {
     "name": "stderr",
     "output_type": "stream",
     "text": [
      "/Users/alarcon/Documents/source/MDN_phoZ/zeropoints.py:99: RuntimeWarning: divide by zero encountered in log\n",
      "  loglike = -2.0*np.log(like) + 2.0 * np.log(like_max)\n"
     ]
    },
    {
     "name": "stdout",
     "output_type": "stream",
     "text": [
      "16.554029941558838\n",
      "8 [-0.0028  0.0167 -0.0141 -0.0092] 7213.78\n"
     ]
    },
    {
     "name": "stderr",
     "output_type": "stream",
     "text": [
      "/Users/alarcon/Documents/source/MDN_phoZ/zeropoints.py:99: RuntimeWarning: divide by zero encountered in log\n",
      "  loglike = -2.0*np.log(like) + 2.0 * np.log(like_max)\n"
     ]
    },
    {
     "name": "stdout",
     "output_type": "stream",
     "text": [
      "19.85042905807495\n",
      "9 [ 0.0022  0.0136 -0.0098 -0.0049] 7215.47\n"
     ]
    },
    {
     "name": "stderr",
     "output_type": "stream",
     "text": [
      "/Users/alarcon/Documents/source/MDN_phoZ/zeropoints.py:99: RuntimeWarning: divide by zero encountered in log\n",
      "  loglike = -2.0*np.log(like) + 2.0 * np.log(like_max)\n"
     ]
    },
    {
     "name": "stdout",
     "output_type": "stream",
     "text": [
      "19.5235378742218\n",
      "10 [ 0.0022  0.0136 -0.0098 -0.0049] 7215.47\n"
     ]
    },
    {
     "name": "stderr",
     "output_type": "stream",
     "text": [
      "/Users/alarcon/Documents/source/MDN_phoZ/zeropoints.py:99: RuntimeWarning: divide by zero encountered in log\n",
      "  loglike = -2.0*np.log(like) + 2.0 * np.log(like_max)\n"
     ]
    },
    {
     "name": "stdout",
     "output_type": "stream",
     "text": [
      "17.317649126052856\n",
      "11 [ 0.0022  0.0136 -0.0098 -0.0049] 7215.47\n"
     ]
    },
    {
     "name": "stderr",
     "output_type": "stream",
     "text": [
      "/Users/alarcon/Documents/source/MDN_phoZ/zeropoints.py:99: RuntimeWarning: divide by zero encountered in log\n",
      "  loglike = -2.0*np.log(like) + 2.0 * np.log(like_max)\n"
     ]
    },
    {
     "name": "stdout",
     "output_type": "stream",
     "text": [
      "16.166305780410767\n",
      "12 [ 0.0022  0.0136 -0.0098 -0.0049] 7215.47\n"
     ]
    },
    {
     "name": "stderr",
     "output_type": "stream",
     "text": [
      "/Users/alarcon/Documents/source/MDN_phoZ/zeropoints.py:99: RuntimeWarning: divide by zero encountered in log\n",
      "  loglike = -2.0*np.log(like) + 2.0 * np.log(like_max)\n",
      "/Users/alarcon/Documents/source/MDN_phoZ/zeropoints.py:99: RuntimeWarning: invalid value encountered in add\n",
      "  loglike = -2.0*np.log(like) + 2.0 * np.log(like_max)\n"
     ]
    },
    {
     "name": "stdout",
     "output_type": "stream",
     "text": [
      "15.668168306350708\n",
      "13 [ 0.0022  0.0136 -0.0098 -0.0049] 7215.47\n"
     ]
    },
    {
     "name": "stderr",
     "output_type": "stream",
     "text": [
      "/Users/alarcon/Documents/source/MDN_phoZ/zeropoints.py:99: RuntimeWarning: divide by zero encountered in log\n",
      "  loglike = -2.0*np.log(like) + 2.0 * np.log(like_max)\n"
     ]
    },
    {
     "name": "stdout",
     "output_type": "stream",
     "text": [
      "15.528201818466187\n",
      "14 [ 0.0022  0.0136 -0.0098 -0.0049] 7215.47\n"
     ]
    },
    {
     "name": "stderr",
     "output_type": "stream",
     "text": [
      "/Users/alarcon/Documents/source/MDN_phoZ/zeropoints.py:99: RuntimeWarning: divide by zero encountered in log\n",
      "  loglike = -2.0*np.log(like) + 2.0 * np.log(like_max)\n"
     ]
    },
    {
     "name": "stdout",
     "output_type": "stream",
     "text": [
      "15.72166395187378\n",
      "15 [ 0.0022  0.0136 -0.0098 -0.0049] 7215.47\n"
     ]
    },
    {
     "name": "stderr",
     "output_type": "stream",
     "text": [
      "/Users/alarcon/Documents/source/MDN_phoZ/zeropoints.py:99: RuntimeWarning: divide by zero encountered in log\n",
      "  loglike = -2.0*np.log(like) + 2.0 * np.log(like_max)\n"
     ]
    },
    {
     "name": "stdout",
     "output_type": "stream",
     "text": [
      "16.720555067062378\n",
      "16 [ 0.0022  0.0136 -0.0098 -0.0049] 7215.47\n"
     ]
    },
    {
     "name": "stderr",
     "output_type": "stream",
     "text": [
      "/Users/alarcon/Documents/source/MDN_phoZ/zeropoints.py:99: RuntimeWarning: divide by zero encountered in log\n",
      "  loglike = -2.0*np.log(like) + 2.0 * np.log(like_max)\n",
      "/Users/alarcon/Documents/source/MDN_phoZ/zeropoints.py:99: RuntimeWarning: invalid value encountered in add\n",
      "  loglike = -2.0*np.log(like) + 2.0 * np.log(like_max)\n"
     ]
    },
    {
     "name": "stdout",
     "output_type": "stream",
     "text": [
      "16.41715908050537\n",
      "17 [ 0.0022  0.0136 -0.0098 -0.0049] 7215.47\n"
     ]
    },
    {
     "name": "stderr",
     "output_type": "stream",
     "text": [
      "/Users/alarcon/Documents/source/MDN_phoZ/zeropoints.py:99: RuntimeWarning: divide by zero encountered in log\n",
      "  loglike = -2.0*np.log(like) + 2.0 * np.log(like_max)\n"
     ]
    },
    {
     "name": "stdout",
     "output_type": "stream",
     "text": [
      "15.884249210357666\n",
      "18 [-0.0004  0.0136 -0.0057 -0.0055] 7355.0\n"
     ]
    },
    {
     "name": "stderr",
     "output_type": "stream",
     "text": [
      "/Users/alarcon/Documents/source/MDN_phoZ/zeropoints.py:99: RuntimeWarning: divide by zero encountered in log\n",
      "  loglike = -2.0*np.log(like) + 2.0 * np.log(like_max)\n"
     ]
    },
    {
     "name": "stdout",
     "output_type": "stream",
     "text": [
      "16.820343017578125\n",
      "19 [ 0.0015  0.0119 -0.0145 -0.0024] 7371.74\n"
     ]
    },
    {
     "name": "stderr",
     "output_type": "stream",
     "text": [
      "/Users/alarcon/Documents/source/MDN_phoZ/zeropoints.py:99: RuntimeWarning: divide by zero encountered in log\n",
      "  loglike = -2.0*np.log(like) + 2.0 * np.log(like_max)\n",
      "/Users/alarcon/Documents/source/MDN_phoZ/zeropoints.py:99: RuntimeWarning: invalid value encountered in add\n",
      "  loglike = -2.0*np.log(like) + 2.0 * np.log(like_max)\n"
     ]
    },
    {
     "name": "stdout",
     "output_type": "stream",
     "text": [
      "15.990287780761719\n",
      "20 [ 0.0015  0.0119 -0.0145 -0.0024] 7371.74\n"
     ]
    },
    {
     "name": "stderr",
     "output_type": "stream",
     "text": [
      "/Users/alarcon/Documents/source/MDN_phoZ/zeropoints.py:99: RuntimeWarning: divide by zero encountered in log\n",
      "  loglike = -2.0*np.log(like) + 2.0 * np.log(like_max)\n"
     ]
    },
    {
     "name": "stdout",
     "output_type": "stream",
     "text": [
      "14.484730958938599\n",
      "21 [ 0.0046  0.0116 -0.0107 -0.0052] 7245.48\n"
     ]
    },
    {
     "name": "stderr",
     "output_type": "stream",
     "text": [
      "/Users/alarcon/Documents/source/MDN_phoZ/zeropoints.py:99: RuntimeWarning: divide by zero encountered in log\n",
      "  loglike = -2.0*np.log(like) + 2.0 * np.log(like_max)\n"
     ]
    },
    {
     "name": "stdout",
     "output_type": "stream",
     "text": [
      "15.376183032989502\n",
      "22 [ 0.0123  0.0099 -0.0081 -0.0082] 7412.77\n"
     ]
    },
    {
     "name": "stderr",
     "output_type": "stream",
     "text": [
      "/Users/alarcon/Documents/source/MDN_phoZ/zeropoints.py:99: RuntimeWarning: divide by zero encountered in log\n",
      "  loglike = -2.0*np.log(like) + 2.0 * np.log(like_max)\n"
     ]
    },
    {
     "name": "stdout",
     "output_type": "stream",
     "text": [
      "15.564976215362549\n",
      "23 [ 0.003   0.0163 -0.0096 -0.013 ] 7244.49\n"
     ]
    },
    {
     "name": "stderr",
     "output_type": "stream",
     "text": [
      "/Users/alarcon/Documents/source/MDN_phoZ/zeropoints.py:99: RuntimeWarning: divide by zero encountered in log\n",
      "  loglike = -2.0*np.log(like) + 2.0 * np.log(like_max)\n"
     ]
    },
    {
     "name": "stdout",
     "output_type": "stream",
     "text": [
      "14.817224025726318\n",
      "24 [ 0.0058  0.0219 -0.0125 -0.0097] 7162.51\n"
     ]
    },
    {
     "name": "stderr",
     "output_type": "stream",
     "text": [
      "/Users/alarcon/Documents/source/MDN_phoZ/zeropoints.py:99: RuntimeWarning: divide by zero encountered in log\n",
      "  loglike = -2.0*np.log(like) + 2.0 * np.log(like_max)\n"
     ]
    },
    {
     "name": "stdout",
     "output_type": "stream",
     "text": [
      "16.256947994232178\n",
      "25 [ 0.0058  0.0219 -0.0125 -0.0097] 7162.51\n"
     ]
    },
    {
     "name": "stderr",
     "output_type": "stream",
     "text": [
      "/Users/alarcon/Documents/source/MDN_phoZ/zeropoints.py:99: RuntimeWarning: divide by zero encountered in log\n",
      "  loglike = -2.0*np.log(like) + 2.0 * np.log(like_max)\n"
     ]
    },
    {
     "name": "stdout",
     "output_type": "stream",
     "text": [
      "15.554498672485352\n",
      "26 [ 0.0058  0.0219 -0.0125 -0.0097] 7162.51\n"
     ]
    },
    {
     "name": "stderr",
     "output_type": "stream",
     "text": [
      "/Users/alarcon/Documents/source/MDN_phoZ/zeropoints.py:99: RuntimeWarning: divide by zero encountered in log\n",
      "  loglike = -2.0*np.log(like) + 2.0 * np.log(like_max)\n"
     ]
    },
    {
     "name": "stdout",
     "output_type": "stream",
     "text": [
      "14.870877027511597\n",
      "27 [ 0.0058  0.0219 -0.0125 -0.0097] 7162.51\n"
     ]
    },
    {
     "name": "stderr",
     "output_type": "stream",
     "text": [
      "/Users/alarcon/Documents/source/MDN_phoZ/zeropoints.py:99: RuntimeWarning: divide by zero encountered in log\n",
      "  loglike = -2.0*np.log(like) + 2.0 * np.log(like_max)\n"
     ]
    },
    {
     "name": "stdout",
     "output_type": "stream",
     "text": [
      "15.689372777938843\n",
      "28 [ 0.0099  0.0252 -0.0134 -0.0194] 7121.45\n"
     ]
    },
    {
     "name": "stderr",
     "output_type": "stream",
     "text": [
      "/Users/alarcon/Documents/source/MDN_phoZ/zeropoints.py:99: RuntimeWarning: divide by zero encountered in log\n",
      "  loglike = -2.0*np.log(like) + 2.0 * np.log(like_max)\n"
     ]
    },
    {
     "name": "stdout",
     "output_type": "stream",
     "text": [
      "14.528330087661743\n",
      "29 [-0.0009  0.0192 -0.0119 -0.0175] 7282.04\n"
     ]
    },
    {
     "name": "stderr",
     "output_type": "stream",
     "text": [
      "/Users/alarcon/Documents/source/MDN_phoZ/zeropoints.py:99: RuntimeWarning: divide by zero encountered in log\n",
      "  loglike = -2.0*np.log(like) + 2.0 * np.log(like_max)\n"
     ]
    },
    {
     "name": "stdout",
     "output_type": "stream",
     "text": [
      "14.504849910736084\n",
      "30 [ 0.0014  0.0137 -0.0087 -0.0187] 7252.45\n"
     ]
    },
    {
     "name": "stderr",
     "output_type": "stream",
     "text": [
      "/Users/alarcon/Documents/source/MDN_phoZ/zeropoints.py:99: RuntimeWarning: divide by zero encountered in log\n",
      "  loglike = -2.0*np.log(like) + 2.0 * np.log(like_max)\n"
     ]
    },
    {
     "name": "stdout",
     "output_type": "stream",
     "text": [
      "14.574794292449951\n",
      "31 [ 0.0014  0.0137 -0.0087 -0.0187] 7252.45\n"
     ]
    },
    {
     "name": "stderr",
     "output_type": "stream",
     "text": [
      "/Users/alarcon/Documents/source/MDN_phoZ/zeropoints.py:99: RuntimeWarning: divide by zero encountered in log\n",
      "  loglike = -2.0*np.log(like) + 2.0 * np.log(like_max)\n"
     ]
    },
    {
     "name": "stdout",
     "output_type": "stream",
     "text": [
      "14.543363809585571\n",
      "32 [-0.0011  0.0131 -0.0103 -0.0176] 7300.45\n"
     ]
    },
    {
     "name": "stderr",
     "output_type": "stream",
     "text": [
      "/Users/alarcon/Documents/source/MDN_phoZ/zeropoints.py:99: RuntimeWarning: divide by zero encountered in log\n",
      "  loglike = -2.0*np.log(like) + 2.0 * np.log(like_max)\n"
     ]
    },
    {
     "name": "stdout",
     "output_type": "stream",
     "text": [
      "14.378330945968628\n",
      "33 [-0.0088  0.0069 -0.0152 -0.0207] 7278.14\n"
     ]
    },
    {
     "name": "stderr",
     "output_type": "stream",
     "text": [
      "/Users/alarcon/Documents/source/MDN_phoZ/zeropoints.py:99: RuntimeWarning: divide by zero encountered in log\n",
      "  loglike = -2.0*np.log(like) + 2.0 * np.log(like_max)\n"
     ]
    },
    {
     "name": "stdout",
     "output_type": "stream",
     "text": [
      "14.491913795471191\n",
      "34 [-0.0061  0.009  -0.0188 -0.0271] 7225.7\n"
     ]
    },
    {
     "name": "stderr",
     "output_type": "stream",
     "text": [
      "/Users/alarcon/Documents/source/MDN_phoZ/zeropoints.py:99: RuntimeWarning: divide by zero encountered in log\n",
      "  loglike = -2.0*np.log(like) + 2.0 * np.log(like_max)\n"
     ]
    },
    {
     "name": "stdout",
     "output_type": "stream",
     "text": [
      "14.645975589752197\n",
      "35 [-0.0061  0.009  -0.0188 -0.0271] 7225.7\n"
     ]
    },
    {
     "name": "stderr",
     "output_type": "stream",
     "text": [
      "/Users/alarcon/Documents/source/MDN_phoZ/zeropoints.py:99: RuntimeWarning: divide by zero encountered in log\n",
      "  loglike = -2.0*np.log(like) + 2.0 * np.log(like_max)\n"
     ]
    },
    {
     "name": "stdout",
     "output_type": "stream",
     "text": [
      "16.09513807296753\n",
      "36 [-0.0056  0.0047 -0.0255 -0.0289] 7185.67\n"
     ]
    },
    {
     "name": "stderr",
     "output_type": "stream",
     "text": [
      "/Users/alarcon/Documents/source/MDN_phoZ/zeropoints.py:99: RuntimeWarning: divide by zero encountered in log\n",
      "  loglike = -2.0*np.log(like) + 2.0 * np.log(like_max)\n"
     ]
    },
    {
     "name": "stdout",
     "output_type": "stream",
     "text": [
      "15.006576776504517\n",
      "37 [-0.0056  0.0047 -0.0255 -0.0289] 7185.67\n"
     ]
    },
    {
     "name": "stderr",
     "output_type": "stream",
     "text": [
      "/Users/alarcon/Documents/source/MDN_phoZ/zeropoints.py:99: RuntimeWarning: divide by zero encountered in log\n",
      "  loglike = -2.0*np.log(like) + 2.0 * np.log(like_max)\n"
     ]
    },
    {
     "name": "stdout",
     "output_type": "stream",
     "text": [
      "16.631989002227783\n",
      "38 [-0.0144  0.0078 -0.0255 -0.0303] 7086.89\n"
     ]
    },
    {
     "name": "stderr",
     "output_type": "stream",
     "text": [
      "/Users/alarcon/Documents/source/MDN_phoZ/zeropoints.py:99: RuntimeWarning: divide by zero encountered in log\n",
      "  loglike = -2.0*np.log(like) + 2.0 * np.log(like_max)\n"
     ]
    },
    {
     "name": "stdout",
     "output_type": "stream",
     "text": [
      "15.789993047714233\n",
      "39 [-0.0144  0.0078 -0.0255 -0.0303] 7086.89\n"
     ]
    },
    {
     "name": "stderr",
     "output_type": "stream",
     "text": [
      "/Users/alarcon/Documents/source/MDN_phoZ/zeropoints.py:99: RuntimeWarning: divide by zero encountered in log\n",
      "  loglike = -2.0*np.log(like) + 2.0 * np.log(like_max)\n"
     ]
    },
    {
     "name": "stdout",
     "output_type": "stream",
     "text": [
      "15.626368045806885\n",
      "40 [-0.0114  0.013  -0.0241 -0.0315] 7095.91\n"
     ]
    },
    {
     "name": "stderr",
     "output_type": "stream",
     "text": [
      "/Users/alarcon/Documents/source/MDN_phoZ/zeropoints.py:99: RuntimeWarning: divide by zero encountered in log\n",
      "  loglike = -2.0*np.log(like) + 2.0 * np.log(like_max)\n"
     ]
    },
    {
     "name": "stdout",
     "output_type": "stream",
     "text": [
      "14.789469957351685\n",
      "41 [-0.0114  0.013  -0.0241 -0.0315] 7095.91\n"
     ]
    },
    {
     "name": "stderr",
     "output_type": "stream",
     "text": [
      "/Users/alarcon/Documents/source/MDN_phoZ/zeropoints.py:99: RuntimeWarning: divide by zero encountered in log\n",
      "  loglike = -2.0*np.log(like) + 2.0 * np.log(like_max)\n"
     ]
    },
    {
     "name": "stdout",
     "output_type": "stream",
     "text": [
      "15.968093156814575\n",
      "42 [-0.0114  0.013  -0.0241 -0.0315] 7095.91\n"
     ]
    },
    {
     "name": "stderr",
     "output_type": "stream",
     "text": [
      "/Users/alarcon/Documents/source/MDN_phoZ/zeropoints.py:99: RuntimeWarning: divide by zero encountered in log\n",
      "  loglike = -2.0*np.log(like) + 2.0 * np.log(like_max)\n"
     ]
    },
    {
     "name": "stdout",
     "output_type": "stream",
     "text": [
      "15.356934785842896\n",
      "43 [-0.0109  0.0092 -0.0152 -0.0332] 7158.79\n"
     ]
    },
    {
     "name": "stderr",
     "output_type": "stream",
     "text": [
      "/Users/alarcon/Documents/source/MDN_phoZ/zeropoints.py:99: RuntimeWarning: divide by zero encountered in log\n",
      "  loglike = -2.0*np.log(like) + 2.0 * np.log(like_max)\n"
     ]
    },
    {
     "name": "stdout",
     "output_type": "stream",
     "text": [
      "15.71913480758667\n",
      "44 [-0.0109  0.0092 -0.0152 -0.0332] 7158.79\n"
     ]
    },
    {
     "name": "stderr",
     "output_type": "stream",
     "text": [
      "/Users/alarcon/Documents/source/MDN_phoZ/zeropoints.py:99: RuntimeWarning: divide by zero encountered in log\n",
      "  loglike = -2.0*np.log(like) + 2.0 * np.log(like_max)\n"
     ]
    },
    {
     "name": "stdout",
     "output_type": "stream",
     "text": [
      "15.213653802871704\n",
      "45 [ 0.0036  0.0033 -0.0059 -0.0336] 7306.82\n"
     ]
    },
    {
     "name": "stderr",
     "output_type": "stream",
     "text": [
      "/Users/alarcon/Documents/source/MDN_phoZ/zeropoints.py:99: RuntimeWarning: divide by zero encountered in log\n",
      "  loglike = -2.0*np.log(like) + 2.0 * np.log(like_max)\n"
     ]
    },
    {
     "name": "stdout",
     "output_type": "stream",
     "text": [
      "14.826212167739868\n",
      "46 [ 0.0036  0.0033 -0.0059 -0.0336] 7306.82\n"
     ]
    },
    {
     "name": "stderr",
     "output_type": "stream",
     "text": [
      "/Users/alarcon/Documents/source/MDN_phoZ/zeropoints.py:99: RuntimeWarning: divide by zero encountered in log\n",
      "  loglike = -2.0*np.log(like) + 2.0 * np.log(like_max)\n"
     ]
    },
    {
     "name": "stdout",
     "output_type": "stream",
     "text": [
      "16.88365387916565\n",
      "47 [-0.0072  0.0037 -0.004  -0.0304] 7282.42\n"
     ]
    },
    {
     "name": "stderr",
     "output_type": "stream",
     "text": [
      "/Users/alarcon/Documents/source/MDN_phoZ/zeropoints.py:99: RuntimeWarning: divide by zero encountered in log\n",
      "  loglike = -2.0*np.log(like) + 2.0 * np.log(like_max)\n"
     ]
    },
    {
     "name": "stdout",
     "output_type": "stream",
     "text": [
      "16.292134761810303\n",
      "48 [-0.0124  0.0081 -0.0043 -0.0261] 7288.45\n"
     ]
    },
    {
     "name": "stderr",
     "output_type": "stream",
     "text": [
      "/Users/alarcon/Documents/source/MDN_phoZ/zeropoints.py:99: RuntimeWarning: divide by zero encountered in log\n",
      "  loglike = -2.0*np.log(like) + 2.0 * np.log(like_max)\n"
     ]
    },
    {
     "name": "stdout",
     "output_type": "stream",
     "text": [
      "15.432482957839966\n",
      "49 [-0.0042  0.0065  0.0005 -0.0255] 7288.27\n"
     ]
    },
    {
     "name": "stderr",
     "output_type": "stream",
     "text": [
      "/Users/alarcon/Documents/source/MDN_phoZ/zeropoints.py:99: RuntimeWarning: divide by zero encountered in log\n",
      "  loglike = -2.0*np.log(like) + 2.0 * np.log(like_max)\n"
     ]
    },
    {
     "name": "stdout",
     "output_type": "stream",
     "text": [
      "14.798607110977173\n",
      "50 [-0.0084  0.0063  0.0022 -0.0257] 7227.16\n"
     ]
    },
    {
     "name": "stderr",
     "output_type": "stream",
     "text": [
      "/Users/alarcon/Documents/source/MDN_phoZ/zeropoints.py:99: RuntimeWarning: divide by zero encountered in log\n",
      "  loglike = -2.0*np.log(like) + 2.0 * np.log(like_max)\n"
     ]
    },
    {
     "name": "stdout",
     "output_type": "stream",
     "text": [
      "15.415933847427368\n",
      "51 [-0.0063  0.0111  0.0021 -0.03  ] 7194.96\n"
     ]
    },
    {
     "name": "stderr",
     "output_type": "stream",
     "text": [
      "/Users/alarcon/Documents/source/MDN_phoZ/zeropoints.py:99: RuntimeWarning: divide by zero encountered in log\n",
      "  loglike = -2.0*np.log(like) + 2.0 * np.log(like_max)\n"
     ]
    },
    {
     "name": "stdout",
     "output_type": "stream",
     "text": [
      "14.819055318832397\n",
      "52 [-0.0063  0.0111  0.0021 -0.03  ] 7194.96\n"
     ]
    },
    {
     "name": "stderr",
     "output_type": "stream",
     "text": [
      "/Users/alarcon/Documents/source/MDN_phoZ/zeropoints.py:99: RuntimeWarning: divide by zero encountered in log\n",
      "  loglike = -2.0*np.log(like) + 2.0 * np.log(like_max)\n"
     ]
    },
    {
     "name": "stdout",
     "output_type": "stream",
     "text": [
      "17.55790901184082\n",
      "53 [-0.0063  0.0111  0.0021 -0.03  ] 7194.96\n"
     ]
    },
    {
     "name": "stderr",
     "output_type": "stream",
     "text": [
      "/Users/alarcon/Documents/source/MDN_phoZ/zeropoints.py:99: RuntimeWarning: divide by zero encountered in log\n",
      "  loglike = -2.0*np.log(like) + 2.0 * np.log(like_max)\n"
     ]
    },
    {
     "name": "stdout",
     "output_type": "stream",
     "text": [
      "15.108880996704102\n",
      "54 [-0.0106  0.0155  0.0037 -0.0246] 7298.16\n"
     ]
    },
    {
     "name": "stderr",
     "output_type": "stream",
     "text": [
      "/Users/alarcon/Documents/source/MDN_phoZ/zeropoints.py:99: RuntimeWarning: divide by zero encountered in log\n",
      "  loglike = -2.0*np.log(like) + 2.0 * np.log(like_max)\n"
     ]
    },
    {
     "name": "stdout",
     "output_type": "stream",
     "text": [
      "15.267881870269775\n",
      "55 [-0.0018  0.0184  0.0026 -0.0246] 7271.91\n"
     ]
    },
    {
     "name": "stderr",
     "output_type": "stream",
     "text": [
      "/Users/alarcon/Documents/source/MDN_phoZ/zeropoints.py:99: RuntimeWarning: divide by zero encountered in log\n",
      "  loglike = -2.0*np.log(like) + 2.0 * np.log(like_max)\n"
     ]
    },
    {
     "name": "stdout",
     "output_type": "stream",
     "text": [
      "15.87263298034668\n",
      "56 [-0.0013  0.0142  0.0004 -0.024 ] 7342.12\n"
     ]
    },
    {
     "name": "stderr",
     "output_type": "stream",
     "text": [
      "/Users/alarcon/Documents/source/MDN_phoZ/zeropoints.py:99: RuntimeWarning: divide by zero encountered in log\n",
      "  loglike = -2.0*np.log(like) + 2.0 * np.log(like_max)\n"
     ]
    },
    {
     "name": "stdout",
     "output_type": "stream",
     "text": [
      "17.668934106826782\n",
      "57 [ 0.0077  0.0151  0.0032 -0.0242] 7264.89\n"
     ]
    },
    {
     "name": "stderr",
     "output_type": "stream",
     "text": [
      "/Users/alarcon/Documents/source/MDN_phoZ/zeropoints.py:99: RuntimeWarning: divide by zero encountered in log\n",
      "  loglike = -2.0*np.log(like) + 2.0 * np.log(like_max)\n"
     ]
    },
    {
     "name": "stdout",
     "output_type": "stream",
     "text": [
      "16.22306799888611\n",
      "58 [ 0.0056  0.0112 -0.0096 -0.0252] 7217.83\n"
     ]
    },
    {
     "name": "stderr",
     "output_type": "stream",
     "text": [
      "/Users/alarcon/Documents/source/MDN_phoZ/zeropoints.py:99: RuntimeWarning: divide by zero encountered in log\n",
      "  loglike = -2.0*np.log(like) + 2.0 * np.log(like_max)\n"
     ]
    },
    {
     "name": "stdout",
     "output_type": "stream",
     "text": [
      "17.14370584487915\n",
      "59 [ 0.002   0.017  -0.0038 -0.0222] 7252.94\n"
     ]
    },
    {
     "name": "stderr",
     "output_type": "stream",
     "text": [
      "/Users/alarcon/Documents/source/MDN_phoZ/zeropoints.py:99: RuntimeWarning: divide by zero encountered in log\n",
      "  loglike = -2.0*np.log(like) + 2.0 * np.log(like_max)\n"
     ]
    },
    {
     "name": "stdout",
     "output_type": "stream",
     "text": [
      "16.920090198516846\n",
      "60 [ 0.0056  0.0223 -0.0038 -0.0117] 7192.15\n"
     ]
    },
    {
     "name": "stderr",
     "output_type": "stream",
     "text": [
      "/Users/alarcon/Documents/source/MDN_phoZ/zeropoints.py:99: RuntimeWarning: divide by zero encountered in log\n",
      "  loglike = -2.0*np.log(like) + 2.0 * np.log(like_max)\n"
     ]
    },
    {
     "name": "stdout",
     "output_type": "stream",
     "text": [
      "17.709925889968872\n",
      "61 [ 0.0056  0.0223 -0.0038 -0.0117] 7192.15\n"
     ]
    },
    {
     "name": "stderr",
     "output_type": "stream",
     "text": [
      "/Users/alarcon/Documents/source/MDN_phoZ/zeropoints.py:99: RuntimeWarning: divide by zero encountered in log\n",
      "  loglike = -2.0*np.log(like) + 2.0 * np.log(like_max)\n"
     ]
    },
    {
     "name": "stdout",
     "output_type": "stream",
     "text": [
      "16.507106065750122\n",
      "62 [-0.0013  0.0278 -0.0002 -0.0154] 7099.62\n"
     ]
    },
    {
     "name": "stderr",
     "output_type": "stream",
     "text": [
      "/Users/alarcon/Documents/source/MDN_phoZ/zeropoints.py:99: RuntimeWarning: divide by zero encountered in log\n",
      "  loglike = -2.0*np.log(like) + 2.0 * np.log(like_max)\n"
     ]
    },
    {
     "name": "stdout",
     "output_type": "stream",
     "text": [
      "16.49828314781189\n",
      "63 [-0.0013  0.0278 -0.0002 -0.0154] 7099.62\n"
     ]
    },
    {
     "name": "stderr",
     "output_type": "stream",
     "text": [
      "/Users/alarcon/Documents/source/MDN_phoZ/zeropoints.py:99: RuntimeWarning: divide by zero encountered in log\n",
      "  loglike = -2.0*np.log(like) + 2.0 * np.log(like_max)\n"
     ]
    },
    {
     "name": "stdout",
     "output_type": "stream",
     "text": [
      "16.1412410736084\n",
      "64 [-0.0013  0.0278 -0.0002 -0.0154] 7099.62\n"
     ]
    },
    {
     "name": "stderr",
     "output_type": "stream",
     "text": [
      "/Users/alarcon/Documents/source/MDN_phoZ/zeropoints.py:99: RuntimeWarning: divide by zero encountered in log\n",
      "  loglike = -2.0*np.log(like) + 2.0 * np.log(like_max)\n"
     ]
    },
    {
     "name": "stdout",
     "output_type": "stream",
     "text": [
      "16.622765064239502\n",
      "65 [-0.0013  0.0278 -0.0002 -0.0154] 7099.62\n"
     ]
    },
    {
     "name": "stderr",
     "output_type": "stream",
     "text": [
      "/Users/alarcon/Documents/source/MDN_phoZ/zeropoints.py:99: RuntimeWarning: divide by zero encountered in log\n",
      "  loglike = -2.0*np.log(like) + 2.0 * np.log(like_max)\n"
     ]
    },
    {
     "name": "stdout",
     "output_type": "stream",
     "text": [
      "16.536869764328003\n",
      "66 [-0.0013  0.0278 -0.0002 -0.0154] 7099.62\n"
     ]
    },
    {
     "name": "stderr",
     "output_type": "stream",
     "text": [
      "/Users/alarcon/Documents/source/MDN_phoZ/zeropoints.py:99: RuntimeWarning: divide by zero encountered in log\n",
      "  loglike = -2.0*np.log(like) + 2.0 * np.log(like_max)\n"
     ]
    },
    {
     "name": "stdout",
     "output_type": "stream",
     "text": [
      "16.517467260360718\n",
      "67 [-0.003   0.028  -0.0068 -0.0189] 7240.32\n"
     ]
    },
    {
     "name": "stderr",
     "output_type": "stream",
     "text": [
      "/Users/alarcon/Documents/source/MDN_phoZ/zeropoints.py:99: RuntimeWarning: divide by zero encountered in log\n",
      "  loglike = -2.0*np.log(like) + 2.0 * np.log(like_max)\n",
      "/Users/alarcon/Documents/source/MDN_phoZ/zeropoints.py:99: RuntimeWarning: invalid value encountered in add\n",
      "  loglike = -2.0*np.log(like) + 2.0 * np.log(like_max)\n"
     ]
    },
    {
     "name": "stdout",
     "output_type": "stream",
     "text": [
      "16.606430053710938\n",
      "68 [-0.005   0.0283 -0.0099 -0.0226] 7176.97\n"
     ]
    },
    {
     "name": "stderr",
     "output_type": "stream",
     "text": [
      "/Users/alarcon/Documents/source/MDN_phoZ/zeropoints.py:99: RuntimeWarning: divide by zero encountered in log\n",
      "  loglike = -2.0*np.log(like) + 2.0 * np.log(like_max)\n"
     ]
    },
    {
     "name": "stdout",
     "output_type": "stream",
     "text": [
      "16.42654800415039\n",
      "69 [-0.0015  0.0414 -0.0117 -0.018 ] 7004.34\n"
     ]
    },
    {
     "name": "stderr",
     "output_type": "stream",
     "text": [
      "/Users/alarcon/Documents/source/MDN_phoZ/zeropoints.py:99: RuntimeWarning: divide by zero encountered in log\n",
      "  loglike = -2.0*np.log(like) + 2.0 * np.log(like_max)\n"
     ]
    },
    {
     "name": "stdout",
     "output_type": "stream",
     "text": [
      "16.044574975967407\n",
      "70 [-0.0015  0.0414 -0.0117 -0.018 ] 7004.34\n"
     ]
    },
    {
     "name": "stderr",
     "output_type": "stream",
     "text": [
      "/Users/alarcon/Documents/source/MDN_phoZ/zeropoints.py:99: RuntimeWarning: divide by zero encountered in log\n",
      "  loglike = -2.0*np.log(like) + 2.0 * np.log(like_max)\n"
     ]
    },
    {
     "name": "stdout",
     "output_type": "stream",
     "text": [
      "16.09416103363037\n",
      "71 [-0.0015  0.0414 -0.0117 -0.018 ] 7004.34\n"
     ]
    },
    {
     "name": "stderr",
     "output_type": "stream",
     "text": [
      "/Users/alarcon/Documents/source/MDN_phoZ/zeropoints.py:99: RuntimeWarning: divide by zero encountered in log\n",
      "  loglike = -2.0*np.log(like) + 2.0 * np.log(like_max)\n",
      "/Users/alarcon/Documents/source/MDN_phoZ/zeropoints.py:99: RuntimeWarning: invalid value encountered in add\n",
      "  loglike = -2.0*np.log(like) + 2.0 * np.log(like_max)\n"
     ]
    },
    {
     "name": "stdout",
     "output_type": "stream",
     "text": [
      "17.88520312309265\n",
      "72 [-0.0015  0.0414 -0.0117 -0.018 ] 7004.34\n"
     ]
    },
    {
     "name": "stderr",
     "output_type": "stream",
     "text": [
      "/Users/alarcon/Documents/source/MDN_phoZ/zeropoints.py:99: RuntimeWarning: divide by zero encountered in log\n",
      "  loglike = -2.0*np.log(like) + 2.0 * np.log(like_max)\n"
     ]
    },
    {
     "name": "stdout",
     "output_type": "stream",
     "text": [
      "18.093345165252686\n",
      "73 [-0.0015  0.0414 -0.0117 -0.018 ] 7004.34\n"
     ]
    },
    {
     "name": "stderr",
     "output_type": "stream",
     "text": [
      "/Users/alarcon/Documents/source/MDN_phoZ/zeropoints.py:99: RuntimeWarning: divide by zero encountered in log\n",
      "  loglike = -2.0*np.log(like) + 2.0 * np.log(like_max)\n"
     ]
    },
    {
     "name": "stdout",
     "output_type": "stream",
     "text": [
      "16.010496854782104\n",
      "74 [-0.0015  0.0414 -0.0117 -0.018 ] 7004.34\n"
     ]
    },
    {
     "name": "stderr",
     "output_type": "stream",
     "text": [
      "/Users/alarcon/Documents/source/MDN_phoZ/zeropoints.py:99: RuntimeWarning: divide by zero encountered in log\n",
      "  loglike = -2.0*np.log(like) + 2.0 * np.log(like_max)\n"
     ]
    },
    {
     "name": "stdout",
     "output_type": "stream",
     "text": [
      "16.688652992248535\n",
      "75 [-0.0015  0.0414 -0.0117 -0.018 ] 7004.34\n"
     ]
    },
    {
     "name": "stderr",
     "output_type": "stream",
     "text": [
      "/Users/alarcon/Documents/source/MDN_phoZ/zeropoints.py:99: RuntimeWarning: divide by zero encountered in log\n",
      "  loglike = -2.0*np.log(like) + 2.0 * np.log(like_max)\n"
     ]
    },
    {
     "name": "stdout",
     "output_type": "stream",
     "text": [
      "16.771652936935425\n",
      "76 [-0.0044  0.0434 -0.0191 -0.0023] 7139.62\n"
     ]
    },
    {
     "name": "stderr",
     "output_type": "stream",
     "text": [
      "/Users/alarcon/Documents/source/MDN_phoZ/zeropoints.py:99: RuntimeWarning: divide by zero encountered in log\n",
      "  loglike = -2.0*np.log(like) + 2.0 * np.log(like_max)\n"
     ]
    },
    {
     "name": "stdout",
     "output_type": "stream",
     "text": [
      "16.268642902374268\n",
      "77 [ 0.0045  0.0452 -0.0198 -0.0017] 7115.26\n"
     ]
    },
    {
     "name": "stderr",
     "output_type": "stream",
     "text": [
      "/Users/alarcon/Documents/source/MDN_phoZ/zeropoints.py:99: RuntimeWarning: divide by zero encountered in log\n",
      "  loglike = -2.0*np.log(like) + 2.0 * np.log(like_max)\n"
     ]
    },
    {
     "name": "stdout",
     "output_type": "stream",
     "text": [
      "16.457390069961548\n",
      "78 [ 0.009   0.0439 -0.0132  0.011 ] 7138.05\n"
     ]
    },
    {
     "name": "stderr",
     "output_type": "stream",
     "text": [
      "/Users/alarcon/Documents/source/MDN_phoZ/zeropoints.py:99: RuntimeWarning: divide by zero encountered in log\n",
      "  loglike = -2.0*np.log(like) + 2.0 * np.log(like_max)\n"
     ]
    },
    {
     "name": "stdout",
     "output_type": "stream",
     "text": [
      "14.933820962905884\n",
      "79 [ 0.005   0.049  -0.0066  0.0117] 7273.29\n"
     ]
    },
    {
     "name": "stderr",
     "output_type": "stream",
     "text": [
      "/Users/alarcon/Documents/source/MDN_phoZ/zeropoints.py:99: RuntimeWarning: divide by zero encountered in log\n",
      "  loglike = -2.0*np.log(like) + 2.0 * np.log(like_max)\n"
     ]
    },
    {
     "name": "stdout",
     "output_type": "stream",
     "text": [
      "15.660768032073975\n",
      "80 [ 0.0074  0.0544 -0.0133  0.0193] 7107.72\n"
     ]
    },
    {
     "name": "stderr",
     "output_type": "stream",
     "text": [
      "/Users/alarcon/Documents/source/MDN_phoZ/zeropoints.py:99: RuntimeWarning: divide by zero encountered in log\n",
      "  loglike = -2.0*np.log(like) + 2.0 * np.log(like_max)\n"
     ]
    },
    {
     "name": "stdout",
     "output_type": "stream",
     "text": [
      "17.570191860198975\n",
      "81 [ 0.0056  0.0547 -0.0167  0.0157] 7224.44\n"
     ]
    },
    {
     "name": "stderr",
     "output_type": "stream",
     "text": [
      "/Users/alarcon/Documents/source/MDN_phoZ/zeropoints.py:99: RuntimeWarning: divide by zero encountered in log\n",
      "  loglike = -2.0*np.log(like) + 2.0 * np.log(like_max)\n"
     ]
    },
    {
     "name": "stdout",
     "output_type": "stream",
     "text": [
      "17.096491813659668\n",
      "82 [ 0.0062  0.0583 -0.0237  0.0166] 7110.86\n"
     ]
    },
    {
     "name": "stderr",
     "output_type": "stream",
     "text": [
      "/Users/alarcon/Documents/source/MDN_phoZ/zeropoints.py:99: RuntimeWarning: divide by zero encountered in log\n",
      "  loglike = -2.0*np.log(like) + 2.0 * np.log(like_max)\n"
     ]
    },
    {
     "name": "stdout",
     "output_type": "stream",
     "text": [
      "16.496177911758423\n",
      "83 [ 0.005   0.0661 -0.0201  0.0156] 7016.37\n"
     ]
    },
    {
     "name": "stderr",
     "output_type": "stream",
     "text": [
      "/Users/alarcon/Documents/source/MDN_phoZ/zeropoints.py:99: RuntimeWarning: divide by zero encountered in log\n",
      "  loglike = -2.0*np.log(like) + 2.0 * np.log(like_max)\n"
     ]
    },
    {
     "name": "stdout",
     "output_type": "stream",
     "text": [
      "16.174760103225708\n",
      "84 [ 0.005   0.0661 -0.0201  0.0156] 7016.37\n"
     ]
    },
    {
     "name": "stderr",
     "output_type": "stream",
     "text": [
      "/Users/alarcon/Documents/source/MDN_phoZ/zeropoints.py:99: RuntimeWarning: divide by zero encountered in log\n",
      "  loglike = -2.0*np.log(like) + 2.0 * np.log(like_max)\n"
     ]
    },
    {
     "name": "stdout",
     "output_type": "stream",
     "text": [
      "16.820861101150513\n",
      "85 [ 0.0052  0.0701 -0.0164  0.0058] 7169.4\n"
     ]
    },
    {
     "name": "stderr",
     "output_type": "stream",
     "text": [
      "/Users/alarcon/Documents/source/MDN_phoZ/zeropoints.py:99: RuntimeWarning: divide by zero encountered in log\n",
      "  loglike = -2.0*np.log(like) + 2.0 * np.log(like_max)\n"
     ]
    },
    {
     "name": "stdout",
     "output_type": "stream",
     "text": [
      "16.586665868759155\n",
      "86 [ 0.0072  0.0738 -0.0151  0.0054] 7111.6\n"
     ]
    },
    {
     "name": "stderr",
     "output_type": "stream",
     "text": [
      "/Users/alarcon/Documents/source/MDN_phoZ/zeropoints.py:99: RuntimeWarning: divide by zero encountered in log\n",
      "  loglike = -2.0*np.log(like) + 2.0 * np.log(like_max)\n"
     ]
    },
    {
     "name": "stdout",
     "output_type": "stream",
     "text": [
      "16.647621870040894\n",
      "87 [ 0.0067  0.0692 -0.0237  0.0056] 7064.56\n"
     ]
    },
    {
     "name": "stderr",
     "output_type": "stream",
     "text": [
      "/Users/alarcon/Documents/source/MDN_phoZ/zeropoints.py:99: RuntimeWarning: divide by zero encountered in log\n",
      "  loglike = -2.0*np.log(like) + 2.0 * np.log(like_max)\n"
     ]
    },
    {
     "name": "stdout",
     "output_type": "stream",
     "text": [
      "15.713374853134155\n",
      "88 [ 0.0067  0.0692 -0.0237  0.0056] 7064.56\n"
     ]
    },
    {
     "name": "stderr",
     "output_type": "stream",
     "text": [
      "/Users/alarcon/Documents/source/MDN_phoZ/zeropoints.py:99: RuntimeWarning: divide by zero encountered in log\n",
      "  loglike = -2.0*np.log(like) + 2.0 * np.log(like_max)\n"
     ]
    },
    {
     "name": "stdout",
     "output_type": "stream",
     "text": [
      "16.182761192321777\n",
      "89 [-0.0002  0.0685 -0.0245  0.0007] 7047.53\n"
     ]
    },
    {
     "name": "stderr",
     "output_type": "stream",
     "text": [
      "/Users/alarcon/Documents/source/MDN_phoZ/zeropoints.py:99: RuntimeWarning: divide by zero encountered in log\n",
      "  loglike = -2.0*np.log(like) + 2.0 * np.log(like_max)\n"
     ]
    },
    {
     "name": "stdout",
     "output_type": "stream",
     "text": [
      "16.023976802825928\n",
      "90 [ 0.0022  0.0672 -0.0226  0.0035] 6971.33\n"
     ]
    },
    {
     "name": "stderr",
     "output_type": "stream",
     "text": [
      "/Users/alarcon/Documents/source/MDN_phoZ/zeropoints.py:99: RuntimeWarning: divide by zero encountered in log\n",
      "  loglike = -2.0*np.log(like) + 2.0 * np.log(like_max)\n"
     ]
    },
    {
     "name": "stdout",
     "output_type": "stream",
     "text": [
      "15.761340141296387\n",
      "91 [ 0.0022  0.0672 -0.0226  0.0035] 6971.33\n"
     ]
    },
    {
     "name": "stderr",
     "output_type": "stream",
     "text": [
      "/Users/alarcon/Documents/source/MDN_phoZ/zeropoints.py:99: RuntimeWarning: divide by zero encountered in log\n",
      "  loglike = -2.0*np.log(like) + 2.0 * np.log(like_max)\n"
     ]
    },
    {
     "name": "stdout",
     "output_type": "stream",
     "text": [
      "16.696330070495605\n",
      "92 [ 0.0022  0.0672 -0.0226  0.0035] 6971.33\n"
     ]
    },
    {
     "name": "stderr",
     "output_type": "stream",
     "text": [
      "/Users/alarcon/Documents/source/MDN_phoZ/zeropoints.py:99: RuntimeWarning: divide by zero encountered in log\n",
      "  loglike = -2.0*np.log(like) + 2.0 * np.log(like_max)\n"
     ]
    },
    {
     "name": "stdout",
     "output_type": "stream",
     "text": [
      "15.161281108856201\n",
      "93 [ 0.0022  0.0672 -0.0226  0.0035] 6971.33\n"
     ]
    },
    {
     "name": "stderr",
     "output_type": "stream",
     "text": [
      "/Users/alarcon/Documents/source/MDN_phoZ/zeropoints.py:99: RuntimeWarning: divide by zero encountered in log\n",
      "  loglike = -2.0*np.log(like) + 2.0 * np.log(like_max)\n"
     ]
    },
    {
     "name": "stdout",
     "output_type": "stream",
     "text": [
      "16.739516019821167\n",
      "94 [ 0.0022  0.0672 -0.0226  0.0035] 6971.33\n"
     ]
    },
    {
     "name": "stderr",
     "output_type": "stream",
     "text": [
      "/Users/alarcon/Documents/source/MDN_phoZ/zeropoints.py:99: RuntimeWarning: divide by zero encountered in log\n",
      "  loglike = -2.0*np.log(like) + 2.0 * np.log(like_max)\n"
     ]
    },
    {
     "name": "stdout",
     "output_type": "stream",
     "text": [
      "16.052738189697266\n",
      "95 [ 0.0022  0.0672 -0.0226  0.0035] 6971.33\n"
     ]
    },
    {
     "name": "stderr",
     "output_type": "stream",
     "text": [
      "/Users/alarcon/Documents/source/MDN_phoZ/zeropoints.py:99: RuntimeWarning: divide by zero encountered in log\n",
      "  loglike = -2.0*np.log(like) + 2.0 * np.log(like_max)\n"
     ]
    },
    {
     "name": "stdout",
     "output_type": "stream",
     "text": [
      "16.6982319355011\n",
      "96 [ 0.0022  0.0672 -0.0226  0.0035] 6971.33\n"
     ]
    },
    {
     "name": "stderr",
     "output_type": "stream",
     "text": [
      "/Users/alarcon/Documents/source/MDN_phoZ/zeropoints.py:99: RuntimeWarning: divide by zero encountered in log\n",
      "  loglike = -2.0*np.log(like) + 2.0 * np.log(like_max)\n"
     ]
    },
    {
     "name": "stdout",
     "output_type": "stream",
     "text": [
      "14.795478820800781\n",
      "97 [ 0.0022  0.0672 -0.0226  0.0035] 6971.33\n",
      "15.311384916305542\n",
      "98 [ 0.0022  0.0672 -0.0226  0.0035] 6971.33\n"
     ]
    },
    {
     "name": "stderr",
     "output_type": "stream",
     "text": [
      "/Users/alarcon/Documents/source/MDN_phoZ/zeropoints.py:99: RuntimeWarning: divide by zero encountered in log\n",
      "  loglike = -2.0*np.log(like) + 2.0 * np.log(like_max)\n"
     ]
    }
   ],
   "source": [
    "# Should cover at least the extent of the true redshifts.\n",
    "zgrid = np.arange(-0.1,0.8,0.01)\n",
    "\n",
    "# Selection. SDSS galaxies above z>0.01.\n",
    "sel = (label_test==0)&(y_test>0.01)\n",
    "\n",
    "# Value to reduce the likelihood ratio significance. \n",
    "# Adjust higher for larger samples.\n",
    "extra_cov = (7.)**2\n",
    "# Integration steps to marginalize photometric noise.\n",
    "Nintegral = 10\n",
    "# Clip galaxies with crazy low likelihoods. Roughly number of sigmas.\n",
    "cutoff = 5\n",
    "# Steps of the MCMC.\n",
    "Nchain = 100\n",
    "\n",
    "errors = X_err[sel].copy()\n",
    "# Sometimes it's good to add more error. \n",
    "# Our models will not be accurate up to S/N~1000\n",
    "# errors = np.sqrt(errors**2 + 0.02**2)\n",
    "\n",
    "# Step size of the proposal distribution.\n",
    "step_size = 0.005\n",
    "\n",
    "xchain, P = zeropoints.run_zp_chain(\n",
    "    preproc,\n",
    "    preproc_y,\n",
    "    model_train,\n",
    "    y_test[sel], \n",
    "    X_test[sel].copy(), \n",
    "    errors, \n",
    "    Nintegral,\n",
    "    Nchain,\n",
    "    method = \"exact\", # Exact likelihood\n",
    "    #method = \"approximate\", # Approximate likelihood.\n",
    "    params_init = None,\n",
    "    #params_init = pinit,\n",
    "    cutoff = cutoff, \n",
    "    extra_cov = extra_cov,\n",
    "    step_size = step_size,\n",
    "    zgrid = zgrid\n",
    ")"
   ]
  },
  {
   "cell_type": "code",
   "execution_count": 21,
   "metadata": {},
   "outputs": [],
   "source": [
    "def prediction_zp(xdata, xzero):\n",
    " \n",
    "    f_real = xdata.copy()\n",
    "    f_real[:,:4] = f_real[:,:4] + xzero\n",
    "    f_real = preproc.transform(f_real)\n",
    "    y_pred = np.array(model_train(f_real))\n",
    "\n",
    "\n",
    "    y_pred_arg = np.argmax(y_pred[2, :, :], axis = 1)\n",
    "    y_pred_mean = y_pred[0, :, :][:, y_pred_arg][:, 0]\n",
    "\n",
    "    photoz = preproc_y.inverse_transform(y_pred_mean.reshape(-1, 1))[:, 0]\n",
    "    return photoz"
   ]
  },
  {
   "cell_type": "code",
   "execution_count": 24,
   "metadata": {},
   "outputs": [
    {
     "data": {
      "image/png": "[encoded data removed]",
      "text/plain": [
       "<Figure size 432x1008 with 3 Axes>"
      ]
     },
     "metadata": {
      "needs_background": "light"
     },
     "output_type": "display_data"
    }
   ],
   "source": [
    "xdata = X_test[sel].copy()\n",
    "\n",
    "zb_0 = prediction_zp(xdata, 0.*xchain[P.argmin()])\n",
    "zb_zp = prediction_zp(xdata, xchain[P.argmin()])\n",
    "\n",
    "\n",
    "fig,ax = plt.subplots(3,1, figsize=(6,14), sharex=False, sharey=False)\n",
    "ax[0].scatter(y_test[sel], zb_0, s=3)\n",
    "ax[0].plot([0,0.99],[0,0.99], color='r')\n",
    "ax[0].set_xlim(-0.01,0.99+0.01)\n",
    "ax[0].set_ylim(-0.02,0.99+0.02)\n",
    "ax[0].set_xlabel('ztrue')\n",
    "ax[0].set_ylabel('photo-z')\n",
    "ax[0].set_title('No zero-points')\n",
    "\n",
    "ax[1].scatter(y_test[sel], zb_zp, s=3)\n",
    "ax[1].plot([0,0.99],[0,0.99], color='r')\n",
    "ax[1].set_xlim(-0.01,0.99+0.01)\n",
    "ax[1].set_ylim(-0.02,0.99+0.02)\n",
    "ax[1].set_xlabel('ztrue')\n",
    "ax[1].set_ylabel('photo-z')\n",
    "ax[1].set_title('Some optimized zero-points')\n",
    "\n",
    "dz_bins = 0.02\n",
    "bins = np.arange(-0.3+dz_bins/2., 0.3, dz_bins)\n",
    "ax[2].hist((zb_0-y_test[sel])/(1+y_test[sel]), bins=bins, histtype='step', lw=1.5,\n",
    "          label='No zero-points')\n",
    "ax[2].hist((zb_zp-y_test[sel])/(1+y_test[sel]), bins=bins, histtype='step', lw=1.5,\n",
    "          label='Some optimized \\nzero-points')\n",
    "ax[2].axvline(0,ls=':',color='k')\n",
    "ax[2].set_xlabel('(photoz - ztrue)/(1+ztrue)')\n",
    "ax[2].legend()\n",
    "\n",
    "fig.suptitle('SDSS data', y=0.94)\n",
    "fig.subplots_adjust(hspace=0.4)\n",
    "#plt.savefig('zeropoint_sdss_test1.png',bbox_inches='tight',dpi=300)\n",
    "plt.show()"
   ]
  },
  {
   "cell_type": "code",
   "execution_count": 26,
   "metadata": {},
   "outputs": [
    {
     "data": {
      "image/png": "[encoded data removed]",
      "text/plain": [
       "<Figure size 1008x1008 with 10 Axes>"
      ]
     },
     "metadata": {
      "needs_background": "light"
     },
     "output_type": "display_data"
    }
   ],
   "source": [
    "fig, ax = plt.subplots(3,3, figsize=(14,14))\n",
    "\n",
    "for i in range(3):\n",
    "    for j in range(3):\n",
    "        if i<j:\n",
    "            ax[i,j].axis('off')\n",
    "            continue\n",
    "            \n",
    "        im = ax[i,j].scatter(xchain[:,j],xchain[:,i+1], s=4,c=P, vmin=P.min(), vmax=np.mean([P.min(),P.max()]))\n",
    "        argmin = P.argmin()\n",
    "        ax[i,j].scatter(xchain[argmin,j],xchain[argmin,i+1], s=80, c='r', marker='x')\n",
    "        ax[i,j].set_xlabel(f'$x_{j}$', fontsize=22)\n",
    "        ax[i,j].set_ylabel(f'$x_{i+1}$', fontsize=22)\n",
    "        ax[i,j].axvline(0, ls=':', color='k')\n",
    "        ax[i,j].axhline(0, ls=':', color='k')\n",
    "        \n",
    "        #assert false\n",
    "        \n",
    "#fig.colorbar(im,ax=ax[i,j])\n",
    "cbar_ax = fig.add_axes([0.95, 0.12, 0.03, 0.75])\n",
    "fig.colorbar(im, cax=cbar_ax)\n",
    "#fig.tight_layout()\n",
    "plt.show()"
   ]
  },
  {
   "cell_type": "code",
   "execution_count": null,
   "metadata": {},
   "outputs": [],
   "source": []
  },
  {
   "cell_type": "code",
   "execution_count": null,
   "metadata": {},
   "outputs": [],
   "source": []
  }
 ],
 "metadata": {
  "anaconda-cloud": {},
  "kernelspec": {
   "display_name": "Python 3 (mdn)",
   "language": "python",
   "name": "mdn"
  },
  "language_info": {
   "codemirror_mode": {
    "name": "ipython",
    "version": 3
   },
   "file_extension": ".py",
   "mimetype": "text/x-python",
   "name": "python",
   "nbconvert_exporter": "python",
   "pygments_lexer": "ipython3",
   "version": "3.7.9"
  }
 },
 "nbformat": 4,
 "nbformat_minor": 2
}
