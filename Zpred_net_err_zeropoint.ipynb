{
 "cells": [
  {
   "cell_type": "code",
   "execution_count": 10,
   "metadata": {
    "tags": []
   },
   "outputs": [],
   "source": [
    "import numpy as np\n",
    "import matplotlib.pylab as plt\n",
    "import pickle\n",
    "from sklearn.pipeline import Pipeline\n",
    "from sklearn.preprocessing import StandardScaler, MinMaxScaler\n",
    "import tensorflow as tf\n",
    "from tensorflow.keras.models import Model\n",
    "np.random.seed(12211)  \n",
    "\n",
    "import zeropoints\n",
    "\n",
    "plt.rc('text', usetex=True)\n",
    "plt.rc('font', family='serif')\n",
    "plt.rc('font', size=18)"
   ]
  },
  {
   "cell_type": "code",
   "execution_count": 11,
   "metadata": {},
   "outputs": [],
   "source": [
    "num_train = 200000\n",
    "num_test = 20000\n",
    "Trainset = ['FSPSlin', 'FSPSlog', 'FSPSall', 'OBS', 'UM', 'BP', 'UMnew'][6]#6\n",
    "Testset = ['FSPSlin', 'FSPSlog', 'FSPSall', 'OBS', 'UM', 'BP', 'UMnew', 'OBSuq'][7]\n",
    "surveystring = surveystring = ['SDSS', 'VIPERS', 'DEEP2', 'PRIMUS']\n",
    "\n",
    "n_epochs = 2000 #20\n",
    "D = 5 \n",
    "K = 3\n",
    "learning_rate = 1e-5\n",
    "decay_rate= 1e-3 \n",
    "batch_size = 1024 \n",
    "save_mod = 'saved_hubs/tf2models/'+'Train_'+Trainset+'_lr_'+str(learning_rate)+'_dr'+str(decay_rate)+'_ne'+str(n_epochs)+'_k'+str(K)+'_nt'+str(num_train)"
   ]
  },
  {
   "cell_type": "code",
   "execution_count": 12,
   "metadata": {},
   "outputs": [],
   "source": [
    "def load_trained_models(save_mod):\n",
    "    ## load rescaling routines for colors/magnitude\n",
    "    preproc = Pipeline([('stdscaler', StandardScaler())])\n",
    "    scalerfile = save_mod + '_scaling_X'\n",
    "    preproc = pickle.load(open(scalerfile, 'rb'))\n",
    "    \n",
    "    ## load rescaling routine for redshift\n",
    "    preproc_y = Pipeline([('stdscaler', MinMaxScaler())])\n",
    "    scalerfile = save_mod + '_scaling_y'\n",
    "    preproc_y = pickle.load(open(scalerfile, 'rb'))\n",
    "\n",
    "    ## Mixed density network\n",
    "    non_lin_act = tf.nn.relu #tf.nn.tanh\n",
    "    y_true = tf.keras.Input(shape=(1,))\n",
    "    inputs = tf.keras.Input(shape=(D,))\n",
    "    layer_1 = tf.keras.layers.Dense(units=512, activation=non_lin_act)(inputs)\n",
    "    layer_1a = tf.keras.layers.Dense(units=1024, activation=non_lin_act)(layer_1)\n",
    "    layer_1b = tf.keras.layers.Dense(units=2048, activation=non_lin_act)(layer_1a)\n",
    "    layer_1c = tf.keras.layers.Dense(units=1024, activation=non_lin_act)(layer_1b)\n",
    "    layer_2 = tf.keras.layers.Dense(units=512, activation=non_lin_act)(layer_1c)\n",
    "    layer_3 = tf.keras.layers.Dense(units=256, activation=non_lin_act)(layer_2)\n",
    "    layer_4 = tf.keras.layers.Dense(units=128, activation=non_lin_act)(layer_3)\n",
    "    layer_5 = tf.keras.layers.Dense(units=64, activation=non_lin_act)(layer_4)\n",
    "    layer_6 = tf.keras.layers.Dense(units=32, activation=non_lin_act)(layer_5)\n",
    "    mu = tf.keras.layers.Dense(units=K, activation=None, name=\"mu\")(layer_6)\n",
    "    var = tf.keras.backend.exp(tf.keras.layers.Dense(units=K, activation=tf.nn.softplus, name=\"sigma\")(layer_6))\n",
    "    pi = tf.keras.layers.Dense(units=K, activation=tf.nn.softmax, name=\"mixing\")(layer_6)\n",
    "    model_train = Model([inputs, y_true], [mu, var, pi], name='mdn')\n",
    "    \n",
    "    # load network weights\n",
    "    model_train.load_weights(save_mod + '.h5')\n",
    "    \n",
    "    return preproc, preproc_y, model_train"
   ]
  },
  {
   "cell_type": "code",
   "execution_count": 13,
   "metadata": {},
   "outputs": [],
   "source": [
    "def minmax_cutsOBSarr(X, y, l):\n",
    "    mask_cond =  np.where( \n",
    "        (X[:, 0] < max_col[0]) & (X[:, 0] > min_col[0]) &\n",
    "        (X[:, 1] < max_col[1]) & (X[:, 1] > min_col[1]) &\n",
    "        (X[:, 2] < max_col[2]) & (X[:, 2] > min_col[2]) &\n",
    "        (X[:, 3] < max_col[3]) & (X[:, 3] > min_col[3]) & \n",
    "        (X[:, 4] < max_mag) & (X[:, 4] > min_mag) &\n",
    "        (y < max_z) & (y > min_z) )\n",
    "    X_new = X[mask_cond]\n",
    "    y_new = y[mask_cond]\n",
    "    l_new = l[mask_cond]\n",
    "    return X_new, y_new, l_new, mask_cond"
   ]
  },
  {
   "cell_type": "code",
   "execution_count": 14,
   "metadata": {},
   "outputs": [],
   "source": [
    "def print_limits(X, y):\n",
    "    print(10*'-')\n",
    "    print('number of datapoints: ', str(y.shape[0]))\n",
    "    print('z-minmax: ', y.min(), y.max())\n",
    "    print('ColMag-min: ', np.min(X, axis=0))\n",
    "    print('ColMag-max: ', np.max(X, axis=0))\n",
    "    print(10*'-')"
   ]
  },
  {
   "cell_type": "code",
   "execution_count": 15,
   "metadata": {},
   "outputs": [],
   "source": [
    "def loadTest(dirIn = '../../Data/fromGalaxev/photozs/datasets/data_feb_2021/'):\n",
    "    \n",
    "    test_data = np.load(dirIn + 'test_' + Testset + '.npy') \n",
    "\n",
    "    X_test = test_data[: , :-1]\n",
    "    y_test = test_data[: , -1]\n",
    "\n",
    "    print_limits(X_test, y_test)\n",
    "\n",
    "    X_err = np.load(dirIn + 'test_' + Testset +'_err.npy') \n",
    "    test_labels = np.load(dirIn + 'test_' + Testset + '_label.npy') \n",
    "\n",
    "    return X_test, y_test, X_err, test_labels"
   ]
  },
  {
   "cell_type": "code",
   "execution_count": 16,
   "metadata": {
    "tags": []
   },
   "outputs": [
    {
     "name": "stdout",
     "output_type": "stream",
     "text": [
      "----------\n",
      "number of datapoints:  4339\n",
      "z-minmax:  7.926745e-06 7.01\n",
      "ColMag-min:  [ -5.188479   -3.8901405  -2.1034117 -15.92296    12.114799 ]\n",
      "ColMag-max:  [17.02884   7.925968  4.182415  2.264679 25.709858]\n",
      "----------\n"
     ]
    }
   ],
   "source": [
    "## Loading color, redshift information from different surveys\n",
    "X_test, y_test, X_err, label_test = loadTest(dirIn = 'Data/fromGalaxev/photozs/datasets/data_feb_2021/')"
   ]
  },
  {
   "cell_type": "code",
   "execution_count": 17,
   "metadata": {},
   "outputs": [
    {
     "name": "stdout",
     "output_type": "stream",
     "text": [
      "Size of features in test data: (2741, 5)\n",
      "Size of output in test data: (2741,)\n"
     ]
    }
   ],
   "source": [
    "## Removing galaxies outside the range of prediction scheme. \n",
    "min_col = [-0.09145837, -0.05327791, -0.02479261, -0.10519464] #-0.03 #-5\n",
    "max_col = [ 3.825315,   2.8303378,  1.6937237,  1.5019817] #3.4 #5\n",
    "min_mag = 12\n",
    "max_mag = 23\n",
    "min_z = 0.001 #np.min(y_train) \n",
    "max_z = 1.1 #np.max(y_train) \n",
    "\n",
    "X_test, y_test, label_test, mask_cond = minmax_cutsOBSarr(X_test, y_test, label_test)\n",
    "X_err = X_err[mask_cond]\n",
    "print(\"Size of features in test data: {}\".format(X_test.shape))\n",
    "print(\"Size of output in test data: {}\".format(y_test.shape))"
   ]
  },
  {
   "cell_type": "code",
   "execution_count": 18,
   "metadata": {},
   "outputs": [],
   "source": [
    "## Loading trained models and rescaling routines\n",
    "preproc, preproc_y, model_train = load_trained_models(save_mod)"
   ]
  },
  {
   "cell_type": "code",
   "execution_count": null,
   "metadata": {},
   "outputs": [],
   "source": []
  },
  {
   "cell_type": "code",
   "execution_count": 19,
   "metadata": {
    "scrolled": true
   },
   "outputs": [
    {
     "name": "stderr",
     "output_type": "stream",
     "text": [
      "/Users/nramachandra/Desktop/MDN_phoZ/zeropoints.py:99: RuntimeWarning: divide by zero encountered in log\n",
      "  loglike = -2.0*np.log(like) + 2.0 * np.log(like_max)\n"
     ]
    },
    {
     "name": "stdout",
     "output_type": "stream",
     "text": [
      "2.2842209339141846\n",
      "0 [0. 0. 0. 0.] 7419.79\n"
     ]
    },
    {
     "name": "stderr",
     "output_type": "stream",
     "text": [
      "/Users/nramachandra/Desktop/MDN_phoZ/zeropoints.py:99: RuntimeWarning: divide by zero encountered in log\n",
      "  loglike = -2.0*np.log(like) + 2.0 * np.log(like_max)\n"
     ]
    },
    {
     "name": "stdout",
     "output_type": "stream",
     "text": [
      "2.162116289138794\n",
      "0 [0. 0. 0. 0.] 7419.79\n"
     ]
    },
    {
     "name": "stderr",
     "output_type": "stream",
     "text": [
      "/Users/nramachandra/Desktop/MDN_phoZ/zeropoints.py:99: RuntimeWarning: divide by zero encountered in log\n",
      "  loglike = -2.0*np.log(like) + 2.0 * np.log(like_max)\n"
     ]
    },
    {
     "name": "stdout",
     "output_type": "stream",
     "text": [
      "2.2097551822662354\n",
      "1 [ 0.0068 -0.0012  0.0047  0.0005] 7569.87\n"
     ]
    },
    {
     "name": "stderr",
     "output_type": "stream",
     "text": [
      "/Users/nramachandra/Desktop/MDN_phoZ/zeropoints.py:99: RuntimeWarning: divide by zero encountered in log\n",
      "  loglike = -2.0*np.log(like) + 2.0 * np.log(like_max)\n"
     ]
    },
    {
     "name": "stdout",
     "output_type": "stream",
     "text": [
      "1.6657850742340088\n",
      "2 [ 0.0083  0.0038 -0.0021 -0.0005] 7532.82\n"
     ]
    },
    {
     "name": "stderr",
     "output_type": "stream",
     "text": [
      "/Users/nramachandra/Desktop/MDN_phoZ/zeropoints.py:99: RuntimeWarning: divide by zero encountered in log\n",
      "  loglike = -2.0*np.log(like) + 2.0 * np.log(like_max)\n"
     ]
    },
    {
     "name": "stdout",
     "output_type": "stream",
     "text": [
      "1.6576778888702393\n",
      "3 [ 0.0115  0.0037 -0.0039 -0.0078] 7395.21\n"
     ]
    },
    {
     "name": "stderr",
     "output_type": "stream",
     "text": [
      "/Users/nramachandra/Desktop/MDN_phoZ/zeropoints.py:99: RuntimeWarning: divide by zero encountered in log\n",
      "  loglike = -2.0*np.log(like) + 2.0 * np.log(like_max)\n"
     ]
    },
    {
     "name": "stdout",
     "output_type": "stream",
     "text": [
      "1.679577112197876\n",
      "4 [ 0.0143  0.0098  0.0071 -0.0171] 7470.68\n"
     ]
    },
    {
     "name": "stderr",
     "output_type": "stream",
     "text": [
      "/Users/nramachandra/Desktop/MDN_phoZ/zeropoints.py:99: RuntimeWarning: divide by zero encountered in log\n",
      "  loglike = -2.0*np.log(like) + 2.0 * np.log(like_max)\n"
     ]
    },
    {
     "name": "stdout",
     "output_type": "stream",
     "text": [
      "1.811722993850708\n",
      "5 [ 0.0171  0.011   0.007  -0.0264] 7481.91\n"
     ]
    },
    {
     "name": "stderr",
     "output_type": "stream",
     "text": [
      "/Users/nramachandra/Desktop/MDN_phoZ/zeropoints.py:99: RuntimeWarning: divide by zero encountered in log\n",
      "  loglike = -2.0*np.log(like) + 2.0 * np.log(like_max)\n"
     ]
    },
    {
     "name": "stdout",
     "output_type": "stream",
     "text": [
      "1.7128510475158691\n",
      "6 [ 0.0175  0.0115  0.0015 -0.0264] 7395.88\n"
     ]
    },
    {
     "name": "stderr",
     "output_type": "stream",
     "text": [
      "/Users/nramachandra/Desktop/MDN_phoZ/zeropoints.py:99: RuntimeWarning: divide by zero encountered in log\n",
      "  loglike = -2.0*np.log(like) + 2.0 * np.log(like_max)\n"
     ]
    },
    {
     "name": "stdout",
     "output_type": "stream",
     "text": [
      "1.750542163848877\n",
      "7 [ 0.0166  0.0158  0.0031 -0.0293] 7264.29\n"
     ]
    },
    {
     "name": "stderr",
     "output_type": "stream",
     "text": [
      "/Users/nramachandra/Desktop/MDN_phoZ/zeropoints.py:99: RuntimeWarning: divide by zero encountered in log\n",
      "  loglike = -2.0*np.log(like) + 2.0 * np.log(like_max)\n"
     ]
    },
    {
     "name": "stdout",
     "output_type": "stream",
     "text": [
      "1.7047080993652344\n",
      "8 [ 0.0115  0.0201  0.005  -0.0295] 7276.83\n"
     ]
    },
    {
     "name": "stderr",
     "output_type": "stream",
     "text": [
      "/Users/nramachandra/Desktop/MDN_phoZ/zeropoints.py:99: RuntimeWarning: divide by zero encountered in log\n",
      "  loglike = -2.0*np.log(like) + 2.0 * np.log(like_max)\n"
     ]
    },
    {
     "name": "stdout",
     "output_type": "stream",
     "text": [
      "1.706413984298706\n",
      "9 [ 0.0091  0.0215  0.0031 -0.0364] 7135.88\n"
     ]
    },
    {
     "name": "stderr",
     "output_type": "stream",
     "text": [
      "/Users/nramachandra/Desktop/MDN_phoZ/zeropoints.py:99: RuntimeWarning: divide by zero encountered in log\n",
      "  loglike = -2.0*np.log(like) + 2.0 * np.log(like_max)\n"
     ]
    },
    {
     "name": "stdout",
     "output_type": "stream",
     "text": [
      "1.727086067199707\n",
      "10 [ 0.0073  0.032  -0.0022 -0.0395] 7129.67\n"
     ]
    },
    {
     "name": "stderr",
     "output_type": "stream",
     "text": [
      "/Users/nramachandra/Desktop/MDN_phoZ/zeropoints.py:99: RuntimeWarning: divide by zero encountered in log\n",
      "  loglike = -2.0*np.log(like) + 2.0 * np.log(like_max)\n"
     ]
    },
    {
     "name": "stdout",
     "output_type": "stream",
     "text": [
      "1.7195219993591309\n",
      "11 [ 0.005   0.0315 -0.0023 -0.0373] 7222.31\n"
     ]
    },
    {
     "name": "stderr",
     "output_type": "stream",
     "text": [
      "/Users/nramachandra/Desktop/MDN_phoZ/zeropoints.py:99: RuntimeWarning: divide by zero encountered in log\n",
      "  loglike = -2.0*np.log(like) + 2.0 * np.log(like_max)\n"
     ]
    },
    {
     "name": "stdout",
     "output_type": "stream",
     "text": [
      "2.174353837966919\n",
      "12 [ 0.0019  0.0268 -0.0039 -0.0364] 7070.7\n"
     ]
    },
    {
     "name": "stderr",
     "output_type": "stream",
     "text": [
      "/Users/nramachandra/Desktop/MDN_phoZ/zeropoints.py:99: RuntimeWarning: divide by zero encountered in log\n",
      "  loglike = -2.0*np.log(like) + 2.0 * np.log(like_max)\n"
     ]
    },
    {
     "name": "stdout",
     "output_type": "stream",
     "text": [
      "2.4533092975616455\n",
      "13 [ 0.0048  0.0269  0.0007 -0.0384] 7105.81\n"
     ]
    },
    {
     "name": "stderr",
     "output_type": "stream",
     "text": [
      "/Users/nramachandra/Desktop/MDN_phoZ/zeropoints.py:99: RuntimeWarning: divide by zero encountered in log\n",
      "  loglike = -2.0*np.log(like) + 2.0 * np.log(like_max)\n"
     ]
    },
    {
     "name": "stdout",
     "output_type": "stream",
     "text": [
      "2.004499912261963\n",
      "14 [ 0.0048  0.0269  0.0007 -0.0384] 7105.81\n"
     ]
    },
    {
     "name": "stderr",
     "output_type": "stream",
     "text": [
      "/Users/nramachandra/Desktop/MDN_phoZ/zeropoints.py:99: RuntimeWarning: divide by zero encountered in log\n",
      "  loglike = -2.0*np.log(like) + 2.0 * np.log(like_max)\n"
     ]
    },
    {
     "name": "stdout",
     "output_type": "stream",
     "text": [
      "1.930448055267334\n",
      "15 [ 0.0048  0.0269  0.0007 -0.0384] 7105.81\n"
     ]
    },
    {
     "name": "stderr",
     "output_type": "stream",
     "text": [
      "/Users/nramachandra/Desktop/MDN_phoZ/zeropoints.py:99: RuntimeWarning: divide by zero encountered in log\n",
      "  loglike = -2.0*np.log(like) + 2.0 * np.log(like_max)\n"
     ]
    },
    {
     "name": "stdout",
     "output_type": "stream",
     "text": [
      "1.9901902675628662\n",
      "16 [ 0.0069  0.0304  0.0105 -0.0407] 7223.57\n"
     ]
    },
    {
     "name": "stderr",
     "output_type": "stream",
     "text": [
      "/Users/nramachandra/Desktop/MDN_phoZ/zeropoints.py:99: RuntimeWarning: divide by zero encountered in log\n",
      "  loglike = -2.0*np.log(like) + 2.0 * np.log(like_max)\n"
     ]
    },
    {
     "name": "stdout",
     "output_type": "stream",
     "text": [
      "2.011795997619629\n",
      "17 [ 0.004   0.0342  0.0171 -0.0419] 7286.39\n"
     ]
    },
    {
     "name": "stderr",
     "output_type": "stream",
     "text": [
      "/Users/nramachandra/Desktop/MDN_phoZ/zeropoints.py:99: RuntimeWarning: divide by zero encountered in log\n",
      "  loglike = -2.0*np.log(like) + 2.0 * np.log(like_max)\n"
     ]
    },
    {
     "name": "stdout",
     "output_type": "stream",
     "text": [
      "1.9301769733428955\n",
      "18 [-0.005   0.0353  0.0197 -0.0372] 7258.28\n"
     ]
    },
    {
     "name": "stderr",
     "output_type": "stream",
     "text": [
      "/Users/nramachandra/Desktop/MDN_phoZ/zeropoints.py:99: RuntimeWarning: divide by zero encountered in log\n",
      "  loglike = -2.0*np.log(like) + 2.0 * np.log(like_max)\n"
     ]
    },
    {
     "name": "stdout",
     "output_type": "stream",
     "text": [
      "1.9410960674285889\n",
      "19 [ 0.0043  0.0411  0.0227 -0.0311] 7248.52\n"
     ]
    },
    {
     "name": "stderr",
     "output_type": "stream",
     "text": [
      "/Users/nramachandra/Desktop/MDN_phoZ/zeropoints.py:99: RuntimeWarning: divide by zero encountered in log\n",
      "  loglike = -2.0*np.log(like) + 2.0 * np.log(like_max)\n"
     ]
    },
    {
     "name": "stdout",
     "output_type": "stream",
     "text": [
      "2.3018999099731445\n",
      "20 [ 0.0043  0.0411  0.0227 -0.0311] 7248.52\n"
     ]
    },
    {
     "name": "stderr",
     "output_type": "stream",
     "text": [
      "/Users/nramachandra/Desktop/MDN_phoZ/zeropoints.py:99: RuntimeWarning: divide by zero encountered in log\n",
      "  loglike = -2.0*np.log(like) + 2.0 * np.log(like_max)\n"
     ]
    },
    {
     "name": "stdout",
     "output_type": "stream",
     "text": [
      "2.0378310680389404\n",
      "21 [ 0.0017  0.044   0.0213 -0.0288] 7172.42\n"
     ]
    },
    {
     "name": "stderr",
     "output_type": "stream",
     "text": [
      "/Users/nramachandra/Desktop/MDN_phoZ/zeropoints.py:99: RuntimeWarning: divide by zero encountered in log\n",
      "  loglike = -2.0*np.log(like) + 2.0 * np.log(like_max)\n"
     ]
    },
    {
     "name": "stdout",
     "output_type": "stream",
     "text": [
      "1.9543201923370361\n",
      "22 [ 0.0017  0.044   0.0213 -0.0288] 7172.42\n"
     ]
    },
    {
     "name": "stderr",
     "output_type": "stream",
     "text": [
      "/Users/nramachandra/Desktop/MDN_phoZ/zeropoints.py:99: RuntimeWarning: divide by zero encountered in log\n",
      "  loglike = -2.0*np.log(like) + 2.0 * np.log(like_max)\n"
     ]
    },
    {
     "name": "stdout",
     "output_type": "stream",
     "text": [
      "2.003419876098633\n",
      "23 [-0.0004  0.0482  0.0243 -0.0293] 7255.12\n"
     ]
    },
    {
     "name": "stderr",
     "output_type": "stream",
     "text": [
      "/Users/nramachandra/Desktop/MDN_phoZ/zeropoints.py:99: RuntimeWarning: divide by zero encountered in log\n",
      "  loglike = -2.0*np.log(like) + 2.0 * np.log(like_max)\n"
     ]
    },
    {
     "name": "stdout",
     "output_type": "stream",
     "text": [
      "1.954421043395996\n",
      "24 [-0.0004  0.0482  0.0243 -0.0293] 7255.12\n"
     ]
    },
    {
     "name": "stderr",
     "output_type": "stream",
     "text": [
      "/Users/nramachandra/Desktop/MDN_phoZ/zeropoints.py:99: RuntimeWarning: divide by zero encountered in log\n",
      "  loglike = -2.0*np.log(like) + 2.0 * np.log(like_max)\n"
     ]
    },
    {
     "name": "stdout",
     "output_type": "stream",
     "text": [
      "1.8342106342315674\n",
      "25 [ 0.006   0.0506  0.0279 -0.0326] 7209.87\n"
     ]
    },
    {
     "name": "stderr",
     "output_type": "stream",
     "text": [
      "/Users/nramachandra/Desktop/MDN_phoZ/zeropoints.py:99: RuntimeWarning: divide by zero encountered in log\n",
      "  loglike = -2.0*np.log(like) + 2.0 * np.log(like_max)\n"
     ]
    },
    {
     "name": "stdout",
     "output_type": "stream",
     "text": [
      "1.8907418251037598\n",
      "26 [ 0.006   0.0506  0.0279 -0.0326] 7209.87\n"
     ]
    },
    {
     "name": "stderr",
     "output_type": "stream",
     "text": [
      "/Users/nramachandra/Desktop/MDN_phoZ/zeropoints.py:99: RuntimeWarning: divide by zero encountered in log\n",
      "  loglike = -2.0*np.log(like) + 2.0 * np.log(like_max)\n"
     ]
    },
    {
     "name": "stdout",
     "output_type": "stream",
     "text": [
      "1.7531969547271729\n",
      "27 [ 0.0042  0.0515  0.0265 -0.035 ] 7145.48\n"
     ]
    },
    {
     "name": "stderr",
     "output_type": "stream",
     "text": [
      "/Users/nramachandra/Desktop/MDN_phoZ/zeropoints.py:99: RuntimeWarning: divide by zero encountered in log\n",
      "  loglike = -2.0*np.log(like) + 2.0 * np.log(like_max)\n"
     ]
    },
    {
     "name": "stdout",
     "output_type": "stream",
     "text": [
      "1.9604458808898926\n",
      "28 [ 0.0075  0.0489  0.026  -0.0362] 7178.32\n"
     ]
    },
    {
     "name": "stderr",
     "output_type": "stream",
     "text": [
      "/Users/nramachandra/Desktop/MDN_phoZ/zeropoints.py:99: RuntimeWarning: divide by zero encountered in log\n",
      "  loglike = -2.0*np.log(like) + 2.0 * np.log(like_max)\n"
     ]
    },
    {
     "name": "stdout",
     "output_type": "stream",
     "text": [
      "2.3515048027038574\n",
      "29 [ 0.0187  0.0513  0.0216 -0.0344] 7129.46\n"
     ]
    },
    {
     "name": "stderr",
     "output_type": "stream",
     "text": [
      "/Users/nramachandra/Desktop/MDN_phoZ/zeropoints.py:99: RuntimeWarning: divide by zero encountered in log\n",
      "  loglike = -2.0*np.log(like) + 2.0 * np.log(like_max)\n"
     ]
    },
    {
     "name": "stdout",
     "output_type": "stream",
     "text": [
      "1.8117570877075195\n",
      "30 [ 0.0187  0.0513  0.0216 -0.0344] 7129.46\n"
     ]
    },
    {
     "name": "stderr",
     "output_type": "stream",
     "text": [
      "/Users/nramachandra/Desktop/MDN_phoZ/zeropoints.py:99: RuntimeWarning: divide by zero encountered in log\n",
      "  loglike = -2.0*np.log(like) + 2.0 * np.log(like_max)\n"
     ]
    },
    {
     "name": "stdout",
     "output_type": "stream",
     "text": [
      "1.8125331401824951\n",
      "31 [ 0.0215  0.0548  0.0207 -0.0376] 7118.27\n"
     ]
    },
    {
     "name": "stderr",
     "output_type": "stream",
     "text": [
      "/Users/nramachandra/Desktop/MDN_phoZ/zeropoints.py:99: RuntimeWarning: divide by zero encountered in log\n",
      "  loglike = -2.0*np.log(like) + 2.0 * np.log(like_max)\n"
     ]
    },
    {
     "name": "stdout",
     "output_type": "stream",
     "text": [
      "2.1180312633514404\n",
      "32 [ 0.0203  0.0539  0.0202 -0.0392] 7140.08\n"
     ]
    },
    {
     "name": "stderr",
     "output_type": "stream",
     "text": [
      "/Users/nramachandra/Desktop/MDN_phoZ/zeropoints.py:99: RuntimeWarning: divide by zero encountered in log\n",
      "  loglike = -2.0*np.log(like) + 2.0 * np.log(like_max)\n"
     ]
    },
    {
     "name": "stdout",
     "output_type": "stream",
     "text": [
      "1.9175310134887695\n",
      "33 [ 0.0202  0.0537  0.0249 -0.0387] 7127.33\n"
     ]
    },
    {
     "name": "stderr",
     "output_type": "stream",
     "text": [
      "/Users/nramachandra/Desktop/MDN_phoZ/zeropoints.py:99: RuntimeWarning: divide by zero encountered in log\n",
      "  loglike = -2.0*np.log(like) + 2.0 * np.log(like_max)\n"
     ]
    },
    {
     "name": "stdout",
     "output_type": "stream",
     "text": [
      "2.1331140995025635\n",
      "34 [ 0.0202  0.0537  0.0249 -0.0387] 7127.33\n"
     ]
    },
    {
     "name": "stderr",
     "output_type": "stream",
     "text": [
      "/Users/nramachandra/Desktop/MDN_phoZ/zeropoints.py:99: RuntimeWarning: divide by zero encountered in log\n",
      "  loglike = -2.0*np.log(like) + 2.0 * np.log(like_max)\n"
     ]
    },
    {
     "name": "stdout",
     "output_type": "stream",
     "text": [
      "2.362946033477783\n",
      "35 [ 0.0136  0.0601  0.0178 -0.0328] 7191.16\n"
     ]
    },
    {
     "name": "stderr",
     "output_type": "stream",
     "text": [
      "/Users/nramachandra/Desktop/MDN_phoZ/zeropoints.py:99: RuntimeWarning: divide by zero encountered in log\n",
      "  loglike = -2.0*np.log(like) + 2.0 * np.log(like_max)\n"
     ]
    },
    {
     "name": "stdout",
     "output_type": "stream",
     "text": [
      "2.226310968399048\n",
      "36 [ 0.0136  0.0601  0.0178 -0.0328] 7191.16\n"
     ]
    },
    {
     "name": "stderr",
     "output_type": "stream",
     "text": [
      "/Users/nramachandra/Desktop/MDN_phoZ/zeropoints.py:99: RuntimeWarning: divide by zero encountered in log\n",
      "  loglike = -2.0*np.log(like) + 2.0 * np.log(like_max)\n"
     ]
    },
    {
     "name": "stdout",
     "output_type": "stream",
     "text": [
      "2.331015110015869\n",
      "37 [ 0.0199  0.0609  0.0067 -0.034 ] 7152.84\n"
     ]
    },
    {
     "name": "stderr",
     "output_type": "stream",
     "text": [
      "/Users/nramachandra/Desktop/MDN_phoZ/zeropoints.py:99: RuntimeWarning: divide by zero encountered in log\n",
      "  loglike = -2.0*np.log(like) + 2.0 * np.log(like_max)\n"
     ]
    },
    {
     "name": "stdout",
     "output_type": "stream",
     "text": [
      "2.200468063354492\n",
      "38 [ 0.0135  0.0553  0.0034 -0.0326] 7167.44\n"
     ]
    },
    {
     "name": "stderr",
     "output_type": "stream",
     "text": [
      "/Users/nramachandra/Desktop/MDN_phoZ/zeropoints.py:99: RuntimeWarning: divide by zero encountered in log\n",
      "  loglike = -2.0*np.log(like) + 2.0 * np.log(like_max)\n"
     ]
    },
    {
     "name": "stdout",
     "output_type": "stream",
     "text": [
      "2.000689744949341\n",
      "39 [ 0.0076  0.0591  0.003  -0.0289] 7091.61\n"
     ]
    },
    {
     "name": "stderr",
     "output_type": "stream",
     "text": [
      "/Users/nramachandra/Desktop/MDN_phoZ/zeropoints.py:99: RuntimeWarning: divide by zero encountered in log\n",
      "  loglike = -2.0*np.log(like) + 2.0 * np.log(like_max)\n"
     ]
    },
    {
     "name": "stdout",
     "output_type": "stream",
     "text": [
      "1.7903668880462646\n",
      "40 [ 0.0136  0.0633  0.0046 -0.0314] 7181.02\n"
     ]
    },
    {
     "name": "stderr",
     "output_type": "stream",
     "text": [
      "/Users/nramachandra/Desktop/MDN_phoZ/zeropoints.py:99: RuntimeWarning: divide by zero encountered in log\n",
      "  loglike = -2.0*np.log(like) + 2.0 * np.log(like_max)\n"
     ]
    },
    {
     "name": "stdout",
     "output_type": "stream",
     "text": [
      "1.833392858505249\n",
      "41 [ 0.0082  0.0721  0.0091 -0.0226] 7195.94\n"
     ]
    },
    {
     "name": "stderr",
     "output_type": "stream",
     "text": [
      "/Users/nramachandra/Desktop/MDN_phoZ/zeropoints.py:99: RuntimeWarning: divide by zero encountered in log\n",
      "  loglike = -2.0*np.log(like) + 2.0 * np.log(like_max)\n"
     ]
    },
    {
     "name": "stdout",
     "output_type": "stream",
     "text": [
      "2.2523629665374756\n",
      "42 [ 0.0071  0.0724  0.0122 -0.0226] 7141.83\n"
     ]
    },
    {
     "name": "stderr",
     "output_type": "stream",
     "text": [
      "/Users/nramachandra/Desktop/MDN_phoZ/zeropoints.py:99: RuntimeWarning: divide by zero encountered in log\n",
      "  loglike = -2.0*np.log(like) + 2.0 * np.log(like_max)\n"
     ]
    },
    {
     "name": "stdout",
     "output_type": "stream",
     "text": [
      "2.255847215652466\n",
      "43 [ 0.0095  0.0751  0.0084 -0.0206] 7062.88\n"
     ]
    },
    {
     "name": "stderr",
     "output_type": "stream",
     "text": [
      "/Users/nramachandra/Desktop/MDN_phoZ/zeropoints.py:99: RuntimeWarning: divide by zero encountered in log\n",
      "  loglike = -2.0*np.log(like) + 2.0 * np.log(like_max)\n"
     ]
    },
    {
     "name": "stdout",
     "output_type": "stream",
     "text": [
      "2.174840211868286\n",
      "44 [ 0.0095  0.0751  0.0084 -0.0206] 7062.88\n"
     ]
    },
    {
     "name": "stderr",
     "output_type": "stream",
     "text": [
      "/Users/nramachandra/Desktop/MDN_phoZ/zeropoints.py:99: RuntimeWarning: divide by zero encountered in log\n",
      "  loglike = -2.0*np.log(like) + 2.0 * np.log(like_max)\n"
     ]
    },
    {
     "name": "stdout",
     "output_type": "stream",
     "text": [
      "1.9614241123199463\n",
      "45 [ 0.0095  0.0751  0.0084 -0.0206] 7062.88\n"
     ]
    },
    {
     "name": "stderr",
     "output_type": "stream",
     "text": [
      "/Users/nramachandra/Desktop/MDN_phoZ/zeropoints.py:99: RuntimeWarning: divide by zero encountered in log\n",
      "  loglike = -2.0*np.log(like) + 2.0 * np.log(like_max)\n"
     ]
    },
    {
     "name": "stdout",
     "output_type": "stream",
     "text": [
      "2.012197971343994\n",
      "46 [ 0.0095  0.0751  0.0084 -0.0206] 7062.88\n"
     ]
    },
    {
     "name": "stderr",
     "output_type": "stream",
     "text": [
      "/Users/nramachandra/Desktop/MDN_phoZ/zeropoints.py:99: RuntimeWarning: divide by zero encountered in log\n",
      "  loglike = -2.0*np.log(like) + 2.0 * np.log(like_max)\n"
     ]
    },
    {
     "name": "stdout",
     "output_type": "stream",
     "text": [
      "2.074763059616089\n",
      "47 [ 0.0081  0.0807  0.0138 -0.0329] 7185.07\n"
     ]
    },
    {
     "name": "stderr",
     "output_type": "stream",
     "text": [
      "/Users/nramachandra/Desktop/MDN_phoZ/zeropoints.py:99: RuntimeWarning: divide by zero encountered in log\n",
      "  loglike = -2.0*np.log(like) + 2.0 * np.log(like_max)\n"
     ]
    },
    {
     "name": "stdout",
     "output_type": "stream",
     "text": [
      "1.7939772605895996\n",
      "48 [ 0.0168  0.0818  0.0151 -0.0311] 7251.15\n"
     ]
    },
    {
     "name": "stderr",
     "output_type": "stream",
     "text": [
      "/Users/nramachandra/Desktop/MDN_phoZ/zeropoints.py:99: RuntimeWarning: divide by zero encountered in log\n",
      "  loglike = -2.0*np.log(like) + 2.0 * np.log(like_max)\n"
     ]
    },
    {
     "name": "stdout",
     "output_type": "stream",
     "text": [
      "1.9321327209472656\n",
      "49 [ 0.0112  0.0927  0.0202 -0.0345] 7086.89\n"
     ]
    },
    {
     "name": "stderr",
     "output_type": "stream",
     "text": [
      "/Users/nramachandra/Desktop/MDN_phoZ/zeropoints.py:99: RuntimeWarning: divide by zero encountered in log\n",
      "  loglike = -2.0*np.log(like) + 2.0 * np.log(like_max)\n"
     ]
    },
    {
     "name": "stdout",
     "output_type": "stream",
     "text": [
      "2.272940158843994\n",
      "50 [ 0.0112  0.0927  0.0202 -0.0345] 7086.89\n"
     ]
    },
    {
     "name": "stderr",
     "output_type": "stream",
     "text": [
      "/Users/nramachandra/Desktop/MDN_phoZ/zeropoints.py:99: RuntimeWarning: divide by zero encountered in log\n",
      "  loglike = -2.0*np.log(like) + 2.0 * np.log(like_max)\n"
     ]
    },
    {
     "name": "stdout",
     "output_type": "stream",
     "text": [
      "2.048020124435425\n",
      "51 [ 0.0112  0.0927  0.0202 -0.0345] 7086.89\n"
     ]
    },
    {
     "name": "stderr",
     "output_type": "stream",
     "text": [
      "/Users/nramachandra/Desktop/MDN_phoZ/zeropoints.py:99: RuntimeWarning: divide by zero encountered in log\n",
      "  loglike = -2.0*np.log(like) + 2.0 * np.log(like_max)\n"
     ]
    },
    {
     "name": "stdout",
     "output_type": "stream",
     "text": [
      "1.7600617408752441\n",
      "52 [ 0.0112  0.0927  0.0202 -0.0345] 7086.89\n"
     ]
    },
    {
     "name": "stderr",
     "output_type": "stream",
     "text": [
      "/Users/nramachandra/Desktop/MDN_phoZ/zeropoints.py:99: RuntimeWarning: divide by zero encountered in log\n",
      "  loglike = -2.0*np.log(like) + 2.0 * np.log(like_max)\n"
     ]
    },
    {
     "name": "stdout",
     "output_type": "stream",
     "text": [
      "1.7640089988708496\n",
      "53 [ 0.0112  0.0927  0.0202 -0.0345] 7086.89\n"
     ]
    },
    {
     "name": "stderr",
     "output_type": "stream",
     "text": [
      "/Users/nramachandra/Desktop/MDN_phoZ/zeropoints.py:99: RuntimeWarning: divide by zero encountered in log\n",
      "  loglike = -2.0*np.log(like) + 2.0 * np.log(like_max)\n"
     ]
    },
    {
     "name": "stdout",
     "output_type": "stream",
     "text": [
      "1.7775652408599854\n",
      "54 [ 0.0113  0.0849  0.0251 -0.0451] 7129.62\n"
     ]
    },
    {
     "name": "stderr",
     "output_type": "stream",
     "text": [
      "/Users/nramachandra/Desktop/MDN_phoZ/zeropoints.py:99: RuntimeWarning: divide by zero encountered in log\n",
      "  loglike = -2.0*np.log(like) + 2.0 * np.log(like_max)\n"
     ]
    },
    {
     "name": "stdout",
     "output_type": "stream",
     "text": [
      "1.8411428928375244\n",
      "55 [ 0.0113  0.0849  0.0251 -0.0451] 7129.62\n"
     ]
    },
    {
     "name": "stderr",
     "output_type": "stream",
     "text": [
      "/Users/nramachandra/Desktop/MDN_phoZ/zeropoints.py:99: RuntimeWarning: divide by zero encountered in log\n",
      "  loglike = -2.0*np.log(like) + 2.0 * np.log(like_max)\n"
     ]
    },
    {
     "name": "stdout",
     "output_type": "stream",
     "text": [
      "1.8324353694915771\n",
      "56 [ 0.0113  0.0849  0.0251 -0.0451] 7129.62\n"
     ]
    },
    {
     "name": "stderr",
     "output_type": "stream",
     "text": [
      "/Users/nramachandra/Desktop/MDN_phoZ/zeropoints.py:99: RuntimeWarning: divide by zero encountered in log\n",
      "  loglike = -2.0*np.log(like) + 2.0 * np.log(like_max)\n"
     ]
    },
    {
     "name": "stdout",
     "output_type": "stream",
     "text": [
      "1.9185619354248047\n",
      "57 [ 0.0113  0.0849  0.0251 -0.0451] 7129.62\n"
     ]
    },
    {
     "name": "stderr",
     "output_type": "stream",
     "text": [
      "/Users/nramachandra/Desktop/MDN_phoZ/zeropoints.py:99: RuntimeWarning: divide by zero encountered in log\n",
      "  loglike = -2.0*np.log(like) + 2.0 * np.log(like_max)\n"
     ]
    },
    {
     "name": "stdout",
     "output_type": "stream",
     "text": [
      "2.624871015548706\n",
      "58 [ 0.0113  0.0849  0.0251 -0.0451] 7129.62\n"
     ]
    },
    {
     "name": "stderr",
     "output_type": "stream",
     "text": [
      "/Users/nramachandra/Desktop/MDN_phoZ/zeropoints.py:99: RuntimeWarning: divide by zero encountered in log\n",
      "  loglike = -2.0*np.log(like) + 2.0 * np.log(like_max)\n"
     ]
    },
    {
     "name": "stdout",
     "output_type": "stream",
     "text": [
      "3.7708702087402344\n",
      "59 [ 0.0113  0.0849  0.0251 -0.0451] 7129.62\n"
     ]
    },
    {
     "name": "stderr",
     "output_type": "stream",
     "text": [
      "/Users/nramachandra/Desktop/MDN_phoZ/zeropoints.py:99: RuntimeWarning: divide by zero encountered in log\n",
      "  loglike = -2.0*np.log(like) + 2.0 * np.log(like_max)\n"
     ]
    },
    {
     "name": "stdout",
     "output_type": "stream",
     "text": [
      "3.1441848278045654\n",
      "60 [ 0.0113  0.0849  0.0251 -0.0451] 7129.62\n"
     ]
    },
    {
     "name": "stderr",
     "output_type": "stream",
     "text": [
      "/Users/nramachandra/Desktop/MDN_phoZ/zeropoints.py:99: RuntimeWarning: divide by zero encountered in log\n",
      "  loglike = -2.0*np.log(like) + 2.0 * np.log(like_max)\n",
      "/Users/nramachandra/Desktop/MDN_phoZ/zeropoints.py:99: RuntimeWarning: invalid value encountered in add\n",
      "  loglike = -2.0*np.log(like) + 2.0 * np.log(like_max)\n"
     ]
    },
    {
     "name": "stdout",
     "output_type": "stream",
     "text": [
      "2.024379014968872\n",
      "61 [ 0.0113  0.0849  0.0251 -0.0451] 7129.62\n"
     ]
    },
    {
     "name": "stderr",
     "output_type": "stream",
     "text": [
      "/Users/nramachandra/Desktop/MDN_phoZ/zeropoints.py:99: RuntimeWarning: divide by zero encountered in log\n",
      "  loglike = -2.0*np.log(like) + 2.0 * np.log(like_max)\n"
     ]
    },
    {
     "name": "stdout",
     "output_type": "stream",
     "text": [
      "2.0387461185455322\n",
      "62 [ 0.0113  0.0849  0.0251 -0.0451] 7129.62\n"
     ]
    },
    {
     "name": "stderr",
     "output_type": "stream",
     "text": [
      "/Users/nramachandra/Desktop/MDN_phoZ/zeropoints.py:99: RuntimeWarning: divide by zero encountered in log\n",
      "  loglike = -2.0*np.log(like) + 2.0 * np.log(like_max)\n"
     ]
    },
    {
     "name": "stdout",
     "output_type": "stream",
     "text": [
      "2.6582252979278564\n",
      "63 [ 0.0113  0.0849  0.0251 -0.0451] 7129.62\n"
     ]
    },
    {
     "name": "stderr",
     "output_type": "stream",
     "text": [
      "/Users/nramachandra/Desktop/MDN_phoZ/zeropoints.py:99: RuntimeWarning: divide by zero encountered in log\n",
      "  loglike = -2.0*np.log(like) + 2.0 * np.log(like_max)\n"
     ]
    },
    {
     "name": "stdout",
     "output_type": "stream",
     "text": [
      "2.071605920791626\n",
      "64 [ 0.0047  0.0689  0.0249 -0.0474] 7245.66\n"
     ]
    },
    {
     "name": "stderr",
     "output_type": "stream",
     "text": [
      "/Users/nramachandra/Desktop/MDN_phoZ/zeropoints.py:99: RuntimeWarning: divide by zero encountered in log\n",
      "  loglike = -2.0*np.log(like) + 2.0 * np.log(like_max)\n"
     ]
    },
    {
     "name": "stdout",
     "output_type": "stream",
     "text": [
      "1.8467211723327637\n",
      "65 [ 0.0035  0.0654  0.0317 -0.0402] 7238.9\n"
     ]
    },
    {
     "name": "stderr",
     "output_type": "stream",
     "text": [
      "/Users/nramachandra/Desktop/MDN_phoZ/zeropoints.py:99: RuntimeWarning: divide by zero encountered in log\n",
      "  loglike = -2.0*np.log(like) + 2.0 * np.log(like_max)\n"
     ]
    },
    {
     "name": "stdout",
     "output_type": "stream",
     "text": [
      "1.6493158340454102\n",
      "66 [ 0.0035  0.0654  0.0317 -0.0402] 7238.9\n"
     ]
    },
    {
     "name": "stderr",
     "output_type": "stream",
     "text": [
      "/Users/nramachandra/Desktop/MDN_phoZ/zeropoints.py:99: RuntimeWarning: divide by zero encountered in log\n",
      "  loglike = -2.0*np.log(like) + 2.0 * np.log(like_max)\n"
     ]
    },
    {
     "name": "stdout",
     "output_type": "stream",
     "text": [
      "1.6386971473693848\n",
      "67 [-0.0041  0.0676  0.0364 -0.0427] 7376.62\n"
     ]
    },
    {
     "name": "stderr",
     "output_type": "stream",
     "text": [
      "/Users/nramachandra/Desktop/MDN_phoZ/zeropoints.py:99: RuntimeWarning: divide by zero encountered in log\n",
      "  loglike = -2.0*np.log(like) + 2.0 * np.log(like_max)\n"
     ]
    },
    {
     "name": "stdout",
     "output_type": "stream",
     "text": [
      "1.576766014099121\n",
      "68 [-0.0001  0.0594  0.0412 -0.0448] 7395.57\n"
     ]
    },
    {
     "name": "stderr",
     "output_type": "stream",
     "text": [
      "/Users/nramachandra/Desktop/MDN_phoZ/zeropoints.py:99: RuntimeWarning: divide by zero encountered in log\n",
      "  loglike = -2.0*np.log(like) + 2.0 * np.log(like_max)\n"
     ]
    },
    {
     "name": "stdout",
     "output_type": "stream",
     "text": [
      "1.6420621871948242\n",
      "69 [-0.0039  0.0645  0.0456 -0.0482] 7322.67\n"
     ]
    },
    {
     "name": "stderr",
     "output_type": "stream",
     "text": [
      "/Users/nramachandra/Desktop/MDN_phoZ/zeropoints.py:99: RuntimeWarning: divide by zero encountered in log\n",
      "  loglike = -2.0*np.log(like) + 2.0 * np.log(like_max)\n"
     ]
    },
    {
     "name": "stdout",
     "output_type": "stream",
     "text": [
      "1.6514999866485596\n",
      "70 [-0.0071  0.0623  0.0427 -0.0408] 7215.91\n"
     ]
    },
    {
     "name": "stderr",
     "output_type": "stream",
     "text": [
      "/Users/nramachandra/Desktop/MDN_phoZ/zeropoints.py:99: RuntimeWarning: divide by zero encountered in log\n",
      "  loglike = -2.0*np.log(like) + 2.0 * np.log(like_max)\n",
      "/Users/nramachandra/Desktop/MDN_phoZ/zeropoints.py:99: RuntimeWarning: invalid value encountered in add\n",
      "  loglike = -2.0*np.log(like) + 2.0 * np.log(like_max)\n"
     ]
    },
    {
     "name": "stdout",
     "output_type": "stream",
     "text": [
      "1.6322388648986816\n",
      "71 [-0.0057  0.0549  0.0402 -0.0332] 7139.15\n"
     ]
    },
    {
     "name": "stderr",
     "output_type": "stream",
     "text": [
      "/Users/nramachandra/Desktop/MDN_phoZ/zeropoints.py:99: RuntimeWarning: divide by zero encountered in log\n",
      "  loglike = -2.0*np.log(like) + 2.0 * np.log(like_max)\n",
      "/Users/nramachandra/Desktop/MDN_phoZ/zeropoints.py:99: RuntimeWarning: invalid value encountered in add\n",
      "  loglike = -2.0*np.log(like) + 2.0 * np.log(like_max)\n"
     ]
    },
    {
     "name": "stdout",
     "output_type": "stream",
     "text": [
      "1.6464579105377197\n",
      "72 [-0.0057  0.0549  0.0402 -0.0332] 7139.15\n"
     ]
    },
    {
     "name": "stderr",
     "output_type": "stream",
     "text": [
      "/Users/nramachandra/Desktop/MDN_phoZ/zeropoints.py:99: RuntimeWarning: divide by zero encountered in log\n",
      "  loglike = -2.0*np.log(like) + 2.0 * np.log(like_max)\n"
     ]
    },
    {
     "name": "stdout",
     "output_type": "stream",
     "text": [
      "1.6573469638824463\n",
      "73 [-0.0057  0.0549  0.0402 -0.0332] 7139.15\n"
     ]
    },
    {
     "name": "stderr",
     "output_type": "stream",
     "text": [
      "/Users/nramachandra/Desktop/MDN_phoZ/zeropoints.py:99: RuntimeWarning: divide by zero encountered in log\n",
      "  loglike = -2.0*np.log(like) + 2.0 * np.log(like_max)\n",
      "/Users/nramachandra/Desktop/MDN_phoZ/zeropoints.py:99: RuntimeWarning: invalid value encountered in add\n",
      "  loglike = -2.0*np.log(like) + 2.0 * np.log(like_max)\n"
     ]
    },
    {
     "name": "stdout",
     "output_type": "stream",
     "text": [
      "1.5944788455963135\n",
      "74 [-0.0029  0.0585  0.0504 -0.0298] 7224.2\n"
     ]
    },
    {
     "name": "stderr",
     "output_type": "stream",
     "text": [
      "/Users/nramachandra/Desktop/MDN_phoZ/zeropoints.py:99: RuntimeWarning: divide by zero encountered in log\n",
      "  loglike = -2.0*np.log(like) + 2.0 * np.log(like_max)\n"
     ]
    },
    {
     "name": "stdout",
     "output_type": "stream",
     "text": [
      "1.616020917892456\n",
      "75 [-0.0029  0.0585  0.0504 -0.0298] 7224.2\n"
     ]
    },
    {
     "name": "stderr",
     "output_type": "stream",
     "text": [
      "/Users/nramachandra/Desktop/MDN_phoZ/zeropoints.py:99: RuntimeWarning: divide by zero encountered in log\n",
      "  loglike = -2.0*np.log(like) + 2.0 * np.log(like_max)\n"
     ]
    },
    {
     "name": "stdout",
     "output_type": "stream",
     "text": [
      "1.6290459632873535\n",
      "76 [-0.0029  0.0585  0.0504 -0.0298] 7224.2\n"
     ]
    },
    {
     "name": "stderr",
     "output_type": "stream",
     "text": [
      "/Users/nramachandra/Desktop/MDN_phoZ/zeropoints.py:99: RuntimeWarning: divide by zero encountered in log\n",
      "  loglike = -2.0*np.log(like) + 2.0 * np.log(like_max)\n"
     ]
    },
    {
     "name": "stdout",
     "output_type": "stream",
     "text": [
      "1.6345078945159912\n",
      "77 [-0.0113  0.064   0.0484 -0.0293] 7230.11\n"
     ]
    },
    {
     "name": "stderr",
     "output_type": "stream",
     "text": [
      "/Users/nramachandra/Desktop/MDN_phoZ/zeropoints.py:99: RuntimeWarning: divide by zero encountered in log\n",
      "  loglike = -2.0*np.log(like) + 2.0 * np.log(like_max)\n"
     ]
    },
    {
     "name": "stdout",
     "output_type": "stream",
     "text": [
      "1.6176588535308838\n",
      "78 [-0.0113  0.064   0.0484 -0.0293] 7230.11\n"
     ]
    },
    {
     "name": "stderr",
     "output_type": "stream",
     "text": [
      "/Users/nramachandra/Desktop/MDN_phoZ/zeropoints.py:99: RuntimeWarning: divide by zero encountered in log\n",
      "  loglike = -2.0*np.log(like) + 2.0 * np.log(like_max)\n"
     ]
    },
    {
     "name": "stdout",
     "output_type": "stream",
     "text": [
      "1.6255519390106201\n",
      "79 [-0.0197  0.0586  0.0538 -0.0303] 7315.46\n"
     ]
    },
    {
     "name": "stderr",
     "output_type": "stream",
     "text": [
      "/Users/nramachandra/Desktop/MDN_phoZ/zeropoints.py:99: RuntimeWarning: divide by zero encountered in log\n",
      "  loglike = -2.0*np.log(like) + 2.0 * np.log(like_max)\n"
     ]
    },
    {
     "name": "stdout",
     "output_type": "stream",
     "text": [
      "1.60298490524292\n",
      "80 [-0.0196  0.0538  0.0541 -0.0336] 7264.09\n"
     ]
    },
    {
     "name": "stderr",
     "output_type": "stream",
     "text": [
      "/Users/nramachandra/Desktop/MDN_phoZ/zeropoints.py:99: RuntimeWarning: divide by zero encountered in log\n",
      "  loglike = -2.0*np.log(like) + 2.0 * np.log(like_max)\n",
      "/Users/nramachandra/Desktop/MDN_phoZ/zeropoints.py:99: RuntimeWarning: invalid value encountered in add\n",
      "  loglike = -2.0*np.log(like) + 2.0 * np.log(like_max)\n"
     ]
    },
    {
     "name": "stdout",
     "output_type": "stream",
     "text": [
      "1.6210219860076904\n",
      "81 [-0.0151  0.0483  0.0434 -0.0314] 7239.35\n"
     ]
    },
    {
     "name": "stderr",
     "output_type": "stream",
     "text": [
      "/Users/nramachandra/Desktop/MDN_phoZ/zeropoints.py:99: RuntimeWarning: divide by zero encountered in log\n",
      "  loglike = -2.0*np.log(like) + 2.0 * np.log(like_max)\n"
     ]
    },
    {
     "name": "stdout",
     "output_type": "stream",
     "text": [
      "1.6289243698120117\n",
      "82 [-0.02    0.0414  0.0319 -0.0341] 7269.13\n"
     ]
    },
    {
     "name": "stderr",
     "output_type": "stream",
     "text": [
      "/Users/nramachandra/Desktop/MDN_phoZ/zeropoints.py:99: RuntimeWarning: divide by zero encountered in log\n",
      "  loglike = -2.0*np.log(like) + 2.0 * np.log(like_max)\n"
     ]
    },
    {
     "name": "stdout",
     "output_type": "stream",
     "text": [
      "1.6078379154205322\n",
      "83 [-0.02    0.0414  0.0319 -0.0341] 7269.13\n"
     ]
    },
    {
     "name": "stderr",
     "output_type": "stream",
     "text": [
      "/Users/nramachandra/Desktop/MDN_phoZ/zeropoints.py:99: RuntimeWarning: divide by zero encountered in log\n",
      "  loglike = -2.0*np.log(like) + 2.0 * np.log(like_max)\n"
     ]
    },
    {
     "name": "stdout",
     "output_type": "stream",
     "text": [
      "1.6794769763946533\n",
      "84 [-0.0162  0.039   0.0272 -0.0312] 7194.89\n"
     ]
    },
    {
     "name": "stderr",
     "output_type": "stream",
     "text": [
      "/Users/nramachandra/Desktop/MDN_phoZ/zeropoints.py:99: RuntimeWarning: divide by zero encountered in log\n",
      "  loglike = -2.0*np.log(like) + 2.0 * np.log(like_max)\n"
     ]
    },
    {
     "name": "stdout",
     "output_type": "stream",
     "text": [
      "1.703585147857666\n",
      "85 [-0.0172  0.0441  0.0229 -0.0351] 7152.35\n"
     ]
    },
    {
     "name": "stderr",
     "output_type": "stream",
     "text": [
      "/Users/nramachandra/Desktop/MDN_phoZ/zeropoints.py:99: RuntimeWarning: divide by zero encountered in log\n",
      "  loglike = -2.0*np.log(like) + 2.0 * np.log(like_max)\n"
     ]
    },
    {
     "name": "stdout",
     "output_type": "stream",
     "text": [
      "1.6577200889587402\n",
      "86 [-0.0164  0.035   0.0298 -0.0272] 7403.85\n"
     ]
    },
    {
     "name": "stderr",
     "output_type": "stream",
     "text": [
      "/Users/nramachandra/Desktop/MDN_phoZ/zeropoints.py:99: RuntimeWarning: divide by zero encountered in log\n",
      "  loglike = -2.0*np.log(like) + 2.0 * np.log(like_max)\n"
     ]
    },
    {
     "name": "stdout",
     "output_type": "stream",
     "text": [
      "1.589888095855713\n",
      "87 [-0.0117  0.038   0.0239 -0.026 ] 7156.49\n"
     ]
    },
    {
     "name": "stderr",
     "output_type": "stream",
     "text": [
      "/Users/nramachandra/Desktop/MDN_phoZ/zeropoints.py:99: RuntimeWarning: divide by zero encountered in log\n",
      "  loglike = -2.0*np.log(like) + 2.0 * np.log(like_max)\n"
     ]
    },
    {
     "name": "stdout",
     "output_type": "stream",
     "text": [
      "1.630599021911621\n",
      "88 [-0.0117  0.038   0.0239 -0.026 ] 7156.49\n"
     ]
    },
    {
     "name": "stderr",
     "output_type": "stream",
     "text": [
      "/Users/nramachandra/Desktop/MDN_phoZ/zeropoints.py:99: RuntimeWarning: divide by zero encountered in log\n",
      "  loglike = -2.0*np.log(like) + 2.0 * np.log(like_max)\n"
     ]
    },
    {
     "name": "stdout",
     "output_type": "stream",
     "text": [
      "1.636765956878662\n",
      "89 [-0.0115  0.0313  0.0223 -0.0226] 7204.3\n"
     ]
    },
    {
     "name": "stderr",
     "output_type": "stream",
     "text": [
      "/Users/nramachandra/Desktop/MDN_phoZ/zeropoints.py:99: RuntimeWarning: divide by zero encountered in log\n",
      "  loglike = -2.0*np.log(like) + 2.0 * np.log(like_max)\n"
     ]
    },
    {
     "name": "stdout",
     "output_type": "stream",
     "text": [
      "1.5863432884216309\n",
      "90 [-0.0122  0.0225  0.0228 -0.0219] 7241.08\n"
     ]
    },
    {
     "name": "stderr",
     "output_type": "stream",
     "text": [
      "/Users/nramachandra/Desktop/MDN_phoZ/zeropoints.py:99: RuntimeWarning: divide by zero encountered in log\n",
      "  loglike = -2.0*np.log(like) + 2.0 * np.log(like_max)\n"
     ]
    },
    {
     "name": "stdout",
     "output_type": "stream",
     "text": [
      "1.6194608211517334\n",
      "91 [-0.0122  0.0225  0.0228 -0.0219] 7241.08\n"
     ]
    },
    {
     "name": "stderr",
     "output_type": "stream",
     "text": [
      "/Users/nramachandra/Desktop/MDN_phoZ/zeropoints.py:99: RuntimeWarning: divide by zero encountered in log\n",
      "  loglike = -2.0*np.log(like) + 2.0 * np.log(like_max)\n"
     ]
    },
    {
     "name": "stdout",
     "output_type": "stream",
     "text": [
      "1.6418488025665283\n",
      "92 [-0.0122  0.0225  0.0228 -0.0219] 7241.08\n"
     ]
    },
    {
     "name": "stderr",
     "output_type": "stream",
     "text": [
      "/Users/nramachandra/Desktop/MDN_phoZ/zeropoints.py:99: RuntimeWarning: divide by zero encountered in log\n",
      "  loglike = -2.0*np.log(like) + 2.0 * np.log(like_max)\n"
     ]
    },
    {
     "name": "stdout",
     "output_type": "stream",
     "text": [
      "1.7182061672210693\n",
      "93 [-0.0156  0.0161  0.0255 -0.0173] 7278.67\n"
     ]
    },
    {
     "name": "stderr",
     "output_type": "stream",
     "text": [
      "/Users/nramachandra/Desktop/MDN_phoZ/zeropoints.py:99: RuntimeWarning: divide by zero encountered in log\n",
      "  loglike = -2.0*np.log(like) + 2.0 * np.log(like_max)\n"
     ]
    },
    {
     "name": "stdout",
     "output_type": "stream",
     "text": [
      "1.6129636764526367\n",
      "94 [-0.0156  0.0161  0.0255 -0.0173] 7278.67\n"
     ]
    },
    {
     "name": "stderr",
     "output_type": "stream",
     "text": [
      "/Users/nramachandra/Desktop/MDN_phoZ/zeropoints.py:99: RuntimeWarning: divide by zero encountered in log\n",
      "  loglike = -2.0*np.log(like) + 2.0 * np.log(like_max)\n",
      "/Users/nramachandra/Desktop/MDN_phoZ/zeropoints.py:99: RuntimeWarning: invalid value encountered in add\n",
      "  loglike = -2.0*np.log(like) + 2.0 * np.log(like_max)\n"
     ]
    },
    {
     "name": "stdout",
     "output_type": "stream",
     "text": [
      "1.636789321899414\n",
      "95 [-0.0184  0.018   0.0249 -0.0144] 7316.92\n"
     ]
    },
    {
     "name": "stderr",
     "output_type": "stream",
     "text": [
      "/Users/nramachandra/Desktop/MDN_phoZ/zeropoints.py:99: RuntimeWarning: divide by zero encountered in log\n",
      "  loglike = -2.0*np.log(like) + 2.0 * np.log(like_max)\n"
     ]
    },
    {
     "name": "stdout",
     "output_type": "stream",
     "text": [
      "1.7012479305267334\n",
      "96 [-0.0184  0.018   0.0249 -0.0144] 7316.92\n"
     ]
    },
    {
     "name": "stderr",
     "output_type": "stream",
     "text": [
      "/Users/nramachandra/Desktop/MDN_phoZ/zeropoints.py:99: RuntimeWarning: divide by zero encountered in log\n",
      "  loglike = -2.0*np.log(like) + 2.0 * np.log(like_max)\n"
     ]
    },
    {
     "name": "stdout",
     "output_type": "stream",
     "text": [
      "1.881098985671997\n",
      "97 [-0.0103  0.0286  0.0211 -0.0191] 7344.44\n",
      "1.968925952911377\n",
      "98 [-0.008   0.0297  0.034  -0.0144] 7338.06\n"
     ]
    },
    {
     "name": "stderr",
     "output_type": "stream",
     "text": [
      "/Users/nramachandra/Desktop/MDN_phoZ/zeropoints.py:99: RuntimeWarning: divide by zero encountered in log\n",
      "  loglike = -2.0*np.log(like) + 2.0 * np.log(like_max)\n"
     ]
    }
   ],
   "source": [
    "# Should cover at least the extent of the true redshifts.\n",
    "zgrid = np.arange(-0.1,0.8,0.01)\n",
    "\n",
    "# Selection. SDSS galaxies above z>0.01.\n",
    "sel = (label_test==0)&(y_test>0.01)\n",
    "\n",
    "# Value to reduce the likelihood ratio significance. \n",
    "# Adjust higher for larger samples.\n",
    "extra_cov = (7.)**2\n",
    "# Integration steps to marginalize photometric noise.\n",
    "Nintegral = 10\n",
    "# Clip galaxies with crazy low likelihoods. Roughly number of sigmas.\n",
    "cutoff = 5\n",
    "# Steps of the MCMC.\n",
    "Nchain = 100\n",
    "\n",
    "errors = X_err[sel].copy()\n",
    "# Sometimes it's good to add more error. \n",
    "# Our models will not be accurate up to S/N~1000\n",
    "# errors = np.sqrt(errors**2 + 0.02**2)\n",
    "\n",
    "# Step size of the proposal distribution.\n",
    "step_size = 0.005\n",
    "\n",
    "xchain, P = zeropoints.run_zp_chain(\n",
    "    preproc,\n",
    "    preproc_y,\n",
    "    model_train,\n",
    "    y_test[sel], \n",
    "    X_test[sel].copy(), \n",
    "    errors, \n",
    "    Nintegral,\n",
    "    Nchain,\n",
    "    method = \"exact\", # Exact likelihood\n",
    "    #method = \"approximate\", # Approximate likelihood.\n",
    "    params_init = None,\n",
    "    #params_init = pinit,\n",
    "    cutoff = cutoff, \n",
    "    extra_cov = extra_cov,\n",
    "    step_size = step_size,\n",
    "    zgrid = zgrid\n",
    ")"
   ]
  },
  {
   "cell_type": "code",
   "execution_count": 20,
   "metadata": {},
   "outputs": [],
   "source": [
    "def prediction_zp(xdata, xzero):\n",
    " \n",
    "    f_real = xdata.copy()\n",
    "    f_real[:,:4] = f_real[:,:4] + xzero\n",
    "    f_real = preproc.transform(f_real)\n",
    "    y_pred = np.array(model_train(f_real))\n",
    "\n",
    "\n",
    "    y_pred_arg = np.argmax(y_pred[2, :, :], axis = 1)\n",
    "    y_pred_mean = y_pred[0, :, :][:, y_pred_arg][:, 0]\n",
    "\n",
    "    photoz = preproc_y.inverse_transform(y_pred_mean.reshape(-1, 1))[:, 0]\n",
    "    return photoz"
   ]
  },
  {
   "cell_type": "code",
   "execution_count": 21,
   "metadata": {},
   "outputs": [
    {
     "data": {
      "image/png": "[encoded data removed]",
      "text/plain": [
       "<Figure size 432x1008 with 3 Axes>"
      ]
     },
     "metadata": {
      "needs_background": "light"
     },
     "output_type": "display_data"
    }
   ],
   "source": [
    "xdata = X_test[sel].copy()\n",
    "\n",
    "zb_0 = prediction_zp(xdata, 0.*xchain[P.argmin()])\n",
    "zb_zp = prediction_zp(xdata, xchain[P.argmin()])\n",
    "\n",
    "\n",
    "fig,ax = plt.subplots(3,1, figsize=(6,14), sharex=False, sharey=False)\n",
    "ax[0].scatter(y_test[sel], zb_0, s=3)\n",
    "ax[0].plot([0,0.99],[0,0.99], color='r')\n",
    "ax[0].set_xlim(-0.01,0.99+0.01)\n",
    "ax[0].set_ylim(-0.02,0.99+0.02)\n",
    "ax[0].set_xlabel('ztrue')\n",
    "ax[0].set_ylabel('photo-z')\n",
    "ax[0].set_title('No zero-points')\n",
    "\n",
    "ax[1].scatter(y_test[sel], zb_zp, s=3)\n",
    "ax[1].plot([0,0.99],[0,0.99], color='r')\n",
    "ax[1].set_xlim(-0.01,0.99+0.01)\n",
    "ax[1].set_ylim(-0.02,0.99+0.02)\n",
    "ax[1].set_xlabel('ztrue')\n",
    "ax[1].set_ylabel('photo-z')\n",
    "ax[1].set_title('Some optimized zero-points')\n",
    "\n",
    "dz_bins = 0.02\n",
    "bins = np.arange(-0.3+dz_bins/2., 0.3, dz_bins)\n",
    "ax[2].hist((zb_0-y_test[sel])/(1+y_test[sel]), bins=bins, histtype='step', lw=1.5,\n",
    "          label='No zero-points')\n",
    "ax[2].hist((zb_zp-y_test[sel])/(1+y_test[sel]), bins=bins, histtype='step', lw=1.5,\n",
    "          label='Some optimized \\nzero-points')\n",
    "ax[2].axvline(0,ls=':',color='k')\n",
    "ax[2].set_xlabel('(photoz - ztrue)/(1+ztrue)')\n",
    "ax[2].legend()\n",
    "\n",
    "fig.suptitle('SDSS data', y=0.94)\n",
    "fig.subplots_adjust(hspace=0.4)\n",
    "#plt.savefig('zeropoint_sdss_test1.png',bbox_inches='tight',dpi=300)\n",
    "plt.show()"
   ]
  },
  {
   "cell_type": "code",
   "execution_count": 22,
   "metadata": {},
   "outputs": [
    {
     "data": {
      "image/png": "[encoded data removed]",
      "text/plain": [
       "<Figure size 1008x1008 with 10 Axes>"
      ]
     },
     "metadata": {
      "needs_background": "light"
     },
     "output_type": "display_data"
    }
   ],
   "source": [
    "fig, ax = plt.subplots(3,3, figsize=(14,14))\n",
    "\n",
    "for i in range(3):\n",
    "    for j in range(3):\n",
    "        if i<j:\n",
    "            ax[i,j].axis('off')\n",
    "            continue\n",
    "            \n",
    "        im = ax[i,j].scatter(xchain[:,j],xchain[:,i+1], s=4,c=P, vmin=P.min(), vmax=np.mean([P.min(),P.max()]))\n",
    "        argmin = P.argmin()\n",
    "        ax[i,j].scatter(xchain[argmin,j],xchain[argmin,i+1], s=80, c='r', marker='x')\n",
    "        ax[i,j].set_xlabel(f'$x_{j}$', fontsize=22)\n",
    "        ax[i,j].set_ylabel(f'$x_{i+1}$', fontsize=22)\n",
    "        ax[i,j].axvline(0, ls=':', color='k')\n",
    "        ax[i,j].axhline(0, ls=':', color='k')\n",
    "        \n",
    "        #assert false\n",
    "        \n",
    "#fig.colorbar(im,ax=ax[i,j])\n",
    "cbar_ax = fig.add_axes([0.95, 0.12, 0.03, 0.75])\n",
    "fig.colorbar(im, cax=cbar_ax)\n",
    "#fig.tight_layout()\n",
    "plt.show()"
   ]
  },
  {
   "cell_type": "code",
   "execution_count": null,
   "metadata": {},
   "outputs": [],
   "source": []
  },
  {
   "cell_type": "code",
   "execution_count": null,
   "metadata": {},
   "outputs": [],
   "source": []
  }
 ],
 "metadata": {
  "anaconda-cloud": {},
  "kernelspec": {
   "display_name": "ML_env",
   "language": "python",
   "name": "ml_env"
  },
  "language_info": {
   "codemirror_mode": {
    "name": "ipython",
    "version": 3
   },
   "file_extension": ".py",
   "mimetype": "text/x-python",
   "name": "python",
   "nbconvert_exporter": "python",
   "pygments_lexer": "ipython3",
   "version": "3.7.9"
  }
 },
 "nbformat": 4,
 "nbformat_minor": 4
}
